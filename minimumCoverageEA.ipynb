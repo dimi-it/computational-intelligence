{
 "cells": [
  {
   "cell_type": "code",
   "execution_count": null,
   "id": "initial_id",
   "metadata": {
    "collapsed": true
   },
   "outputs": [],
   "source": [
    "import numpy as np\n",
    "import torch as t\n",
    "import matplotlib.pyplot as plt"
   ]
  },
  {
   "cell_type": "code",
   "execution_count": null,
   "outputs": [],
   "source": [
    "device = t.device(\"cuda\") if t.cuda.is_available() else t.device(\"cpu\")\n",
    "print(device)"
   ],
   "metadata": {
    "collapsed": false
   },
   "id": "48b30ecf1e41bca7"
  },
  {
   "cell_type": "code",
   "execution_count": null,
   "outputs": [],
   "source": [
    "PROBLEM_DIMENSION = 30\n",
    "NUM_SAMPLE = 50"
   ],
   "metadata": {
    "collapsed": false
   },
   "id": "dca0888631e4465f"
  },
  {
   "cell_type": "code",
   "execution_count": null,
   "outputs": [],
   "source": [
    "def check_sets_feasibility(samples):\n",
    "    return t.sum(samples, dim=0).all()"
   ],
   "metadata": {
    "collapsed": false
   },
   "id": "974a7b1078f24e1b"
  },
  {
   "cell_type": "code",
   "execution_count": null,
   "outputs": [],
   "source": [
    "THRESHOLD = 0.3\n",
    "samples = t.rand(NUM_SAMPLE, PROBLEM_DIMENSION, device=device) < THRESHOLD\n",
    "# while not check_sets_feasibility(samples):\n",
    "#     samples = t.rand(NUM_SAMPLE, PROBLEM_DIMENSION, device=device) < THRESHOLD"
   ],
   "metadata": {
    "collapsed": false
   },
   "id": "61799e0d77a67f38"
  },
  {
   "cell_type": "code",
   "execution_count": null,
   "outputs": [],
   "source": [
    "assert check_sets_feasibility(samples), \"Problem not solvable\""
   ],
   "metadata": {
    "collapsed": false
   },
   "id": "bf47509afcf5bd37"
  },
  {
   "cell_type": "code",
   "execution_count": null,
   "outputs": [],
   "source": [
    "samples"
   ],
   "metadata": {
    "collapsed": false
   },
   "id": "e6a7181df2a5736"
  },
  {
   "cell_type": "code",
   "execution_count": null,
   "outputs": [],
   "source": [
    "class Population:\n",
    "    def __init__(self, population_len, genome_len, samples, is_highest_best=True, genomes=None, crossover=None, mutation_rate = 0.03):\n",
    "        self.population_len = population_len\n",
    "        self.genome_len = genome_len\n",
    "        self.generation = -1\n",
    "        self.is_highest_best = is_highest_best\n",
    "        self.genomes = genomes if genomes is not None else t.rand(population_len, genome_len, device=device) >= 0.5\n",
    "        self.fitness = None\n",
    "        self.probability = None\n",
    "        self.mutation_rate = mutation_rate\n",
    "        self.crossover_function = None\n",
    "        if crossover == None or crossover == \"uniform\":\n",
    "            self.crossover_function = self.uniform_crossover\n",
    "        elif crossover == \"one_point\":\n",
    "            self.crossover_function = self.one_point_crossover\n",
    "        # \n",
    "        self.samples = samples.expand(self.population_len, -1, -1)\n",
    "        \n",
    "        self.updatePopulation()\n",
    "    \n",
    "    def __str__(self):\n",
    "        strs = list()\n",
    "        strs.append(f'Generation: {self.generation}')\n",
    "        strs.append(f'Genomes: {self.genomes}')\n",
    "        strs.append(f'Best fitness: {self.get_best_fitness()}, of id: {self.get_best_id()}')\n",
    "        return '\\n'.join(strs)\n",
    "    \n",
    "    def updatePopulation(self):\n",
    "        self.generation += 1\n",
    "        self.set_fitness()\n",
    "        self.set_probability()\n",
    "    \n",
    "    def get_phenotype(self):\n",
    "        return t.mul(self.samples, self.genomes.unsqueeze(-1)).sum(dim=1)\n",
    "        \n",
    "    \n",
    "    def set_fitness(self):\n",
    "        # print(\"SAMPLES:\", self.samples)\n",
    "        res = self.get_phenotype()\n",
    "        # print(\"RES:\", res)\n",
    "        # print(\"Genomes:\", self.genomes)\n",
    "        used_samples = self.genomes.sum(dim=1)\n",
    "        # print(\"Used samples:\", used_samples)\n",
    "        self.fitness = (res == 0).sum(dim=1) * (self.samples.size()[2] + 1) + used_samples\n",
    "        # print(\"Fit:\", self.fitness)\n",
    "        \n",
    "    def set_probability(self):\n",
    "        if self.is_highest_best:\n",
    "            self.probability = self.fitness / t.sum(self.fitness)\n",
    "        else:\n",
    "            self.probability = 1 / self.fitness\n",
    "            self.probability.div_(t.sum(self.probability))\n",
    "        # print(\"Prob:\", self.probability)\n",
    "        \n",
    "    def get_best_id(self):\n",
    "        return t.argmax(self.probability)\n",
    "    \n",
    "    def get_best_fitness(self):\n",
    "        return self.fitness[self.get_best_id()]\n",
    "    \n",
    "    def get_best_genome(self):\n",
    "        return self.genomes[self.get_best_id(), :]\n",
    "    \n",
    "    def evolve(self):\n",
    "        self.crossover_function()\n",
    "        self.mutation()\n",
    "        self.updatePopulation()\n",
    "        # print(self)\n",
    "        # print(\"Best fitness:\", self.fitness[self.get_best_id()])\n",
    "        \n",
    "    def evolve_for_generations(self, generations):\n",
    "        for _ in range(generations):\n",
    "            self.evolve()\n",
    "        print(self)\n",
    "        # print(\"Best fitness:\", self.get_best_fitness())\n",
    "        \n",
    "    def get_parents(self):\n",
    "        parents = self.probability.expand(self.population_len, self.population_len).multinomial(2)\n",
    "        # print(\"Parents:\", parents)\n",
    "        p1 = self.genomes[parents[:,0],:]\n",
    "        p2 = self.genomes[parents[:,1],:]\n",
    "        return p1, p2\n",
    "    \n",
    "    def one_point_crossover(self):\n",
    "        raise(\"To be implemented\")\n",
    "        # p1, p2 = self.get_parents()\n",
    "        # u = t.rand(self.population_len, device=device) * self.genome_len\n",
    "        \n",
    "    def uniform_crossover(self):\n",
    "        p1, p2 = self.get_parents()\n",
    "        mask = t.rand(self.population_len, self.genome_len, device=device) >= 0.5\n",
    "        self.genomes = p1 * mask + p2 * ~mask\n",
    "        \n",
    "    def mutation(self):\n",
    "        mutation = t.rand(self.population_len, self.genome_len, device=device) < self.mutation_rate\n",
    "        # print(\"Mutation:\", mutation)\n",
    "        self.genomes = t.where(mutation, ~self.genomes, self.genomes)\n",
    "        # print(\"Genomes:\", self.genomes)"
   ],
   "metadata": {
    "collapsed": false
   },
   "id": "6bebf40aeb440d2c"
  },
  {
   "cell_type": "code",
   "execution_count": null,
   "outputs": [],
   "source": [
    "population_len = 10\n",
    "population = Population(population_len, NUM_SAMPLE, samples, is_highest_best=False)\n",
    "print(samples)\n",
    "print(population)"
   ],
   "metadata": {
    "collapsed": false
   },
   "id": "6552f9d4b86be3d9"
  },
  {
   "cell_type": "code",
   "execution_count": null,
   "outputs": [],
   "source": [
    "population.evolve_for_generations(500)"
   ],
   "metadata": {
    "collapsed": false
   },
   "id": "c93874e1f3fb20b6"
  },
  {
   "cell_type": "code",
   "execution_count": null,
   "outputs": [],
   "source": [
    "population.get_phenotype()[254]"
   ],
   "metadata": {
    "collapsed": false
   },
   "id": "69960791009a0134"
  },
  {
   "cell_type": "code",
   "execution_count": null,
   "outputs": [],
   "source": [],
   "metadata": {
    "collapsed": false
   },
   "id": "924246d8b36623f0"
  }
 ],
 "metadata": {
  "kernelspec": {
   "display_name": "Python 3",
   "language": "python",
   "name": "python3"
  },
  "language_info": {
   "codemirror_mode": {
    "name": "ipython",
    "version": 2
   },
   "file_extension": ".py",
   "mimetype": "text/x-python",
   "name": "python",
   "nbconvert_exporter": "python",
   "pygments_lexer": "ipython2",
   "version": "2.7.6"
  }
 },
 "nbformat": 4,
 "nbformat_minor": 5
}
