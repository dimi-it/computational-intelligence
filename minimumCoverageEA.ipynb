{
 "cells": [
  {
   "cell_type": "code",
   "execution_count": 1,
   "id": "initial_id",
   "metadata": {
    "collapsed": true,
    "ExecuteTime": {
     "end_time": "2023-10-25T09:08:56.145922500Z",
     "start_time": "2023-10-25T09:08:37.015537800Z"
    }
   },
   "outputs": [],
   "source": [
    "import numpy as np\n",
    "import torch as t\n",
    "import matplotlib.pyplot as plt"
   ]
  },
  {
   "cell_type": "code",
   "execution_count": 2,
   "outputs": [
    {
     "name": "stdout",
     "output_type": "stream",
     "text": [
      "cuda\n"
     ]
    }
   ],
   "source": [
    "device = t.device(\"cuda\") if t.cuda.is_available() else t.device(\"cpu\")\n",
    "print(device)"
   ],
   "metadata": {
    "collapsed": false,
    "ExecuteTime": {
     "end_time": "2023-10-25T09:09:21.961183700Z",
     "start_time": "2023-10-25T09:09:21.886183600Z"
    }
   },
   "id": "48b30ecf1e41bca7"
  },
  {
   "cell_type": "code",
   "execution_count": 26,
   "outputs": [],
   "source": [
    "PROBLEM_DIMENSION = 30\n",
    "NUM_SAMPLE = 50"
   ],
   "metadata": {
    "collapsed": false,
    "ExecuteTime": {
     "end_time": "2023-10-25T09:47:20.092911600Z",
     "start_time": "2023-10-25T09:47:20.030745700Z"
    }
   },
   "id": "dca0888631e4465f"
  },
  {
   "cell_type": "code",
   "execution_count": 27,
   "outputs": [],
   "source": [
    "def check_sets_feasibility(samples):\n",
    "    return t.sum(samples, dim=0).all()"
   ],
   "metadata": {
    "collapsed": false,
    "ExecuteTime": {
     "end_time": "2023-10-25T09:47:20.837432300Z",
     "start_time": "2023-10-25T09:47:20.815854900Z"
    }
   },
   "id": "974a7b1078f24e1b"
  },
  {
   "cell_type": "code",
   "execution_count": 28,
   "outputs": [],
   "source": [
    "THRESHOLD = 0.3\n",
    "samples = t.rand(NUM_SAMPLE, PROBLEM_DIMENSION, device=device) < THRESHOLD\n",
    "# while not check_sets_feasibility(samples):\n",
    "#     samples = t.rand(NUM_SAMPLE, PROBLEM_DIMENSION, device=device) < THRESHOLD"
   ],
   "metadata": {
    "collapsed": false,
    "ExecuteTime": {
     "end_time": "2023-10-25T09:47:23.767529200Z",
     "start_time": "2023-10-25T09:47:23.748531700Z"
    }
   },
   "id": "61799e0d77a67f38"
  },
  {
   "cell_type": "code",
   "execution_count": 29,
   "outputs": [],
   "source": [
    "assert check_sets_feasibility(samples), \"Problem not solvable\""
   ],
   "metadata": {
    "collapsed": false,
    "ExecuteTime": {
     "end_time": "2023-10-25T09:47:24.513880900Z",
     "start_time": "2023-10-25T09:47:24.453388700Z"
    }
   },
   "id": "bf47509afcf5bd37"
  },
  {
   "cell_type": "code",
   "execution_count": 30,
   "outputs": [
    {
     "data": {
      "text/plain": "tensor([[False, False,  True,  ..., False, False,  True],\n        [False,  True, False,  ..., False, False, False],\n        [False,  True, False,  ...,  True,  True, False],\n        ...,\n        [ True,  True,  True,  ..., False, False,  True],\n        [False, False, False,  ..., False, False, False],\n        [False, False,  True,  ..., False,  True, False]], device='cuda:0')"
     },
     "execution_count": 30,
     "metadata": {},
     "output_type": "execute_result"
    }
   ],
   "source": [
    "samples"
   ],
   "metadata": {
    "collapsed": false,
    "ExecuteTime": {
     "end_time": "2023-10-25T09:47:25.654501700Z",
     "start_time": "2023-10-25T09:47:25.635236400Z"
    }
   },
   "id": "e6a7181df2a5736"
  },
  {
   "cell_type": "code",
   "execution_count": 31,
   "outputs": [],
   "source": [
    "class Population:\n",
    "    def __init__(self, population_len, genome_len, samples, is_highest_best=True, genomes=None, crossover=None, mutation_rate = 0.03):\n",
    "        self.population_len = population_len\n",
    "        self.genome_len = genome_len\n",
    "        self.generation = -1\n",
    "        self.is_highest_best = is_highest_best\n",
    "        self.genomes = genomes if genomes is not None else t.rand(population_len, genome_len, device=device) >= 0.5\n",
    "        self.fitness = None\n",
    "        self.probability = None\n",
    "        self.mutation_rate = mutation_rate\n",
    "        self.crossover_function = None\n",
    "        if crossover == None or crossover == \"uniform\":\n",
    "            self.crossover_function = self.uniform_crossover\n",
    "        elif crossover == \"one_point\":\n",
    "            self.crossover_function = self.one_point_crossover\n",
    "        # \n",
    "        self.samples = samples.expand(self.population_len, -1, -1)\n",
    "        \n",
    "        self.updatePopulation()\n",
    "    \n",
    "    def __str__(self):\n",
    "        strs = list()\n",
    "        strs.append(f'Generation: {self.generation}')\n",
    "        strs.append(f'Genomes: {self.genomes}')\n",
    "        strs.append(f'Best fitness: {self.get_best_fitness()}, of id: {self.get_best_id()}')\n",
    "        return '\\n'.join(strs)\n",
    "    \n",
    "    def updatePopulation(self):\n",
    "        self.generation += 1\n",
    "        self.set_fitness()\n",
    "        self.set_probability()\n",
    "    \n",
    "    def get_phenotype(self):\n",
    "        return t.mul(self.samples, self.genomes.unsqueeze(-1)).sum(dim=1)\n",
    "        \n",
    "    \n",
    "    def set_fitness(self):\n",
    "        # print(\"SAMPLES:\", self.samples)\n",
    "        res = self.get_phenotype()\n",
    "        # print(\"RES:\", res)\n",
    "        # print(\"Genomes:\", self.genomes)\n",
    "        used_samples = self.genomes.sum(dim=1)\n",
    "        # print(\"Used samples:\", used_samples)\n",
    "        self.fitness = (res == 0).sum(dim=1) * (self.samples.size()[2] + 1) + used_samples\n",
    "        # print(\"Fit:\", self.fitness)\n",
    "        \n",
    "    def set_probability(self):\n",
    "        if self.is_highest_best:\n",
    "            self.probability = self.fitness / t.sum(self.fitness)\n",
    "        else:\n",
    "            self.probability = 1 / self.fitness\n",
    "            self.probability.div_(t.sum(self.probability))\n",
    "        # print(\"Prob:\", self.probability)\n",
    "        \n",
    "    def get_best_id(self):\n",
    "        return t.argmax(self.probability)\n",
    "    \n",
    "    def get_best_fitness(self):\n",
    "        return self.fitness[self.get_best_id()]\n",
    "    \n",
    "    def get_best_genome(self):\n",
    "        return self.genomes[self.get_best_id(), :]\n",
    "    \n",
    "    def evolve(self):\n",
    "        self.crossover_function()\n",
    "        self.mutation()\n",
    "        self.updatePopulation()\n",
    "        # print(self)\n",
    "        # print(\"Best fitness:\", self.fitness[self.get_best_id()])\n",
    "        \n",
    "    def evolve_for_generations(self, generations):\n",
    "        for _ in range(generations):\n",
    "            self.evolve()\n",
    "        print(self)\n",
    "        # print(\"Best fitness:\", self.get_best_fitness())\n",
    "        \n",
    "    def get_parents(self):\n",
    "        parents = self.probability.expand(self.population_len, self.population_len).multinomial(2)\n",
    "        # print(\"Parents:\", parents)\n",
    "        p1 = self.genomes[parents[:,0],:]\n",
    "        p2 = self.genomes[parents[:,1],:]\n",
    "        return p1, p2\n",
    "    \n",
    "    def one_point_crossover(self):\n",
    "        raise(\"To be implemented\")\n",
    "        # p1, p2 = self.get_parents()\n",
    "        # u = t.rand(self.population_len, device=device) * self.genome_len\n",
    "        \n",
    "    def uniform_crossover(self):\n",
    "        p1, p2 = self.get_parents()\n",
    "        mask = t.rand(self.population_len, self.genome_len, device=device) >= 0.5\n",
    "        self.genomes = p1 * mask + p2 * ~mask\n",
    "        \n",
    "    def mutation(self):\n",
    "        mutation = t.rand(self.population_len, self.genome_len, device=device) < self.mutation_rate\n",
    "        # print(\"Mutation:\", mutation)\n",
    "        self.genomes = t.where(mutation, ~self.genomes, self.genomes)\n",
    "        # print(\"Genomes:\", self.genomes)"
   ],
   "metadata": {
    "collapsed": false,
    "ExecuteTime": {
     "end_time": "2023-10-25T09:47:27.158185200Z",
     "start_time": "2023-10-25T09:47:27.119185600Z"
    }
   },
   "id": "6bebf40aeb440d2c"
  },
  {
   "cell_type": "code",
   "execution_count": 33,
   "outputs": [
    {
     "name": "stdout",
     "output_type": "stream",
     "text": [
      "tensor([[False, False,  True,  ..., False, False,  True],\n",
      "        [False,  True, False,  ..., False, False, False],\n",
      "        [False,  True, False,  ...,  True,  True, False],\n",
      "        ...,\n",
      "        [ True,  True,  True,  ..., False, False,  True],\n",
      "        [False, False, False,  ..., False, False, False],\n",
      "        [False, False,  True,  ..., False,  True, False]], device='cuda:0')\n",
      "Generation: 0\n",
      "Genomes: tensor([[False, False,  True,  True,  True,  True, False,  True, False,  True,\n",
      "         False, False,  True,  True, False, False, False,  True, False,  True,\n",
      "         False, False,  True, False, False, False, False,  True,  True,  True,\n",
      "          True, False,  True, False,  True, False,  True, False, False,  True,\n",
      "          True, False, False,  True,  True, False, False, False,  True,  True],\n",
      "        [ True,  True, False,  True,  True, False,  True, False,  True,  True,\n",
      "         False,  True, False,  True,  True, False, False, False,  True, False,\n",
      "          True,  True, False, False, False, False, False, False, False,  True,\n",
      "          True, False,  True,  True,  True, False, False,  True, False,  True,\n",
      "          True,  True,  True,  True, False, False,  True, False,  True, False],\n",
      "        [False,  True, False,  True, False, False, False,  True, False, False,\n",
      "         False, False,  True, False, False, False,  True, False,  True,  True,\n",
      "          True,  True,  True,  True, False,  True,  True, False, False, False,\n",
      "         False,  True, False,  True,  True,  True, False, False,  True, False,\n",
      "         False, False,  True, False, False, False, False,  True,  True,  True],\n",
      "        [ True, False,  True, False,  True,  True,  True, False, False,  True,\n",
      "         False, False,  True, False,  True, False,  True, False,  True,  True,\n",
      "         False, False,  True, False, False,  True,  True,  True, False, False,\n",
      "         False,  True, False, False,  True,  True, False,  True, False,  True,\n",
      "          True,  True, False, False,  True, False,  True, False,  True, False],\n",
      "        [False, False,  True,  True,  True, False, False, False,  True, False,\n",
      "          True, False, False, False,  True,  True,  True,  True,  True, False,\n",
      "         False,  True, False, False,  True, False,  True, False,  True,  True,\n",
      "          True,  True,  True, False,  True, False,  True,  True, False, False,\n",
      "         False, False,  True, False, False, False, False, False, False, False],\n",
      "        [False,  True, False,  True, False,  True,  True,  True, False,  True,\n",
      "          True, False, False, False, False, False,  True,  True,  True,  True,\n",
      "         False,  True,  True, False, False,  True, False,  True,  True,  True,\n",
      "         False, False,  True, False, False,  True, False, False, False,  True,\n",
      "         False, False,  True, False,  True,  True,  True,  True, False,  True],\n",
      "        [False,  True,  True, False,  True,  True, False,  True, False,  True,\n",
      "         False,  True,  True, False, False,  True, False,  True,  True,  True,\n",
      "          True,  True,  True,  True, False, False,  True, False, False, False,\n",
      "          True, False, False, False, False, False, False, False,  True, False,\n",
      "         False,  True, False,  True, False,  True,  True,  True, False, False],\n",
      "        [ True, False, False, False, False,  True, False, False, False,  True,\n",
      "          True,  True, False,  True,  True,  True, False,  True,  True,  True,\n",
      "          True,  True,  True,  True, False, False, False,  True,  True,  True,\n",
      "          True,  True, False, False, False, False, False,  True, False, False,\n",
      "         False, False, False, False,  True,  True,  True,  True,  True, False],\n",
      "        [ True,  True,  True,  True, False, False, False,  True,  True, False,\n",
      "         False,  True,  True,  True,  True,  True,  True, False, False,  True,\n",
      "         False, False, False, False, False, False,  True,  True,  True,  True,\n",
      "         False,  True,  True, False, False, False,  True,  True,  True,  True,\n",
      "         False, False, False,  True, False, False,  True, False,  True,  True],\n",
      "        [ True, False,  True, False,  True,  True,  True, False, False,  True,\n",
      "          True, False, False,  True, False, False, False,  True,  True, False,\n",
      "         False, False, False,  True,  True,  True,  True, False,  True,  True,\n",
      "          True,  True,  True,  True, False, False, False, False,  True, False,\n",
      "         False, False, False,  True,  True, False,  True,  True,  True,  True]],\n",
      "       device='cuda:0')\n",
      "Best fitness: 22, of id: 2\n"
     ]
    }
   ],
   "source": [
    "population_len = 10\n",
    "population = Population(population_len, NUM_SAMPLE, samples, is_highest_best=False)\n",
    "print(samples)\n",
    "print(population)"
   ],
   "metadata": {
    "collapsed": false,
    "ExecuteTime": {
     "end_time": "2023-10-25T09:47:45.316427200Z",
     "start_time": "2023-10-25T09:47:45.227171800Z"
    }
   },
   "id": "6552f9d4b86be3d9"
  },
  {
   "cell_type": "code",
   "execution_count": 34,
   "outputs": [
    {
     "name": "stdout",
     "output_type": "stream",
     "text": [
      "Generation: 500\n",
      "Genomes: tensor([[ True, False,  True, False,  True,  True, False,  True, False, False,\n",
      "         False,  True, False, False,  True, False, False, False,  True,  True,\n",
      "          True,  True, False, False, False,  True,  True, False, False,  True,\n",
      "         False,  True,  True,  True, False,  True, False,  True,  True,  True,\n",
      "         False, False, False,  True, False,  True, False,  True, False, False],\n",
      "        [False, False,  True,  True,  True,  True,  True, False,  True,  True,\n",
      "         False, False, False, False, False, False, False, False,  True,  True,\n",
      "          True, False,  True, False, False,  True, False, False,  True,  True,\n",
      "         False, False,  True,  True, False,  True, False, False,  True, False,\n",
      "         False, False, False,  True, False,  True, False,  True,  True, False],\n",
      "        [False, False,  True, False, False,  True,  True, False, False,  True,\n",
      "          True, False, False, False, False,  True, False, False,  True, False,\n",
      "          True, False, False,  True, False,  True, False, False,  True,  True,\n",
      "         False,  True,  True,  True, False,  True, False, False,  True, False,\n",
      "         False, False, False,  True, False,  True, False, False, False, False],\n",
      "        [ True, False, False, False, False,  True,  True,  True, False, False,\n",
      "          True,  True, False, False, False, False, False, False,  True, False,\n",
      "          True,  True, False,  True, False,  True,  True, False, False,  True,\n",
      "         False,  True,  True,  True, False,  True, False,  True,  True, False,\n",
      "         False, False, False, False, False,  True, False, False, False, False],\n",
      "        [False, False,  True,  True,  True,  True,  True, False,  True,  True,\n",
      "          True, False, False, False, False, False, False, False,  True,  True,\n",
      "         False, False, False, False, False,  True,  True, False, False,  True,\n",
      "         False,  True,  True,  True, False,  True, False, False, False, False,\n",
      "         False, False,  True, False, False,  True, False, False, False, False],\n",
      "        [ True, False,  True,  True,  True,  True, False,  True, False, False,\n",
      "          True, False, False, False, False,  True, False, False,  True,  True,\n",
      "          True, False, False, False, False,  True,  True, False, False, False,\n",
      "         False, False, False,  True, False,  True, False,  True,  True, False,\n",
      "         False, False, False,  True, False, False, False, False, False, False],\n",
      "        [False, False,  True,  True,  True,  True, False,  True,  True, False,\n",
      "         False, False, False, False, False, False, False, False,  True, False,\n",
      "         False, False, False, False, False,  True,  True, False, False, False,\n",
      "          True, False, False,  True, False,  True, False,  True,  True, False,\n",
      "         False, False,  True,  True, False, False, False, False, False, False],\n",
      "        [ True, False,  True,  True,  True,  True,  True, False, False, False,\n",
      "         False, False, False, False,  True, False,  True, False,  True,  True,\n",
      "          True, False, False, False, False, False,  True, False, False,  True,\n",
      "         False,  True,  True,  True, False,  True, False,  True,  True, False,\n",
      "         False, False, False,  True, False,  True, False, False,  True, False],\n",
      "        [ True, False,  True,  True,  True,  True,  True, False, False,  True,\n",
      "          True, False, False, False, False, False, False, False,  True,  True,\n",
      "          True, False, False,  True, False,  True, False, False,  True, False,\n",
      "         False,  True,  True,  True, False,  True, False, False, False, False,\n",
      "         False, False,  True, False, False,  True, False, False, False, False],\n",
      "        [False, False,  True, False,  True,  True, False, False,  True, False,\n",
      "         False,  True, False, False,  True,  True, False, False,  True, False,\n",
      "          True, False,  True, False, False,  True, False, False, False, False,\n",
      "         False, False,  True,  True, False,  True, False,  True,  True, False,\n",
      "         False, False, False,  True,  True,  True, False, False, False, False]],\n",
      "       device='cuda:0')\n",
      "Best fitness: 16, of id: 6\n"
     ]
    }
   ],
   "source": [
    "population.evolve_for_generations(500)"
   ],
   "metadata": {
    "collapsed": false,
    "ExecuteTime": {
     "end_time": "2023-10-25T09:47:47.326838900Z",
     "start_time": "2023-10-25T09:47:46.762233600Z"
    }
   },
   "id": "c93874e1f3fb20b6"
  },
  {
   "cell_type": "code",
   "execution_count": 41,
   "outputs": [
    {
     "ename": "IndexError",
     "evalue": "index 254 is out of bounds for dimension 0 with size 5",
     "output_type": "error",
     "traceback": [
      "\u001B[1;31m---------------------------------------------------------------------------\u001B[0m",
      "\u001B[1;31mIndexError\u001B[0m                                Traceback (most recent call last)",
      "Cell \u001B[1;32mIn[41], line 1\u001B[0m\n\u001B[1;32m----> 1\u001B[0m \u001B[43mpopulation\u001B[49m\u001B[38;5;241;43m.\u001B[39;49m\u001B[43mget_phenotype\u001B[49m\u001B[43m(\u001B[49m\u001B[43m)\u001B[49m\u001B[43m[\u001B[49m\u001B[38;5;241;43m254\u001B[39;49m\u001B[43m]\u001B[49m\n",
      "\u001B[1;31mIndexError\u001B[0m: index 254 is out of bounds for dimension 0 with size 5"
     ]
    }
   ],
   "source": [
    "population.get_phenotype()[254]"
   ],
   "metadata": {
    "collapsed": false,
    "ExecuteTime": {
     "end_time": "2023-10-11T20:46:29.852392800Z",
     "start_time": "2023-10-11T20:46:29.833358900Z"
    }
   },
   "id": "69960791009a0134"
  },
  {
   "cell_type": "code",
   "execution_count": null,
   "outputs": [],
   "source": [],
   "metadata": {
    "collapsed": false
   },
   "id": "924246d8b36623f0"
  }
 ],
 "metadata": {
  "kernelspec": {
   "display_name": "Python 3",
   "language": "python",
   "name": "python3"
  },
  "language_info": {
   "codemirror_mode": {
    "name": "ipython",
    "version": 2
   },
   "file_extension": ".py",
   "mimetype": "text/x-python",
   "name": "python",
   "nbconvert_exporter": "python",
   "pygments_lexer": "ipython2",
   "version": "2.7.6"
  }
 },
 "nbformat": 4,
 "nbformat_minor": 5
}
