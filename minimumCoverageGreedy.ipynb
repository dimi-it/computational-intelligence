{
 "cells": [
  {
   "cell_type": "code",
   "execution_count": 1,
   "outputs": [],
   "source": [
    "from random import random\n",
    "from functools import reduce\n",
    "from collections import namedtuple\n",
    "from queue import  PriorityQueue, SimpleQueue, LifoQueue\n",
    "import numpy as np"
   ],
   "metadata": {
    "collapsed": false,
    "ExecuteTime": {
     "end_time": "2023-10-23T21:42:02.286779400Z",
     "start_time": "2023-10-23T21:42:02.205414700Z"
    }
   },
   "id": "37d9057af4913b79"
  },
  {
   "cell_type": "code",
   "execution_count": 2,
   "id": "initial_id",
   "metadata": {
    "collapsed": true,
    "ExecuteTime": {
     "end_time": "2023-10-23T21:42:02.298952600Z",
     "start_time": "2023-10-23T21:42:02.288805500Z"
    }
   },
   "outputs": [
    {
     "name": "stdout",
     "output_type": "stream",
     "text": [
      "(array([False,  True, False,  True, False, False, False,  True, False,\n",
      "       False]), array([False, False,  True, False, False, False,  True, False, False,\n",
      "        True]), array([False, False,  True, False,  True, False, False, False,  True,\n",
      "       False]), array([ True, False, False, False, False, False, False, False, False,\n",
      "       False]), array([False,  True, False, False,  True, False, False, False, False,\n",
      "       False]), array([False,  True, False, False, False, False, False, False, False,\n",
      "       False]), array([False, False, False, False,  True, False,  True, False,  True,\n",
      "       False]), array([False, False, False,  True, False, False,  True, False,  True,\n",
      "       False]), array([False,  True, False, False, False, False, False,  True, False,\n",
      "        True]), array([False, False, False, False, False, False, False,  True, False,\n",
      "        True]), array([ True, False, False,  True,  True, False, False, False, False,\n",
      "       False]), array([False,  True, False,  True,  True,  True, False, False, False,\n",
      "       False]), array([False, False, False,  True, False,  True,  True, False, False,\n",
      "       False]), array([False,  True, False, False, False, False, False, False, False,\n",
      "       False]), array([ True,  True, False, False, False, False, False, False, False,\n",
      "        True]), array([False, False, False,  True, False,  True, False, False, False,\n",
      "       False]), array([False, False, False, False,  True,  True,  True, False, False,\n",
      "        True]), array([False, False, False,  True, False, False, False, False,  True,\n",
      "        True]), array([False, False, False, False,  True,  True, False, False, False,\n",
      "       False]), array([False, False, False, False,  True, False,  True,  True, False,\n",
      "        True]))\n"
     ]
    }
   ],
   "source": [
    "PROBLEM_DIMENSION = 10\n",
    "NUM_SAMPLES = 20\n",
    "samples = tuple(np.array([random() < .3 for _ in range(PROBLEM_DIMENSION)]) for _ in range(NUM_SAMPLES))\n",
    "State = namedtuple('State', ['taken', 'not_taken'])\n",
    "print(samples)"
   ]
  },
  {
   "cell_type": "code",
   "execution_count": 3,
   "outputs": [],
   "source": [
    "def goal_check(state: State):\n",
    "    return np.all(reduce(np.logical_or, [samples[i] for i in state.taken], np.array([False for _ in range(PROBLEM_DIMENSION)])))\n",
    "\n",
    "def distance(state: State):\n",
    "    return PROBLEM_DIMENSION - sum(reduce(np.logical_or, [samples[i] for i in state.taken], np.array([False for _ in range(PROBLEM_DIMENSION)])))"
   ],
   "metadata": {
    "collapsed": false,
    "ExecuteTime": {
     "end_time": "2023-10-23T21:42:02.304708400Z",
     "start_time": "2023-10-23T21:42:02.296956200Z"
    }
   },
   "id": "6d5e8ed2257ebe8c"
  },
  {
   "cell_type": "code",
   "execution_count": 4,
   "outputs": [],
   "source": [
    "assert goal_check(State(set(range(NUM_SAMPLES)), set())), \"Problem not solvable\""
   ],
   "metadata": {
    "collapsed": false,
    "ExecuteTime": {
     "end_time": "2023-10-23T21:42:02.914983800Z",
     "start_time": "2023-10-23T21:42:02.911231600Z"
    }
   },
   "id": "34b051e6379957a"
  },
  {
   "cell_type": "code",
   "execution_count": 5,
   "outputs": [
    {
     "name": "stdout",
     "output_type": "stream",
     "text": [
      "Solved in 5 steps\n",
      "State: State(taken={0, 1, 2, 3, 11}, not_taken={4, 5, 6, 7, 8, 9, 10, 12, 13, 14, 15, 16, 17, 18, 19})\n"
     ]
    }
   ],
   "source": [
    "frontier = PriorityQueue()\n",
    "state: State = State(set(), set(range(NUM_SAMPLES)))\n",
    "frontier.put((distance(state), state))\n",
    "\n",
    "counter = 0\n",
    "_, current_state = frontier.get()\n",
    "while not goal_check(current_state):\n",
    "    counter += 1\n",
    "    for action in current_state.not_taken:\n",
    "        new_state = State(current_state.taken | {action}, current_state.not_taken - {action})\n",
    "        frontier.put((distance(new_state), new_state))\n",
    "        # print(\"Frontier:\", frontier.queue)\n",
    "    _, current_state = frontier.get()\n",
    "    # print(\"CurrentState:\", current_state)\n",
    "print(f\"Solved in {counter} steps\")\n",
    "print(f\"State: {current_state}\")"
   ],
   "metadata": {
    "collapsed": false,
    "ExecuteTime": {
     "end_time": "2023-10-23T21:42:03.646403Z",
     "start_time": "2023-10-23T21:42:03.639663800Z"
    }
   },
   "id": "c74ea9856079c9f5"
  }
 ],
 "metadata": {
  "kernelspec": {
   "display_name": "Python 3",
   "language": "python",
   "name": "python3"
  },
  "language_info": {
   "codemirror_mode": {
    "name": "ipython",
    "version": 2
   },
   "file_extension": ".py",
   "mimetype": "text/x-python",
   "name": "python",
   "nbconvert_exporter": "python",
   "pygments_lexer": "ipython2",
   "version": "2.7.6"
  }
 },
 "nbformat": 4,
 "nbformat_minor": 5
}
