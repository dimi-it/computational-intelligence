{
 "cells": [
  {
   "cell_type": "code",
   "execution_count": 2,
   "outputs": [],
   "source": [
    "from random import random\n",
    "from functools import reduce\n",
    "from collections import namedtuple, deque\n",
    "from queue import  PriorityQueue, SimpleQueue, LifoQueue\n",
    "import numpy as np"
   ],
   "metadata": {
    "collapsed": false,
    "ExecuteTime": {
     "end_time": "2023-10-25T08:35:10.424808500Z",
     "start_time": "2023-10-25T08:35:09.497049600Z"
    }
   },
   "id": "37d9057af4913b79"
  },
  {
   "cell_type": "code",
   "execution_count": 3,
   "id": "initial_id",
   "metadata": {
    "collapsed": true,
    "ExecuteTime": {
     "end_time": "2023-10-25T08:35:11.158348700Z",
     "start_time": "2023-10-25T08:35:11.136548400Z"
    }
   },
   "outputs": [
    {
     "name": "stdout",
     "output_type": "stream",
     "text": [
      "(array([ True, False, False,  True, False, False, False, False, False,\n",
      "       False]), array([False, False, False,  True,  True,  True, False, False, False,\n",
      "        True]), array([False, False, False, False,  True,  True,  True,  True, False,\n",
      "       False]), array([ True, False, False,  True, False, False, False, False, False,\n",
      "        True]), array([False, False, False, False, False, False, False, False,  True,\n",
      "        True]), array([False,  True, False, False, False,  True, False, False, False,\n",
      "       False]), array([False,  True, False, False, False, False,  True, False,  True,\n",
      "        True]), array([False, False, False,  True, False,  True, False,  True, False,\n",
      "       False]), array([False, False,  True,  True, False, False, False, False, False,\n",
      "       False]), array([False,  True, False,  True, False, False,  True,  True, False,\n",
      "       False]), array([ True, False, False,  True, False, False,  True, False, False,\n",
      "       False]), array([False, False, False, False, False, False, False, False, False,\n",
      "       False]), array([False,  True, False,  True, False, False, False, False, False,\n",
      "       False]), array([ True,  True, False,  True, False, False, False,  True, False,\n",
      "       False]), array([ True, False, False, False, False, False,  True, False, False,\n",
      "       False]), array([ True, False, False, False, False, False, False, False, False,\n",
      "        True]), array([False, False,  True, False, False, False, False, False, False,\n",
      "       False]), array([False, False, False, False,  True,  True, False,  True, False,\n",
      "        True]), array([False, False,  True,  True,  True,  True, False, False, False,\n",
      "       False]), array([False,  True, False, False,  True, False, False, False, False,\n",
      "       False]))\n"
     ]
    }
   ],
   "source": [
    "PROBLEM_DIMENSION = 10\n",
    "NUM_SAMPLES = 20\n",
    "samples = tuple(np.array([random() < .3 for _ in range(PROBLEM_DIMENSION)]) for _ in range(NUM_SAMPLES))\n",
    "State = namedtuple('State', ['taken', 'not_taken'])\n",
    "print(samples)"
   ]
  },
  {
   "cell_type": "code",
   "execution_count": 4,
   "outputs": [],
   "source": [
    "def goal_check(state: State):\n",
    "    return np.all(reduce(np.logical_or, [samples[i] for i in state.taken], np.array([False for _ in range(PROBLEM_DIMENSION)])))"
   ],
   "metadata": {
    "collapsed": false,
    "ExecuteTime": {
     "end_time": "2023-10-25T08:35:12.443638800Z",
     "start_time": "2023-10-25T08:35:12.432511600Z"
    }
   },
   "id": "6d5e8ed2257ebe8c"
  },
  {
   "cell_type": "code",
   "execution_count": 5,
   "outputs": [],
   "source": [
    "assert goal_check(State(set(range(NUM_SAMPLES)), set())), \"Problem not solvable\""
   ],
   "metadata": {
    "collapsed": false,
    "ExecuteTime": {
     "end_time": "2023-10-25T08:35:13.542041600Z",
     "start_time": "2023-10-25T08:35:13.522046500Z"
    }
   },
   "id": "34b051e6379957a"
  },
  {
   "cell_type": "markdown",
   "source": [
    "## Implementation with python varius queue"
   ],
   "metadata": {
    "collapsed": false
   },
   "id": "cb7a464456d17d02"
  },
  {
   "cell_type": "code",
   "execution_count": 6,
   "outputs": [],
   "source": [
    "#Breadth first\n",
    "frontier = SimpleQueue()\n",
    "#Depth first\n",
    "#frontier = LifoQueue()\n",
    "#Dijkstra\n",
    "# frontier = PriorityQueue()"
   ],
   "metadata": {
    "collapsed": false,
    "ExecuteTime": {
     "end_time": "2023-10-25T08:35:15.855745200Z",
     "start_time": "2023-10-25T08:35:15.848475900Z"
    }
   },
   "id": "707dad71262dbd84"
  },
  {
   "cell_type": "code",
   "execution_count": 7,
   "outputs": [
    {
     "name": "stdout",
     "output_type": "stream",
     "text": [
      "Solved in 2685 steps\n",
      "State: State(taken={18, 13, 6}, not_taken={0, 1, 2, 3, 4, 5, 7, 8, 9, 10, 11, 12, 14, 15, 16, 17, 19})\n"
     ]
    }
   ],
   "source": [
    "frontier.put(State(set(), set(range(NUM_SAMPLES))))\n",
    "\n",
    "counter = 0\n",
    "current_state: State = frontier.get()\n",
    "while not goal_check(current_state):\n",
    "    counter += 1\n",
    "    for action in current_state.not_taken:\n",
    "        new_state = State(current_state.taken | {action}, current_state.not_taken - {action})\n",
    "        frontier.put(new_state)\n",
    "        # print(\"Frontier:\", frontier.queue)\n",
    "    # print(\"Frontier:\", frontier.queue)\n",
    "    current_state = frontier.get()\n",
    "    # print(\"CurrentState:\", current_state)\n",
    "print(f\"Solved in {counter} steps\")\n",
    "print(f\"State: {current_state}\")"
   ],
   "metadata": {
    "collapsed": false,
    "ExecuteTime": {
     "end_time": "2023-10-25T08:35:17.622294600Z",
     "start_time": "2023-10-25T08:35:17.423741Z"
    }
   },
   "id": "c74ea9856079c9f5"
  },
  {
   "cell_type": "markdown",
   "source": [
    "## Implementation with python DEQUE"
   ],
   "metadata": {
    "collapsed": false
   },
   "id": "8cc99b161bf0a09b"
  },
  {
   "cell_type": "code",
   "execution_count": 8,
   "outputs": [
    {
     "name": "stdout",
     "output_type": "stream",
     "text": [
      "Solved in 2685 steps\n",
      "State: State(taken={18, 13, 6}, not_taken={0, 1, 2, 3, 4, 5, 7, 8, 9, 10, 11, 12, 14, 15, 16, 17, 19})\n"
     ]
    }
   ],
   "source": [
    "#Breadth first\n",
    "frontier = deque()\n",
    "starting_state = State(set(), set(range(NUM_SAMPLES)))\n",
    "frontier.append(starting_state)\n",
    "\n",
    "counter = 0\n",
    "current_state: State = frontier.popleft()   #FIFO\n",
    "while not goal_check(current_state):\n",
    "    counter += 1\n",
    "    for action in current_state.not_taken:\n",
    "        new_state = State(current_state.taken | {action}, current_state.not_taken - {action})\n",
    "        frontier.append(new_state)\n",
    "        # print(\"Frontier:\", frontier.queue)\n",
    "    # print(\"Frontier:\", frontier.queue)\n",
    "    current_state = frontier.popleft()\n",
    "    # print(\"CurrentState:\", current_state)\n",
    "print(f\"Solved in {counter} steps\")\n",
    "print(f\"State: {current_state}\")"
   ],
   "metadata": {
    "collapsed": false,
    "ExecuteTime": {
     "end_time": "2023-10-25T08:35:19.735822300Z",
     "start_time": "2023-10-25T08:35:19.493891100Z"
    }
   },
   "id": "be31bf482ca112e"
  },
  {
   "cell_type": "code",
   "execution_count": 9,
   "outputs": [
    {
     "name": "stdout",
     "output_type": "stream",
     "text": [
      "Solved in 14 steps\n",
      "State: State(taken={6, 7, 8, 9, 10, 11, 12, 13, 14, 15, 16, 17, 18, 19}, not_taken={0, 1, 2, 3, 4, 5})\n"
     ]
    }
   ],
   "source": [
    "#Depth first\n",
    "frontier = deque()\n",
    "starting_state = State(set(), set(range(NUM_SAMPLES)))\n",
    "frontier.append(starting_state)\n",
    "\n",
    "counter = 0\n",
    "current_state: State = frontier.pop()   #LIFO\n",
    "while not goal_check(current_state):\n",
    "    counter += 1\n",
    "    for action in current_state.not_taken:\n",
    "        new_state = State(current_state.taken | {action}, current_state.not_taken - {action})\n",
    "        frontier.append(new_state)\n",
    "        # print(\"Frontier:\", frontier.queue)\n",
    "    # print(\"Frontier:\", frontier.queue)\n",
    "    current_state = frontier.pop()\n",
    "    # print(\"CurrentState:\", current_state)\n",
    "print(f\"Solved in {counter} steps\")\n",
    "print(f\"State: {current_state}\")"
   ],
   "metadata": {
    "collapsed": false,
    "ExecuteTime": {
     "end_time": "2023-10-25T08:35:21.042332100Z",
     "start_time": "2023-10-25T08:35:20.993334700Z"
    }
   },
   "id": "dd739f352180f9a8"
  },
  {
   "cell_type": "code",
   "execution_count": null,
   "outputs": [],
   "source": [],
   "metadata": {
    "collapsed": false
   },
   "id": "b76c2945c4a3696e"
  }
 ],
 "metadata": {
  "kernelspec": {
   "display_name": "Python 3",
   "language": "python",
   "name": "python3"
  },
  "language_info": {
   "codemirror_mode": {
    "name": "ipython",
    "version": 2
   },
   "file_extension": ".py",
   "mimetype": "text/x-python",
   "name": "python",
   "nbconvert_exporter": "python",
   "pygments_lexer": "ipython2",
   "version": "2.7.6"
  }
 },
 "nbformat": 4,
 "nbformat_minor": 5
}
