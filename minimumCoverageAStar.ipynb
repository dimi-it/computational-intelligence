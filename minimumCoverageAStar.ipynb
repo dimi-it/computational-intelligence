{
 "cells": [
  {
   "cell_type": "code",
   "execution_count": 2,
   "outputs": [],
   "source": [
    "from random import random\n",
    "from functools import reduce\n",
    "from collections import namedtuple\n",
    "from queue import  PriorityQueue, SimpleQueue, LifoQueue\n",
    "import numpy as np"
   ],
   "metadata": {
    "collapsed": false,
    "ExecuteTime": {
     "end_time": "2023-10-23T21:20:44.788528900Z",
     "start_time": "2023-10-23T21:20:44.501823200Z"
    }
   },
   "id": "37d9057af4913b79"
  },
  {
   "cell_type": "code",
   "execution_count": 47,
   "id": "initial_id",
   "metadata": {
    "collapsed": true,
    "ExecuteTime": {
     "end_time": "2023-10-23T22:05:36.915800100Z",
     "start_time": "2023-10-23T22:05:36.897800900Z"
    }
   },
   "outputs": [
    {
     "name": "stdout",
     "output_type": "stream",
     "text": [
      "(array([False,  True,  True, False,  True, False, False, False, False,\n",
      "       False]), array([False,  True, False,  True, False,  True, False, False, False,\n",
      "       False]), array([ True, False,  True, False, False, False,  True, False, False,\n",
      "       False]), array([False, False,  True, False, False,  True, False, False,  True,\n",
      "       False]), array([False, False, False, False,  True, False, False, False,  True,\n",
      "        True]), array([False, False,  True, False, False,  True, False,  True, False,\n",
      "       False]), array([False,  True,  True, False, False,  True, False, False, False,\n",
      "       False]), array([False, False,  True,  True, False, False, False, False, False,\n",
      "       False]), array([False,  True, False,  True, False, False, False, False, False,\n",
      "       False]), array([ True, False,  True, False,  True, False, False, False, False,\n",
      "        True]), array([False, False, False, False, False,  True, False, False,  True,\n",
      "       False]), array([ True, False, False, False, False, False, False, False,  True,\n",
      "        True]), array([ True, False, False, False,  True,  True, False, False, False,\n",
      "       False]), array([ True,  True, False, False, False,  True,  True,  True, False,\n",
      "        True]), array([False, False, False, False, False, False, False,  True, False,\n",
      "       False]), array([False, False, False, False,  True, False,  True, False, False,\n",
      "        True]), array([False,  True, False,  True, False, False, False, False,  True,\n",
      "       False]), array([ True,  True,  True, False,  True, False,  True, False, False,\n",
      "       False]), array([ True,  True, False, False, False, False, False, False, False,\n",
      "       False]), array([False, False, False, False, False, False,  True, False, False,\n",
      "       False]))\n"
     ]
    }
   ],
   "source": [
    "PROBLEM_DIMENSION = 10\n",
    "NUM_SAMPLES = 20\n",
    "samples = tuple(np.array([random() < .3 for _ in range(PROBLEM_DIMENSION)]) for _ in range(NUM_SAMPLES))\n",
    "State = namedtuple('State', ['taken', 'not_taken'])\n",
    "print(samples)"
   ]
  },
  {
   "cell_type": "code",
   "execution_count": 55,
   "outputs": [],
   "source": [
    "def goal_check(state: State):\n",
    "    return np.all(reduce(np.logical_or, [samples[i] for i in state.taken], np.array([False for _ in range(PROBLEM_DIMENSION)])))\n",
    "\n",
    "def distance_traveled(state: State):\n",
    "    return len(state.taken)\n",
    "\n",
    "def distance_from_goal(state: State):\n",
    "    return PROBLEM_DIMENSION - sum(reduce(np.logical_or, [samples[i] for i in state.taken], np.array([False for _ in range(PROBLEM_DIMENSION)])))\n",
    "\n",
    "def f_score(state: State):\n",
    "    return  distance_traveled(state) + distance_from_goal(state)"
   ],
   "metadata": {
    "collapsed": false,
    "ExecuteTime": {
     "end_time": "2023-10-23T22:06:22.249904300Z",
     "start_time": "2023-10-23T22:06:22.240970500Z"
    }
   },
   "id": "6d5e8ed2257ebe8c"
  },
  {
   "cell_type": "code",
   "execution_count": 56,
   "outputs": [],
   "source": [
    "assert goal_check(State(set(range(NUM_SAMPLES)), set())), \"Problem not solvable\""
   ],
   "metadata": {
    "collapsed": false,
    "ExecuteTime": {
     "end_time": "2023-10-23T22:06:22.790779700Z",
     "start_time": "2023-10-23T22:06:22.783222200Z"
    }
   },
   "id": "34b051e6379957a"
  },
  {
   "cell_type": "code",
   "execution_count": 57,
   "outputs": [
    {
     "name": "stdout",
     "output_type": "stream",
     "text": [
      "Solved in 3 steps\n",
      "State: State(taken={0, 16, 13}, not_taken={1, 2, 3, 4, 5, 6, 7, 8, 9, 10, 11, 12, 14, 15, 17, 18, 19})\n"
     ]
    }
   ],
   "source": [
    "frontier = PriorityQueue()\n",
    "state: State = State(set(), set(range(NUM_SAMPLES)))\n",
    "frontier.put((f_score(state), state))\n",
    "\n",
    "counter = 0\n",
    "_, current_state = frontier.get()\n",
    "while not goal_check(current_state):\n",
    "    counter += 1\n",
    "    for action in current_state.not_taken:\n",
    "        new_state = State(current_state.taken | {action}, current_state.not_taken - {action})\n",
    "        frontier.put((f_score(new_state), new_state))\n",
    "        # print(\"Frontier:\", frontier.queue)\n",
    "    _, current_state = frontier.get()\n",
    "    # print(\"CurrentState:\", current_state)\n",
    "print(f\"Solved in {counter} steps\")\n",
    "print(f\"State: {current_state}\")"
   ],
   "metadata": {
    "collapsed": false,
    "ExecuteTime": {
     "end_time": "2023-10-23T22:06:23.279046200Z",
     "start_time": "2023-10-23T22:06:23.271185900Z"
    }
   },
   "id": "c74ea9856079c9f5"
  },
  {
   "cell_type": "code",
   "execution_count": 58,
   "outputs": [
    {
     "name": "stdout",
     "output_type": "stream",
     "text": [
      "Solved in 3 steps\n",
      "State: State(taken={0, 16, 13}, not_taken={1, 2, 3, 4, 5, 6, 7, 8, 9, 10, 11, 12, 14, 15, 17, 18, 19})\n"
     ]
    }
   ],
   "source": [
    "frontier = PriorityQueue()\n",
    "state: State = State(set(), set(range(NUM_SAMPLES)))\n",
    "frontier.put((distance_from_goal(state), state))\n",
    "\n",
    "counter = 0\n",
    "_, current_state = frontier.get()\n",
    "while not goal_check(current_state):\n",
    "    counter += 1\n",
    "    for action in current_state.not_taken:\n",
    "        new_state = State(current_state.taken | {action}, current_state.not_taken - {action})\n",
    "        frontier.put((distance_from_goal(new_state), new_state))\n",
    "        # print(\"Frontier:\", frontier.queue)\n",
    "    _, current_state = frontier.get()\n",
    "    # print(\"CurrentState:\", current_state)\n",
    "print(f\"Solved in {counter} steps\")\n",
    "print(f\"State: {current_state}\")"
   ],
   "metadata": {
    "collapsed": false,
    "ExecuteTime": {
     "end_time": "2023-10-23T22:06:23.981766900Z",
     "start_time": "2023-10-23T22:06:23.974818800Z"
    }
   },
   "id": "40249cb3c0df6699"
  },
  {
   "cell_type": "code",
   "execution_count": 11,
   "outputs": [
    {
     "data": {
      "text/plain": "[array([ True, False, False, False, False,  True,  True, False, False,\n        False]),\n array([False,  True,  True,  True, False,  True, False,  True,  True,\n         True]),\n array([False,  True, False, False,  True, False, False, False, False,\n        False])]"
     },
     "execution_count": 11,
     "metadata": {},
     "output_type": "execute_result"
    }
   ],
   "source": [
    "[samples[i] for i in current_state.taken]"
   ],
   "metadata": {
    "collapsed": false,
    "ExecuteTime": {
     "end_time": "2023-10-23T21:47:49.691615300Z",
     "start_time": "2023-10-23T21:47:49.671725600Z"
    }
   },
   "id": "24606d7bbf1f6af1"
  },
  {
   "cell_type": "code",
   "execution_count": 14,
   "outputs": [
    {
     "data": {
      "text/plain": "0"
     },
     "execution_count": 14,
     "metadata": {},
     "output_type": "execute_result"
    }
   ],
   "source": [
    "distance_from_goal(current_state)"
   ],
   "metadata": {
    "collapsed": false,
    "ExecuteTime": {
     "end_time": "2023-10-23T21:53:06.829506300Z",
     "start_time": "2023-10-23T21:53:06.775243300Z"
    }
   },
   "id": "1b52a3a0746a58f0"
  },
  {
   "cell_type": "code",
   "execution_count": 15,
   "outputs": [
    {
     "data": {
      "text/plain": "3"
     },
     "execution_count": 15,
     "metadata": {},
     "output_type": "execute_result"
    }
   ],
   "source": [
    "distance_traveled(current_state)"
   ],
   "metadata": {
    "collapsed": false,
    "ExecuteTime": {
     "end_time": "2023-10-23T21:53:13.321441800Z",
     "start_time": "2023-10-23T21:53:13.286442600Z"
    }
   },
   "id": "62bb1ef8cce236c2"
  },
  {
   "cell_type": "code",
   "execution_count": null,
   "outputs": [],
   "source": [],
   "metadata": {
    "collapsed": false
   },
   "id": "1c8a1ee0a63c91a6"
  }
 ],
 "metadata": {
  "kernelspec": {
   "display_name": "Python 3",
   "language": "python",
   "name": "python3"
  },
  "language_info": {
   "codemirror_mode": {
    "name": "ipython",
    "version": 2
   },
   "file_extension": ".py",
   "mimetype": "text/x-python",
   "name": "python",
   "nbconvert_exporter": "python",
   "pygments_lexer": "ipython2",
   "version": "2.7.6"
  }
 },
 "nbformat": 4,
 "nbformat_minor": 5
}
