{
 "cells": [
  {
   "cell_type": "code",
   "execution_count": 2,
   "outputs": [],
   "source": [
    "from random import random\n",
    "from functools import reduce\n",
    "from collections import namedtuple\n",
    "from queue import  PriorityQueue, SimpleQueue, LifoQueue\n",
    "import numpy as np"
   ],
   "metadata": {
    "collapsed": false,
    "ExecuteTime": {
     "end_time": "2023-10-24T07:12:10.131514100Z",
     "start_time": "2023-10-24T07:12:09.055015900Z"
    }
   },
   "id": "37d9057af4913b79"
  },
  {
   "cell_type": "code",
   "execution_count": 6,
   "id": "initial_id",
   "metadata": {
    "collapsed": true,
    "ExecuteTime": {
     "end_time": "2023-10-24T07:12:16.366705300Z",
     "start_time": "2023-10-24T07:12:16.337034300Z"
    }
   },
   "outputs": [
    {
     "name": "stdout",
     "output_type": "stream",
     "text": [
      "(array([False,  True, False]), array([False, False,  True]), array([False, False, False]), array([False, False, False]), array([ True,  True, False]))\n"
     ]
    }
   ],
   "source": [
    "PROBLEM_DIMENSION = 3\n",
    "NUM_SAMPLES = 5\n",
    "samples = tuple(np.array([random() < .3 for _ in range(PROBLEM_DIMENSION)]) for _ in range(NUM_SAMPLES))\n",
    "State = namedtuple('State', ['taken', 'not_taken'])\n",
    "print(samples)"
   ]
  },
  {
   "cell_type": "code",
   "execution_count": 7,
   "outputs": [],
   "source": [
    "def goal_check(state: State):\n",
    "    return np.all(reduce(np.logical_or, [samples[i] for i in state.taken], np.array([False for _ in range(PROBLEM_DIMENSION)])))\n",
    "\n",
    "def distance_traveled(state: State):\n",
    "    return len(state.taken)\n",
    "\n",
    "def distance_from_goal(state: State):\n",
    "    return PROBLEM_DIMENSION - sum(reduce(np.logical_or, [samples[i] for i in state.taken], np.array([False for _ in range(PROBLEM_DIMENSION)])))\n",
    "\n",
    "def f_score(state: State):\n",
    "    return  distance_traveled(state) + distance_from_goal(state)"
   ],
   "metadata": {
    "collapsed": false,
    "ExecuteTime": {
     "end_time": "2023-10-24T07:12:16.737795400Z",
     "start_time": "2023-10-24T07:12:16.719820100Z"
    }
   },
   "id": "6d5e8ed2257ebe8c"
  },
  {
   "cell_type": "code",
   "execution_count": 8,
   "outputs": [],
   "source": [
    "assert goal_check(State(set(range(NUM_SAMPLES)), set())), \"Problem not solvable\""
   ],
   "metadata": {
    "collapsed": false,
    "ExecuteTime": {
     "end_time": "2023-10-24T07:12:17.193621800Z",
     "start_time": "2023-10-24T07:12:17.174986200Z"
    }
   },
   "id": "34b051e6379957a"
  },
  {
   "cell_type": "code",
   "execution_count": 11,
   "outputs": [
    {
     "name": "stdout",
     "output_type": "stream",
     "text": [
      "Solved in 2 steps\n",
      "State: State(taken={1, 4}, not_taken={0, 2, 3})\n"
     ]
    }
   ],
   "source": [
    "frontier = PriorityQueue()\n",
    "state: State = State(set(), set(range(NUM_SAMPLES)))\n",
    "frontier.put((f_score(state), state))\n",
    "\n",
    "counter = 0\n",
    "_, current_state = frontier.get()\n",
    "while not goal_check(current_state):\n",
    "    counter += 1\n",
    "    for action in current_state.not_taken:\n",
    "        new_state = State(current_state.taken | {action}, current_state.not_taken - {action})\n",
    "        frontier.put((f_score(new_state), new_state))\n",
    "        # print(\"Frontier:\", frontier.queue)\n",
    "    # print(\"Frontier:\", frontier.queue)\n",
    "    _, current_state = frontier.get()\n",
    "    #print(\"CurrentState:\", current_state)\n",
    "print(f\"Solved in {counter} steps\")\n",
    "print(f\"State: {current_state}\")"
   ],
   "metadata": {
    "collapsed": false,
    "ExecuteTime": {
     "end_time": "2023-10-24T12:32:34.907904500Z",
     "start_time": "2023-10-24T12:32:34.888663600Z"
    }
   },
   "id": "c74ea9856079c9f5"
  },
  {
   "cell_type": "code",
   "execution_count": null,
   "outputs": [],
   "source": [],
   "metadata": {
    "collapsed": false
   },
   "id": "fa135279c74ffdf0"
  }
 ],
 "metadata": {
  "kernelspec": {
   "display_name": "Python 3",
   "language": "python",
   "name": "python3"
  },
  "language_info": {
   "codemirror_mode": {
    "name": "ipython",
    "version": 2
   },
   "file_extension": ".py",
   "mimetype": "text/x-python",
   "name": "python",
   "nbconvert_exporter": "python",
   "pygments_lexer": "ipython2",
   "version": "2.7.6"
  }
 },
 "nbformat": 4,
 "nbformat_minor": 5
}
