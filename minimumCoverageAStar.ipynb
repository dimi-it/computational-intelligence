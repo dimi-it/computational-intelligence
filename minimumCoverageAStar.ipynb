{
 "cells": [
  {
   "cell_type": "code",
   "execution_count": null,
   "outputs": [],
   "source": [
    "from random import random\n",
    "from functools import reduce\n",
    "from collections import namedtuple\n",
    "from queue import  PriorityQueue, SimpleQueue, LifoQueue\n",
    "import numpy as np"
   ],
   "metadata": {
    "collapsed": false
   },
   "id": "37d9057af4913b79"
  },
  {
   "cell_type": "code",
   "execution_count": null,
   "id": "initial_id",
   "metadata": {
    "collapsed": true
   },
   "outputs": [],
   "source": [
    "PROBLEM_DIMENSION = 3\n",
    "NUM_SAMPLES = 5\n",
    "samples = tuple(np.array([random() < .3 for _ in range(PROBLEM_DIMENSION)]) for _ in range(NUM_SAMPLES))\n",
    "State = namedtuple('State', ['taken', 'not_taken'])\n",
    "print(samples)"
   ]
  },
  {
   "cell_type": "code",
   "execution_count": null,
   "outputs": [],
   "source": [
    "def goal_check(state: State):\n",
    "    return np.all(reduce(np.logical_or, [samples[i] for i in state.taken], np.array([False for _ in range(PROBLEM_DIMENSION)])))\n",
    "\n",
    "def distance_traveled(state: State):\n",
    "    return len(state.taken)\n",
    "\n",
    "def distance_from_goal(state: State):\n",
    "    return PROBLEM_DIMENSION - sum(reduce(np.logical_or, [samples[i] for i in state.taken], np.array([False for _ in range(PROBLEM_DIMENSION)])))\n",
    "\n",
    "def f_score(state: State):\n",
    "    return  distance_traveled(state) + distance_from_goal(state)"
   ],
   "metadata": {
    "collapsed": false
   },
   "id": "6d5e8ed2257ebe8c"
  },
  {
   "cell_type": "code",
   "execution_count": null,
   "outputs": [],
   "source": [
    "assert goal_check(State(set(range(NUM_SAMPLES)), set())), \"Problem not solvable\""
   ],
   "metadata": {
    "collapsed": false
   },
   "id": "34b051e6379957a"
  },
  {
   "cell_type": "code",
   "execution_count": null,
   "outputs": [],
   "source": [
    "frontier = PriorityQueue()\n",
    "state: State = State(set(), set(range(NUM_SAMPLES)))\n",
    "frontier.put((f_score(state), state))\n",
    "\n",
    "counter = 0\n",
    "_, current_state = frontier.get()\n",
    "while not goal_check(current_state):\n",
    "    counter += 1\n",
    "    for action in current_state.not_taken:\n",
    "        new_state = State(current_state.taken | {action}, current_state.not_taken - {action})\n",
    "        frontier.put((f_score(new_state), new_state))\n",
    "        # print(\"Frontier:\", frontier.queue)\n",
    "    # print(\"Frontier:\", frontier.queue)\n",
    "    _, current_state = frontier.get()\n",
    "    #print(\"CurrentState:\", current_state)\n",
    "print(f\"Solved in {counter} steps\")\n",
    "print(f\"State: {current_state}\")"
   ],
   "metadata": {
    "collapsed": false
   },
   "id": "c74ea9856079c9f5"
  },
  {
   "cell_type": "code",
   "execution_count": null,
   "outputs": [],
   "source": [],
   "metadata": {
    "collapsed": false
   },
   "id": "fa135279c74ffdf0"
  }
 ],
 "metadata": {
  "kernelspec": {
   "display_name": "Python 3",
   "language": "python",
   "name": "python3"
  },
  "language_info": {
   "codemirror_mode": {
    "name": "ipython",
    "version": 2
   },
   "file_extension": ".py",
   "mimetype": "text/x-python",
   "name": "python",
   "nbconvert_exporter": "python",
   "pygments_lexer": "ipython2",
   "version": "2.7.6"
  }
 },
 "nbformat": 4,
 "nbformat_minor": 5
}
