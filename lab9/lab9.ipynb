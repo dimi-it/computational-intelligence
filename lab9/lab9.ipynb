{
 "cells": [
  {
   "cell_type": "markdown",
   "metadata": {},
   "source": [
    "Copyright **`(c)`** 2023 Giovanni Squillero `<giovanni.squillero@polito.it>`  \n",
    "[`https://github.com/squillero/computational-intelligence`](https://github.com/squillero/computational-intelligence)  \n",
    "Free for personal or classroom use; see [`LICENSE.md`](https://github.com/squillero/computational-intelligence/blob/master/LICENSE.md) for details.  "
   ]
  },
  {
   "cell_type": "markdown",
   "metadata": {},
   "source": [
    "# LAB9\n",
    "\n",
    "Write a local-search algorithm (eg. an EA) able to solve the *Problem* instances 1, 2, 5, and 10 on a 1000-loci genomes, using a minimum number of fitness calls. That's all.\n",
    "\n",
    "### Deadlines:\n",
    "\n",
    "* Submission: Sunday, December 3 ([CET](https://www.timeanddate.com/time/zones/cet))\n",
    "* Reviews: Sunday, December 10 ([CET](https://www.timeanddate.com/time/zones/cet))\n",
    "\n",
    "Notes:\n",
    "\n",
    "* Reviews will be assigned  on Monday, December 4\n",
    "* You need to commit in order to be selected as a reviewer (ie. better to commit an empty work than not to commit)"
   ]
  },
  {
   "cell_type": "code",
   "execution_count": null,
   "metadata": {},
   "outputs": [],
   "source": [
    "from random import choices\n",
    "from collections.abc import Callable, Sequence\n",
    "import numpy as np\n",
    "\n",
    "import lab9_lib\n",
    "from population import Population\n",
    "from population_builder import PopulationBuilder\n",
    "from island import Island"
   ]
  },
  {
   "cell_type": "code",
   "execution_count": null,
   "metadata": {},
   "outputs": [],
   "source": [
    "fitness = lab9_lib.make_problem(1)\n",
    "for n in range(10):\n",
    "    ind = choices([0, 1], k=50)\n",
    "    print(f\"{''.join(str(g) for g in ind)}: {fitness(ind):.2%}\")\n",
    "\n",
    "print(fitness.calls)"
   ]
  },
  {
   "cell_type": "code",
   "execution_count": null,
   "outputs": [],
   "source": [
    "def run_population(problem_fitness, generations, builder):\n",
    "    population = (builder\n",
    "                  .add_fitness_function(fitness_function=problem_fitness)\n",
    "                  .build())\n",
    "    population.run_for_generations_or_until_no_upgrades(generations, log_data=False, n_generations_without_upgrade=100)\n",
    "    \n",
    "    print(f\"Generations ran {population.generations_ran}\")\n",
    "    print(f\"Max fitness {population.max_fitness}\")\n",
    "    print(f\"Fitness call {problem_fitness.calls / 1000}k\")\n",
    "    population.log_history_fitness()"
   ],
   "metadata": {
    "collapsed": false
   }
  },
  {
   "cell_type": "markdown",
   "source": [
    "# Population\n",
    "Thanks, to the population builder, we can easily build a population, in this case after many test we develop this population that perform discretely in all problem( we the problem of premature convergence in the problems 5 and 10). \n",
    "Be aware that there are not Individual class but only a Population, so that every function applied to it is made with numpy function and not even a single for loop is present( this dramatically increase speed but reduce code readability). "
   ],
   "metadata": {
    "collapsed": false
   }
  },
  {
   "cell_type": "code",
   "execution_count": null,
   "outputs": [],
   "source": [
    "#Population builder\n",
    "builder = (PopulationBuilder()\n",
    "           .initialize_random(population_size=100, genome_len=1000)\n",
    "           .add_parents_selector_tournament(tournament_size=10, offspring_size=150)\n",
    "           .add_survivals_selector_generational()\n",
    "           .set_recombination_and_mutation_mutualexclusive(probability_recombination_over_mutation=.2)\n",
    "           .add_mutation_single_flip()\n",
    "           .add_recombination_uniform_xover())"
   ],
   "metadata": {
    "collapsed": false
   }
  },
  {
   "cell_type": "code",
   "execution_count": null,
   "outputs": [],
   "source": [
    "run_population(lab9_lib.make_problem(1), 1500, builder)"
   ],
   "metadata": {
    "collapsed": false
   }
  },
  {
   "cell_type": "code",
   "execution_count": null,
   "outputs": [],
   "source": [
    "run_population(lab9_lib.make_problem(2), 1500, builder)"
   ],
   "metadata": {
    "collapsed": false
   }
  },
  {
   "cell_type": "code",
   "execution_count": null,
   "outputs": [],
   "source": [
    "run_population(lab9_lib.make_problem(5), 1500, builder)"
   ],
   "metadata": {
    "collapsed": false
   }
  },
  {
   "cell_type": "code",
   "execution_count": null,
   "outputs": [],
   "source": [
    "run_population(lab9_lib.make_problem(10), 1500, builder)"
   ],
   "metadata": {
    "collapsed": false
   }
  },
  {
   "cell_type": "markdown",
   "source": [
    "# Islands\n",
    "We have developed a solution base on island to try to mitigate the previous problem. "
   ],
   "metadata": {
    "collapsed": false
   }
  },
  {
   "cell_type": "code",
   "execution_count": null,
   "outputs": [],
   "source": [
    "def run_island(population_size, genome_len, epoch, problem_fitness, builders ):\n",
    "    builders = [b.add_fitness_function(fitness_function=problem_fitness) for b in builders]\n",
    "    island = Island(population_size, genome_len, builders)\n",
    "    \n",
    "    island.run(epochs=epoch)\n",
    "    print(f\"Max fitness {island.max_fitness}\")\n",
    "    print(f\"Fitness call {problem_fitness.calls / 1000}k\")\n",
    "    island.log_history_fitness()"
   ],
   "metadata": {
    "collapsed": false
   }
  },
  {
   "cell_type": "code",
   "execution_count": null,
   "outputs": [],
   "source": [
    "population_size = 50\n",
    "genome_len = 1000\n",
    "problem_fitness = lab9_lib.make_problem(2)\n",
    "\n",
    "builders =[ (PopulationBuilder()\n",
    "            .add_parents_selector_tournament(tournament_size=10, offspring_size=70)\n",
    "            .add_survivals_selector_generational()\n",
    "            .add_recombination_uniform_xover()\n",
    "            .add_mutation_single_flip()\n",
    "            .set_recombination_and_mutation_mutualexclusive(probability_recombination_over_mutation=0.2)),\n",
    "            (PopulationBuilder()\n",
    "            .add_parents_selector_tournament(tournament_size=2, offspring_size=70)\n",
    "            .add_survivals_selector_generational()\n",
    "            .add_recombination_one_point_xover()\n",
    "            .add_mutation_single_flip()\n",
    "            .set_recombination_and_mutation_mutualexclusive(probability_recombination_over_mutation=0.7)),\n",
    "            (PopulationBuilder()\n",
    "            .add_parents_selector_tournament(tournament_size=10, offspring_size=30)\n",
    "            .add_survivals_selector_steady_state()\n",
    "            .add_recombination_one_point_xover()\n",
    "            .add_mutation_single_flip()\n",
    "            .set_mutation_sequential_to_recombination(probability_mutation=0.3))]"
   ],
   "metadata": {
    "collapsed": false
   }
  },
  {
   "cell_type": "code",
   "execution_count": null,
   "outputs": [],
   "source": [
    "run_island(population_size, genome_len, 6, lab9_lib.make_problem(1), builders)"
   ],
   "metadata": {
    "collapsed": false
   }
  },
  {
   "cell_type": "code",
   "execution_count": null,
   "outputs": [],
   "source": [
    "run_island(population_size, genome_len, 20, lab9_lib.make_problem(2), builders)"
   ],
   "metadata": {
    "collapsed": false
   }
  },
  {
   "cell_type": "code",
   "execution_count": null,
   "outputs": [],
   "source": [
    "run_island(population_size, genome_len, 10, lab9_lib.make_problem(5), builders)"
   ],
   "metadata": {
    "collapsed": false
   }
  },
  {
   "cell_type": "code",
   "execution_count": null,
   "outputs": [],
   "source": [
    "run_island(population_size, genome_len, 10, lab9_lib.make_problem(10), builders)"
   ],
   "metadata": {
    "collapsed": false
   }
  },
  {
   "cell_type": "code",
   "execution_count": null,
   "outputs": [],
   "source": [],
   "metadata": {
    "collapsed": false
   }
  }
 ],
 "metadata": {
  "kernelspec": {
   "display_name": "ci-fLJ3OwGs-py3.12",
   "language": "python",
   "name": "python3"
  },
  "language_info": {
   "codemirror_mode": {
    "name": "ipython",
    "version": 3
   },
   "file_extension": ".py",
   "mimetype": "text/x-python",
   "name": "python",
   "nbconvert_exporter": "python",
   "pygments_lexer": "ipython3",
   "version": "3.12.0"
  }
 },
 "nbformat": 4,
 "nbformat_minor": 2
}
