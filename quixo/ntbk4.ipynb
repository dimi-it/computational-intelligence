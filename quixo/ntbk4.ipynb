{
 "cells": [
  {
   "cell_type": "code",
   "execution_count": 1,
   "id": "initial_id",
   "metadata": {
    "collapsed": true,
    "ExecuteTime": {
     "end_time": "2024-02-18T10:06:44.375994400Z",
     "start_time": "2024-02-18T10:06:43.838533100Z"
    }
   },
   "outputs": [],
   "source": [
    "import networkx as nx\n",
    "from tqdm import tqdm\n",
    "\n",
    "from initializer import Initializer\n",
    "from data_bags import *\n",
    "from crossover import *\n",
    "from mutation import *\n",
    "from quixo_game import *\n",
    "import random\n",
    "from gp_player import GeneticProgrammingPlayer\n",
    "from quixo.my_random_player import MyRandomPlayer\n",
    "from population import Population\n",
    "\n",
    "\n",
    "init_param = InitParameters(\n",
    "    use_different_depth=True, \n",
    "    use_grow=True,\n",
    "    use_full=True, \n",
    ")\n",
    "agent_param = AgentParameters(\n",
    "    max_depth=25,\n",
    ")\n",
    "player_param = PlayerParameters(\n",
    "    enable_random_move=True,\n",
    "    loop_avoidance_limit=5\n",
    ")\n",
    "pop_param = PopulationParameters(\n",
    "    agent_param=agent_param,\n",
    "    init_param=init_param,\n",
    "    player_param=player_param,\n",
    "    population_size=50,\n",
    "    tournament_depth=4,\n",
    "    selection_size=25,\n",
    "    keep_best=True,\n",
    "    crossover_probability =.2,\n",
    "    mutation_probability =.4,\n",
    "    round_against_random=20,\n",
    ")"
   ]
  },
  {
   "cell_type": "code",
   "execution_count": 2,
   "outputs": [
    {
     "name": "stderr",
     "output_type": "stream",
     "text": [
      "  0%|          | 0/30 [00:00<?, ?it/s]"
     ]
    },
    {
     "name": "stdout",
     "output_type": "stream",
     "text": [
      "Generation: 0\n",
      "Individuals: 50\n",
      "Ind avg: 0.3804999999999999\n",
      "Sel avg: 0.5090000000000001\n",
      "Best fitness: 0.775\n"
     ]
    },
    {
     "name": "stderr",
     "output_type": "stream",
     "text": [
      "  3%|▎         | 1/30 [00:15<07:16, 15.04s/it]"
     ]
    },
    {
     "name": "stdout",
     "output_type": "stream",
     "text": [
      "Generation: 1\n",
      "Individuals: 50\n",
      "Ind avg: 0.5095000000000002\n",
      "Sel avg: 0.5770000000000001\n",
      "Best fitness: 0.8\n"
     ]
    },
    {
     "name": "stderr",
     "output_type": "stream",
     "text": [
      "  7%|▋         | 2/30 [00:27<06:20, 13.59s/it]"
     ]
    },
    {
     "name": "stdout",
     "output_type": "stream",
     "text": [
      "Generation: 2\n",
      "Individuals: 50\n"
     ]
    },
    {
     "name": "stderr",
     "output_type": "stream",
     "text": [
      " 10%|█         | 3/30 [00:35<04:59, 11.11s/it]"
     ]
    },
    {
     "name": "stdout",
     "output_type": "stream",
     "text": [
      "Ind avg: 0.507\n",
      "Sel avg: 0.5579999999999998\n",
      "Best fitness: 0.775\n",
      "Generation: 3\n",
      "Individuals: 50\n"
     ]
    },
    {
     "name": "stderr",
     "output_type": "stream",
     "text": [
      " 13%|█▎        | 4/30 [00:42<04:03,  9.37s/it]"
     ]
    },
    {
     "name": "stdout",
     "output_type": "stream",
     "text": [
      "Ind avg: 0.5624999999999999\n",
      "Sel avg: 0.6759999999999999\n",
      "Best fitness: 0.8\n",
      "Generation: 4\n",
      "Individuals: 50\n"
     ]
    },
    {
     "name": "stderr",
     "output_type": "stream",
     "text": [
      " 17%|█▋        | 5/30 [00:50<03:44,  8.98s/it]"
     ]
    },
    {
     "name": "stdout",
     "output_type": "stream",
     "text": [
      "Ind avg: 0.6600000000000001\n",
      "Sel avg: 0.65\n",
      "Best fitness: 0.875\n",
      "Generation: 5\n",
      "Individuals: 50\n"
     ]
    },
    {
     "name": "stderr",
     "output_type": "stream",
     "text": [
      " 20%|██        | 6/30 [01:00<03:41,  9.24s/it]"
     ]
    },
    {
     "name": "stdout",
     "output_type": "stream",
     "text": [
      "Ind avg: 0.5939999999999998\n",
      "Sel avg: 0.659\n",
      "Best fitness: 0.8\n",
      "Generation: 6\n",
      "Individuals: 50\n"
     ]
    },
    {
     "name": "stderr",
     "output_type": "stream",
     "text": [
      " 23%|██▎       | 7/30 [01:10<03:40,  9.59s/it]"
     ]
    },
    {
     "name": "stdout",
     "output_type": "stream",
     "text": [
      "Ind avg: 0.6510000000000002\n",
      "Sel avg: 0.6739999999999999\n",
      "Best fitness: 0.85\n",
      "Generation: 7\n",
      "Individuals: 50\n"
     ]
    },
    {
     "name": "stderr",
     "output_type": "stream",
     "text": [
      " 27%|██▋       | 8/30 [01:19<03:24,  9.29s/it]"
     ]
    },
    {
     "name": "stdout",
     "output_type": "stream",
     "text": [
      "Ind avg: 0.6335000000000001\n",
      "Sel avg: 0.666\n",
      "Best fitness: 0.8\n",
      "Generation: 8\n",
      "Individuals: 50\n"
     ]
    },
    {
     "name": "stderr",
     "output_type": "stream",
     "text": [
      " 30%|███       | 9/30 [01:27<03:04,  8.78s/it]"
     ]
    },
    {
     "name": "stdout",
     "output_type": "stream",
     "text": [
      "Ind avg: 0.7274999999999998\n",
      "Sel avg: 0.7339999999999999\n",
      "Best fitness: 0.85\n",
      "Generation: 9\n",
      "Individuals: 50\n"
     ]
    },
    {
     "name": "stderr",
     "output_type": "stream",
     "text": [
      " 33%|███▎      | 10/30 [01:35<02:50,  8.54s/it]"
     ]
    },
    {
     "name": "stdout",
     "output_type": "stream",
     "text": [
      "Ind avg: 0.7070000000000001\n",
      "Sel avg: 0.6880000000000002\n",
      "Best fitness: 0.85\n",
      "Generation: 10\n",
      "Individuals: 50\n"
     ]
    },
    {
     "name": "stderr",
     "output_type": "stream",
     "text": [
      " 37%|███▋      | 11/30 [01:43<02:39,  8.38s/it]"
     ]
    },
    {
     "name": "stdout",
     "output_type": "stream",
     "text": [
      "Ind avg: 0.7134999999999999\n",
      "Sel avg: 0.715\n",
      "Best fitness: 0.8\n",
      "Generation: 11\n",
      "Individuals: 50\n"
     ]
    },
    {
     "name": "stderr",
     "output_type": "stream",
     "text": [
      " 40%|████      | 12/30 [01:51<02:29,  8.30s/it]"
     ]
    },
    {
     "name": "stdout",
     "output_type": "stream",
     "text": [
      "Ind avg: 0.6970000000000001\n",
      "Sel avg: 0.6920000000000001\n",
      "Best fitness: 0.825\n",
      "Generation: 12\n",
      "Individuals: 50\n"
     ]
    },
    {
     "name": "stderr",
     "output_type": "stream",
     "text": [
      " 43%|████▎     | 13/30 [01:58<02:17,  8.09s/it]"
     ]
    },
    {
     "name": "stdout",
     "output_type": "stream",
     "text": [
      "Ind avg: 0.6960000000000001\n",
      "Sel avg: 0.7269999999999999\n",
      "Best fitness: 0.825\n",
      "Generation: 13\n",
      "Individuals: 50\n"
     ]
    },
    {
     "name": "stderr",
     "output_type": "stream",
     "text": [
      " 47%|████▋     | 14/30 [02:07<02:12,  8.30s/it]"
     ]
    },
    {
     "name": "stdout",
     "output_type": "stream",
     "text": [
      "Ind avg: 0.6515000000000001\n",
      "Sel avg: 0.686\n",
      "Best fitness: 0.825\n",
      "Generation: 14\n",
      "Individuals: 50\n"
     ]
    },
    {
     "name": "stderr",
     "output_type": "stream",
     "text": [
      " 50%|█████     | 15/30 [02:16<02:05,  8.38s/it]"
     ]
    },
    {
     "name": "stdout",
     "output_type": "stream",
     "text": [
      "Ind avg: 0.6895000000000002\n",
      "Sel avg: 0.6869999999999998\n",
      "Best fitness: 0.8\n",
      "Generation: 15\n",
      "Individuals: 50\n"
     ]
    },
    {
     "name": "stderr",
     "output_type": "stream",
     "text": [
      " 53%|█████▎    | 16/30 [02:25<02:02,  8.72s/it]"
     ]
    },
    {
     "name": "stdout",
     "output_type": "stream",
     "text": [
      "Ind avg: 0.6459999999999999\n",
      "Sel avg: 0.6990000000000001\n",
      "Best fitness: 0.8\n",
      "Generation: 16\n",
      "Individuals: 50\n"
     ]
    },
    {
     "name": "stderr",
     "output_type": "stream",
     "text": [
      " 57%|█████▋    | 17/30 [02:37<02:06,  9.73s/it]"
     ]
    },
    {
     "name": "stdout",
     "output_type": "stream",
     "text": [
      "Ind avg: 0.687\n",
      "Sel avg: 0.7249999999999999\n",
      "Best fitness: 0.85\n",
      "Generation: 17\n",
      "Individuals: 50\n"
     ]
    },
    {
     "name": "stderr",
     "output_type": "stream",
     "text": [
      " 60%|██████    | 18/30 [02:45<01:50,  9.23s/it]"
     ]
    },
    {
     "name": "stdout",
     "output_type": "stream",
     "text": [
      "Ind avg: 0.6680000000000001\n",
      "Sel avg: 0.675\n",
      "Best fitness: 0.8\n",
      "Generation: 18\n",
      "Individuals: 50\n"
     ]
    },
    {
     "name": "stderr",
     "output_type": "stream",
     "text": [
      " 63%|██████▎   | 19/30 [02:55<01:41,  9.21s/it]"
     ]
    },
    {
     "name": "stdout",
     "output_type": "stream",
     "text": [
      "Ind avg: 0.6444999999999999\n",
      "Sel avg: 0.6389999999999999\n",
      "Best fitness: 0.85\n",
      "Generation: 19\n",
      "Individuals: 50\n"
     ]
    },
    {
     "name": "stderr",
     "output_type": "stream",
     "text": [
      " 67%|██████▋   | 20/30 [03:04<01:33,  9.32s/it]"
     ]
    },
    {
     "name": "stdout",
     "output_type": "stream",
     "text": [
      "Ind avg: 0.5969999999999999\n",
      "Sel avg: 0.611\n",
      "Best fitness: 0.775\n",
      "Generation: 20\n",
      "Individuals: 50\n"
     ]
    },
    {
     "name": "stderr",
     "output_type": "stream",
     "text": [
      " 70%|███████   | 21/30 [03:14<01:25,  9.55s/it]"
     ]
    },
    {
     "name": "stdout",
     "output_type": "stream",
     "text": [
      "Ind avg: 0.6300000000000001\n",
      "Sel avg: 0.6809999999999999\n",
      "Best fitness: 0.8\n",
      "Generation: 21\n",
      "Individuals: 50\n"
     ]
    },
    {
     "name": "stderr",
     "output_type": "stream",
     "text": [
      " 73%|███████▎  | 22/30 [03:24<01:16,  9.51s/it]"
     ]
    },
    {
     "name": "stdout",
     "output_type": "stream",
     "text": [
      "Ind avg: 0.6485000000000001\n",
      "Sel avg: 0.669\n",
      "Best fitness: 0.825\n",
      "Generation: 22\n",
      "Individuals: 50\n"
     ]
    },
    {
     "name": "stderr",
     "output_type": "stream",
     "text": [
      " 77%|███████▋  | 23/30 [03:34<01:08,  9.81s/it]"
     ]
    },
    {
     "name": "stdout",
     "output_type": "stream",
     "text": [
      "Ind avg: 0.7075\n",
      "Sel avg: 0.7549999999999999\n",
      "Best fitness: 0.875\n",
      "Generation: 23\n",
      "Individuals: 50\n"
     ]
    },
    {
     "name": "stderr",
     "output_type": "stream",
     "text": [
      " 80%|████████  | 24/30 [03:43<00:57,  9.60s/it]"
     ]
    },
    {
     "name": "stdout",
     "output_type": "stream",
     "text": [
      "Ind avg: 0.7104999999999998\n",
      "Sel avg: 0.7490000000000002\n",
      "Best fitness: 0.85\n",
      "Generation: 24\n",
      "Individuals: 50\n"
     ]
    },
    {
     "name": "stderr",
     "output_type": "stream",
     "text": [
      " 83%|████████▎ | 25/30 [03:51<00:45,  9.09s/it]"
     ]
    },
    {
     "name": "stdout",
     "output_type": "stream",
     "text": [
      "Ind avg: 0.6695\n",
      "Sel avg: 0.6999999999999998\n",
      "Best fitness: 0.825\n",
      "Generation: 25\n",
      "Individuals: 50\n"
     ]
    },
    {
     "name": "stderr",
     "output_type": "stream",
     "text": [
      " 87%|████████▋ | 26/30 [03:59<00:35,  8.78s/it]"
     ]
    },
    {
     "name": "stdout",
     "output_type": "stream",
     "text": [
      "Ind avg: 0.6649999999999997\n",
      "Sel avg: 0.691\n",
      "Best fitness: 0.8\n",
      "Generation: 26\n",
      "Individuals: 50\n"
     ]
    },
    {
     "name": "stderr",
     "output_type": "stream",
     "text": [
      " 90%|█████████ | 27/30 [04:08<00:26,  8.74s/it]"
     ]
    },
    {
     "name": "stdout",
     "output_type": "stream",
     "text": [
      "Ind avg: 0.6924999999999999\n",
      "Sel avg: 0.7020000000000001\n",
      "Best fitness: 0.775\n",
      "Generation: 27\n",
      "Individuals: 50\n"
     ]
    },
    {
     "name": "stderr",
     "output_type": "stream",
     "text": [
      " 93%|█████████▎| 28/30 [04:19<00:18,  9.45s/it]"
     ]
    },
    {
     "name": "stdout",
     "output_type": "stream",
     "text": [
      "Ind avg: 0.6255000000000002\n",
      "Sel avg: 0.654\n",
      "Best fitness: 0.8\n",
      "Generation: 28\n",
      "Individuals: 50\n"
     ]
    },
    {
     "name": "stderr",
     "output_type": "stream",
     "text": [
      " 97%|█████████▋| 29/30 [04:32<00:10, 10.50s/it]"
     ]
    },
    {
     "name": "stdout",
     "output_type": "stream",
     "text": [
      "Ind avg: 0.6575000000000002\n",
      "Sel avg: 0.685\n",
      "Best fitness: 0.825\n",
      "Generation: 29\n",
      "Individuals: 50\n"
     ]
    },
    {
     "name": "stderr",
     "output_type": "stream",
     "text": [
      "100%|██████████| 30/30 [04:41<00:00,  9.39s/it]\n"
     ]
    },
    {
     "name": "stdout",
     "output_type": "stream",
     "text": [
      "Ind avg: 0.681\n",
      "Sel avg: 0.703\n",
      "Best fitness: 0.775\n"
     ]
    },
    {
     "name": "stderr",
     "output_type": "stream",
     "text": [
      "1it [00:01,  1.11s/it]"
     ]
    },
    {
     "name": "stdout",
     "output_type": "stream",
     "text": [
      "(0, (385, 115))\n"
     ]
    },
    {
     "name": "stderr",
     "output_type": "stream",
     "text": [
      "2it [00:01,  1.05it/s]"
     ]
    },
    {
     "name": "stdout",
     "output_type": "stream",
     "text": [
      "(1, (426, 74))\n"
     ]
    },
    {
     "name": "stderr",
     "output_type": "stream",
     "text": [
      "3it [00:02,  1.14it/s]"
     ]
    },
    {
     "name": "stdout",
     "output_type": "stream",
     "text": [
      "(2, (436, 64))\n"
     ]
    },
    {
     "name": "stderr",
     "output_type": "stream",
     "text": [
      "4it [00:03,  1.21it/s]"
     ]
    },
    {
     "name": "stdout",
     "output_type": "stream",
     "text": [
      "(3, (413, 87))\n"
     ]
    },
    {
     "name": "stderr",
     "output_type": "stream",
     "text": [
      "5it [00:05,  1.24s/it]"
     ]
    },
    {
     "name": "stdout",
     "output_type": "stream",
     "text": [
      "(4, (245, 255))\n"
     ]
    },
    {
     "name": "stderr",
     "output_type": "stream",
     "text": [
      "6it [00:07,  1.48s/it]"
     ]
    },
    {
     "name": "stdout",
     "output_type": "stream",
     "text": [
      "(5, (271, 229))\n"
     ]
    },
    {
     "name": "stderr",
     "output_type": "stream",
     "text": [
      "7it [00:08,  1.28s/it]"
     ]
    },
    {
     "name": "stdout",
     "output_type": "stream",
     "text": [
      "(6, (434, 66))\n"
     ]
    },
    {
     "name": "stderr",
     "output_type": "stream",
     "text": [
      "8it [00:09,  1.25s/it]"
     ]
    },
    {
     "name": "stdout",
     "output_type": "stream",
     "text": [
      "(7, (404, 96))\n"
     ]
    },
    {
     "name": "stderr",
     "output_type": "stream",
     "text": [
      "9it [00:10,  1.14s/it]"
     ]
    },
    {
     "name": "stdout",
     "output_type": "stream",
     "text": [
      "(8, (417, 83))\n"
     ]
    },
    {
     "name": "stderr",
     "output_type": "stream",
     "text": [
      "10it [00:11,  1.06s/it]"
     ]
    },
    {
     "name": "stdout",
     "output_type": "stream",
     "text": [
      "(9, (429, 71))\n"
     ]
    },
    {
     "name": "stderr",
     "output_type": "stream",
     "text": [
      "11it [00:12,  1.00s/it]"
     ]
    },
    {
     "name": "stdout",
     "output_type": "stream",
     "text": [
      "(10, (430, 70))\n"
     ]
    },
    {
     "name": "stderr",
     "output_type": "stream",
     "text": [
      "12it [00:12,  1.04it/s]"
     ]
    },
    {
     "name": "stdout",
     "output_type": "stream",
     "text": [
      "(11, (422, 78))\n"
     ]
    },
    {
     "name": "stderr",
     "output_type": "stream",
     "text": [
      "13it [00:14,  1.21s/it]"
     ]
    },
    {
     "name": "stdout",
     "output_type": "stream",
     "text": [
      "(12, (393, 107))\n"
     ]
    },
    {
     "name": "stderr",
     "output_type": "stream",
     "text": [
      "14it [00:15,  1.07s/it]"
     ]
    },
    {
     "name": "stdout",
     "output_type": "stream",
     "text": [
      "(13, (448, 52))\n"
     ]
    },
    {
     "name": "stderr",
     "output_type": "stream",
     "text": [
      "15it [00:17,  1.27s/it]"
     ]
    },
    {
     "name": "stdout",
     "output_type": "stream",
     "text": [
      "(14, (290, 210))\n"
     ]
    },
    {
     "name": "stderr",
     "output_type": "stream",
     "text": [
      "16it [00:19,  1.46s/it]"
     ]
    },
    {
     "name": "stdout",
     "output_type": "stream",
     "text": [
      "(15, (253, 247))\n"
     ]
    },
    {
     "name": "stderr",
     "output_type": "stream",
     "text": [
      "17it [00:21,  1.60s/it]"
     ]
    },
    {
     "name": "stdout",
     "output_type": "stream",
     "text": [
      "(16, (216, 284))\n"
     ]
    },
    {
     "name": "stderr",
     "output_type": "stream",
     "text": [
      "18it [00:21,  1.33s/it]"
     ]
    },
    {
     "name": "stdout",
     "output_type": "stream",
     "text": [
      "(17, (455, 45))\n"
     ]
    },
    {
     "name": "stderr",
     "output_type": "stream",
     "text": [
      "19it [00:22,  1.13s/it]"
     ]
    },
    {
     "name": "stdout",
     "output_type": "stream",
     "text": [
      "(18, (435, 65))\n"
     ]
    },
    {
     "name": "stderr",
     "output_type": "stream",
     "text": [
      "20it [00:23,  1.04s/it]"
     ]
    },
    {
     "name": "stdout",
     "output_type": "stream",
     "text": [
      "(19, (433, 67))\n"
     ]
    },
    {
     "name": "stderr",
     "output_type": "stream",
     "text": [
      "21it [00:24,  1.05it/s]"
     ]
    },
    {
     "name": "stdout",
     "output_type": "stream",
     "text": [
      "(20, (432, 68))\n"
     ]
    },
    {
     "name": "stderr",
     "output_type": "stream",
     "text": [
      "22it [00:24,  1.04it/s]"
     ]
    },
    {
     "name": "stdout",
     "output_type": "stream",
     "text": [
      "(21, (423, 77))\n"
     ]
    },
    {
     "name": "stderr",
     "output_type": "stream",
     "text": [
      "23it [00:25,  1.07it/s]"
     ]
    },
    {
     "name": "stdout",
     "output_type": "stream",
     "text": [
      "(22, (420, 80))\n"
     ]
    },
    {
     "name": "stderr",
     "output_type": "stream",
     "text": [
      "24it [00:26,  1.15it/s]"
     ]
    },
    {
     "name": "stdout",
     "output_type": "stream",
     "text": [
      "(23, (410, 90))\n"
     ]
    },
    {
     "name": "stderr",
     "output_type": "stream",
     "text": [
      "25it [00:27,  1.09s/it]"
     ]
    },
    {
     "name": "stdout",
     "output_type": "stream",
     "text": [
      "(24, (440, 60))\n"
     ]
    },
    {
     "name": "stderr",
     "output_type": "stream",
     "text": [
      "\n"
     ]
    }
   ],
   "source": [
    "population = Population(population_param=pop_param)\n",
    "population.initialize()\n",
    "population.proceed_x_generation(30)\n",
    "results = []\n",
    "for id, ind in tqdm(enumerate(population.selected_parents)):\n",
    "    p1 = GeneticProgrammingPlayer(ind)\n",
    "    p2 = GeneticProgrammingPlayer(Individual.generate_random_individual(random.randint(0, 1000000)))\n",
    "    result = (id, QuixoGame.get_results_over_x_games(p1,p2, 500))\n",
    "    print(f\"{result}\")"
   ],
   "metadata": {
    "collapsed": false,
    "ExecuteTime": {
     "end_time": "2024-02-18T10:11:53.562131700Z",
     "start_time": "2024-02-18T10:06:44.453994500Z"
    }
   },
   "id": "1dee8b657e1570ba"
  }
 ],
 "metadata": {
  "kernelspec": {
   "display_name": "Python 3",
   "language": "python",
   "name": "python3"
  },
  "language_info": {
   "codemirror_mode": {
    "name": "ipython",
    "version": 2
   },
   "file_extension": ".py",
   "mimetype": "text/x-python",
   "name": "python",
   "nbconvert_exporter": "python",
   "pygments_lexer": "ipython2",
   "version": "2.7.6"
  }
 },
 "nbformat": 4,
 "nbformat_minor": 5
}
