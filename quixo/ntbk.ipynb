{
 "cells": [
  {
   "cell_type": "code",
   "execution_count": 31,
   "id": "initial_id",
   "metadata": {
    "collapsed": true,
    "ExecuteTime": {
     "end_time": "2024-02-16T10:27:15.969588600Z",
     "start_time": "2024-02-16T10:27:15.957726400Z"
    }
   },
   "outputs": [],
   "source": [
    "from initializer import Initializer\n",
    "from data_bags import *\n",
    "from crossover import *\n",
    "from mutation import *\n",
    "from quixo_game import *\n",
    "import random\n",
    "from gp_player import GeneticProgrammingPlayer\n",
    "from quixo.my_random_player import MyRandomPlayer"
   ]
  },
  {
   "cell_type": "code",
   "execution_count": 32,
   "outputs": [],
   "source": [
    "init_param = InitParameters(\n",
    "    use_different_depth=True, \n",
    "    use_grow=True,\n",
    "    use_full=True, \n",
    ")\n",
    "agent_param = AgentParameters(\n",
    "    max_depth=3,\n",
    ")\n",
    "pop_param = PopulationParameters(\n",
    "    population_size=1,\n",
    "    agent_param=agent_param,\n",
    "    init_param=init_param\n",
    ")"
   ],
   "metadata": {
    "collapsed": false,
    "ExecuteTime": {
     "end_time": "2024-02-16T10:27:15.969588600Z",
     "start_time": "2024-02-16T10:27:15.961727400Z"
    }
   },
   "id": "89fdcfca2637045f"
  },
  {
   "cell_type": "code",
   "execution_count": 33,
   "outputs": [],
   "source": [
    "initializer = Initializer(pop_param)"
   ],
   "metadata": {
    "collapsed": false,
    "ExecuteTime": {
     "end_time": "2024-02-16T10:27:15.978588300Z",
     "start_time": "2024-02-16T10:27:15.967726500Z"
    }
   },
   "id": "d9deee1e81a6ee53"
  },
  {
   "cell_type": "code",
   "execution_count": 34,
   "outputs": [
    {
     "data": {
      "text/plain": "<Figure size 640x480 with 1 Axes>",
      "image/png": "[encoded data removed]"
     },
     "metadata": {},
     "output_type": "display_data"
    }
   ],
   "source": [
    "population = initializer.initialize_population()\n",
    "for i in population:\n",
    "    i.print_graph()\n",
    "individual = population[0]"
   ],
   "metadata": {
    "collapsed": false,
    "ExecuteTime": {
     "end_time": "2024-02-16T10:27:16.087363100Z",
     "start_time": "2024-02-16T10:27:15.972589Z"
    }
   },
   "id": "2d652ec13edc6f77"
  },
  {
   "cell_type": "code",
   "execution_count": 35,
   "outputs": [
    {
     "name": "stdout",
     "output_type": "stream",
     "text": [
      "[[ 1  0  0  0  0]\n",
      " [ 1  0  1  0  0]\n",
      " [ 1  1 -1 -1  0]\n",
      " [ 1 -1 -1  1  0]\n",
      " [ 0  1 -1  1  0]]\n",
      "Winner: Player 0\n",
      "Moves: 41\n",
      "Percentage of rnd move = 100.0\n"
     ]
    }
   ],
   "source": [
    "g = QuixoGame()\n",
    "# g.print()\n",
    "player1 = GeneticProgrammingPlayer(individual, enable_random_move=True, loop_avoidance_limit=2)\n",
    "player2 = MyRandomPlayer(seed=98765)\n",
    "winner = g.play(player1, player2)\n",
    "g.print()\n",
    "print(f\"Winner: Player {winner}\")\n",
    "print(f\"Moves: {g.move_count}\")\n",
    "print(f\"Percentage of rnd move = {player1.rnd_move_percentage}\")"
   ],
   "metadata": {
    "collapsed": false,
    "ExecuteTime": {
     "end_time": "2024-02-16T10:27:16.101362100Z",
     "start_time": "2024-02-16T10:27:16.084362900Z"
    }
   },
   "id": "8d705c7c23d31e14"
  },
  {
   "cell_type": "code",
   "execution_count": 36,
   "outputs": [
    {
     "name": "stdout",
     "output_type": "stream",
     "text": [
      "Game: 0\n",
      "P2 vs P1\n",
      "Wp: 1\n",
      "[[ 0  1  1  1  1]\n",
      " [ 0  1  0  1  1]\n",
      " [ 0  0 -1 -1  1]\n",
      " [ 0 -1 -1  0  1]\n",
      " [ 1  0 -1  0  1]]\n",
      "W: 0\n",
      "Game: 1\n",
      "P1 vs P2\n",
      "Wp: 0\n",
      "[[ 1  1  1  0  0]\n",
      " [ 1  1  1  1  0]\n",
      " [ 0 -1 -1 -1  0]\n",
      " [ 1 -1 -1  1  0]\n",
      " [ 1  0  1  1  0]]\n",
      "W: 0\n",
      "Game: 2\n",
      "P2 vs P1\n",
      "Wp: 0\n",
      "[[ 0  1  1  1  0]\n",
      " [ 0  1 -1  0  1]\n",
      " [ 0  1  1  1  0]\n",
      " [ 0 -1  1  0  1]\n",
      " [ 0  0  1  1  0]]\n",
      "W: 1\n",
      "Game: 3\n",
      "P1 vs P2\n",
      "Wp: 0\n",
      "[[ 0  0  0  0  0]\n",
      " [-1 -1  0  0  1]\n",
      " [ 0 -1 -1  1  1]\n",
      " [ 0  1  1  1  1]\n",
      " [ 0  0  0  1  1]]\n",
      "W: 0\n"
     ]
    },
    {
     "data": {
      "text/plain": "(3, 1)"
     },
     "execution_count": 36,
     "metadata": {},
     "output_type": "execute_result"
    }
   ],
   "source": [
    "n_games = 4\n",
    "player1 = GeneticProgrammingPlayer(individual, enable_random_move=True, loop_avoidance_limit=2)\n",
    "player2 = MyRandomPlayer(seed=98765)\n",
    "QuixoGame.get_results_over_x_games(player1, player2, n_games, change_order=True, reset_rnd_gen=False)"
   ],
   "metadata": {
    "collapsed": false,
    "ExecuteTime": {
     "end_time": "2024-02-16T10:27:16.187525300Z",
     "start_time": "2024-02-16T10:27:16.098363200Z"
    }
   },
   "id": "ffe11de2f011cb96"
  },
  {
   "cell_type": "code",
   "execution_count": 36,
   "outputs": [],
   "source": [],
   "metadata": {
    "collapsed": false,
    "ExecuteTime": {
     "end_time": "2024-02-16T10:27:16.187525300Z",
     "start_time": "2024-02-16T10:27:16.132014200Z"
    }
   },
   "id": "4dbd04ce0e776315"
  }
 ],
 "metadata": {
  "kernelspec": {
   "display_name": "Python 3",
   "language": "python",
   "name": "python3"
  },
  "language_info": {
   "codemirror_mode": {
    "name": "ipython",
    "version": 2
   },
   "file_extension": ".py",
   "mimetype": "text/x-python",
   "name": "python",
   "nbconvert_exporter": "python",
   "pygments_lexer": "ipython2",
   "version": "2.7.6"
  }
 },
 "nbformat": 4,
 "nbformat_minor": 5
}
