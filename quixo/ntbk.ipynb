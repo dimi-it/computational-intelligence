{
 "cells": [
  {
   "cell_type": "code",
   "execution_count": 1,
   "id": "initial_id",
   "metadata": {
    "collapsed": true,
    "ExecuteTime": {
     "end_time": "2024-02-15T17:43:35.972713500Z",
     "start_time": "2024-02-15T17:43:35.135526500Z"
    }
   },
   "outputs": [],
   "source": [
    "from initializer import Initializer\n",
    "from data_bags import *\n",
    "from crossover import *\n",
    "from mutation import *\n",
    "from quixo_game import *\n",
    "import random\n",
    "from gp_player import GeneticProgrammingPlayer\n",
    "from quixo.my_random_player import MyRandomPlayer"
   ]
  },
  {
   "cell_type": "code",
   "execution_count": 2,
   "outputs": [],
   "source": [
    "init_param = InitParameters(\n",
    "    use_different_depth=True, \n",
    "    use_grow=True,\n",
    "    use_full=True, \n",
    ")\n",
    "agent_param = AgentParameters(\n",
    "    max_depth=3,\n",
    ")\n",
    "pop_param = PopulationParameters(\n",
    "    population_size=1,\n",
    "    agent_param=agent_param,\n",
    "    init_param=init_param\n",
    ")"
   ],
   "metadata": {
    "collapsed": false,
    "ExecuteTime": {
     "end_time": "2024-02-15T17:43:35.976690800Z",
     "start_time": "2024-02-15T17:43:35.974691100Z"
    }
   },
   "id": "89fdcfca2637045f"
  },
  {
   "cell_type": "code",
   "execution_count": 3,
   "outputs": [],
   "source": [
    "initializer = Initializer(pop_param)"
   ],
   "metadata": {
    "collapsed": false,
    "ExecuteTime": {
     "end_time": "2024-02-15T17:43:35.982185900Z",
     "start_time": "2024-02-15T17:43:35.977695800Z"
    }
   },
   "id": "d9deee1e81a6ee53"
  },
  {
   "cell_type": "code",
   "execution_count": 4,
   "outputs": [
    {
     "data": {
      "text/plain": "<Figure size 640x480 with 1 Axes>",
      "image/png": "[encoded data removed]"
     },
     "metadata": {},
     "output_type": "display_data"
    }
   ],
   "source": [
    "population = initializer.initialize_population()\n",
    "for i in population:\n",
    "    i.print_graph()\n",
    "individual = population[0]"
   ],
   "metadata": {
    "collapsed": false,
    "ExecuteTime": {
     "end_time": "2024-02-15T17:43:36.096871800Z",
     "start_time": "2024-02-15T17:43:35.983186700Z"
    }
   },
   "id": "2d652ec13edc6f77"
  },
  {
   "cell_type": "code",
   "execution_count": 5,
   "outputs": [
    {
     "name": "stdout",
     "output_type": "stream",
     "text": [
      "AGENT => Pos: P43, Dir Top\n",
      "RANDOM => Pos: (0, 3), Dir: MoveDirection.RIGHT\n",
      "AGENT RND => Pos: (0, 1), Dir: MoveDirection.BOTTOM\n",
      "RANDOM => Pos: (4, 2), Dir: MoveDirection.BOTTOM\n",
      "AGENT => Pos: P43, Dir Top\n",
      "RANDOM => Pos: (0, 2), Dir: MoveDirection.RIGHT\n",
      "AGENT RND => Pos: (3, 4), Dir: MoveDirection.RIGHT\n",
      "RANDOM => Pos: (3, 0), Dir: MoveDirection.LEFT\n",
      "AGENT RND => Pos: (0, 2), Dir: MoveDirection.RIGHT\n",
      "RANDOM => Pos: (3, 4), Dir: MoveDirection.LEFT\n",
      "AGENT RND => Pos: (3, 0), Dir: MoveDirection.LEFT\n",
      "RANDOM => Pos: (3, 0), Dir: MoveDirection.LEFT\n",
      "AGENT RND => Pos: (3, 4), Dir: MoveDirection.LEFT\n",
      "RANDOM => Pos: (4, 3), Dir: MoveDirection.TOP\n",
      "AGENT => Pos: P43, Dir Top\n",
      "RANDOM => Pos: (0, 0), Dir: MoveDirection.BOTTOM\n",
      "AGENT => Pos: P43, Dir Top\n",
      "RANDOM => Pos: (3, 0), Dir: MoveDirection.RIGHT\n",
      "AGENT => Pos: P43, Dir Top\n",
      "RANDOM => Pos: (0, 1), Dir: MoveDirection.BOTTOM\n",
      "AGENT RND => Pos: (0, 2), Dir: MoveDirection.BOTTOM\n",
      "RANDOM => Pos: (2, 0), Dir: MoveDirection.BOTTOM\n",
      "AGENT RND => Pos: (4, 4), Dir: MoveDirection.LEFT\n",
      "RANDOM => Pos: (4, 1), Dir: MoveDirection.TOP\n",
      "AGENT RND => Pos: (0, 1), Dir: MoveDirection.TOP\n",
      "RANDOM => Pos: (0, 2), Dir: MoveDirection.BOTTOM\n",
      "AGENT RND => Pos: (3, 0), Dir: MoveDirection.RIGHT\n",
      "RANDOM => Pos: (0, 4), Dir: MoveDirection.TOP\n",
      "AGENT RND => Pos: (2, 0), Dir: MoveDirection.BOTTOM\n",
      "RANDOM => Pos: (4, 3), Dir: MoveDirection.TOP\n",
      "AGENT => Pos: P43, Dir Top\n",
      "RANDOM => Pos: (0, 0), Dir: MoveDirection.BOTTOM\n",
      "AGENT => Pos: P43, Dir Top\n",
      "RANDOM => Pos: (4, 2), Dir: MoveDirection.TOP\n",
      "AGENT => Pos: P43, Dir Top\n",
      "RANDOM => Pos: (3, 0), Dir: MoveDirection.LEFT\n",
      "AGENT => Pos: P43, Dir Top\n",
      "RANDOM => Pos: (0, 1), Dir: MoveDirection.BOTTOM\n",
      "AGENT => Pos: P43, Dir Top\n",
      "RANDOM => Pos: (0, 1), Dir: MoveDirection.TOP\n",
      "AGENT RND => Pos: (2, 0), Dir: MoveDirection.RIGHT\n",
      "RANDOM => Pos: (0, 1), Dir: MoveDirection.RIGHT\n",
      "AGENT RND => Pos: (0, 1), Dir: MoveDirection.RIGHT\n",
      "RANDOM => Pos: (0, 1), Dir: MoveDirection.RIGHT\n",
      "AGENT RND => Pos: (2, 4), Dir: MoveDirection.RIGHT\n",
      "RANDOM => Pos: (0, 4), Dir: MoveDirection.TOP\n",
      "AGENT RND => Pos: (1, 0), Dir: MoveDirection.LEFT\n",
      "RANDOM => Pos: (4, 3), Dir: MoveDirection.BOTTOM\n",
      "AGENT => Pos: P43, Dir Top\n",
      "RANDOM => Pos: (1, 0), Dir: MoveDirection.RIGHT\n",
      "AGENT => Pos: P43, Dir Top\n",
      "RANDOM => Pos: (3, 4), Dir: MoveDirection.LEFT\n",
      "AGENT RND => Pos: (4, 0), Dir: MoveDirection.BOTTOM\n",
      "RANDOM => Pos: (1, 4), Dir: MoveDirection.RIGHT\n",
      "AGENT RND => Pos: (0, 2), Dir: MoveDirection.TOP\n",
      "RANDOM => Pos: (1, 0), Dir: MoveDirection.LEFT\n",
      "AGENT RND => Pos: (2, 0), Dir: MoveDirection.RIGHT\n",
      "RANDOM => Pos: (4, 2), Dir: MoveDirection.BOTTOM\n",
      "AGENT RND => Pos: (4, 1), Dir: MoveDirection.TOP\n",
      "RANDOM => Pos: (4, 3), Dir: MoveDirection.TOP\n",
      "AGENT RND => Pos: (1, 4), Dir: MoveDirection.LEFT\n",
      "RANDOM => Pos: (4, 0), Dir: MoveDirection.LEFT\n",
      "AGENT RND => Pos: (4, 1), Dir: MoveDirection.LEFT\n",
      "RANDOM => Pos: (1, 0), Dir: MoveDirection.LEFT\n",
      "AGENT RND => Pos: (0, 1), Dir: MoveDirection.RIGHT\n",
      "RANDOM => Pos: (2, 4), Dir: MoveDirection.LEFT\n",
      "AGENT RND => Pos: (4, 2), Dir: MoveDirection.TOP\n",
      "RANDOM => Pos: (4, 3), Dir: MoveDirection.TOP\n",
      "AGENT => Pos: P43, Dir Top\n",
      "RANDOM => Pos: (4, 1), Dir: MoveDirection.TOP\n",
      "AGENT RND => Pos: (4, 1), Dir: MoveDirection.BOTTOM\n",
      "RANDOM => Pos: (4, 3), Dir: MoveDirection.TOP\n",
      "AGENT RND => Pos: (0, 1), Dir: MoveDirection.RIGHT\n",
      "RANDOM => Pos: (0, 0), Dir: MoveDirection.BOTTOM\n",
      "AGENT RND => Pos: (2, 0), Dir: MoveDirection.RIGHT\n",
      "RANDOM => Pos: (1, 0), Dir: MoveDirection.RIGHT\n",
      "AGENT RND => Pos: (3, 4), Dir: MoveDirection.TOP\n",
      "RANDOM => Pos: (3, 4), Dir: MoveDirection.TOP\n",
      "AGENT RND => Pos: (0, 0), Dir: MoveDirection.BOTTOM\n",
      "RANDOM => Pos: (0, 3), Dir: MoveDirection.TOP\n",
      "AGENT RND => Pos: (4, 2), Dir: MoveDirection.BOTTOM\n",
      "RANDOM => Pos: (3, 4), Dir: MoveDirection.LEFT\n",
      "AGENT => Pos: P43, Dir Top\n",
      "RANDOM => Pos: (3, 4), Dir: MoveDirection.TOP\n",
      "AGENT RND => Pos: (4, 2), Dir: MoveDirection.LEFT\n",
      "RANDOM => Pos: (2, 0), Dir: MoveDirection.RIGHT\n",
      "AGENT RND => Pos: (4, 2), Dir: MoveDirection.LEFT\n",
      "RANDOM => Pos: (3, 4), Dir: MoveDirection.TOP\n",
      "AGENT RND => Pos: (3, 4), Dir: MoveDirection.LEFT\n",
      "RANDOM => Pos: (2, 0), Dir: MoveDirection.LEFT\n",
      "AGENT RND => Pos: (2, 4), Dir: MoveDirection.LEFT\n",
      "RANDOM => Pos: (0, 1), Dir: MoveDirection.BOTTOM\n",
      "AGENT RND => Pos: (1, 4), Dir: MoveDirection.RIGHT\n",
      "RANDOM => Pos: (3, 0), Dir: MoveDirection.BOTTOM\n",
      "AGENT RND => Pos: (3, 0), Dir: MoveDirection.RIGHT\n",
      "RANDOM => Pos: (1, 0), Dir: MoveDirection.RIGHT\n",
      "AGENT RND => Pos: (2, 4), Dir: MoveDirection.RIGHT\n",
      "RANDOM => Pos: (0, 2), Dir: MoveDirection.RIGHT\n",
      "AGENT RND => Pos: (0, 1), Dir: MoveDirection.TOP\n",
      "RANDOM => Pos: (0, 1), Dir: MoveDirection.TOP\n",
      "AGENT RND => Pos: (0, 2), Dir: MoveDirection.TOP\n",
      "RANDOM => Pos: (2, 0), Dir: MoveDirection.RIGHT\n",
      "AGENT RND => Pos: (0, 2), Dir: MoveDirection.TOP\n",
      "RANDOM => Pos: (4, 2), Dir: MoveDirection.BOTTOM\n",
      "AGENT => Pos: P43, Dir Top\n",
      "RANDOM => Pos: (4, 2), Dir: MoveDirection.TOP\n",
      "AGENT RND => Pos: (1, 0), Dir: MoveDirection.RIGHT\n",
      "RANDOM => Pos: (4, 3), Dir: MoveDirection.BOTTOM\n",
      "AGENT RND => Pos: (0, 3), Dir: MoveDirection.BOTTOM\n",
      "RANDOM => Pos: (2, 4), Dir: MoveDirection.RIGHT\n",
      "AGENT RND => Pos: (2, 4), Dir: MoveDirection.RIGHT\n",
      "RANDOM => Pos: (4, 2), Dir: MoveDirection.LEFT\n",
      "AGENT RND => Pos: (1, 0), Dir: MoveDirection.BOTTOM\n",
      "RANDOM => Pos: (1, 0), Dir: MoveDirection.BOTTOM\n",
      "AGENT RND => Pos: (4, 0), Dir: MoveDirection.LEFT\n",
      "RANDOM => Pos: (0, 2), Dir: MoveDirection.BOTTOM\n",
      "AGENT RND => Pos: (4, 2), Dir: MoveDirection.BOTTOM\n",
      "RANDOM => Pos: (0, 2), Dir: MoveDirection.RIGHT\n",
      "AGENT => Pos: P43, Dir Top\n",
      "RANDOM => Pos: (3, 0), Dir: MoveDirection.LEFT\n",
      "AGENT RND => Pos: (2, 0), Dir: MoveDirection.LEFT\n",
      "RANDOM => Pos: (3, 4), Dir: MoveDirection.RIGHT\n",
      "AGENT RND => Pos: (0, 3), Dir: MoveDirection.RIGHT\n",
      "RANDOM => Pos: (1, 0), Dir: MoveDirection.RIGHT\n",
      "AGENT => Pos: P43, Dir Top\n",
      "RANDOM => Pos: (0, 4), Dir: MoveDirection.TOP\n",
      "AGENT => Pos: P43, Dir Top\n",
      "RANDOM => Pos: (0, 3), Dir: MoveDirection.BOTTOM\n",
      "AGENT RND => Pos: (0, 1), Dir: MoveDirection.RIGHT\n",
      "RANDOM => Pos: (2, 0), Dir: MoveDirection.RIGHT\n",
      "AGENT RND => Pos: (0, 3), Dir: MoveDirection.RIGHT\n",
      "RANDOM => Pos: (0, 3), Dir: MoveDirection.RIGHT\n",
      "AGENT RND => Pos: (0, 3), Dir: MoveDirection.BOTTOM\n",
      "RANDOM => Pos: (4, 3), Dir: MoveDirection.BOTTOM\n",
      "AGENT RND => Pos: (0, 2), Dir: MoveDirection.RIGHT\n",
      "RANDOM => Pos: (2, 4), Dir: MoveDirection.RIGHT\n",
      "AGENT RND => Pos: (2, 4), Dir: MoveDirection.RIGHT\n",
      "RANDOM => Pos: (1, 4), Dir: MoveDirection.TOP\n",
      "AGENT RND => Pos: (4, 1), Dir: MoveDirection.BOTTOM\n",
      "RANDOM => Pos: (0, 1), Dir: MoveDirection.TOP\n",
      "AGENT => Pos: P43, Dir Top\n",
      "RANDOM => Pos: (0, 0), Dir: MoveDirection.BOTTOM\n",
      "AGENT RND => Pos: (3, 0), Dir: MoveDirection.LEFT\n",
      "[[ 0  1  1  0  0]\n",
      " [ 0  0  1  0  1]\n",
      " [ 1  0  1  1  0]\n",
      " [ 0 -1  1  0  1]\n",
      " [ 1  1  1  1  0]]\n",
      "Winner: Player 1\n"
     ]
    }
   ],
   "source": [
    "g = QuixoGame()\n",
    "# g.print()\n",
    "player1 = GeneticProgrammingPlayer(individual, enable_random_move=True)\n",
    "player2 = MyRandomPlayer(seed=98765)\n",
    "winner = g.play(player1, player2)\n",
    "g.print()\n",
    "print(f\"Winner: Player {winner}\")"
   ],
   "metadata": {
    "collapsed": false,
    "ExecuteTime": {
     "end_time": "2024-02-15T17:43:36.119045400Z",
     "start_time": "2024-02-15T17:43:36.100871500Z"
    }
   },
   "id": "8d705c7c23d31e14"
  }
 ],
 "metadata": {
  "kernelspec": {
   "display_name": "Python 3",
   "language": "python",
   "name": "python3"
  },
  "language_info": {
   "codemirror_mode": {
    "name": "ipython",
    "version": 2
   },
   "file_extension": ".py",
   "mimetype": "text/x-python",
   "name": "python",
   "nbconvert_exporter": "python",
   "pygments_lexer": "ipython2",
   "version": "2.7.6"
  }
 },
 "nbformat": 4,
 "nbformat_minor": 5
}
