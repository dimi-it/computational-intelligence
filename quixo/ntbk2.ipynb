{
 "cells": [
  {
   "cell_type": "code",
   "execution_count": 1,
   "outputs": [],
   "source": [
    "import networkx as nx\n",
    "\n",
    "from initializer import Initializer\n",
    "from data_bags import *\n",
    "from crossover import *\n",
    "from mutation import *\n",
    "from quixo_game import *\n",
    "import random\n",
    "from gp_player import GeneticProgrammingPlayer\n",
    "from quixo.my_random_player import MyRandomPlayer\n",
    "from population import Population"
   ],
   "metadata": {
    "collapsed": false,
    "ExecuteTime": {
     "end_time": "2024-02-17T16:57:59.650218200Z",
     "start_time": "2024-02-17T16:57:59.081215900Z"
    }
   },
   "id": "670e6ef7855a82a2"
  },
  {
   "cell_type": "code",
   "execution_count": 2,
   "outputs": [],
   "source": [
    "init_param = InitParameters(\n",
    "    use_different_depth=True, \n",
    "    use_grow=True,\n",
    "    use_full=True, \n",
    ")\n",
    "agent_param = AgentParameters(\n",
    "    max_depth=25,\n",
    ")\n",
    "player_param = PlayerParameters(\n",
    "    enable_random_move=True,\n",
    "    loop_avoidance_limit=5\n",
    ")\n",
    "pop_param = PopulationParameters(\n",
    "    agent_param=agent_param,\n",
    "    init_param=init_param,\n",
    "    player_param=player_param,\n",
    "    population_size=50,\n",
    "    tournament_depth=4,\n",
    "    selection_size=25,\n",
    "    keep_best=True,\n",
    "    crossover_probability =.2,\n",
    "    mutation_probability =.5,\n",
    "    round_against_random=50,\n",
    ")"
   ],
   "metadata": {
    "collapsed": false,
    "ExecuteTime": {
     "end_time": "2024-02-17T16:57:59.657497500Z",
     "start_time": "2024-02-17T16:57:59.653218200Z"
    }
   },
   "id": "b227782027930e95"
  },
  {
   "cell_type": "code",
   "execution_count": 3,
   "outputs": [],
   "source": [
    "population = Population(population_param=pop_param)\n",
    "population.initialize()\n",
    "# test_individual = deepcopy(population.individuals[50])\n",
    "# for i in population.individuals:\n",
    "#     i.print_graph()"
   ],
   "metadata": {
    "collapsed": false,
    "ExecuteTime": {
     "end_time": "2024-02-17T16:58:00.301041300Z",
     "start_time": "2024-02-17T16:58:00.089401800Z"
    }
   },
   "id": "d18672cf7bcbe49e"
  },
  {
   "cell_type": "code",
   "execution_count": 4,
   "outputs": [
    {
     "name": "stdout",
     "output_type": "stream",
     "text": [
      "Generation: 0\n",
      "Individuals: 30\n",
      "Ind avg: 0.6216666666666666\n",
      "Sel avg: 0.7000000000000001\n",
      "Best fitness: 0.95\n",
      "Generation: 1\n",
      "Individuals: 30\n",
      "Ind avg: 0.6900000000000002\n",
      "Sel avg: 0.7733333333333333\n",
      "Best fitness: 0.9\n",
      "Generation: 2\n",
      "Individuals: 30\n",
      "Ind avg: 0.8066666666666665\n",
      "Sel avg: 0.8233333333333334\n",
      "Best fitness: 0.9\n",
      "Generation: 3\n",
      "Individuals: 30\n",
      "Ind avg: 0.7800000000000001\n",
      "Sel avg: 0.7666666666666665\n",
      "Best fitness: 0.95\n",
      "Generation: 4\n",
      "Individuals: 30\n",
      "Ind avg: 0.7866666666666665\n",
      "Sel avg: 0.8700000000000002\n",
      "Best fitness: 0.95\n",
      "Generation: 5\n",
      "Individuals: 30\n",
      "Ind avg: 0.9033333333333329\n",
      "Sel avg: 0.9133333333333332\n",
      "Best fitness: 1.0\n",
      "Generation: 6\n",
      "Individuals: 30\n",
      "Ind avg: 0.8816666666666664\n",
      "Sel avg: 0.8733333333333334\n",
      "Best fitness: 0.9\n",
      "Generation: 7\n",
      "Individuals: 30\n",
      "Ind avg: 0.7066666666666666\n",
      "Sel avg: 0.6633333333333336\n",
      "Best fitness: 0.9\n",
      "Generation: 8\n",
      "Individuals: 30\n",
      "Ind avg: 0.8833333333333329\n",
      "Sel avg: 0.8800000000000002\n",
      "Best fitness: 0.9\n",
      "Generation: 9\n",
      "Individuals: 30\n",
      "Ind avg: 0.8849999999999997\n",
      "Sel avg: 0.8866666666666668\n",
      "Best fitness: 0.9\n",
      "Generation: 10\n",
      "Individuals: 30\n",
      "Ind avg: 0.8433333333333337\n",
      "Sel avg: 0.8499999999999998\n",
      "Best fitness: 0.85\n",
      "Generation: 11\n",
      "Individuals: 30\n",
      "Ind avg: 0.75\n",
      "Sel avg: 0.75\n",
      "Best fitness: 0.75\n",
      "Generation: 12\n",
      "Individuals: 30\n",
      "Ind avg: 1.0\n",
      "Sel avg: 1.0\n",
      "Best fitness: 1.0\n",
      "Generation: 13\n",
      "Individuals: 30\n",
      "Ind avg: 1.0\n",
      "Sel avg: 1.0\n",
      "Best fitness: 1.0\n",
      "Generation: 14\n",
      "Individuals: 30\n",
      "Ind avg: 0.9499999999999995\n",
      "Sel avg: 0.9499999999999997\n",
      "Best fitness: 0.95\n",
      "Generation: 15\n",
      "Individuals: 30\n",
      "Ind avg: 0.8999999999999996\n",
      "Sel avg: 0.9000000000000002\n",
      "Best fitness: 0.9\n",
      "Generation: 16\n",
      "Individuals: 30\n",
      "Ind avg: 0.8999999999999996\n",
      "Sel avg: 0.9000000000000002\n",
      "Best fitness: 0.9\n",
      "Generation: 17\n",
      "Individuals: 30\n",
      "Ind avg: 0.8000000000000004\n",
      "Sel avg: 0.8000000000000002\n",
      "Best fitness: 0.8\n",
      "Generation: 18\n",
      "Individuals: 30\n",
      "Ind avg: 0.9983333333333333\n",
      "Sel avg: 0.9966666666666666\n",
      "Best fitness: 1.0\n",
      "Generation: 19\n",
      "Individuals: 30\n",
      "Ind avg: 0.9466666666666662\n",
      "Sel avg: 0.9466666666666664\n",
      "Best fitness: 0.95\n"
     ]
    }
   ],
   "source": [
    "population.proceed_x_generation(20)"
   ],
   "metadata": {
    "collapsed": false,
    "ExecuteTime": {
     "end_time": "2024-02-17T17:00:19.240118500Z",
     "start_time": "2024-02-17T16:58:01.028963100Z"
    }
   },
   "id": "cebbb1d06db836f0"
  },
  {
   "cell_type": "code",
   "execution_count": 5,
   "outputs": [],
   "source": [
    "# best = population.bests[len(population.bests) - 1]\n",
    "# best.print_graph()\n",
    "# len(best.genome.nodes)"
   ],
   "metadata": {
    "collapsed": false,
    "ExecuteTime": {
     "end_time": "2024-02-17T16:56:01.124292300Z",
     "start_time": "2024-02-17T16:56:01.119614500Z"
    }
   },
   "id": "e327695d7dd3422a"
  },
  {
   "cell_type": "code",
   "execution_count": 5,
   "outputs": [
    {
     "name": "stdout",
     "output_type": "stream",
     "text": [
      "G: 0, (817, 183)\n",
      "G: 1, (859, 141)\n",
      "G: 2, (790, 210)\n",
      "G: 3, (858, 142)\n",
      "G: 4, (758, 242)\n",
      "G: 5, (855, 145)\n",
      "G: 6, (868, 132)\n",
      "G: 7, (846, 154)\n",
      "G: 8, (874, 126)\n",
      "G: 9, (866, 134)\n",
      "G: 10, (882, 118)\n",
      "G: 11, (872, 128)\n",
      "G: 12, (861, 139)\n",
      "G: 13, (868, 132)\n",
      "G: 14, (883, 117)\n",
      "G: 15, (856, 144)\n",
      "G: 16, (852, 148)\n",
      "G: 17, (865, 135)\n",
      "G: 18, (875, 125)\n",
      "G: 19, (873, 127)\n"
     ]
    }
   ],
   "source": [
    "count = 0\n",
    "for i in population.bests:\n",
    "    p1 = GeneticProgrammingPlayer(i)\n",
    "    p2 = GeneticProgrammingPlayer(Individual.generate_random_individual(random.randint(0, 1000000)))\n",
    "    print(f\"G: {count}, {QuixoGame.get_results_over_x_games(p1, p2, 1000)}\")\n",
    "    count += 1"
   ],
   "metadata": {
    "collapsed": false,
    "ExecuteTime": {
     "end_time": "2024-02-17T17:02:36.693179500Z",
     "start_time": "2024-02-17T17:01:32.500722200Z"
    }
   },
   "id": "4c14de2e9e685006"
  },
  {
   "cell_type": "code",
   "execution_count": 6,
   "outputs": [
    {
     "name": "stdout",
     "output_type": "stream",
     "text": [
      "(871, 129)\n",
      "(852, 148)\n",
      "(868, 132)\n",
      "(865, 135)\n",
      "(879, 121)\n",
      "(865, 135)\n",
      "(860, 140)\n",
      "(855, 145)\n",
      "(879, 121)\n",
      "(859, 141)\n",
      "(838, 162)\n",
      "(871, 129)\n",
      "(879, 121)\n",
      "(863, 137)\n",
      "(869, 131)\n"
     ]
    }
   ],
   "source": [
    "for i in population._selected_parents:\n",
    "    p1 = GeneticProgrammingPlayer(i)\n",
    "    p2 = GeneticProgrammingPlayer(Individual.generate_random_individual(random.randint(0, 1000000)))\n",
    "    print(QuixoGame.get_results_over_x_games(p1,p2, 1000))"
   ],
   "metadata": {
    "collapsed": false,
    "ExecuteTime": {
     "end_time": "2024-02-17T17:03:21.689230800Z",
     "start_time": "2024-02-17T17:02:36.689160Z"
    }
   },
   "id": "e20039a7cf2d680"
  },
  {
   "cell_type": "code",
   "execution_count": 7,
   "outputs": [
    {
     "name": "stdout",
     "output_type": "stream",
     "text": [
      "8163\n",
      "8157\n",
      "8147\n",
      "8156\n",
      "8235\n",
      "8157\n",
      "8154\n",
      "8157\n",
      "8157\n",
      "8157\n",
      "8163\n",
      "8157\n",
      "8163\n",
      "8163\n",
      "8163\n"
     ]
    }
   ],
   "source": [
    "for i in population._selected_parents:\n",
    "    print(len(i.genome))"
   ],
   "metadata": {
    "collapsed": false,
    "ExecuteTime": {
     "end_time": "2024-02-17T17:03:21.689230800Z",
     "start_time": "2024-02-17T17:03:21.685528500Z"
    }
   },
   "id": "fc85309e351b9fd1"
  },
  {
   "cell_type": "code",
   "execution_count": 9,
   "outputs": [],
   "source": [
    "population.bests[14].save_to_file(\"a_883.graph\")"
   ],
   "metadata": {
    "collapsed": false,
    "ExecuteTime": {
     "end_time": "2024-02-17T17:06:48.548629300Z",
     "start_time": "2024-02-17T17:06:48.483679100Z"
    }
   },
   "id": "326d9e918036d104"
  },
  {
   "cell_type": "code",
   "execution_count": 14,
   "outputs": [
    {
     "data": {
      "text/plain": "(861, 139)"
     },
     "execution_count": 14,
     "metadata": {},
     "output_type": "execute_result"
    }
   ],
   "source": [
    "a_883 = Individual.generate_from_file(\"a_883.graph\")\n",
    "p1 = GeneticProgrammingPlayer(a_883)\n",
    "p2 = GeneticProgrammingPlayer(Individual.generate_random_individual(random.randint(0,10000000)))\n",
    "QuixoGame.get_results_over_x_games(p1, p2, 1000)"
   ],
   "metadata": {
    "collapsed": false,
    "ExecuteTime": {
     "end_time": "2024-02-17T17:10:34.413968200Z",
     "start_time": "2024-02-17T17:10:30.178889900Z"
    }
   },
   "id": "ca8340b786392d59"
  },
  {
   "cell_type": "code",
   "execution_count": 8,
   "outputs": [
    {
     "ename": "NameError",
     "evalue": "name 'best' is not defined",
     "output_type": "error",
     "traceback": [
      "\u001B[1;31m---------------------------------------------------------------------------\u001B[0m",
      "\u001B[1;31mNameError\u001B[0m                                 Traceback (most recent call last)",
      "Cell \u001B[1;32mIn[8], line 1\u001B[0m\n\u001B[1;32m----> 1\u001B[0m p1 \u001B[38;5;241m=\u001B[39m GeneticProgrammingPlayer(\u001B[43mbest\u001B[49m)\n\u001B[0;32m      2\u001B[0m p2 \u001B[38;5;241m=\u001B[39m MyRandomPlayer(seed\u001B[38;5;241m=\u001B[39mrandom\u001B[38;5;241m.\u001B[39mrandint(\u001B[38;5;241m0\u001B[39m, \u001B[38;5;241m1000000\u001B[39m))\n\u001B[0;32m      3\u001B[0m QuixoGame\u001B[38;5;241m.\u001B[39mget_results_over_x_games(p1, p2, \u001B[38;5;241m1000\u001B[39m)\n",
      "\u001B[1;31mNameError\u001B[0m: name 'best' is not defined"
     ]
    }
   ],
   "source": [
    "p1 = GeneticProgrammingPlayer(best)\n",
    "p2 = MyRandomPlayer(seed=random.randint(0, 1000000))\n",
    "QuixoGame.get_results_over_x_games(p1, p2, 1000)"
   ],
   "metadata": {
    "collapsed": false,
    "ExecuteTime": {
     "end_time": "2024-02-17T15:27:16.396818900Z",
     "start_time": "2024-02-17T15:27:16.053215200Z"
    }
   },
   "id": "18e242613b1a8d43"
  },
  {
   "cell_type": "code",
   "execution_count": null,
   "outputs": [],
   "source": [
    "p1 = GeneticProgrammingPlayer(best)\n",
    "p2 = MyRandomPlayer(seed=random.randint(0, 1000000))\n",
    "QuixoGame().play(p1, p2)\n",
    "p1.rnd_move_percentage"
   ],
   "metadata": {
    "collapsed": false,
    "ExecuteTime": {
     "start_time": "2024-02-17T15:27:16.393834600Z"
    }
   },
   "id": "d2e6ef5699129fa5"
  },
  {
   "cell_type": "code",
   "execution_count": null,
   "outputs": [],
   "source": [
    "population.bests"
   ],
   "metadata": {
    "collapsed": false,
    "ExecuteTime": {
     "start_time": "2024-02-17T15:27:16.394819700Z"
    }
   },
   "id": "bdcbd53af6369569"
  },
  {
   "cell_type": "code",
   "execution_count": null,
   "outputs": [],
   "source": [
    "population._selected_parents"
   ],
   "metadata": {
    "collapsed": false,
    "ExecuteTime": {
     "start_time": "2024-02-17T15:27:16.397822300Z"
    }
   },
   "id": "c526f510aa271dda"
  },
  {
   "cell_type": "code",
   "execution_count": null,
   "outputs": [],
   "source": [
    "population._interactive_selection(population.bests)"
   ],
   "metadata": {
    "collapsed": false,
    "ExecuteTime": {
     "start_time": "2024-02-17T15:27:16.399818700Z"
    }
   },
   "id": "658bba4a112ead02"
  },
  {
   "cell_type": "code",
   "execution_count": null,
   "outputs": [],
   "source": [
    "population._interactive_selection(population._selected_parents)"
   ],
   "metadata": {
    "collapsed": false,
    "ExecuteTime": {
     "start_time": "2024-02-17T15:27:16.402819500Z"
    }
   },
   "id": "2c34c7004c26d0dd"
  },
  {
   "cell_type": "code",
   "execution_count": null,
   "outputs": [],
   "source": [
    "for p in population._selected_parents:\n",
    "    print(p.id)\n",
    "    p1 = GeneticProgrammingPlayer(p)\n",
    "    p2 = MyRandomPlayer(seed=random.randint(0, 1000000))\n",
    "    print(QuixoGame.get_results_over_x_games(p1, p2, 1000))\n",
    "    # p.print_graph()"
   ],
   "metadata": {
    "collapsed": false,
    "ExecuteTime": {
     "start_time": "2024-02-17T15:27:16.404818400Z"
    }
   },
   "id": "559f4156669cbd55"
  },
  {
   "cell_type": "code",
   "execution_count": null,
   "outputs": [],
   "source": [
    " pop2_param = PopulationParameters(\n",
    "    agent_param=agent_param,\n",
    "    init_param=init_param,\n",
    "    player_param=player_param,\n",
    "    population_size=10,\n",
    "    tournament_depth=3,\n",
    "    selection_size=5,\n",
    "    keep_best=True,\n",
    "    crossover_probability =.8,\n",
    "    mutation_probability =.2,\n",
    "    rnd=Random(123456)\n",
    ")\n",
    "pop2 = Population(pop2_param)\n",
    "pop2.initialize()"
   ],
   "metadata": {
    "collapsed": false,
    "ExecuteTime": {
     "start_time": "2024-02-17T15:27:16.405819300Z"
    }
   },
   "id": "364c4e385afa9aeb"
  },
  {
   "cell_type": "code",
   "execution_count": null,
   "outputs": [],
   "source": [
    "pop2._fitness_selection_no_coevolution(pop2.individuals)"
   ],
   "metadata": {
    "collapsed": false,
    "ExecuteTime": {
     "start_time": "2024-02-17T15:27:16.406820200Z"
    }
   },
   "id": "970a12fd4cc54a4d"
  },
  {
   "cell_type": "code",
   "execution_count": null,
   "outputs": [],
   "source": [
    "for i in pop2.individuals:\n",
    "    p1 = GeneticProgrammingPlayer(i)\n",
    "    p2 = GeneticProgrammingPlayer(Individual.generate_random_individual(random.randint(0, 1000000)))\n",
    "    print(QuixoGame.get_results_over_x_games(p1,p2, 1000))"
   ],
   "metadata": {
    "collapsed": false,
    "ExecuteTime": {
     "end_time": "2024-02-17T15:27:16.408847Z",
     "start_time": "2024-02-17T15:27:16.407820400Z"
    }
   },
   "id": "300c8a167bf833e0"
  },
  {
   "cell_type": "code",
   "execution_count": null,
   "outputs": [],
   "source": [],
   "metadata": {
    "collapsed": false,
    "ExecuteTime": {
     "start_time": "2024-02-17T15:27:16.409844600Z"
    }
   },
   "id": "c5be2c5f15996d25"
  },
  {
   "cell_type": "code",
   "execution_count": null,
   "outputs": [],
   "source": [],
   "metadata": {
    "collapsed": false,
    "ExecuteTime": {
     "start_time": "2024-02-17T15:27:16.410844500Z"
    }
   },
   "id": "7a56342eeaa644cf"
  }
 ],
 "metadata": {
  "kernelspec": {
   "display_name": "Python 3",
   "language": "python",
   "name": "python3"
  },
  "language_info": {
   "codemirror_mode": {
    "name": "ipython",
    "version": 2
   },
   "file_extension": ".py",
   "mimetype": "text/x-python",
   "name": "python",
   "nbconvert_exporter": "python",
   "pygments_lexer": "ipython2",
   "version": "2.7.6"
  }
 },
 "nbformat": 4,
 "nbformat_minor": 5
}
