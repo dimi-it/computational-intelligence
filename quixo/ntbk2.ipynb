{
 "cells": [
  {
   "cell_type": "code",
   "execution_count": 1,
   "outputs": [],
   "source": [
    "import networkx as nx\n",
    "\n",
    "from initializer import Initializer\n",
    "from data_bags import *\n",
    "from crossover import *\n",
    "from mutation import *\n",
    "from quixo_game import *\n",
    "import random\n",
    "from gp_player import GeneticProgrammingPlayer\n",
    "from quixo.my_random_player import MyRandomPlayer\n",
    "from population import Population"
   ],
   "metadata": {
    "collapsed": false,
    "ExecuteTime": {
     "end_time": "2024-02-18T09:20:13.301969900Z",
     "start_time": "2024-02-18T09:20:12.487878400Z"
    }
   },
   "id": "670e6ef7855a82a2"
  },
  {
   "cell_type": "code",
   "execution_count": 2,
   "outputs": [],
   "source": [
    "init_param = InitParameters(\n",
    "    use_different_depth=True, \n",
    "    use_grow=True,\n",
    "    use_full=True, \n",
    ")\n",
    "agent_param = AgentParameters(\n",
    "    max_depth=25,\n",
    ")\n",
    "player_param = PlayerParameters(\n",
    "    enable_random_move=True,\n",
    "    loop_avoidance_limit=5\n",
    ")\n",
    "pop_param = PopulationParameters(\n",
    "    agent_param=agent_param,\n",
    "    init_param=init_param,\n",
    "    player_param=player_param,\n",
    "    population_size=50,\n",
    "    tournament_depth=4,\n",
    "    selection_size=25,\n",
    "    keep_best=True,\n",
    "    crossover_probability =.2,\n",
    "    mutation_probability =.4,\n",
    "    round_against_random=20,\n",
    ")"
   ],
   "metadata": {
    "collapsed": false,
    "ExecuteTime": {
     "end_time": "2024-02-18T09:20:13.316795100Z",
     "start_time": "2024-02-18T09:20:13.304969800Z"
    }
   },
   "id": "b227782027930e95"
  },
  {
   "cell_type": "code",
   "execution_count": 3,
   "outputs": [],
   "source": [
    "population = Population(population_param=pop_param)\n",
    "population.initialize()\n",
    "# test_individual = deepcopy(population.individuals[50])\n",
    "# for i in population.individuals:\n",
    "#     i.print_graph()"
   ],
   "metadata": {
    "collapsed": false,
    "ExecuteTime": {
     "end_time": "2024-02-18T09:20:13.786794200Z",
     "start_time": "2024-02-18T09:20:13.308795400Z"
    }
   },
   "id": "d18672cf7bcbe49e"
  },
  {
   "cell_type": "code",
   "execution_count": 4,
   "outputs": [
    {
     "name": "stderr",
     "output_type": "stream",
     "text": [
      "  0%|          | 0/30 [00:00<?, ?it/s]"
     ]
    },
    {
     "name": "stdout",
     "output_type": "stream",
     "text": [
      "Generation: 0\n",
      "Individuals: 50\n",
      "Ind avg: 0.5114\n",
      "Sel avg: 0.5332000000000001\n",
      "Best fitness: 0.88\n"
     ]
    },
    {
     "name": "stderr",
     "output_type": "stream",
     "text": [
      "  3%|▎         | 1/30 [00:41<20:04, 41.54s/it]"
     ]
    },
    {
     "name": "stdout",
     "output_type": "stream",
     "text": [
      "Generation: 1\n",
      "Individuals: 50\n"
     ]
    },
    {
     "name": "stderr",
     "output_type": "stream",
     "text": [
      "  3%|▎         | 1/30 [00:48<23:29, 48.59s/it]\n"
     ]
    },
    {
     "ename": "KeyboardInterrupt",
     "evalue": "",
     "output_type": "error",
     "traceback": [
      "\u001B[1;31m---------------------------------------------------------------------------\u001B[0m",
      "\u001B[1;31mKeyboardInterrupt\u001B[0m                         Traceback (most recent call last)",
      "Cell \u001B[1;32mIn[4], line 1\u001B[0m\n\u001B[1;32m----> 1\u001B[0m \u001B[43mpopulation\u001B[49m\u001B[38;5;241;43m.\u001B[39;49m\u001B[43mproceed_x_generation\u001B[49m\u001B[43m(\u001B[49m\u001B[38;5;241;43m30\u001B[39;49m\u001B[43m)\u001B[49m\n",
      "File \u001B[1;32mE:\\Documents\\Polito\\magistrale\\Computational intelligence\\computational-intelligence\\quixo\\population.py:232\u001B[0m, in \u001B[0;36mPopulation.proceed_x_generation\u001B[1;34m(self, x)\u001B[0m\n\u001B[0;32m    230\u001B[0m \u001B[38;5;28;01mdef\u001B[39;00m \u001B[38;5;21mproceed_x_generation\u001B[39m(\u001B[38;5;28mself\u001B[39m, x):\n\u001B[0;32m    231\u001B[0m     \u001B[38;5;28;01mfor\u001B[39;00m _ \u001B[38;5;129;01min\u001B[39;00m tqdm(\u001B[38;5;28mrange\u001B[39m(x)):\n\u001B[1;32m--> 232\u001B[0m         \u001B[38;5;28;43mself\u001B[39;49m\u001B[38;5;241;43m.\u001B[39;49m\u001B[43mproceed_generation\u001B[49m\u001B[43m(\u001B[49m\u001B[43m)\u001B[49m\n",
      "File \u001B[1;32mE:\\Documents\\Polito\\magistrale\\Computational intelligence\\computational-intelligence\\quixo\\population.py:222\u001B[0m, in \u001B[0;36mPopulation.proceed_generation\u001B[1;34m(self)\u001B[0m\n\u001B[0;32m    218\u001B[0m \u001B[38;5;28mprint\u001B[39m(\u001B[38;5;28mself\u001B[39m)\n\u001B[0;32m    219\u001B[0m \u001B[38;5;66;03m# self._selected_parents = self._fitnessless_selection_coevolution()\u001B[39;00m\n\u001B[0;32m    220\u001B[0m \u001B[38;5;66;03m# self._selected_parents = self._interactive_selection_against_random(self._individuals)\u001B[39;00m\n\u001B[0;32m    221\u001B[0m \u001B[38;5;66;03m# self._selected_parents = self._fitnessless_selection_coevolution(self._selected_parents)\u001B[39;00m\n\u001B[1;32m--> 222\u001B[0m \u001B[38;5;28mself\u001B[39m\u001B[38;5;241m.\u001B[39m_selected_parents \u001B[38;5;241m=\u001B[39m \u001B[38;5;28;43mself\u001B[39;49m\u001B[38;5;241;43m.\u001B[39;49m\u001B[43m_fitness_evaluation_no_coevolution\u001B[49m\u001B[43m(\u001B[49m\u001B[38;5;28;43mself\u001B[39;49m\u001B[38;5;241;43m.\u001B[39;49m\u001B[43mindividuals\u001B[49m\u001B[43m)\u001B[49m\n\u001B[0;32m    223\u001B[0m \u001B[38;5;28mself\u001B[39m\u001B[38;5;241m.\u001B[39m_set_best(\u001B[38;5;28mself\u001B[39m\u001B[38;5;241m.\u001B[39mindividuals)\n\u001B[0;32m    224\u001B[0m childs \u001B[38;5;241m=\u001B[39m \u001B[38;5;28mself\u001B[39m\u001B[38;5;241m.\u001B[39mrecombination(\u001B[38;5;28mself\u001B[39m\u001B[38;5;241m.\u001B[39m_selected_parents)\n",
      "File \u001B[1;32mE:\\Documents\\Polito\\magistrale\\Computational intelligence\\computational-intelligence\\quixo\\population.py:66\u001B[0m, in \u001B[0;36mPopulation._fitness_evaluation_no_coevolution\u001B[1;34m(self, individuals)\u001B[0m\n\u001B[0;32m     64\u001B[0m         count \u001B[38;5;241m+\u001B[39m\u001B[38;5;241m=\u001B[39m \u001B[38;5;241m1\u001B[39m\n\u001B[0;32m     65\u001B[0m \u001B[38;5;28;01melse\u001B[39;00m:\n\u001B[1;32m---> 66\u001B[0m     w \u001B[38;5;241m=\u001B[39m \u001B[38;5;28;43mself\u001B[39;49m\u001B[38;5;241;43m.\u001B[39;49m\u001B[43m_match\u001B[49m\u001B[43m(\u001B[49m\u001B[43mr\u001B[49m\u001B[43m,\u001B[49m\u001B[43m \u001B[49m\u001B[43mindividual\u001B[49m\u001B[43m)\u001B[49m\n\u001B[0;32m     67\u001B[0m     \u001B[38;5;28;01mif\u001B[39;00m w \u001B[38;5;241m==\u001B[39m \u001B[38;5;241m1\u001B[39m:\n\u001B[0;32m     68\u001B[0m         count \u001B[38;5;241m+\u001B[39m\u001B[38;5;241m=\u001B[39m \u001B[38;5;241m1\u001B[39m\n",
      "File \u001B[1;32mE:\\Documents\\Polito\\magistrale\\Computational intelligence\\computational-intelligence\\quixo\\population.py:162\u001B[0m, in \u001B[0;36mPopulation._match\u001B[1;34m(self, i1, i2)\u001B[0m\n\u001B[0;32m    158\u001B[0m p1 \u001B[38;5;241m=\u001B[39m GeneticProgrammingPlayer(i1, enable_random_move\u001B[38;5;241m=\u001B[39m\u001B[38;5;28mself\u001B[39m\u001B[38;5;241m.\u001B[39m_population_param\u001B[38;5;241m.\u001B[39mplayer_param\u001B[38;5;241m.\u001B[39menable_random_move,\n\u001B[0;32m    159\u001B[0m                               loop_avoidance_limit\u001B[38;5;241m=\u001B[39m\u001B[38;5;28mself\u001B[39m\u001B[38;5;241m.\u001B[39m_population_param\u001B[38;5;241m.\u001B[39mplayer_param\u001B[38;5;241m.\u001B[39mloop_avoidance_limit)\n\u001B[0;32m    160\u001B[0m p2 \u001B[38;5;241m=\u001B[39m GeneticProgrammingPlayer(i2, enable_random_move\u001B[38;5;241m=\u001B[39m\u001B[38;5;28mself\u001B[39m\u001B[38;5;241m.\u001B[39m_population_param\u001B[38;5;241m.\u001B[39mplayer_param\u001B[38;5;241m.\u001B[39menable_random_move,\n\u001B[0;32m    161\u001B[0m                               loop_avoidance_limit\u001B[38;5;241m=\u001B[39m\u001B[38;5;28mself\u001B[39m\u001B[38;5;241m.\u001B[39m_population_param\u001B[38;5;241m.\u001B[39mplayer_param\u001B[38;5;241m.\u001B[39mloop_avoidance_limit)\n\u001B[1;32m--> 162\u001B[0m \u001B[38;5;28;01mreturn\u001B[39;00m \u001B[43mPopulation\u001B[49m\u001B[38;5;241;43m.\u001B[39;49m\u001B[43m_match_players\u001B[49m\u001B[43m(\u001B[49m\u001B[43mp1\u001B[49m\u001B[43m,\u001B[49m\u001B[43m \u001B[49m\u001B[43mp2\u001B[49m\u001B[43m)\u001B[49m\n",
      "File \u001B[1;32mE:\\Documents\\Polito\\magistrale\\Computational intelligence\\computational-intelligence\\quixo\\population.py:177\u001B[0m, in \u001B[0;36mPopulation._match_players\u001B[1;34m(p1, p2)\u001B[0m\n\u001B[0;32m    174\u001B[0m \u001B[38;5;129m@staticmethod\u001B[39m\n\u001B[0;32m    175\u001B[0m \u001B[38;5;28;01mdef\u001B[39;00m \u001B[38;5;21m_match_players\u001B[39m(p1: Player, p2: Player) \u001B[38;5;241m-\u001B[39m\u001B[38;5;241m>\u001B[39m \u001B[38;5;28mint\u001B[39m:\n\u001B[0;32m    176\u001B[0m     game \u001B[38;5;241m=\u001B[39m QuixoGame()\n\u001B[1;32m--> 177\u001B[0m     w \u001B[38;5;241m=\u001B[39m \u001B[43mgame\u001B[49m\u001B[38;5;241;43m.\u001B[39;49m\u001B[43mplay\u001B[49m\u001B[43m(\u001B[49m\u001B[43mp1\u001B[49m\u001B[43m,\u001B[49m\u001B[43m \u001B[49m\u001B[43mp2\u001B[49m\u001B[43m)\u001B[49m\n\u001B[0;32m    178\u001B[0m     \u001B[38;5;66;03m# print(f\"p1{repr(p1.brain)}, p2{repr(p2.brain)}\")\u001B[39;00m\n\u001B[0;32m    179\u001B[0m     \u001B[38;5;66;03m# print(f\"W: {w}\")\u001B[39;00m\n\u001B[0;32m    180\u001B[0m     \u001B[38;5;28;01mreturn\u001B[39;00m w\n",
      "File \u001B[1;32mE:\\Documents\\Polito\\magistrale\\Computational intelligence\\computational-intelligence\\quixo\\quixo_game.py:135\u001B[0m, in \u001B[0;36mQuixoGame.play\u001B[1;34m(self, player1, player2)\u001B[0m\n\u001B[0;32m    132\u001B[0m \u001B[38;5;28mself\u001B[39m\u001B[38;5;241m.\u001B[39mcurrent_player_idx \u001B[38;5;241m+\u001B[39m\u001B[38;5;241m=\u001B[39m \u001B[38;5;241m1\u001B[39m\n\u001B[0;32m    133\u001B[0m \u001B[38;5;28mself\u001B[39m\u001B[38;5;241m.\u001B[39mcurrent_player_idx \u001B[38;5;241m%\u001B[39m\u001B[38;5;241m=\u001B[39m \u001B[38;5;28mlen\u001B[39m(players)\n\u001B[1;32m--> 135\u001B[0m from_pos, slide \u001B[38;5;241m=\u001B[39m \u001B[43mplayers\u001B[49m\u001B[43m[\u001B[49m\u001B[38;5;28;43mself\u001B[39;49m\u001B[38;5;241;43m.\u001B[39;49m\u001B[43mcurrent_player_idx\u001B[49m\u001B[43m]\u001B[49m\u001B[38;5;241;43m.\u001B[39;49m\u001B[43mmake_move\u001B[49m\u001B[43m(\u001B[49m\u001B[38;5;28;43mself\u001B[39;49m\u001B[43m)\u001B[49m\n\u001B[0;32m    136\u001B[0m \u001B[38;5;28mself\u001B[39m\u001B[38;5;241m.\u001B[39m__move(from_pos, slide, \u001B[38;5;28mself\u001B[39m\u001B[38;5;241m.\u001B[39mcurrent_player_idx)\n\u001B[0;32m    137\u001B[0m \u001B[38;5;28mself\u001B[39m\u001B[38;5;241m.\u001B[39m_move_count \u001B[38;5;241m+\u001B[39m\u001B[38;5;241m=\u001B[39m \u001B[38;5;241m1\u001B[39m\n",
      "File \u001B[1;32mE:\\Documents\\Polito\\magistrale\\Computational intelligence\\computational-intelligence\\quixo\\gp_player.py:92\u001B[0m, in \u001B[0;36mGeneticProgrammingPlayer.make_move\u001B[1;34m(self, game)\u001B[0m\n\u001B[0;32m     90\u001B[0m     move \u001B[38;5;241m=\u001B[39m \u001B[38;5;28;01mNone\u001B[39;00m\n\u001B[0;32m     91\u001B[0m \u001B[38;5;28;01melse\u001B[39;00m:\n\u001B[1;32m---> 92\u001B[0m     _, move \u001B[38;5;241m=\u001B[39m \u001B[38;5;28;43mself\u001B[39;49m\u001B[38;5;241;43m.\u001B[39;49m\u001B[43m_make_move_recursive\u001B[49m\u001B[43m(\u001B[49m\u001B[38;5;28;43mlist\u001B[39;49m\u001B[43m(\u001B[49m\u001B[38;5;28;43mself\u001B[39;49m\u001B[38;5;241;43m.\u001B[39;49m\u001B[43m_brain\u001B[49m\u001B[38;5;241;43m.\u001B[39;49m\u001B[43mgenome\u001B[49m\u001B[38;5;241;43m.\u001B[39;49m\u001B[43mnodes\u001B[49m\u001B[43m)\u001B[49m\u001B[43m[\u001B[49m\u001B[38;5;241;43m0\u001B[39;49m\u001B[43m]\u001B[49m\u001B[43m,\u001B[49m\u001B[43m \u001B[49m\u001B[43mgame\u001B[49m\u001B[43m)\u001B[49m\n\u001B[0;32m     93\u001B[0m \u001B[38;5;28;01mif\u001B[39;00m move \u001B[38;5;129;01mis\u001B[39;00m \u001B[38;5;28;01mNone\u001B[39;00m:\n\u001B[0;32m     94\u001B[0m     \u001B[38;5;66;03m# print(\"Damn, no doable move found \")\u001B[39;00m\n\u001B[0;32m     95\u001B[0m     \u001B[38;5;28;01massert\u001B[39;00m \u001B[38;5;28mself\u001B[39m\u001B[38;5;241m.\u001B[39m_enable_random_move, \u001B[38;5;124m\"\u001B[39m\u001B[38;5;124mRandom move not enabled, no move available\u001B[39m\u001B[38;5;124m\"\u001B[39m\n",
      "File \u001B[1;32mE:\\Documents\\Polito\\magistrale\\Computational intelligence\\computational-intelligence\\quixo\\gp_player.py:65\u001B[0m, in \u001B[0;36mGeneticProgrammingPlayer._make_move_recursive\u001B[1;34m(self, node, game)\u001B[0m\n\u001B[0;32m     63\u001B[0m descendants_results \u001B[38;5;241m=\u001B[39m []\n\u001B[0;32m     64\u001B[0m \u001B[38;5;28;01mfor\u001B[39;00m d \u001B[38;5;129;01min\u001B[39;00m descendant:\n\u001B[1;32m---> 65\u001B[0m     res, move \u001B[38;5;241m=\u001B[39m \u001B[38;5;28;43mself\u001B[39;49m\u001B[38;5;241;43m.\u001B[39;49m\u001B[43m_make_move_recursive\u001B[49m\u001B[43m(\u001B[49m\u001B[43md\u001B[49m\u001B[43m,\u001B[49m\u001B[43m \u001B[49m\u001B[43mgame\u001B[49m\u001B[43m)\u001B[49m\n\u001B[0;32m     66\u001B[0m     \u001B[38;5;28;01mif\u001B[39;00m move \u001B[38;5;129;01mis\u001B[39;00m \u001B[38;5;129;01mnot\u001B[39;00m \u001B[38;5;28;01mNone\u001B[39;00m:\n\u001B[0;32m     67\u001B[0m         \u001B[38;5;28;01mreturn\u001B[39;00m res, move\n",
      "File \u001B[1;32mE:\\Documents\\Polito\\magistrale\\Computational intelligence\\computational-intelligence\\quixo\\gp_player.py:65\u001B[0m, in \u001B[0;36mGeneticProgrammingPlayer._make_move_recursive\u001B[1;34m(self, node, game)\u001B[0m\n\u001B[0;32m     63\u001B[0m descendants_results \u001B[38;5;241m=\u001B[39m []\n\u001B[0;32m     64\u001B[0m \u001B[38;5;28;01mfor\u001B[39;00m d \u001B[38;5;129;01min\u001B[39;00m descendant:\n\u001B[1;32m---> 65\u001B[0m     res, move \u001B[38;5;241m=\u001B[39m \u001B[38;5;28;43mself\u001B[39;49m\u001B[38;5;241;43m.\u001B[39;49m\u001B[43m_make_move_recursive\u001B[49m\u001B[43m(\u001B[49m\u001B[43md\u001B[49m\u001B[43m,\u001B[49m\u001B[43m \u001B[49m\u001B[43mgame\u001B[49m\u001B[43m)\u001B[49m\n\u001B[0;32m     66\u001B[0m     \u001B[38;5;28;01mif\u001B[39;00m move \u001B[38;5;129;01mis\u001B[39;00m \u001B[38;5;129;01mnot\u001B[39;00m \u001B[38;5;28;01mNone\u001B[39;00m:\n\u001B[0;32m     67\u001B[0m         \u001B[38;5;28;01mreturn\u001B[39;00m res, move\n",
      "    \u001B[1;31m[... skipping similar frames: GeneticProgrammingPlayer._make_move_recursive at line 65 (3 times)]\u001B[0m\n",
      "File \u001B[1;32mE:\\Documents\\Polito\\magistrale\\Computational intelligence\\computational-intelligence\\quixo\\gp_player.py:65\u001B[0m, in \u001B[0;36mGeneticProgrammingPlayer._make_move_recursive\u001B[1;34m(self, node, game)\u001B[0m\n\u001B[0;32m     63\u001B[0m descendants_results \u001B[38;5;241m=\u001B[39m []\n\u001B[0;32m     64\u001B[0m \u001B[38;5;28;01mfor\u001B[39;00m d \u001B[38;5;129;01min\u001B[39;00m descendant:\n\u001B[1;32m---> 65\u001B[0m     res, move \u001B[38;5;241m=\u001B[39m \u001B[38;5;28;43mself\u001B[39;49m\u001B[38;5;241;43m.\u001B[39;49m\u001B[43m_make_move_recursive\u001B[49m\u001B[43m(\u001B[49m\u001B[43md\u001B[49m\u001B[43m,\u001B[49m\u001B[43m \u001B[49m\u001B[43mgame\u001B[49m\u001B[43m)\u001B[49m\n\u001B[0;32m     66\u001B[0m     \u001B[38;5;28;01mif\u001B[39;00m move \u001B[38;5;129;01mis\u001B[39;00m \u001B[38;5;129;01mnot\u001B[39;00m \u001B[38;5;28;01mNone\u001B[39;00m:\n\u001B[0;32m     67\u001B[0m         \u001B[38;5;28;01mreturn\u001B[39;00m res, move\n",
      "File \u001B[1;32mE:\\Documents\\Polito\\magistrale\\Computational intelligence\\computational-intelligence\\quixo\\gp_player.py:59\u001B[0m, in \u001B[0;36mGeneticProgrammingPlayer._make_move_recursive\u001B[1;34m(self, node, game)\u001B[0m\n\u001B[0;32m     58\u001B[0m \u001B[38;5;28;01mdef\u001B[39;00m \u001B[38;5;21m_make_move_recursive\u001B[39m(\u001B[38;5;28mself\u001B[39m, node: Node, game: QuixoGame) \u001B[38;5;241m-\u001B[39m\u001B[38;5;241m>\u001B[39m \u001B[38;5;28mtuple\u001B[39m[ValuePoint, Optional[MyMove]]:\n\u001B[1;32m---> 59\u001B[0m     \u001B[38;5;28;01mif\u001B[39;00m \u001B[43mnode\u001B[49m\u001B[38;5;241;43m.\u001B[39;49m\u001B[43mis_terminal\u001B[49m:\n\u001B[0;32m     60\u001B[0m         \u001B[38;5;28;01mreturn\u001B[39;00m node\u001B[38;5;241m.\u001B[39mvalue_point, \u001B[38;5;28;01mNone\u001B[39;00m\n\u001B[0;32m     62\u001B[0m     descendant: List[Node] \u001B[38;5;241m=\u001B[39m [v \u001B[38;5;28;01mfor\u001B[39;00m u,v \u001B[38;5;129;01min\u001B[39;00m \u001B[38;5;28mself\u001B[39m\u001B[38;5;241m.\u001B[39m_brain\u001B[38;5;241m.\u001B[39mgenome\u001B[38;5;241m.\u001B[39mout_edges(node)]\n",
      "File \u001B[1;32mE:\\Documents\\Polito\\magistrale\\Computational intelligence\\computational-intelligence\\quixo\\node.py:28\u001B[0m, in \u001B[0;36mNode.is_terminal\u001B[1;34m(self)\u001B[0m\n\u001B[0;32m     23\u001B[0m \u001B[38;5;129m@id\u001B[39m\u001B[38;5;241m.\u001B[39msetter\n\u001B[0;32m     24\u001B[0m \u001B[38;5;28;01mdef\u001B[39;00m \u001B[38;5;21mid\u001B[39m(\u001B[38;5;28mself\u001B[39m, \u001B[38;5;28mid\u001B[39m: \u001B[38;5;28mint\u001B[39m):\n\u001B[0;32m     25\u001B[0m     \u001B[38;5;28mself\u001B[39m\u001B[38;5;241m.\u001B[39m_id \u001B[38;5;241m=\u001B[39m \u001B[38;5;28mid\u001B[39m\n\u001B[1;32m---> 28\u001B[0m \u001B[38;5;129m@property\u001B[39m\n\u001B[0;32m     29\u001B[0m \u001B[38;5;28;01mdef\u001B[39;00m \u001B[38;5;21mis_terminal\u001B[39m(\u001B[38;5;28mself\u001B[39m) \u001B[38;5;241m-\u001B[39m\u001B[38;5;241m>\u001B[39m \u001B[38;5;28mbool\u001B[39m:\n\u001B[0;32m     30\u001B[0m     \u001B[38;5;28;01mreturn\u001B[39;00m \u001B[38;5;28mself\u001B[39m\u001B[38;5;241m.\u001B[39m_is_terminal\n\u001B[0;32m     32\u001B[0m \u001B[38;5;129m@property\u001B[39m\n\u001B[0;32m     33\u001B[0m \u001B[38;5;28;01mdef\u001B[39;00m \u001B[38;5;21mis_function\u001B[39m(\u001B[38;5;28mself\u001B[39m) \u001B[38;5;241m-\u001B[39m\u001B[38;5;241m>\u001B[39m \u001B[38;5;28mbool\u001B[39m:\n",
      "\u001B[1;31mKeyboardInterrupt\u001B[0m: "
     ]
    }
   ],
   "source": [
    "population.proceed_x_generation(20)"
   ],
   "metadata": {
    "collapsed": false,
    "ExecuteTime": {
     "end_time": "2024-02-18T09:21:03.005157600Z",
     "start_time": "2024-02-18T09:20:13.786794200Z"
    }
   },
   "id": "cebbb1d06db836f0"
  },
  {
   "cell_type": "code",
   "execution_count": null,
   "outputs": [],
   "source": [
    "count = 0\n",
    "for i in population.bests:\n",
    "    p1 = GeneticProgrammingPlayer(i)\n",
    "    p2 = GeneticProgrammingPlayer(Individual.generate_random_individual(random.randint(0, 1000000)))\n",
    "    print(f\"G: {count}, {QuixoGame.get_results_over_x_games(p1, p2, 1000)}\")\n",
    "    count += 1"
   ],
   "metadata": {
    "collapsed": false,
    "ExecuteTime": {
     "end_time": "2024-02-18T09:21:03.012137400Z",
     "start_time": "2024-02-18T09:21:03.007137700Z"
    }
   },
   "id": "4c14de2e9e685006"
  },
  {
   "cell_type": "code",
   "execution_count": null,
   "outputs": [],
   "source": [
    "for i in population._selected_parents:\n",
    "    p1 = GeneticProgrammingPlayer(i)\n",
    "    p2 = GeneticProgrammingPlayer(Individual.generate_random_individual(random.randint(0, 1000000)))\n",
    "    print(QuixoGame.get_results_over_x_games(p1,p2, 1000))"
   ],
   "metadata": {
    "collapsed": false,
    "ExecuteTime": {
     "start_time": "2024-02-18T09:21:03.009139200Z"
    }
   },
   "id": "e20039a7cf2d680"
  },
  {
   "cell_type": "code",
   "execution_count": null,
   "outputs": [],
   "source": [
    "for i in population._selected_parents:\n",
    "    print(len(i.genome))"
   ],
   "metadata": {
    "collapsed": false,
    "ExecuteTime": {
     "start_time": "2024-02-18T09:21:03.011138Z"
    }
   },
   "id": "fc85309e351b9fd1"
  },
  {
   "cell_type": "code",
   "execution_count": null,
   "outputs": [],
   "source": [
    "population._selected_parents[8].save_to_file(\"a_931.graph\")"
   ],
   "metadata": {
    "collapsed": false,
    "ExecuteTime": {
     "start_time": "2024-02-18T09:21:03.013138900Z"
    }
   },
   "id": "326d9e918036d104"
  },
  {
   "cell_type": "code",
   "execution_count": null,
   "outputs": [],
   "source": [
    "a_883 = Individual.generate_from_file(\"a_931.graph\")\n",
    "p1 = GeneticProgrammingPlayer(a_883)\n",
    "p2 = GeneticProgrammingPlayer(Individual.generate_random_individual(random.randint(0,10000000)))\n",
    "QuixoGame.get_results_over_x_games(p1, p2, 1000)"
   ],
   "metadata": {
    "collapsed": false,
    "ExecuteTime": {
     "start_time": "2024-02-18T09:21:03.015138800Z"
    }
   },
   "id": "ca8340b786392d59"
  },
  {
   "cell_type": "code",
   "execution_count": null,
   "outputs": [],
   "source": [
    "p1 = GeneticProgrammingPlayer(best)\n",
    "p2 = MyRandomPlayer(seed=random.randint(0, 1000000))\n",
    "QuixoGame.get_results_over_x_games(p1, p2, 1000)"
   ],
   "metadata": {
    "collapsed": false,
    "ExecuteTime": {
     "start_time": "2024-02-18T09:21:03.017139500Z"
    }
   },
   "id": "18e242613b1a8d43"
  },
  {
   "cell_type": "code",
   "execution_count": null,
   "outputs": [],
   "source": [
    "p1 = GeneticProgrammingPlayer(best)\n",
    "p2 = MyRandomPlayer(seed=random.randint(0, 1000000))\n",
    "QuixoGame().play(p1, p2)\n",
    "p1.rnd_move_percentage"
   ],
   "metadata": {
    "collapsed": false,
    "ExecuteTime": {
     "start_time": "2024-02-18T09:21:03.019140800Z"
    }
   },
   "id": "d2e6ef5699129fa5"
  },
  {
   "cell_type": "code",
   "execution_count": null,
   "outputs": [],
   "source": [
    "population.bests"
   ],
   "metadata": {
    "collapsed": false,
    "ExecuteTime": {
     "start_time": "2024-02-18T09:21:03.021141200Z"
    }
   },
   "id": "bdcbd53af6369569"
  },
  {
   "cell_type": "code",
   "execution_count": null,
   "outputs": [],
   "source": [
    "population._selected_parents"
   ],
   "metadata": {
    "collapsed": false,
    "ExecuteTime": {
     "start_time": "2024-02-18T09:21:03.023141800Z"
    }
   },
   "id": "c526f510aa271dda"
  },
  {
   "cell_type": "code",
   "execution_count": null,
   "outputs": [],
   "source": [
    "population._interactive_selection(population.bests)"
   ],
   "metadata": {
    "collapsed": false,
    "ExecuteTime": {
     "start_time": "2024-02-18T09:21:03.025163400Z"
    }
   },
   "id": "658bba4a112ead02"
  },
  {
   "cell_type": "code",
   "execution_count": null,
   "outputs": [],
   "source": [
    "population._interactive_selection(population._selected_parents)"
   ],
   "metadata": {
    "collapsed": false,
    "ExecuteTime": {
     "start_time": "2024-02-18T09:21:03.026169900Z"
    }
   },
   "id": "2c34c7004c26d0dd"
  },
  {
   "cell_type": "code",
   "execution_count": null,
   "outputs": [],
   "source": [
    "for p in population._selected_parents:\n",
    "    print(p.id)\n",
    "    p1 = GeneticProgrammingPlayer(p)\n",
    "    p2 = MyRandomPlayer(seed=random.randint(0, 1000000))\n",
    "    print(QuixoGame.get_results_over_x_games(p1, p2, 1000))\n",
    "    # p.print_graph()"
   ],
   "metadata": {
    "collapsed": false,
    "ExecuteTime": {
     "start_time": "2024-02-18T09:21:03.028163Z"
    }
   },
   "id": "559f4156669cbd55"
  },
  {
   "cell_type": "code",
   "execution_count": null,
   "outputs": [],
   "source": [
    " pop2_param = PopulationParameters(\n",
    "    agent_param=agent_param,\n",
    "    init_param=init_param,\n",
    "    player_param=player_param,\n",
    "    population_size=10,\n",
    "    tournament_depth=3,\n",
    "    selection_size=5,\n",
    "    keep_best=True,\n",
    "    crossover_probability =.8,\n",
    "    mutation_probability =.2,\n",
    "    rnd=Random(123456)\n",
    ")\n",
    "pop2 = Population(pop2_param)\n",
    "pop2.initialize()"
   ],
   "metadata": {
    "collapsed": false,
    "ExecuteTime": {
     "start_time": "2024-02-18T09:21:03.029162800Z"
    }
   },
   "id": "364c4e385afa9aeb"
  },
  {
   "cell_type": "code",
   "execution_count": null,
   "outputs": [],
   "source": [
    "pop2._fitness_selection_no_coevolution(pop2.individuals)"
   ],
   "metadata": {
    "collapsed": false,
    "ExecuteTime": {
     "start_time": "2024-02-18T09:21:03.030139700Z"
    }
   },
   "id": "970a12fd4cc54a4d"
  },
  {
   "cell_type": "code",
   "execution_count": null,
   "outputs": [],
   "source": [
    "for i in pop2.individuals:\n",
    "    p1 = GeneticProgrammingPlayer(i)\n",
    "    p2 = GeneticProgrammingPlayer(Individual.generate_random_individual(random.randint(0, 1000000)))\n",
    "    print(QuixoGame.get_results_over_x_games(p1,p2, 1000))"
   ],
   "metadata": {
    "collapsed": false,
    "ExecuteTime": {
     "start_time": "2024-02-18T09:21:03.032139400Z"
    }
   },
   "id": "300c8a167bf833e0"
  },
  {
   "cell_type": "code",
   "execution_count": null,
   "outputs": [],
   "source": [],
   "metadata": {
    "collapsed": false,
    "ExecuteTime": {
     "start_time": "2024-02-18T09:21:03.033138500Z"
    }
   },
   "id": "c5be2c5f15996d25"
  },
  {
   "cell_type": "code",
   "execution_count": null,
   "outputs": [],
   "source": [],
   "metadata": {
    "collapsed": false,
    "ExecuteTime": {
     "start_time": "2024-02-18T09:21:03.035138300Z"
    }
   },
   "id": "7a56342eeaa644cf"
  }
 ],
 "metadata": {
  "kernelspec": {
   "display_name": "Python 3",
   "language": "python",
   "name": "python3"
  },
  "language_info": {
   "codemirror_mode": {
    "name": "ipython",
    "version": 2
   },
   "file_extension": ".py",
   "mimetype": "text/x-python",
   "name": "python",
   "nbconvert_exporter": "python",
   "pygments_lexer": "ipython2",
   "version": "2.7.6"
  }
 },
 "nbformat": 4,
 "nbformat_minor": 5
}
