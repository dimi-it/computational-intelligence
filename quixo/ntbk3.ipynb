{
 "cells": [
  {
   "cell_type": "code",
   "execution_count": 1,
   "id": "initial_id",
   "metadata": {
    "collapsed": true,
    "ExecuteTime": {
     "end_time": "2024-02-18T15:43:26.082679700Z",
     "start_time": "2024-02-18T15:43:25.536243500Z"
    }
   },
   "outputs": [],
   "source": [
    "import networkx as nx\n",
    "from tqdm import tqdm\n",
    "\n",
    "from initializer import Initializer\n",
    "from data_bags import *\n",
    "from crossover import *\n",
    "from mutation import *\n",
    "from quixo_game import *\n",
    "import random\n",
    "from gp_player import GeneticProgrammingPlayer\n",
    "from quixo.my_random_player import MyRandomPlayer\n",
    "from population import Population\n",
    "\n",
    "\n",
    "init_param = InitParameters(\n",
    "    use_different_depth=True, \n",
    "    use_grow=True,\n",
    "    use_full=True, \n",
    ")\n",
    "agent_param = AgentParameters(\n",
    "    max_depth=25,\n",
    ")\n",
    "player_param = PlayerParameters(\n",
    "    enable_random_move=True,\n",
    "    loop_avoidance_limit=5\n",
    ")\n",
    "pop_param = PopulationParameters(\n",
    "    agent_param=agent_param,\n",
    "    init_param=init_param,\n",
    "    player_param=player_param,\n",
    "    population_size=50,\n",
    "    tournament_depth=4,\n",
    "    selection_size=25,\n",
    "    keep_best=True,\n",
    "    crossover_probability =.2,\n",
    "    mutation_probability =.4,\n",
    "    round_against_random=30,\n",
    ")\n"
   ]
  },
  {
   "cell_type": "code",
   "execution_count": 2,
   "outputs": [
    {
     "name": "stderr",
     "output_type": "stream",
     "text": [
      "  0%|          | 0/1 [00:00<?, ?it/s]\n",
      "  0%|          | 0/500 [00:00<?, ?it/s]\u001B[A"
     ]
    },
    {
     "name": "stdout",
     "output_type": "stream",
     "text": [
      "Generation: 0\n",
      "Individuals: 50\n",
      "Ind avg: 0.534\n",
      "Sel avg: 0.6653333333333334\n",
      "Best fitness: 0.9666666666666667\n"
     ]
    },
    {
     "name": "stderr",
     "output_type": "stream",
     "text": [
      "\n",
      "  0%|          | 1/500 [00:08<1:14:36,  8.97s/it]\u001B[A"
     ]
    },
    {
     "name": "stdout",
     "output_type": "stream",
     "text": [
      "Generation: 1\n",
      "Individuals: 50\n",
      "Ind avg: 0.5946666666666666\n",
      "Sel avg: 0.684\n",
      "Best fitness: 0.9666666666666667\n"
     ]
    },
    {
     "name": "stderr",
     "output_type": "stream",
     "text": [
      "\n",
      "  0%|          | 2/500 [00:19<1:21:34,  9.83s/it]\u001B[A"
     ]
    },
    {
     "name": "stdout",
     "output_type": "stream",
     "text": [
      "Generation: 2\n",
      "Individuals: 50\n",
      "Ind avg: 0.5986666666666667\n",
      "Sel avg: 0.7040000000000001\n",
      "Best fitness: 0.9333333333333333\n"
     ]
    },
    {
     "name": "stderr",
     "output_type": "stream",
     "text": [
      "\n",
      "  1%|          | 3/500 [00:29<1:21:19,  9.82s/it]\u001B[A"
     ]
    },
    {
     "name": "stdout",
     "output_type": "stream",
     "text": [
      "Generation: 3\n",
      "Individuals: 50\n",
      "Ind avg: 0.6626666666666664\n",
      "Sel avg: 0.7293333333333331\n",
      "Best fitness: 0.9666666666666667\n"
     ]
    },
    {
     "name": "stderr",
     "output_type": "stream",
     "text": [
      "\n",
      "  1%|          | 4/500 [00:39<1:23:02, 10.05s/it]\u001B[A"
     ]
    },
    {
     "name": "stdout",
     "output_type": "stream",
     "text": [
      "Generation: 4\n",
      "Individuals: 50\n",
      "Ind avg: 0.7006666666666663\n",
      "Sel avg: 0.7413333333333334\n",
      "Best fitness: 0.9\n"
     ]
    },
    {
     "name": "stderr",
     "output_type": "stream",
     "text": [
      "\n",
      "  1%|          | 5/500 [00:51<1:29:13, 10.82s/it]\u001B[A"
     ]
    },
    {
     "name": "stdout",
     "output_type": "stream",
     "text": [
      "Generation: 5\n",
      "Individuals: 50\n",
      "Ind avg: 0.6279999999999999\n",
      "Sel avg: 0.7000000000000002\n",
      "Best fitness: 0.7666666666666667\n"
     ]
    },
    {
     "name": "stderr",
     "output_type": "stream",
     "text": [
      "\n",
      "  1%|          | 6/500 [01:01<1:26:10, 10.47s/it]\u001B[A"
     ]
    },
    {
     "name": "stdout",
     "output_type": "stream",
     "text": [
      "Generation: 6\n",
      "Individuals: 50\n",
      "Ind avg: 0.736\n",
      "Sel avg: 0.7733333333333333\n",
      "Best fitness: 0.9333333333333333\n"
     ]
    },
    {
     "name": "stderr",
     "output_type": "stream",
     "text": [
      "\n",
      "  1%|▏         | 7/500 [01:08<1:17:39,  9.45s/it]\u001B[A"
     ]
    },
    {
     "name": "stdout",
     "output_type": "stream",
     "text": [
      "Generation: 7\n",
      "Individuals: 50\n",
      "Ind avg: 0.8666666666666658\n",
      "Sel avg: 0.8799999999999997\n",
      "Best fitness: 0.9333333333333333\n"
     ]
    },
    {
     "name": "stderr",
     "output_type": "stream",
     "text": [
      "\n",
      "  2%|▏         | 8/500 [01:14<1:07:36,  8.25s/it]\u001B[A"
     ]
    },
    {
     "name": "stdout",
     "output_type": "stream",
     "text": [
      "Generation: 8\n",
      "Individuals: 50\n",
      "Ind avg: 0.8613333333333327\n",
      "Sel avg: 0.8746666666666666\n",
      "Best fitness: 0.9\n"
     ]
    },
    {
     "name": "stderr",
     "output_type": "stream",
     "text": [
      "\n",
      "  2%|▏         | 9/500 [01:18<56:41,  6.93s/it]  \u001B[A"
     ]
    },
    {
     "name": "stdout",
     "output_type": "stream",
     "text": [
      "Generation: 9\n",
      "Individuals: 50\n",
      "Ind avg: 0.9079999999999993\n",
      "Sel avg: 0.9133333333333334\n",
      "Best fitness: 0.9333333333333333\n"
     ]
    },
    {
     "name": "stderr",
     "output_type": "stream",
     "text": [
      "\n",
      "  2%|▏         | 10/500 [01:23<50:26,  6.18s/it]\u001B[A"
     ]
    },
    {
     "name": "stdout",
     "output_type": "stream",
     "text": [
      "Generation: 10\n",
      "Individuals: 50\n",
      "Ind avg: 0.860666666666667\n",
      "Sel avg: 0.866666666666667\n",
      "Best fitness: 0.8666666666666667\n"
     ]
    },
    {
     "name": "stderr",
     "output_type": "stream",
     "text": [
      "\n",
      "  2%|▏         | 11/500 [01:28<47:09,  5.79s/it]\u001B[A"
     ]
    },
    {
     "name": "stdout",
     "output_type": "stream",
     "text": [
      "Generation: 11\n",
      "Individuals: 50\n",
      "Ind avg: 0.9346666666666659\n",
      "Sel avg: 0.9346666666666669\n",
      "Best fitness: 0.9666666666666667\n"
     ]
    },
    {
     "name": "stderr",
     "output_type": "stream",
     "text": [
      "\n",
      "  2%|▏         | 12/500 [01:32<43:13,  5.31s/it]\u001B[A"
     ]
    },
    {
     "name": "stdout",
     "output_type": "stream",
     "text": [
      "Generation: 12\n",
      "Individuals: 50\n",
      "Ind avg: 0.8660000000000003\n",
      "Sel avg: 0.866666666666667\n",
      "Best fitness: 0.8666666666666667\n"
     ]
    },
    {
     "name": "stderr",
     "output_type": "stream",
     "text": [
      "\n",
      "  3%|▎         | 13/500 [01:37<43:44,  5.39s/it]\u001B[A"
     ]
    },
    {
     "name": "stdout",
     "output_type": "stream",
     "text": [
      "Generation: 13\n",
      "Individuals: 50\n",
      "Ind avg: 0.9326666666666658\n",
      "Sel avg: 0.9333333333333335\n",
      "Best fitness: 0.9333333333333333\n"
     ]
    },
    {
     "name": "stderr",
     "output_type": "stream",
     "text": [
      "\n",
      "  3%|▎         | 14/500 [01:41<39:04,  4.82s/it]\u001B[A"
     ]
    },
    {
     "name": "stdout",
     "output_type": "stream",
     "text": [
      "Generation: 14\n",
      "Individuals: 50\n",
      "Ind avg: 0.8999999999999991\n",
      "Sel avg: 0.8999999999999997\n",
      "Best fitness: 0.9\n"
     ]
    },
    {
     "name": "stderr",
     "output_type": "stream",
     "text": [
      "\n",
      "  3%|▎         | 15/500 [01:45<36:50,  4.56s/it]\u001B[A"
     ]
    },
    {
     "name": "stdout",
     "output_type": "stream",
     "text": [
      "Generation: 15\n",
      "Individuals: 50\n",
      "Ind avg: 0.931999999999999\n",
      "Sel avg: 0.9320000000000002\n",
      "Best fitness: 0.9333333333333333\n"
     ]
    },
    {
     "name": "stderr",
     "output_type": "stream",
     "text": [
      "\n",
      "  3%|▎         | 16/500 [01:49<35:19,  4.38s/it]\u001B[A"
     ]
    },
    {
     "name": "stdout",
     "output_type": "stream",
     "text": [
      "Generation: 16\n",
      "Individuals: 50\n",
      "Ind avg: 0.8340000000000002\n",
      "Sel avg: 0.8333333333333333\n",
      "Best fitness: 0.8666666666666667\n"
     ]
    },
    {
     "name": "stderr",
     "output_type": "stream",
     "text": [
      "\n",
      "  3%|▎         | 17/500 [01:54<37:30,  4.66s/it]\u001B[A"
     ]
    },
    {
     "name": "stdout",
     "output_type": "stream",
     "text": [
      "Generation: 17\n",
      "Individuals: 50\n",
      "Ind avg: 0.9019999999999994\n",
      "Sel avg: 0.8999999999999997\n",
      "Best fitness: 0.9666666666666667\n"
     ]
    },
    {
     "name": "stderr",
     "output_type": "stream",
     "text": [
      "\n",
      "  4%|▎         | 18/500 [01:58<35:17,  4.39s/it]\u001B[A"
     ]
    },
    {
     "name": "stdout",
     "output_type": "stream",
     "text": [
      "Generation: 18\n",
      "Individuals: 50\n",
      "Ind avg: 0.9326666666666658\n",
      "Sel avg: 0.9333333333333335\n",
      "Best fitness: 0.9333333333333333\n"
     ]
    },
    {
     "name": "stderr",
     "output_type": "stream",
     "text": [
      "\n",
      "  4%|▍         | 19/500 [02:01<33:07,  4.13s/it]\u001B[A"
     ]
    },
    {
     "name": "stdout",
     "output_type": "stream",
     "text": [
      "Generation: 19\n",
      "Individuals: 50\n",
      "Ind avg: 0.9333333333333325\n",
      "Sel avg: 0.9333333333333335\n",
      "Best fitness: 0.9333333333333333\n"
     ]
    },
    {
     "name": "stderr",
     "output_type": "stream",
     "text": [
      "\n",
      "  4%|▍         | 20/500 [02:05<32:10,  4.02s/it]\u001B[A"
     ]
    },
    {
     "name": "stdout",
     "output_type": "stream",
     "text": [
      "Generation: 20\n",
      "Individuals: 50\n",
      "Ind avg: 0.8986666666666658\n",
      "Sel avg: 0.8946666666666664\n",
      "Best fitness: 0.9\n"
     ]
    },
    {
     "name": "stderr",
     "output_type": "stream",
     "text": [
      "\n",
      "  4%|▍         | 21/500 [02:09<32:54,  4.12s/it]\u001B[A"
     ]
    },
    {
     "name": "stdout",
     "output_type": "stream",
     "text": [
      "Generation: 21\n",
      "Individuals: 50\n",
      "Ind avg: 0.9299999999999992\n",
      "Sel avg: 0.9240000000000002\n",
      "Best fitness: 0.9333333333333333\n"
     ]
    },
    {
     "name": "stderr",
     "output_type": "stream",
     "text": [
      "\n",
      "  4%|▍         | 22/500 [02:13<31:10,  3.91s/it]\u001B[A"
     ]
    },
    {
     "name": "stdout",
     "output_type": "stream",
     "text": [
      "Generation: 22\n",
      "Individuals: 50\n",
      "Ind avg: 0.8780000000000002\n",
      "Sel avg: 0.8653333333333336\n",
      "Best fitness: 0.9333333333333333\n"
     ]
    },
    {
     "name": "stderr",
     "output_type": "stream",
     "text": [
      "\n",
      "  5%|▍         | 23/500 [02:17<31:26,  3.96s/it]\u001B[A"
     ]
    },
    {
     "name": "stdout",
     "output_type": "stream",
     "text": [
      "Generation: 23\n",
      "Individuals: 50\n",
      "Ind avg: 0.8366666666666664\n",
      "Sel avg: 0.8413333333333335\n",
      "Best fitness: 0.9\n"
     ]
    },
    {
     "name": "stderr",
     "output_type": "stream",
     "text": [
      "\n",
      "  5%|▍         | 24/500 [02:21<31:40,  3.99s/it]\u001B[A"
     ]
    },
    {
     "name": "stdout",
     "output_type": "stream",
     "text": [
      "Generation: 24\n",
      "Individuals: 50\n",
      "Ind avg: 0.9166666666666659\n",
      "Sel avg: 0.8866666666666666\n",
      "Best fitness: 0.9666666666666667\n"
     ]
    },
    {
     "name": "stderr",
     "output_type": "stream",
     "text": [
      "\n",
      "  5%|▌         | 25/500 [02:25<31:32,  3.98s/it]\u001B[A"
     ]
    },
    {
     "name": "stdout",
     "output_type": "stream",
     "text": [
      "Generation: 25\n",
      "Individuals: 50\n",
      "Ind avg: 0.8026666666666665\n",
      "Sel avg: 0.834666666666667\n",
      "Best fitness: 0.9333333333333333\n"
     ]
    },
    {
     "name": "stderr",
     "output_type": "stream",
     "text": [
      "\n",
      "  5%|▌         | 26/500 [02:30<33:16,  4.21s/it]\u001B[A"
     ]
    },
    {
     "name": "stdout",
     "output_type": "stream",
     "text": [
      "Generation: 26\n",
      "Individuals: 50\n",
      "Ind avg: 0.7973333333333333\n",
      "Sel avg: 0.8080000000000003\n",
      "Best fitness: 0.9333333333333333\n"
     ]
    },
    {
     "name": "stderr",
     "output_type": "stream",
     "text": [
      "\n",
      "  5%|▌         | 27/500 [02:36<37:40,  4.78s/it]\u001B[A"
     ]
    },
    {
     "name": "stdout",
     "output_type": "stream",
     "text": [
      "Generation: 27\n",
      "Individuals: 50\n",
      "Ind avg: 0.9039999999999999\n",
      "Sel avg: 0.8959999999999999\n",
      "Best fitness: 0.9666666666666667\n"
     ]
    },
    {
     "name": "stderr",
     "output_type": "stream",
     "text": [
      "\n",
      "  6%|▌         | 28/500 [02:40<35:27,  4.51s/it]\u001B[A"
     ]
    },
    {
     "name": "stdout",
     "output_type": "stream",
     "text": [
      "Generation: 28\n",
      "Individuals: 50\n",
      "Ind avg: 0.9053333333333328\n",
      "Sel avg: 0.916\n",
      "Best fitness: 0.9666666666666667\n"
     ]
    },
    {
     "name": "stderr",
     "output_type": "stream",
     "text": [
      "\n",
      "  6%|▌         | 29/500 [02:44<34:36,  4.41s/it]\u001B[A"
     ]
    },
    {
     "name": "stdout",
     "output_type": "stream",
     "text": [
      "Generation: 29\n",
      "Individuals: 50\n",
      "Ind avg: 0.8953333333333326\n",
      "Sel avg: 0.884\n",
      "Best fitness: 0.9333333333333333\n"
     ]
    },
    {
     "name": "stderr",
     "output_type": "stream",
     "text": [
      "\n",
      "  6%|▌         | 30/500 [02:49<35:11,  4.49s/it]\u001B[A"
     ]
    },
    {
     "name": "stdout",
     "output_type": "stream",
     "text": [
      "Generation: 30\n",
      "Individuals: 50\n",
      "Ind avg: 0.8353333333333335\n",
      "Sel avg: 0.8386666666666666\n",
      "Best fitness: 0.9\n"
     ]
    },
    {
     "name": "stderr",
     "output_type": "stream",
     "text": [
      "\n",
      "  6%|▌         | 31/500 [02:53<34:57,  4.47s/it]\u001B[A"
     ]
    },
    {
     "name": "stdout",
     "output_type": "stream",
     "text": [
      "Generation: 31\n",
      "Individuals: 50\n",
      "Ind avg: 0.9293333333333326\n",
      "Sel avg: 0.9226666666666667\n",
      "Best fitness: 0.9666666666666667\n"
     ]
    },
    {
     "name": "stderr",
     "output_type": "stream",
     "text": [
      "\n",
      "  6%|▋         | 32/500 [02:57<33:26,  4.29s/it]\u001B[A"
     ]
    },
    {
     "name": "stdout",
     "output_type": "stream",
     "text": [
      "Generation: 32\n",
      "Individuals: 50\n",
      "Ind avg: 0.8746666666666659\n",
      "Sel avg: 0.8959999999999998\n",
      "Best fitness: 0.9\n"
     ]
    },
    {
     "name": "stderr",
     "output_type": "stream",
     "text": [
      "\n",
      "  7%|▋         | 33/500 [03:01<34:04,  4.38s/it]\u001B[A"
     ]
    },
    {
     "name": "stdout",
     "output_type": "stream",
     "text": [
      "Generation: 33\n",
      "Individuals: 50\n",
      "Ind avg: 0.8053333333333333\n",
      "Sel avg: 0.802666666666667\n",
      "Best fitness: 0.8666666666666667\n"
     ]
    },
    {
     "name": "stderr",
     "output_type": "stream",
     "text": [
      "\n",
      "  7%|▋         | 34/500 [03:06<34:37,  4.46s/it]\u001B[A"
     ]
    },
    {
     "name": "stdout",
     "output_type": "stream",
     "text": [
      "Generation: 34\n",
      "Individuals: 50\n",
      "Ind avg: 0.9313333333333325\n",
      "Sel avg: 0.9320000000000002\n",
      "Best fitness: 0.9333333333333333\n"
     ]
    },
    {
     "name": "stderr",
     "output_type": "stream",
     "text": [
      "\n",
      "  7%|▋         | 35/500 [03:10<32:53,  4.24s/it]\u001B[A"
     ]
    },
    {
     "name": "stdout",
     "output_type": "stream",
     "text": [
      "Generation: 35\n",
      "Individuals: 50\n",
      "Ind avg: 0.9666666666666667\n",
      "Sel avg: 0.9666666666666661\n",
      "Best fitness: 0.9666666666666667\n"
     ]
    },
    {
     "name": "stderr",
     "output_type": "stream",
     "text": [
      "\n",
      "  7%|▋         | 36/500 [03:14<32:09,  4.16s/it]\u001B[A"
     ]
    },
    {
     "name": "stdout",
     "output_type": "stream",
     "text": [
      "Generation: 36\n",
      "Individuals: 50\n",
      "Ind avg: 0.8593333333333336\n",
      "Sel avg: 0.8640000000000002\n",
      "Best fitness: 0.8666666666666667\n"
     ]
    },
    {
     "name": "stderr",
     "output_type": "stream",
     "text": [
      "\n",
      "  7%|▋         | 37/500 [03:18<31:50,  4.13s/it]\u001B[A"
     ]
    },
    {
     "name": "stdout",
     "output_type": "stream",
     "text": [
      "Generation: 37\n",
      "Individuals: 50\n",
      "Ind avg: 0.9693333333333334\n",
      "Sel avg: 0.9706666666666662\n",
      "Best fitness: 1.0\n"
     ]
    },
    {
     "name": "stderr",
     "output_type": "stream",
     "text": [
      "\n",
      "  8%|▊         | 38/500 [03:21<30:36,  3.97s/it]\u001B[A"
     ]
    },
    {
     "name": "stdout",
     "output_type": "stream",
     "text": [
      "Generation: 38\n",
      "Individuals: 50\n",
      "Ind avg: 0.8333333333333336\n",
      "Sel avg: 0.8333333333333333\n",
      "Best fitness: 0.8333333333333334\n"
     ]
    },
    {
     "name": "stderr",
     "output_type": "stream",
     "text": [
      "\n",
      "  8%|▊         | 39/500 [03:26<31:30,  4.10s/it]\u001B[A"
     ]
    },
    {
     "name": "stdout",
     "output_type": "stream",
     "text": [
      "Generation: 39\n",
      "Individuals: 50\n",
      "Ind avg: 0.704\n",
      "Sel avg: 0.7013333333333329\n",
      "Best fitness: 0.7333333333333333\n"
     ]
    },
    {
     "name": "stderr",
     "output_type": "stream",
     "text": [
      "\n",
      "  8%|▊         | 40/500 [03:32<36:38,  4.78s/it]\u001B[A"
     ]
    },
    {
     "name": "stdout",
     "output_type": "stream",
     "text": [
      "Generation: 40\n",
      "Individuals: 50\n",
      "Ind avg: 0.8006666666666665\n",
      "Sel avg: 0.8026666666666671\n",
      "Best fitness: 0.8333333333333334\n"
     ]
    },
    {
     "name": "stderr",
     "output_type": "stream",
     "text": [
      "\n",
      "  8%|▊         | 41/500 [03:37<35:58,  4.70s/it]\u001B[A"
     ]
    },
    {
     "name": "stdout",
     "output_type": "stream",
     "text": [
      "Generation: 41\n",
      "Individuals: 50\n",
      "Ind avg: 0.8353333333333336\n",
      "Sel avg: 0.836\n",
      "Best fitness: 0.8666666666666667\n"
     ]
    },
    {
     "name": "stderr",
     "output_type": "stream",
     "text": [
      "\n",
      "  8%|▊         | 42/500 [03:43<38:53,  5.09s/it]\u001B[A"
     ]
    },
    {
     "name": "stdout",
     "output_type": "stream",
     "text": [
      "Generation: 42\n",
      "Individuals: 50\n",
      "Ind avg: 0.9619999999999999\n",
      "Sel avg: 0.9639999999999995\n",
      "Best fitness: 0.9666666666666667\n"
     ]
    },
    {
     "name": "stderr",
     "output_type": "stream",
     "text": [
      "\n",
      "  9%|▊         | 43/500 [03:47<36:35,  4.80s/it]\u001B[A"
     ]
    },
    {
     "name": "stdout",
     "output_type": "stream",
     "text": [
      "Generation: 43\n",
      "Individuals: 50\n",
      "Ind avg: 0.8313333333333336\n",
      "Sel avg: 0.828\n",
      "Best fitness: 0.8666666666666667\n"
     ]
    },
    {
     "name": "stderr",
     "output_type": "stream",
     "text": [
      "\n",
      "  9%|▉         | 44/500 [03:51<35:32,  4.68s/it]\u001B[A"
     ]
    },
    {
     "name": "stdout",
     "output_type": "stream",
     "text": [
      "Generation: 44\n",
      "Individuals: 50\n",
      "Ind avg: 0.886666666666666\n",
      "Sel avg: 0.8959999999999998\n",
      "Best fitness: 0.9\n"
     ]
    },
    {
     "name": "stderr",
     "output_type": "stream",
     "text": [
      "\n",
      "  9%|▉         | 45/500 [03:56<35:30,  4.68s/it]\u001B[A"
     ]
    },
    {
     "name": "stdout",
     "output_type": "stream",
     "text": [
      "Generation: 45\n",
      "Individuals: 50\n",
      "Ind avg: 0.947333333333333\n",
      "Sel avg: 0.9639999999999995\n",
      "Best fitness: 0.9666666666666667\n"
     ]
    },
    {
     "name": "stderr",
     "output_type": "stream",
     "text": [
      "\n",
      "  9%|▉         | 46/500 [04:00<34:40,  4.58s/it]\u001B[A"
     ]
    },
    {
     "name": "stdout",
     "output_type": "stream",
     "text": [
      "Generation: 46\n",
      "Individuals: 50\n",
      "Ind avg: 0.9313333333333325\n",
      "Sel avg: 0.9320000000000002\n",
      "Best fitness: 0.9333333333333333\n"
     ]
    },
    {
     "name": "stderr",
     "output_type": "stream",
     "text": [
      "\n",
      "  9%|▉         | 47/500 [04:04<32:43,  4.33s/it]\u001B[A"
     ]
    },
    {
     "name": "stdout",
     "output_type": "stream",
     "text": [
      "Generation: 47\n",
      "Individuals: 50\n",
      "Ind avg: 0.9126666666666658\n",
      "Sel avg: 0.9119999999999997\n",
      "Best fitness: 1.0\n"
     ]
    },
    {
     "name": "stderr",
     "output_type": "stream",
     "text": [
      "\n",
      " 10%|▉         | 48/500 [04:09<33:12,  4.41s/it]\u001B[A"
     ]
    },
    {
     "name": "stdout",
     "output_type": "stream",
     "text": [
      "Generation: 48\n",
      "Individuals: 50\n",
      "Ind avg: 0.8360000000000002\n",
      "Sel avg: 0.8373333333333332\n",
      "Best fitness: 0.9333333333333333\n"
     ]
    },
    {
     "name": "stderr",
     "output_type": "stream",
     "text": [
      "\n",
      " 10%|▉         | 49/500 [04:12<30:25,  4.05s/it]\u001B[A"
     ]
    },
    {
     "name": "stdout",
     "output_type": "stream",
     "text": [
      "Generation: 49\n",
      "Individuals: 50\n",
      "Ind avg: 0.9646666666666668\n",
      "Sel avg: 0.9626666666666661\n",
      "Best fitness: 0.9666666666666667\n"
     ]
    },
    {
     "name": "stderr",
     "output_type": "stream",
     "text": [
      "\n",
      " 10%|█         | 50/500 [04:15<28:53,  3.85s/it]\u001B[A"
     ]
    },
    {
     "name": "stdout",
     "output_type": "stream",
     "text": [
      "Generation: 50\n",
      "Individuals: 50\n",
      "Ind avg: 0.8993333333333325\n",
      "Sel avg: 0.8986666666666665\n",
      "Best fitness: 0.9\n"
     ]
    },
    {
     "name": "stderr",
     "output_type": "stream",
     "text": [
      "\n",
      " 10%|█         | 51/500 [04:19<29:06,  3.89s/it]\u001B[A"
     ]
    },
    {
     "name": "stdout",
     "output_type": "stream",
     "text": [
      "Generation: 51\n",
      "Individuals: 50\n",
      "Ind avg: 0.8366666666666669\n",
      "Sel avg: 0.8346666666666666\n",
      "Best fitness: 0.8666666666666667\n"
     ]
    },
    {
     "name": "stderr",
     "output_type": "stream",
     "text": [
      "\n",
      " 10%|█         | 52/500 [04:23<28:58,  3.88s/it]\u001B[A"
     ]
    },
    {
     "name": "stdout",
     "output_type": "stream",
     "text": [
      "Generation: 52\n",
      "Individuals: 50\n",
      "Ind avg: 0.9579999999999999\n",
      "Sel avg: 0.9639999999999995\n",
      "Best fitness: 0.9666666666666667\n"
     ]
    },
    {
     "name": "stderr",
     "output_type": "stream",
     "text": [
      "\n",
      " 11%|█         | 53/500 [04:27<29:27,  3.95s/it]\u001B[A"
     ]
    },
    {
     "name": "stdout",
     "output_type": "stream",
     "text": [
      "Generation: 53\n",
      "Individuals: 50\n",
      "Ind avg: 0.8560000000000003\n",
      "Sel avg: 0.866666666666667\n",
      "Best fitness: 0.9\n"
     ]
    },
    {
     "name": "stderr",
     "output_type": "stream",
     "text": [
      "\n",
      " 11%|█         | 54/500 [04:31<28:09,  3.79s/it]\u001B[A"
     ]
    },
    {
     "name": "stdout",
     "output_type": "stream",
     "text": [
      "Generation: 54\n",
      "Individuals: 50\n",
      "Ind avg: 0.9179999999999992\n",
      "Sel avg: 0.9333333333333335\n",
      "Best fitness: 1.0\n"
     ]
    },
    {
     "name": "stderr",
     "output_type": "stream",
     "text": [
      "\n",
      " 11%|█         | 55/500 [04:35<28:57,  3.90s/it]\u001B[A"
     ]
    },
    {
     "name": "stdout",
     "output_type": "stream",
     "text": [
      "Generation: 55\n",
      "Individuals: 50\n",
      "Ind avg: 0.8320000000000002\n",
      "Sel avg: 0.8333333333333333\n",
      "Best fitness: 0.8333333333333334\n"
     ]
    },
    {
     "name": "stderr",
     "output_type": "stream",
     "text": [
      "\n",
      " 11%|█         | 56/500 [04:38<27:13,  3.68s/it]\u001B[A"
     ]
    },
    {
     "name": "stdout",
     "output_type": "stream",
     "text": [
      "Generation: 56\n",
      "Individuals: 50\n",
      "Ind avg: 0.8533333333333337\n",
      "Sel avg: 0.8493333333333335\n",
      "Best fitness: 0.8666666666666667\n"
     ]
    },
    {
     "name": "stderr",
     "output_type": "stream",
     "text": [
      "\n",
      " 11%|█▏        | 57/500 [04:41<26:12,  3.55s/it]\u001B[A"
     ]
    },
    {
     "name": "stdout",
     "output_type": "stream",
     "text": [
      "Generation: 57\n",
      "Individuals: 50\n",
      "Ind avg: 0.8326666666666669\n",
      "Sel avg: 0.8333333333333333\n",
      "Best fitness: 0.8333333333333334\n"
     ]
    },
    {
     "name": "stderr",
     "output_type": "stream",
     "text": [
      "\n",
      " 12%|█▏        | 58/500 [04:45<26:14,  3.56s/it]\u001B[A"
     ]
    },
    {
     "name": "stdout",
     "output_type": "stream",
     "text": [
      "Generation: 58\n",
      "Individuals: 50\n",
      "Ind avg: 0.8833333333333332\n",
      "Sel avg: 0.8813333333333334\n",
      "Best fitness: 0.9\n"
     ]
    },
    {
     "name": "stderr",
     "output_type": "stream",
     "text": [
      "\n",
      " 12%|█▏        | 59/500 [04:49<27:39,  3.76s/it]\u001B[A"
     ]
    },
    {
     "name": "stdout",
     "output_type": "stream",
     "text": [
      "Generation: 59\n",
      "Individuals: 50\n",
      "Ind avg: 0.9326666666666661\n",
      "Sel avg: 0.9226666666666664\n",
      "Best fitness: 0.9666666666666667\n"
     ]
    },
    {
     "name": "stderr",
     "output_type": "stream",
     "text": [
      "\n",
      " 12%|█▏        | 60/500 [04:53<28:00,  3.82s/it]\u001B[A"
     ]
    },
    {
     "name": "stdout",
     "output_type": "stream",
     "text": [
      "Generation: 60\n",
      "Individuals: 50\n",
      "Ind avg: 0.9413333333333328\n",
      "Sel avg: 0.9453333333333334\n",
      "Best fitness: 0.9666666666666667\n"
     ]
    },
    {
     "name": "stderr",
     "output_type": "stream",
     "text": [
      "\n",
      " 12%|█▏        | 61/500 [04:57<27:19,  3.73s/it]\u001B[A"
     ]
    },
    {
     "name": "stdout",
     "output_type": "stream",
     "text": [
      "Generation: 61\n",
      "Individuals: 50\n",
      "Ind avg: 0.8799999999999997\n",
      "Sel avg: 0.8826666666666665\n",
      "Best fitness: 0.9\n"
     ]
    },
    {
     "name": "stderr",
     "output_type": "stream",
     "text": [
      "\n",
      " 12%|█▏        | 62/500 [05:00<26:54,  3.69s/it]\u001B[A"
     ]
    },
    {
     "name": "stdout",
     "output_type": "stream",
     "text": [
      "Generation: 62\n",
      "Individuals: 50\n",
      "Ind avg: 0.9893333333333332\n",
      "Sel avg: 0.9893333333333334\n",
      "Best fitness: 1.0\n"
     ]
    },
    {
     "name": "stderr",
     "output_type": "stream",
     "text": [
      "\n",
      " 13%|█▎        | 63/500 [05:04<27:16,  3.74s/it]\u001B[A"
     ]
    },
    {
     "name": "stdout",
     "output_type": "stream",
     "text": [
      "Generation: 63\n",
      "Individuals: 50\n",
      "Ind avg: 0.8999999999999991\n",
      "Sel avg: 0.8946666666666665\n",
      "Best fitness: 0.9333333333333333\n"
     ]
    },
    {
     "name": "stderr",
     "output_type": "stream",
     "text": [
      "\n",
      " 13%|█▎        | 64/500 [05:07<26:21,  3.63s/it]\u001B[A"
     ]
    },
    {
     "name": "stdout",
     "output_type": "stream",
     "text": [
      "Generation: 64\n",
      "Individuals: 50\n",
      "Ind avg: 0.8706666666666659\n",
      "Sel avg: 0.8853333333333332\n",
      "Best fitness: 0.9\n"
     ]
    },
    {
     "name": "stderr",
     "output_type": "stream",
     "text": [
      "\n",
      " 13%|█▎        | 65/500 [05:11<25:59,  3.58s/it]\u001B[A"
     ]
    },
    {
     "name": "stdout",
     "output_type": "stream",
     "text": [
      "Generation: 65\n",
      "Individuals: 50\n",
      "Ind avg: 0.8839999999999998\n",
      "Sel avg: 0.9093333333333335\n",
      "Best fitness: 0.9333333333333333\n"
     ]
    },
    {
     "name": "stderr",
     "output_type": "stream",
     "text": [
      "\n",
      " 13%|█▎        | 66/500 [05:14<25:51,  3.58s/it]\u001B[A"
     ]
    },
    {
     "name": "stdout",
     "output_type": "stream",
     "text": [
      "Generation: 66\n",
      "Individuals: 50\n",
      "Ind avg: 0.9493333333333329\n",
      "Sel avg: 0.9493333333333331\n",
      "Best fitness: 0.9666666666666667\n"
     ]
    },
    {
     "name": "stderr",
     "output_type": "stream",
     "text": [
      "\n",
      " 13%|█▎        | 67/500 [05:18<25:56,  3.60s/it]\u001B[A"
     ]
    },
    {
     "name": "stdout",
     "output_type": "stream",
     "text": [
      "Generation: 67\n",
      "Individuals: 50\n",
      "Ind avg: 0.9366666666666663\n",
      "Sel avg: 0.9346666666666663\n",
      "Best fitness: 0.9666666666666667\n"
     ]
    },
    {
     "name": "stderr",
     "output_type": "stream",
     "text": [
      "\n",
      " 14%|█▎        | 68/500 [05:22<25:58,  3.61s/it]\u001B[A"
     ]
    },
    {
     "name": "stdout",
     "output_type": "stream",
     "text": [
      "Generation: 68\n",
      "Individuals: 50\n",
      "Ind avg: 0.8813333333333333\n",
      "Sel avg: 0.884\n",
      "Best fitness: 0.9\n"
     ]
    },
    {
     "name": "stderr",
     "output_type": "stream",
     "text": [
      "\n",
      " 14%|█▍        | 69/500 [05:25<25:44,  3.58s/it]\u001B[A"
     ]
    },
    {
     "name": "stdout",
     "output_type": "stream",
     "text": [
      "Generation: 69\n",
      "Individuals: 50\n",
      "Ind avg: 0.8039999999999999\n",
      "Sel avg: 0.802666666666667\n",
      "Best fitness: 0.8666666666666667\n"
     ]
    },
    {
     "name": "stderr",
     "output_type": "stream",
     "text": [
      "\n",
      " 14%|█▍        | 70/500 [05:28<25:00,  3.49s/it]\u001B[A"
     ]
    },
    {
     "name": "stdout",
     "output_type": "stream",
     "text": [
      "Generation: 70\n",
      "Individuals: 50\n",
      "Ind avg: 0.8973333333333327\n",
      "Sel avg: 0.8986666666666665\n",
      "Best fitness: 0.9\n"
     ]
    },
    {
     "name": "stderr",
     "output_type": "stream",
     "text": [
      "\n",
      " 14%|█▍        | 71/500 [05:32<25:40,  3.59s/it]\u001B[A"
     ]
    },
    {
     "name": "stdout",
     "output_type": "stream",
     "text": [
      "Generation: 71\n",
      "Individuals: 50\n",
      "Ind avg: 0.9579999999999995\n",
      "Sel avg: 0.9573333333333335\n",
      "Best fitness: 1.0\n"
     ]
    },
    {
     "name": "stderr",
     "output_type": "stream",
     "text": [
      "\n",
      " 14%|█▍        | 72/500 [05:36<25:00,  3.51s/it]\u001B[A"
     ]
    },
    {
     "name": "stdout",
     "output_type": "stream",
     "text": [
      "Generation: 72\n",
      "Individuals: 50\n",
      "Ind avg: 0.7580000000000002\n",
      "Sel avg: 0.7586666666666667\n",
      "Best fitness: 0.8\n"
     ]
    },
    {
     "name": "stderr",
     "output_type": "stream",
     "text": [
      "\n",
      " 15%|█▍        | 73/500 [05:40<25:53,  3.64s/it]\u001B[A"
     ]
    },
    {
     "name": "stdout",
     "output_type": "stream",
     "text": [
      "Generation: 73\n",
      "Individuals: 50\n",
      "Ind avg: 0.8506666666666667\n",
      "Sel avg: 0.8599999999999999\n",
      "Best fitness: 0.9\n"
     ]
    },
    {
     "name": "stderr",
     "output_type": "stream",
     "text": [
      "\n",
      " 15%|█▍        | 74/500 [05:43<25:44,  3.62s/it]\u001B[A"
     ]
    },
    {
     "name": "stdout",
     "output_type": "stream",
     "text": [
      "Generation: 74\n",
      "Individuals: 50\n",
      "Ind avg: 0.9186666666666657\n",
      "Sel avg: 0.9173333333333332\n",
      "Best fitness: 0.9666666666666667\n"
     ]
    },
    {
     "name": "stderr",
     "output_type": "stream",
     "text": [
      "\n",
      " 15%|█▌        | 75/500 [05:47<25:44,  3.63s/it]\u001B[A"
     ]
    },
    {
     "name": "stdout",
     "output_type": "stream",
     "text": [
      "Generation: 75\n",
      "Individuals: 50\n",
      "Ind avg: 0.8500000000000004\n",
      "Sel avg: 0.8560000000000002\n",
      "Best fitness: 0.8666666666666667\n"
     ]
    },
    {
     "name": "stderr",
     "output_type": "stream",
     "text": [
      "\n",
      " 15%|█▌        | 76/500 [05:50<25:35,  3.62s/it]\u001B[A"
     ]
    },
    {
     "name": "stdout",
     "output_type": "stream",
     "text": [
      "Generation: 76\n",
      "Individuals: 50\n",
      "Ind avg: 0.8793333333333334\n",
      "Sel avg: 0.8773333333333335\n",
      "Best fitness: 0.9333333333333333\n"
     ]
    },
    {
     "name": "stderr",
     "output_type": "stream",
     "text": [
      "\n",
      " 15%|█▌        | 77/500 [05:55<27:19,  3.88s/it]\u001B[A"
     ]
    },
    {
     "name": "stdout",
     "output_type": "stream",
     "text": [
      "Generation: 77\n",
      "Individuals: 50\n",
      "Ind avg: 0.8679999999999999\n",
      "Sel avg: 0.8600000000000001\n",
      "Best fitness: 0.9333333333333333\n"
     ]
    },
    {
     "name": "stderr",
     "output_type": "stream",
     "text": [
      "\n",
      " 16%|█▌        | 78/500 [06:00<29:05,  4.14s/it]\u001B[A"
     ]
    },
    {
     "name": "stdout",
     "output_type": "stream",
     "text": [
      "Generation: 78\n",
      "Individuals: 50\n",
      "Ind avg: 0.7899999999999998\n",
      "Sel avg: 0.8160000000000003\n",
      "Best fitness: 0.8666666666666667\n"
     ]
    },
    {
     "name": "stderr",
     "output_type": "stream",
     "text": [
      "\n",
      " 16%|█▌        | 79/500 [06:05<30:47,  4.39s/it]\u001B[A"
     ]
    },
    {
     "name": "stdout",
     "output_type": "stream",
     "text": [
      "Generation: 79\n",
      "Individuals: 50\n",
      "Ind avg: 0.9046666666666665\n",
      "Sel avg: 0.9053333333333333\n",
      "Best fitness: 0.9666666666666667\n"
     ]
    },
    {
     "name": "stderr",
     "output_type": "stream",
     "text": [
      "\n",
      " 16%|█▌        | 80/500 [06:09<31:18,  4.47s/it]\u001B[A"
     ]
    },
    {
     "name": "stdout",
     "output_type": "stream",
     "text": [
      "Generation: 80\n",
      "Individuals: 50\n",
      "Ind avg: 0.9593333333333334\n",
      "Sel avg: 0.9519999999999995\n",
      "Best fitness: 0.9666666666666667\n"
     ]
    },
    {
     "name": "stderr",
     "output_type": "stream",
     "text": [
      "\n",
      " 16%|█▌        | 81/500 [06:13<30:08,  4.32s/it]\u001B[A"
     ]
    },
    {
     "name": "stdout",
     "output_type": "stream",
     "text": [
      "Generation: 81\n",
      "Individuals: 50\n",
      "Ind avg: 0.7873333333333332\n",
      "Sel avg: 0.8053333333333336\n",
      "Best fitness: 0.8333333333333334\n"
     ]
    },
    {
     "name": "stderr",
     "output_type": "stream",
     "text": [
      "\n",
      " 16%|█▋        | 82/500 [06:17<29:44,  4.27s/it]\u001B[A"
     ]
    },
    {
     "name": "stdout",
     "output_type": "stream",
     "text": [
      "Generation: 82\n",
      "Individuals: 50\n",
      "Ind avg: 0.9386666666666658\n",
      "Sel avg: 0.9413333333333336\n",
      "Best fitness: 1.0\n"
     ]
    },
    {
     "name": "stderr",
     "output_type": "stream",
     "text": [
      "\n",
      " 17%|█▋        | 83/500 [06:21<27:42,  3.99s/it]\u001B[A"
     ]
    },
    {
     "name": "stdout",
     "output_type": "stream",
     "text": [
      "Generation: 83\n",
      "Individuals: 50\n",
      "Ind avg: 0.9113333333333326\n",
      "Sel avg: 0.9133333333333333\n",
      "Best fitness: 0.9333333333333333\n"
     ]
    },
    {
     "name": "stderr",
     "output_type": "stream",
     "text": [
      "\n",
      " 17%|█▋        | 84/500 [06:25<28:29,  4.11s/it]\u001B[A"
     ]
    },
    {
     "name": "stdout",
     "output_type": "stream",
     "text": [
      "Generation: 84\n",
      "Individuals: 50\n",
      "Ind avg: 0.9986666666666667\n",
      "Sel avg: 0.9986666666666667\n",
      "Best fitness: 1.0\n"
     ]
    },
    {
     "name": "stderr",
     "output_type": "stream",
     "text": [
      "\n",
      " 17%|█▋        | 85/500 [06:29<27:53,  4.03s/it]\u001B[A"
     ]
    },
    {
     "name": "stdout",
     "output_type": "stream",
     "text": [
      "Generation: 85\n",
      "Individuals: 50\n",
      "Ind avg: 0.8933333333333325\n",
      "Sel avg: 0.8946666666666664\n",
      "Best fitness: 0.9\n"
     ]
    },
    {
     "name": "stderr",
     "output_type": "stream",
     "text": [
      "\n",
      " 17%|█▋        | 86/500 [06:33<27:12,  3.94s/it]\u001B[A"
     ]
    },
    {
     "name": "stdout",
     "output_type": "stream",
     "text": [
      "Generation: 86\n",
      "Individuals: 50\n",
      "Ind avg: 0.9339999999999994\n",
      "Sel avg: 0.9333333333333335\n",
      "Best fitness: 0.9666666666666667\n"
     ]
    },
    {
     "name": "stderr",
     "output_type": "stream",
     "text": [
      "\n",
      " 17%|█▋        | 87/500 [06:37<27:15,  3.96s/it]\u001B[A"
     ]
    },
    {
     "name": "stdout",
     "output_type": "stream",
     "text": [
      "Generation: 87\n",
      "Individuals: 50\n",
      "Ind avg: 0.8753333333333333\n",
      "Sel avg: 0.8826666666666669\n",
      "Best fitness: 0.9333333333333333\n"
     ]
    },
    {
     "name": "stderr",
     "output_type": "stream",
     "text": [
      "\n",
      " 18%|█▊        | 88/500 [06:40<26:39,  3.88s/it]\u001B[A"
     ]
    },
    {
     "name": "stdout",
     "output_type": "stream",
     "text": [
      "Generation: 88\n",
      "Individuals: 50\n",
      "Ind avg: 0.8666666666666668\n",
      "Sel avg: 0.8640000000000003\n",
      "Best fitness: 0.9\n"
     ]
    },
    {
     "name": "stderr",
     "output_type": "stream",
     "text": [
      "\n",
      " 18%|█▊        | 89/500 [06:44<25:23,  3.71s/it]\u001B[A"
     ]
    },
    {
     "name": "stdout",
     "output_type": "stream",
     "text": [
      "Generation: 89\n",
      "Individuals: 50\n",
      "Ind avg: 0.8999999999999991\n",
      "Sel avg: 0.8999999999999997\n",
      "Best fitness: 0.9\n"
     ]
    },
    {
     "name": "stderr",
     "output_type": "stream",
     "text": [
      "\n",
      " 18%|█▊        | 90/500 [06:47<24:58,  3.65s/it]\u001B[A"
     ]
    },
    {
     "name": "stdout",
     "output_type": "stream",
     "text": [
      "Generation: 90\n",
      "Individuals: 50\n",
      "Ind avg: 0.7739999999999996\n",
      "Sel avg: 0.7706666666666667\n",
      "Best fitness: 0.8333333333333334\n"
     ]
    },
    {
     "name": "stderr",
     "output_type": "stream",
     "text": [
      "\n",
      " 18%|█▊        | 91/500 [06:51<25:58,  3.81s/it]\u001B[A"
     ]
    },
    {
     "name": "stdout",
     "output_type": "stream",
     "text": [
      "Generation: 91\n",
      "Individuals: 50\n",
      "Ind avg: 0.9086666666666662\n",
      "Sel avg: 0.912\n",
      "Best fitness: 0.9333333333333333\n"
     ]
    },
    {
     "name": "stderr",
     "output_type": "stream",
     "text": [
      "\n",
      " 18%|█▊        | 92/500 [06:57<29:51,  4.39s/it]\u001B[A"
     ]
    },
    {
     "name": "stdout",
     "output_type": "stream",
     "text": [
      "Generation: 92\n",
      "Individuals: 50\n",
      "Ind avg: 0.9273333333333323\n",
      "Sel avg: 0.9373333333333334\n",
      "Best fitness: 0.9666666666666667\n"
     ]
    },
    {
     "name": "stderr",
     "output_type": "stream",
     "text": [
      "\n",
      " 19%|█▊        | 93/500 [07:00<27:48,  4.10s/it]\u001B[A"
     ]
    },
    {
     "name": "stdout",
     "output_type": "stream",
     "text": [
      "Generation: 93\n",
      "Individuals: 50\n",
      "Ind avg: 0.933999999999999\n",
      "Sel avg: 0.9386666666666668\n",
      "Best fitness: 0.9666666666666667\n"
     ]
    },
    {
     "name": "stderr",
     "output_type": "stream",
     "text": [
      "\n",
      " 19%|█▉        | 94/500 [07:05<27:46,  4.10s/it]\u001B[A"
     ]
    },
    {
     "name": "stdout",
     "output_type": "stream",
     "text": [
      "Generation: 94\n",
      "Individuals: 50\n",
      "Ind avg: 0.9266666666666658\n",
      "Sel avg: 0.9266666666666667\n",
      "Best fitness: 0.9333333333333333\n"
     ]
    },
    {
     "name": "stderr",
     "output_type": "stream",
     "text": [
      "\n",
      " 19%|█▉        | 95/500 [07:08<27:00,  4.00s/it]\u001B[A"
     ]
    },
    {
     "name": "stdout",
     "output_type": "stream",
     "text": [
      "Generation: 95\n",
      "Individuals: 50\n",
      "Ind avg: 0.9106666666666662\n",
      "Sel avg: 0.9026666666666664\n",
      "Best fitness: 0.9666666666666667\n"
     ]
    },
    {
     "name": "stderr",
     "output_type": "stream",
     "text": [
      "\n",
      " 19%|█▉        | 96/500 [07:12<26:47,  3.98s/it]\u001B[A"
     ]
    },
    {
     "name": "stdout",
     "output_type": "stream",
     "text": [
      "Generation: 96\n",
      "Individuals: 50\n",
      "Ind avg: 0.8979999999999991\n",
      "Sel avg: 0.8919999999999998\n",
      "Best fitness: 0.9\n"
     ]
    },
    {
     "name": "stderr",
     "output_type": "stream",
     "text": [
      "\n",
      " 19%|█▉        | 97/500 [07:16<26:15,  3.91s/it]\u001B[A"
     ]
    },
    {
     "name": "stdout",
     "output_type": "stream",
     "text": [
      "Generation: 97\n",
      "Individuals: 50\n",
      "Ind avg: 0.8280000000000001\n",
      "Sel avg: 0.824\n",
      "Best fitness: 0.9333333333333333\n"
     ]
    },
    {
     "name": "stderr",
     "output_type": "stream",
     "text": [
      "\n",
      " 20%|█▉        | 98/500 [07:21<27:31,  4.11s/it]\u001B[A"
     ]
    },
    {
     "name": "stdout",
     "output_type": "stream",
     "text": [
      "Generation: 98\n",
      "Individuals: 50\n",
      "Ind avg: 0.9926666666666667\n",
      "Sel avg: 0.9946666666666666\n",
      "Best fitness: 1.0\n"
     ]
    },
    {
     "name": "stderr",
     "output_type": "stream",
     "text": [
      "\n",
      " 20%|█▉        | 99/500 [07:25<27:10,  4.07s/it]\u001B[A"
     ]
    },
    {
     "name": "stdout",
     "output_type": "stream",
     "text": [
      "Generation: 99\n",
      "Individuals: 50\n",
      "Ind avg: 0.7999999999999997\n",
      "Sel avg: 0.8000000000000003\n",
      "Best fitness: 0.8\n"
     ]
    },
    {
     "name": "stderr",
     "output_type": "stream",
     "text": [
      "\n",
      " 20%|██        | 100/500 [07:29<27:11,  4.08s/it]\u001B[A"
     ]
    },
    {
     "name": "stdout",
     "output_type": "stream",
     "text": [
      "Generation: 100\n",
      "Individuals: 50\n",
      "Ind avg: 0.9586666666666664\n",
      "Sel avg: 0.9546666666666662\n",
      "Best fitness: 0.9666666666666667\n"
     ]
    },
    {
     "name": "stderr",
     "output_type": "stream",
     "text": [
      "\n",
      " 20%|██        | 101/500 [07:33<27:27,  4.13s/it]\u001B[A"
     ]
    },
    {
     "name": "stdout",
     "output_type": "stream",
     "text": [
      "Generation: 101\n",
      "Individuals: 50\n",
      "Ind avg: 0.9113333333333326\n",
      "Sel avg: 0.9119999999999997\n",
      "Best fitness: 0.9666666666666667\n"
     ]
    },
    {
     "name": "stderr",
     "output_type": "stream",
     "text": [
      "\n",
      " 20%|██        | 102/500 [07:37<26:40,  4.02s/it]\u001B[A"
     ]
    },
    {
     "name": "stdout",
     "output_type": "stream",
     "text": [
      "Generation: 102\n",
      "Individuals: 50\n",
      "Ind avg: 0.933999999999999\n",
      "Sel avg: 0.9333333333333335\n",
      "Best fitness: 0.9666666666666667\n"
     ]
    },
    {
     "name": "stderr",
     "output_type": "stream",
     "text": [
      "\n",
      " 21%|██        | 103/500 [07:41<27:49,  4.20s/it]\u001B[A"
     ]
    },
    {
     "name": "stdout",
     "output_type": "stream",
     "text": [
      "Generation: 103\n",
      "Individuals: 50\n",
      "Ind avg: 0.9253333333333325\n",
      "Sel avg: 0.9253333333333333\n",
      "Best fitness: 0.9333333333333333\n"
     ]
    },
    {
     "name": "stderr",
     "output_type": "stream",
     "text": [
      "\n",
      " 21%|██        | 104/500 [07:45<25:45,  3.90s/it]\u001B[A"
     ]
    },
    {
     "name": "stdout",
     "output_type": "stream",
     "text": [
      "Generation: 104\n",
      "Individuals: 50\n",
      "Ind avg: 0.8826666666666665\n",
      "Sel avg: 0.8800000000000003\n",
      "Best fitness: 0.9333333333333333\n"
     ]
    },
    {
     "name": "stderr",
     "output_type": "stream",
     "text": [
      "\n",
      " 21%|██        | 105/500 [07:48<24:31,  3.73s/it]\u001B[A"
     ]
    },
    {
     "name": "stdout",
     "output_type": "stream",
     "text": [
      "Generation: 105\n",
      "Individuals: 50\n",
      "Ind avg: 0.9146666666666659\n",
      "Sel avg: 0.9213333333333336\n",
      "Best fitness: 0.9666666666666667\n"
     ]
    },
    {
     "name": "stderr",
     "output_type": "stream",
     "text": [
      "\n",
      " 21%|██        | 106/500 [07:52<25:14,  3.84s/it]\u001B[A"
     ]
    },
    {
     "name": "stdout",
     "output_type": "stream",
     "text": [
      "Generation: 106\n",
      "Individuals: 50\n",
      "Ind avg: 0.8986666666666661\n",
      "Sel avg: 0.8999999999999999\n",
      "Best fitness: 0.9333333333333333\n"
     ]
    },
    {
     "name": "stderr",
     "output_type": "stream",
     "text": [
      "\n",
      " 21%|██▏       | 107/500 [07:56<25:23,  3.88s/it]\u001B[A"
     ]
    },
    {
     "name": "stdout",
     "output_type": "stream",
     "text": [
      "Generation: 107\n",
      "Individuals: 50\n",
      "Ind avg: 0.9333333333333322\n",
      "Sel avg: 0.9293333333333333\n",
      "Best fitness: 0.9666666666666667\n"
     ]
    },
    {
     "name": "stderr",
     "output_type": "stream",
     "text": [
      "\n",
      " 22%|██▏       | 108/500 [07:59<23:37,  3.62s/it]\u001B[A"
     ]
    },
    {
     "name": "stdout",
     "output_type": "stream",
     "text": [
      "Generation: 108\n",
      "Individuals: 50\n",
      "Ind avg: 0.7873333333333332\n",
      "Sel avg: 0.7866666666666668\n",
      "Best fitness: 0.9333333333333333\n"
     ]
    },
    {
     "name": "stderr",
     "output_type": "stream",
     "text": [
      "\n",
      " 22%|██▏       | 109/500 [08:02<23:18,  3.58s/it]\u001B[A"
     ]
    },
    {
     "name": "stdout",
     "output_type": "stream",
     "text": [
      "Generation: 109\n",
      "Individuals: 50\n",
      "Ind avg: 0.900666666666667\n",
      "Sel avg: 0.9039999999999999\n",
      "Best fitness: 1.0\n"
     ]
    },
    {
     "name": "stderr",
     "output_type": "stream",
     "text": [
      "\n",
      " 22%|██▏       | 110/500 [08:06<23:46,  3.66s/it]\u001B[A"
     ]
    },
    {
     "name": "stdout",
     "output_type": "stream",
     "text": [
      "Generation: 110\n",
      "Individuals: 50\n",
      "Ind avg: 0.9166666666666665\n",
      "Sel avg: 0.9133333333333333\n",
      "Best fitness: 0.9666666666666667\n"
     ]
    },
    {
     "name": "stderr",
     "output_type": "stream",
     "text": [
      "\n",
      " 22%|██▏       | 111/500 [08:11<25:47,  3.98s/it]\u001B[A"
     ]
    },
    {
     "name": "stdout",
     "output_type": "stream",
     "text": [
      "Generation: 111\n",
      "Individuals: 50\n",
      "Ind avg: 0.8639999999999994\n",
      "Sel avg: 0.8906666666666667\n",
      "Best fitness: 0.9333333333333333\n"
     ]
    },
    {
     "name": "stderr",
     "output_type": "stream",
     "text": [
      "\n",
      " 22%|██▏       | 112/500 [08:15<26:27,  4.09s/it]\u001B[A"
     ]
    },
    {
     "name": "stdout",
     "output_type": "stream",
     "text": [
      "Generation: 112\n",
      "Individuals: 50\n",
      "Ind avg: 0.8626666666666669\n",
      "Sel avg: 0.8653333333333336\n",
      "Best fitness: 0.8666666666666667\n"
     ]
    },
    {
     "name": "stderr",
     "output_type": "stream",
     "text": [
      "\n",
      " 23%|██▎       | 113/500 [08:19<26:01,  4.04s/it]\u001B[A"
     ]
    },
    {
     "name": "stdout",
     "output_type": "stream",
     "text": [
      "Generation: 113\n",
      "Individuals: 50\n",
      "Ind avg: 0.9753333333333336\n",
      "Sel avg: 0.988\n",
      "Best fitness: 1.0\n"
     ]
    },
    {
     "name": "stderr",
     "output_type": "stream",
     "text": [
      "\n",
      " 23%|██▎       | 114/500 [08:23<26:01,  4.04s/it]\u001B[A"
     ]
    },
    {
     "name": "stdout",
     "output_type": "stream",
     "text": [
      "Generation: 114\n",
      "Individuals: 50\n",
      "Ind avg: 0.8559999999999992\n",
      "Sel avg: 0.8999999999999997\n",
      "Best fitness: 0.9\n"
     ]
    },
    {
     "name": "stderr",
     "output_type": "stream",
     "text": [
      "\n",
      " 23%|██▎       | 115/500 [08:28<26:20,  4.11s/it]\u001B[A"
     ]
    },
    {
     "name": "stdout",
     "output_type": "stream",
     "text": [
      "Generation: 115\n",
      "Individuals: 50\n",
      "Ind avg: 0.866666666666667\n",
      "Sel avg: 0.866666666666667\n",
      "Best fitness: 0.8666666666666667\n"
     ]
    },
    {
     "name": "stderr",
     "output_type": "stream",
     "text": [
      "\n",
      " 23%|██▎       | 116/500 [08:32<26:10,  4.09s/it]\u001B[A"
     ]
    },
    {
     "name": "stdout",
     "output_type": "stream",
     "text": [
      "Generation: 116\n",
      "Individuals: 50\n",
      "Ind avg: 0.9299999999999992\n",
      "Sel avg: 0.9293333333333333\n",
      "Best fitness: 0.9666666666666667\n"
     ]
    },
    {
     "name": "stderr",
     "output_type": "stream",
     "text": [
      "\n",
      " 23%|██▎       | 117/500 [08:35<24:51,  3.89s/it]\u001B[A"
     ]
    },
    {
     "name": "stdout",
     "output_type": "stream",
     "text": [
      "Generation: 117\n",
      "Individuals: 50\n",
      "Ind avg: 0.9293333333333323\n",
      "Sel avg: 0.9253333333333335\n",
      "Best fitness: 0.9333333333333333\n"
     ]
    },
    {
     "name": "stderr",
     "output_type": "stream",
     "text": [
      "\n",
      " 24%|██▎       | 118/500 [08:39<24:48,  3.90s/it]\u001B[A"
     ]
    },
    {
     "name": "stdout",
     "output_type": "stream",
     "text": [
      "Generation: 118\n",
      "Individuals: 50\n",
      "Ind avg: 0.9593333333333334\n",
      "Sel avg: 0.9573333333333329\n",
      "Best fitness: 0.9666666666666667\n"
     ]
    },
    {
     "name": "stderr",
     "output_type": "stream",
     "text": [
      "\n",
      " 24%|██▍       | 119/500 [08:42<23:38,  3.72s/it]\u001B[A"
     ]
    },
    {
     "name": "stdout",
     "output_type": "stream",
     "text": [
      "Generation: 119\n",
      "Individuals: 50\n",
      "Ind avg: 0.8953333333333326\n",
      "Sel avg: 0.8813333333333335\n",
      "Best fitness: 0.9333333333333333\n"
     ]
    },
    {
     "name": "stderr",
     "output_type": "stream",
     "text": [
      "\n",
      " 24%|██▍       | 120/500 [08:45<22:28,  3.55s/it]\u001B[A"
     ]
    },
    {
     "name": "stdout",
     "output_type": "stream",
     "text": [
      "Generation: 120\n",
      "Individuals: 50\n",
      "Ind avg: 0.8546666666666667\n",
      "Sel avg: 0.8586666666666665\n",
      "Best fitness: 0.9\n"
     ]
    },
    {
     "name": "stderr",
     "output_type": "stream",
     "text": [
      "\n",
      " 24%|██▍       | 121/500 [08:49<22:25,  3.55s/it]\u001B[A"
     ]
    },
    {
     "name": "stdout",
     "output_type": "stream",
     "text": [
      "Generation: 121\n",
      "Individuals: 50\n",
      "Ind avg: 0.8926666666666663\n",
      "Sel avg: 0.9066666666666667\n",
      "Best fitness: 0.9666666666666667\n"
     ]
    },
    {
     "name": "stderr",
     "output_type": "stream",
     "text": [
      "\n",
      " 24%|██▍       | 122/500 [08:52<21:58,  3.49s/it]\u001B[A"
     ]
    },
    {
     "name": "stdout",
     "output_type": "stream",
     "text": [
      "Generation: 122\n",
      "Individuals: 50\n",
      "Ind avg: 0.8906666666666662\n",
      "Sel avg: 0.8933333333333333\n",
      "Best fitness: 0.9333333333333333\n"
     ]
    },
    {
     "name": "stderr",
     "output_type": "stream",
     "text": [
      "\n",
      " 25%|██▍       | 123/500 [08:58<25:10,  4.01s/it]\u001B[A"
     ]
    },
    {
     "name": "stdout",
     "output_type": "stream",
     "text": [
      "Generation: 123\n",
      "Individuals: 50\n",
      "Ind avg: 0.8053333333333338\n",
      "Sel avg: 0.8120000000000005\n",
      "Best fitness: 0.8666666666666667\n"
     ]
    },
    {
     "name": "stderr",
     "output_type": "stream",
     "text": [
      "\n",
      " 25%|██▍       | 124/500 [09:02<25:32,  4.08s/it]\u001B[A"
     ]
    },
    {
     "name": "stdout",
     "output_type": "stream",
     "text": [
      "Generation: 124\n",
      "Individuals: 50\n",
      "Ind avg: 0.8713333333333335\n",
      "Sel avg: 0.8720000000000003\n",
      "Best fitness: 0.9\n"
     ]
    },
    {
     "name": "stderr",
     "output_type": "stream",
     "text": [
      "\n",
      " 25%|██▌       | 125/500 [09:05<24:08,  3.86s/it]\u001B[A"
     ]
    },
    {
     "name": "stdout",
     "output_type": "stream",
     "text": [
      "Generation: 125\n",
      "Individuals: 50\n",
      "Ind avg: 0.9299999999999992\n",
      "Sel avg: 0.9320000000000002\n",
      "Best fitness: 0.9333333333333333\n"
     ]
    },
    {
     "name": "stderr",
     "output_type": "stream",
     "text": [
      "\n",
      " 25%|██▌       | 126/500 [09:09<24:35,  3.95s/it]\u001B[A"
     ]
    },
    {
     "name": "stdout",
     "output_type": "stream",
     "text": [
      "Generation: 126\n",
      "Individuals: 50\n",
      "Ind avg: 0.96\n",
      "Sel avg: 0.9639999999999995\n",
      "Best fitness: 0.9666666666666667\n"
     ]
    },
    {
     "name": "stderr",
     "output_type": "stream",
     "text": [
      "\n",
      " 25%|██▌       | 127/500 [09:12<22:53,  3.68s/it]\u001B[A"
     ]
    },
    {
     "name": "stdout",
     "output_type": "stream",
     "text": [
      "Generation: 127\n",
      "Individuals: 50\n",
      "Ind avg: 0.9019999999999991\n",
      "Sel avg: 0.9026666666666664\n",
      "Best fitness: 0.9333333333333333\n"
     ]
    },
    {
     "name": "stderr",
     "output_type": "stream",
     "text": [
      "\n",
      " 26%|██▌       | 128/500 [09:17<24:59,  4.03s/it]\u001B[A"
     ]
    },
    {
     "name": "stdout",
     "output_type": "stream",
     "text": [
      "Generation: 128\n",
      "Individuals: 50\n",
      "Ind avg: 0.8660000000000003\n",
      "Sel avg: 0.8653333333333337\n",
      "Best fitness: 0.8666666666666667\n"
     ]
    },
    {
     "name": "stderr",
     "output_type": "stream",
     "text": [
      "\n",
      " 26%|██▌       | 129/500 [09:22<26:02,  4.21s/it]\u001B[A"
     ]
    },
    {
     "name": "stdout",
     "output_type": "stream",
     "text": [
      "Generation: 129\n",
      "Individuals: 50\n",
      "Ind avg: 0.8313333333333337\n",
      "Sel avg: 0.8306666666666667\n",
      "Best fitness: 0.8333333333333334\n"
     ]
    },
    {
     "name": "stderr",
     "output_type": "stream",
     "text": [
      "\n",
      " 26%|██▌       | 130/500 [09:26<25:02,  4.06s/it]\u001B[A"
     ]
    },
    {
     "name": "stdout",
     "output_type": "stream",
     "text": [
      "Generation: 130\n",
      "Individuals: 50\n",
      "Ind avg: 0.8360000000000002\n",
      "Sel avg: 0.8346666666666666\n",
      "Best fitness: 0.8666666666666667\n"
     ]
    },
    {
     "name": "stderr",
     "output_type": "stream",
     "text": [
      "\n",
      " 26%|██▌       | 131/500 [09:29<23:59,  3.90s/it]\u001B[A"
     ]
    },
    {
     "name": "stdout",
     "output_type": "stream",
     "text": [
      "Generation: 131\n",
      "Individuals: 50\n",
      "Ind avg: 0.9179999999999993\n",
      "Sel avg: 0.9280000000000002\n",
      "Best fitness: 0.9333333333333333\n"
     ]
    },
    {
     "name": "stderr",
     "output_type": "stream",
     "text": [
      "\n",
      " 26%|██▋       | 132/500 [09:34<26:22,  4.30s/it]\u001B[A"
     ]
    },
    {
     "name": "stdout",
     "output_type": "stream",
     "text": [
      "Generation: 132\n",
      "Individuals: 50\n",
      "Ind avg: 0.8979999999999992\n",
      "Sel avg: 0.9013333333333331\n",
      "Best fitness: 0.9333333333333333\n"
     ]
    },
    {
     "name": "stderr",
     "output_type": "stream",
     "text": [
      "\n",
      " 27%|██▋       | 133/500 [09:38<24:43,  4.04s/it]\u001B[A"
     ]
    },
    {
     "name": "stdout",
     "output_type": "stream",
     "text": [
      "Generation: 133\n",
      "Individuals: 50\n",
      "Ind avg: 0.9306666666666658\n",
      "Sel avg: 0.9293333333333333\n",
      "Best fitness: 0.9333333333333333\n"
     ]
    },
    {
     "name": "stderr",
     "output_type": "stream",
     "text": [
      "\n",
      " 27%|██▋       | 134/500 [09:43<26:48,  4.40s/it]\u001B[A"
     ]
    },
    {
     "name": "stdout",
     "output_type": "stream",
     "text": [
      "Generation: 134\n",
      "Individuals: 50\n",
      "Ind avg: 0.931999999999999\n",
      "Sel avg: 0.9320000000000002\n",
      "Best fitness: 0.9333333333333333\n"
     ]
    },
    {
     "name": "stderr",
     "output_type": "stream",
     "text": [
      "\n",
      " 27%|██▋       | 135/500 [09:47<26:53,  4.42s/it]\u001B[A"
     ]
    },
    {
     "name": "stdout",
     "output_type": "stream",
     "text": [
      "Generation: 135\n",
      "Individuals: 50\n",
      "Ind avg: 0.915999999999999\n",
      "Sel avg: 0.9333333333333335\n",
      "Best fitness: 0.9333333333333333\n"
     ]
    },
    {
     "name": "stderr",
     "output_type": "stream",
     "text": [
      "\n",
      " 27%|██▋       | 136/500 [09:52<26:38,  4.39s/it]\u001B[A"
     ]
    },
    {
     "name": "stdout",
     "output_type": "stream",
     "text": [
      "Generation: 136\n",
      "Individuals: 50\n",
      "Ind avg: 0.8653333333333337\n",
      "Sel avg: 0.866666666666667\n",
      "Best fitness: 0.8666666666666667\n"
     ]
    },
    {
     "name": "stderr",
     "output_type": "stream",
     "text": [
      "\n",
      " 27%|██▋       | 137/500 [09:55<25:18,  4.18s/it]\u001B[A"
     ]
    },
    {
     "name": "stdout",
     "output_type": "stream",
     "text": [
      "Generation: 137\n",
      "Individuals: 50\n",
      "Ind avg: 0.992\n",
      "Sel avg: 0.992\n",
      "Best fitness: 1.0\n"
     ]
    },
    {
     "name": "stderr",
     "output_type": "stream",
     "text": [
      "\n",
      " 28%|██▊       | 138/500 [09:59<24:19,  4.03s/it]\u001B[A"
     ]
    },
    {
     "name": "stdout",
     "output_type": "stream",
     "text": [
      "Generation: 138\n",
      "Individuals: 50\n",
      "Ind avg: 0.9673333333333334\n",
      "Sel avg: 0.9693333333333328\n",
      "Best fitness: 1.0\n"
     ]
    },
    {
     "name": "stderr",
     "output_type": "stream",
     "text": [
      "\n",
      " 28%|██▊       | 139/500 [10:02<22:14,  3.70s/it]\u001B[A"
     ]
    },
    {
     "name": "stdout",
     "output_type": "stream",
     "text": [
      "Generation: 139\n",
      "Individuals: 50\n",
      "Ind avg: 0.9306666666666658\n",
      "Sel avg: 0.9293333333333336\n",
      "Best fitness: 0.9333333333333333\n"
     ]
    },
    {
     "name": "stderr",
     "output_type": "stream",
     "text": [
      "\n",
      " 28%|██▊       | 140/500 [10:06<22:34,  3.76s/it]\u001B[A"
     ]
    },
    {
     "name": "stdout",
     "output_type": "stream",
     "text": [
      "Generation: 140\n",
      "Individuals: 50\n",
      "Ind avg: 0.8613333333333338\n",
      "Sel avg: 0.866666666666667\n",
      "Best fitness: 0.8666666666666667\n"
     ]
    },
    {
     "name": "stderr",
     "output_type": "stream",
     "text": [
      "\n",
      " 28%|██▊       | 141/500 [10:10<22:15,  3.72s/it]\u001B[A"
     ]
    },
    {
     "name": "stdout",
     "output_type": "stream",
     "text": [
      "Generation: 141\n",
      "Individuals: 50\n",
      "Ind avg: 0.9780000000000002\n",
      "Sel avg: 0.9799999999999998\n",
      "Best fitness: 1.0\n"
     ]
    },
    {
     "name": "stderr",
     "output_type": "stream",
     "text": [
      "\n",
      " 28%|██▊       | 142/500 [10:13<21:42,  3.64s/it]\u001B[A"
     ]
    },
    {
     "name": "stdout",
     "output_type": "stream",
     "text": [
      "Generation: 142\n",
      "Individuals: 50\n",
      "Ind avg: 0.8946666666666662\n",
      "Sel avg: 0.8933333333333331\n",
      "Best fitness: 0.9\n"
     ]
    },
    {
     "name": "stderr",
     "output_type": "stream",
     "text": [
      "\n",
      " 29%|██▊       | 143/500 [10:16<20:26,  3.43s/it]\u001B[A"
     ]
    },
    {
     "name": "stdout",
     "output_type": "stream",
     "text": [
      "Generation: 143\n",
      "Individuals: 50\n",
      "Ind avg: 0.9333333333333325\n",
      "Sel avg: 0.9333333333333335\n",
      "Best fitness: 0.9333333333333333\n"
     ]
    },
    {
     "name": "stderr",
     "output_type": "stream",
     "text": [
      "\n",
      " 29%|██▉       | 144/500 [10:19<20:28,  3.45s/it]\u001B[A"
     ]
    },
    {
     "name": "stdout",
     "output_type": "stream",
     "text": [
      "Generation: 144\n",
      "Individuals: 50\n",
      "Ind avg: 0.8986666666666658\n",
      "Sel avg: 0.8999999999999997\n",
      "Best fitness: 0.9\n"
     ]
    },
    {
     "name": "stderr",
     "output_type": "stream",
     "text": [
      "\n",
      " 29%|██▉       | 145/500 [10:23<21:14,  3.59s/it]\u001B[A"
     ]
    },
    {
     "name": "stdout",
     "output_type": "stream",
     "text": [
      "Generation: 145\n",
      "Individuals: 50\n",
      "Ind avg: 0.9680000000000001\n",
      "Sel avg: 0.9666666666666661\n",
      "Best fitness: 1.0\n"
     ]
    },
    {
     "name": "stderr",
     "output_type": "stream",
     "text": [
      "\n",
      " 29%|██▉       | 146/500 [10:28<23:19,  3.95s/it]\u001B[A"
     ]
    },
    {
     "name": "stdout",
     "output_type": "stream",
     "text": [
      "Generation: 146\n",
      "Individuals: 50\n",
      "Ind avg: 0.8959999999999992\n",
      "Sel avg: 0.8999999999999997\n",
      "Best fitness: 0.9\n"
     ]
    },
    {
     "name": "stderr",
     "output_type": "stream",
     "text": [
      "\n",
      " 29%|██▉       | 147/500 [10:33<23:57,  4.07s/it]\u001B[A"
     ]
    },
    {
     "name": "stdout",
     "output_type": "stream",
     "text": [
      "Generation: 147\n",
      "Individuals: 50\n",
      "Ind avg: 0.8986666666666658\n",
      "Sel avg: 0.8999999999999997\n",
      "Best fitness: 0.9\n"
     ]
    },
    {
     "name": "stderr",
     "output_type": "stream",
     "text": [
      "\n",
      " 30%|██▉       | 148/500 [10:36<23:19,  3.98s/it]\u001B[A"
     ]
    },
    {
     "name": "stdout",
     "output_type": "stream",
     "text": [
      "Generation: 148\n",
      "Individuals: 50\n",
      "Ind avg: 0.9673333333333334\n",
      "Sel avg: 0.9679999999999995\n",
      "Best fitness: 1.0\n"
     ]
    },
    {
     "name": "stderr",
     "output_type": "stream",
     "text": [
      "\n",
      " 30%|██▉       | 149/500 [10:40<22:38,  3.87s/it]\u001B[A"
     ]
    },
    {
     "name": "stdout",
     "output_type": "stream",
     "text": [
      "Generation: 149\n",
      "Individuals: 50\n",
      "Ind avg: 0.9339999999999992\n",
      "Sel avg: 0.9333333333333335\n",
      "Best fitness: 0.9666666666666667\n"
     ]
    },
    {
     "name": "stderr",
     "output_type": "stream",
     "text": [
      "\n",
      " 30%|███       | 150/500 [10:45<24:30,  4.20s/it]\u001B[A"
     ]
    },
    {
     "name": "stdout",
     "output_type": "stream",
     "text": [
      "Generation: 150\n",
      "Individuals: 50\n",
      "Ind avg: 0.9566666666666667\n",
      "Sel avg: 0.9586666666666662\n",
      "Best fitness: 0.9666666666666667\n"
     ]
    },
    {
     "name": "stderr",
     "output_type": "stream",
     "text": [
      "\n",
      " 30%|███       | 151/500 [10:49<23:41,  4.07s/it]\u001B[A"
     ]
    },
    {
     "name": "stdout",
     "output_type": "stream",
     "text": [
      "Generation: 151\n",
      "Individuals: 50\n",
      "Ind avg: 0.8919999999999993\n",
      "Sel avg: 0.8906666666666665\n",
      "Best fitness: 0.9\n"
     ]
    },
    {
     "name": "stderr",
     "output_type": "stream",
     "text": [
      "\n",
      " 30%|███       | 152/500 [10:52<22:34,  3.89s/it]\u001B[A"
     ]
    },
    {
     "name": "stdout",
     "output_type": "stream",
     "text": [
      "Generation: 152\n",
      "Individuals: 50\n",
      "Ind avg: 0.8793333333333332\n",
      "Sel avg: 0.8773333333333335\n",
      "Best fitness: 0.9333333333333333\n"
     ]
    },
    {
     "name": "stderr",
     "output_type": "stream",
     "text": [
      "\n",
      " 31%|███       | 153/500 [10:56<22:33,  3.90s/it]\u001B[A"
     ]
    },
    {
     "name": "stdout",
     "output_type": "stream",
     "text": [
      "Generation: 153\n",
      "Individuals: 50\n",
      "Ind avg: 0.8573333333333336\n",
      "Sel avg: 0.8693333333333336\n",
      "Best fitness: 0.9\n"
     ]
    },
    {
     "name": "stderr",
     "output_type": "stream",
     "text": [
      "\n",
      " 31%|███       | 154/500 [11:00<23:22,  4.05s/it]\u001B[A"
     ]
    },
    {
     "name": "stdout",
     "output_type": "stream",
     "text": [
      "Generation: 154\n",
      "Individuals: 50\n",
      "Ind avg: 0.992\n",
      "Sel avg: 0.9973333333333333\n",
      "Best fitness: 1.0\n"
     ]
    },
    {
     "name": "stderr",
     "output_type": "stream",
     "text": [
      "\n",
      " 31%|███       | 155/500 [11:05<24:43,  4.30s/it]\u001B[A"
     ]
    },
    {
     "name": "stdout",
     "output_type": "stream",
     "text": [
      "Generation: 155\n",
      "Individuals: 50\n",
      "Ind avg: 0.8386666666666669\n",
      "Sel avg: 0.836\n",
      "Best fitness: 0.8666666666666667\n"
     ]
    },
    {
     "name": "stderr",
     "output_type": "stream",
     "text": [
      "\n",
      " 31%|███       | 156/500 [11:09<24:16,  4.23s/it]\u001B[A"
     ]
    },
    {
     "name": "stdout",
     "output_type": "stream",
     "text": [
      "Generation: 156\n",
      "Individuals: 50\n",
      "Ind avg: 0.7999999999999997\n",
      "Sel avg: 0.8000000000000003\n",
      "Best fitness: 0.8\n"
     ]
    },
    {
     "name": "stderr",
     "output_type": "stream",
     "text": [
      "\n",
      " 31%|███▏      | 157/500 [11:13<23:28,  4.11s/it]\u001B[A"
     ]
    },
    {
     "name": "stdout",
     "output_type": "stream",
     "text": [
      "Generation: 157\n",
      "Individuals: 50\n",
      "Ind avg: 0.8979999999999992\n",
      "Sel avg: 0.8973333333333331\n",
      "Best fitness: 0.9\n"
     ]
    },
    {
     "name": "stderr",
     "output_type": "stream",
     "text": [
      "\n",
      " 32%|███▏      | 158/500 [11:17<23:33,  4.13s/it]\u001B[A"
     ]
    },
    {
     "name": "stdout",
     "output_type": "stream",
     "text": [
      "Generation: 158\n",
      "Individuals: 50\n",
      "Ind avg: 0.9873333333333334\n",
      "Sel avg: 1.0\n",
      "Best fitness: 1.0\n"
     ]
    },
    {
     "name": "stderr",
     "output_type": "stream",
     "text": [
      "\n",
      " 32%|███▏      | 159/500 [11:21<22:16,  3.92s/it]\u001B[A"
     ]
    },
    {
     "name": "stdout",
     "output_type": "stream",
     "text": [
      "Generation: 159\n",
      "Individuals: 50\n",
      "Ind avg: 0.9333333333333325\n",
      "Sel avg: 0.9333333333333335\n",
      "Best fitness: 0.9333333333333333\n"
     ]
    },
    {
     "name": "stderr",
     "output_type": "stream",
     "text": [
      "\n",
      " 32%|███▏      | 160/500 [11:24<21:28,  3.79s/it]\u001B[A"
     ]
    },
    {
     "name": "stdout",
     "output_type": "stream",
     "text": [
      "Generation: 160\n",
      "Individuals: 50\n",
      "Ind avg: 0.8646666666666671\n",
      "Sel avg: 0.8640000000000003\n",
      "Best fitness: 0.8666666666666667\n"
     ]
    },
    {
     "name": "stderr",
     "output_type": "stream",
     "text": [
      "\n",
      " 32%|███▏      | 161/500 [11:29<22:20,  3.95s/it]\u001B[A"
     ]
    },
    {
     "name": "stdout",
     "output_type": "stream",
     "text": [
      "Generation: 161\n",
      "Individuals: 50\n",
      "Ind avg: 0.9940000000000001\n",
      "Sel avg: 0.988\n",
      "Best fitness: 1.0\n"
     ]
    },
    {
     "name": "stderr",
     "output_type": "stream",
     "text": [
      "\n",
      " 32%|███▏      | 162/500 [11:33<22:28,  3.99s/it]\u001B[A"
     ]
    },
    {
     "name": "stdout",
     "output_type": "stream",
     "text": [
      "Generation: 162\n",
      "Individuals: 50\n",
      "Ind avg: 0.9586666666666668\n",
      "Sel avg: 0.9586666666666662\n",
      "Best fitness: 0.9666666666666667\n"
     ]
    },
    {
     "name": "stderr",
     "output_type": "stream",
     "text": [
      "\n",
      " 33%|███▎      | 163/500 [11:37<22:51,  4.07s/it]\u001B[A"
     ]
    },
    {
     "name": "stdout",
     "output_type": "stream",
     "text": [
      "Generation: 163\n",
      "Individuals: 50\n",
      "Ind avg: 0.8959999999999992\n",
      "Sel avg: 0.8999999999999997\n",
      "Best fitness: 0.9\n"
     ]
    },
    {
     "name": "stderr",
     "output_type": "stream",
     "text": [
      "\n",
      " 33%|███▎      | 164/500 [11:40<20:55,  3.74s/it]\u001B[A"
     ]
    },
    {
     "name": "stdout",
     "output_type": "stream",
     "text": [
      "Generation: 164\n",
      "Individuals: 50\n",
      "Ind avg: 0.9333333333333325\n",
      "Sel avg: 0.9333333333333335\n",
      "Best fitness: 0.9333333333333333\n"
     ]
    },
    {
     "name": "stderr",
     "output_type": "stream",
     "text": [
      "\n",
      " 33%|███▎      | 165/500 [11:44<20:37,  3.69s/it]\u001B[A"
     ]
    },
    {
     "name": "stdout",
     "output_type": "stream",
     "text": [
      "Generation: 165\n",
      "Individuals: 50\n",
      "Ind avg: 0.9326666666666658\n",
      "Sel avg: 0.9333333333333335\n",
      "Best fitness: 0.9333333333333333\n"
     ]
    },
    {
     "name": "stderr",
     "output_type": "stream",
     "text": [
      "\n",
      " 33%|███▎      | 166/500 [11:48<21:34,  3.88s/it]\u001B[A"
     ]
    },
    {
     "name": "stdout",
     "output_type": "stream",
     "text": [
      "Generation: 166\n",
      "Individuals: 50\n",
      "Ind avg: 0.7953333333333333\n",
      "Sel avg: 0.7853333333333335\n",
      "Best fitness: 0.8333333333333334\n"
     ]
    },
    {
     "name": "stderr",
     "output_type": "stream",
     "text": [
      "\n",
      " 33%|███▎      | 167/500 [11:53<22:52,  4.12s/it]\u001B[A"
     ]
    },
    {
     "name": "stdout",
     "output_type": "stream",
     "text": [
      "Generation: 167\n",
      "Individuals: 50\n",
      "Ind avg: 0.9093333333333327\n",
      "Sel avg: 0.9079999999999999\n",
      "Best fitness: 0.9666666666666667\n"
     ]
    },
    {
     "name": "stderr",
     "output_type": "stream",
     "text": [
      "\n",
      " 34%|███▎      | 168/500 [11:57<22:45,  4.11s/it]\u001B[A"
     ]
    },
    {
     "name": "stdout",
     "output_type": "stream",
     "text": [
      "Generation: 168\n",
      "Individuals: 50\n",
      "Ind avg: 0.9179999999999999\n",
      "Sel avg: 0.9119999999999996\n",
      "Best fitness: 0.9666666666666667\n"
     ]
    },
    {
     "name": "stderr",
     "output_type": "stream",
     "text": [
      "\n",
      " 34%|███▍      | 169/500 [12:00<22:00,  3.99s/it]\u001B[A"
     ]
    },
    {
     "name": "stdout",
     "output_type": "stream",
     "text": [
      "Generation: 169\n",
      "Individuals: 50\n",
      "Ind avg: 0.9159999999999999\n",
      "Sel avg: 0.9466666666666661\n",
      "Best fitness: 0.9666666666666667\n"
     ]
    },
    {
     "name": "stderr",
     "output_type": "stream",
     "text": [
      "\n",
      " 34%|███▍      | 170/500 [12:05<22:36,  4.11s/it]\u001B[A"
     ]
    },
    {
     "name": "stdout",
     "output_type": "stream",
     "text": [
      "Generation: 170\n",
      "Individuals: 50\n",
      "Ind avg: 0.9620000000000001\n",
      "Sel avg: 0.9573333333333328\n",
      "Best fitness: 0.9666666666666667\n"
     ]
    },
    {
     "name": "stderr",
     "output_type": "stream",
     "text": [
      "\n",
      " 34%|███▍      | 171/500 [12:08<20:32,  3.75s/it]\u001B[A"
     ]
    },
    {
     "name": "stdout",
     "output_type": "stream",
     "text": [
      "Generation: 171\n",
      "Individuals: 50\n",
      "Ind avg: 0.8686666666666666\n",
      "Sel avg: 0.8640000000000001\n",
      "Best fitness: 0.9\n"
     ]
    },
    {
     "name": "stderr",
     "output_type": "stream",
     "text": [
      "\n",
      " 34%|███▍      | 172/500 [12:13<23:10,  4.24s/it]\u001B[A"
     ]
    },
    {
     "name": "stdout",
     "output_type": "stream",
     "text": [
      "Generation: 172\n",
      "Individuals: 50\n",
      "Ind avg: 0.913999999999999\n",
      "Sel avg: 0.9106666666666667\n",
      "Best fitness: 0.9333333333333333\n"
     ]
    },
    {
     "name": "stderr",
     "output_type": "stream",
     "text": [
      "\n",
      " 35%|███▍      | 173/500 [12:17<23:18,  4.28s/it]\u001B[A"
     ]
    },
    {
     "name": "stdout",
     "output_type": "stream",
     "text": [
      "Generation: 173\n",
      "Individuals: 50\n",
      "Ind avg: 0.8706666666666665\n",
      "Sel avg: 0.8813333333333334\n",
      "Best fitness: 0.9\n"
     ]
    },
    {
     "name": "stderr",
     "output_type": "stream",
     "text": [
      "\n",
      " 35%|███▍      | 174/500 [12:21<22:49,  4.20s/it]\u001B[A"
     ]
    },
    {
     "name": "stdout",
     "output_type": "stream",
     "text": [
      "Generation: 174\n",
      "Individuals: 50\n",
      "Ind avg: 0.95\n",
      "Sel avg: 0.9599999999999995\n",
      "Best fitness: 0.9666666666666667\n"
     ]
    },
    {
     "name": "stderr",
     "output_type": "stream",
     "text": [
      "\n",
      " 35%|███▌      | 175/500 [12:27<24:35,  4.54s/it]\u001B[A"
     ]
    },
    {
     "name": "stdout",
     "output_type": "stream",
     "text": [
      "Generation: 175\n",
      "Individuals: 50\n",
      "Ind avg: 0.9333333333333325\n",
      "Sel avg: 0.9333333333333335\n",
      "Best fitness: 0.9333333333333333\n"
     ]
    },
    {
     "name": "stderr",
     "output_type": "stream",
     "text": [
      "\n",
      " 35%|███▌      | 176/500 [12:30<22:48,  4.23s/it]\u001B[A"
     ]
    },
    {
     "name": "stdout",
     "output_type": "stream",
     "text": [
      "Generation: 176\n",
      "Individuals: 50\n",
      "Ind avg: 0.890666666666666\n",
      "Sel avg: 0.8826666666666667\n",
      "Best fitness: 0.9\n"
     ]
    },
    {
     "name": "stderr",
     "output_type": "stream",
     "text": [
      "\n",
      " 35%|███▌      | 177/500 [12:35<22:51,  4.25s/it]\u001B[A"
     ]
    },
    {
     "name": "stdout",
     "output_type": "stream",
     "text": [
      "Generation: 177\n",
      "Individuals: 50\n",
      "Ind avg: 0.8206666666666667\n",
      "Sel avg: 0.8213333333333334\n",
      "Best fitness: 0.8666666666666667\n"
     ]
    },
    {
     "name": "stderr",
     "output_type": "stream",
     "text": [
      "\n",
      " 36%|███▌      | 178/500 [12:39<23:12,  4.33s/it]\u001B[A"
     ]
    },
    {
     "name": "stdout",
     "output_type": "stream",
     "text": [
      "Generation: 178\n",
      "Individuals: 50\n",
      "Ind avg: 0.8866666666666658\n",
      "Sel avg: 0.9026666666666664\n",
      "Best fitness: 0.9333333333333333\n"
     ]
    },
    {
     "name": "stderr",
     "output_type": "stream",
     "text": [
      "\n",
      " 36%|███▌      | 179/500 [12:44<24:16,  4.54s/it]\u001B[A"
     ]
    },
    {
     "name": "stdout",
     "output_type": "stream",
     "text": [
      "Generation: 179\n",
      "Individuals: 50\n",
      "Ind avg: 0.8560000000000003\n",
      "Sel avg: 0.866666666666667\n",
      "Best fitness: 0.9333333333333333\n"
     ]
    },
    {
     "name": "stderr",
     "output_type": "stream",
     "text": [
      "\n",
      " 36%|███▌      | 180/500 [12:49<24:06,  4.52s/it]\u001B[A"
     ]
    },
    {
     "name": "stdout",
     "output_type": "stream",
     "text": [
      "Generation: 180\n",
      "Individuals: 50\n",
      "Ind avg: 0.8039999999999999\n",
      "Sel avg: 0.8106666666666669\n",
      "Best fitness: 0.8666666666666667\n"
     ]
    },
    {
     "name": "stderr",
     "output_type": "stream",
     "text": [
      "\n",
      " 36%|███▌      | 181/500 [12:54<25:10,  4.73s/it]\u001B[A"
     ]
    },
    {
     "name": "stdout",
     "output_type": "stream",
     "text": [
      "Generation: 181\n",
      "Individuals: 50\n",
      "Ind avg: 0.9653333333333335\n",
      "Sel avg: 0.9613333333333328\n",
      "Best fitness: 0.9666666666666667\n"
     ]
    },
    {
     "name": "stderr",
     "output_type": "stream",
     "text": [
      "\n",
      " 36%|███▋      | 182/500 [12:57<22:44,  4.29s/it]\u001B[A"
     ]
    },
    {
     "name": "stdout",
     "output_type": "stream",
     "text": [
      "Generation: 182\n",
      "Individuals: 50\n",
      "Ind avg: 0.9499999999999998\n",
      "Sel avg: 0.9479999999999998\n",
      "Best fitness: 0.9666666666666667\n"
     ]
    },
    {
     "name": "stderr",
     "output_type": "stream",
     "text": [
      "\n",
      " 37%|███▋      | 183/500 [13:01<22:45,  4.31s/it]\u001B[A"
     ]
    },
    {
     "name": "stdout",
     "output_type": "stream",
     "text": [
      "Generation: 183\n",
      "Individuals: 50\n",
      "Ind avg: 0.9660000000000001\n",
      "Sel avg: 0.9666666666666661\n",
      "Best fitness: 0.9666666666666667\n"
     ]
    },
    {
     "name": "stderr",
     "output_type": "stream",
     "text": [
      "\n",
      " 37%|███▋      | 184/500 [13:05<21:27,  4.08s/it]\u001B[A"
     ]
    },
    {
     "name": "stdout",
     "output_type": "stream",
     "text": [
      "Generation: 184\n",
      "Individuals: 50\n",
      "Ind avg: 0.8420000000000001\n",
      "Sel avg: 0.8533333333333332\n",
      "Best fitness: 0.9\n"
     ]
    },
    {
     "name": "stderr",
     "output_type": "stream",
     "text": [
      "\n",
      " 37%|███▋      | 185/500 [13:11<24:40,  4.70s/it]\u001B[A"
     ]
    },
    {
     "name": "stdout",
     "output_type": "stream",
     "text": [
      "Generation: 185\n",
      "Individuals: 50\n",
      "Ind avg: 0.9713333333333334\n",
      "Sel avg: 0.9693333333333328\n",
      "Best fitness: 1.0\n"
     ]
    },
    {
     "name": "stderr",
     "output_type": "stream",
     "text": [
      "\n",
      " 37%|███▋      | 186/500 [13:15<23:49,  4.55s/it]\u001B[A"
     ]
    },
    {
     "name": "stdout",
     "output_type": "stream",
     "text": [
      "Generation: 186\n",
      "Individuals: 50\n",
      "Ind avg: 0.8766666666666667\n",
      "Sel avg: 0.8866666666666667\n",
      "Best fitness: 0.9\n"
     ]
    },
    {
     "name": "stderr",
     "output_type": "stream",
     "text": [
      "\n",
      " 37%|███▋      | 187/500 [13:20<24:04,  4.62s/it]\u001B[A"
     ]
    },
    {
     "name": "stdout",
     "output_type": "stream",
     "text": [
      "Generation: 187\n",
      "Individuals: 50\n",
      "Ind avg: 0.9293333333333328\n",
      "Sel avg: 0.9359999999999999\n",
      "Best fitness: 1.0\n"
     ]
    },
    {
     "name": "stderr",
     "output_type": "stream",
     "text": [
      "\n",
      " 38%|███▊      | 188/500 [13:25<24:18,  4.68s/it]\u001B[A"
     ]
    },
    {
     "name": "stdout",
     "output_type": "stream",
     "text": [
      "Generation: 188\n",
      "Individuals: 50\n",
      "Ind avg: 0.9353333333333328\n",
      "Sel avg: 0.9320000000000002\n",
      "Best fitness: 0.9666666666666667\n"
     ]
    },
    {
     "name": "stderr",
     "output_type": "stream",
     "text": [
      "\n",
      " 38%|███▊      | 189/500 [13:30<24:37,  4.75s/it]\u001B[A"
     ]
    },
    {
     "name": "stdout",
     "output_type": "stream",
     "text": [
      "Generation: 189\n",
      "Individuals: 50\n",
      "Ind avg: 0.9199999999999992\n",
      "Sel avg: 0.9333333333333335\n",
      "Best fitness: 0.9333333333333333\n"
     ]
    },
    {
     "name": "stderr",
     "output_type": "stream",
     "text": [
      "\n",
      " 38%|███▊      | 190/500 [13:34<22:58,  4.45s/it]\u001B[A"
     ]
    },
    {
     "name": "stdout",
     "output_type": "stream",
     "text": [
      "Generation: 190\n",
      "Individuals: 50\n",
      "Ind avg: 0.8779999999999996\n",
      "Sel avg: 0.872\n",
      "Best fitness: 0.9\n"
     ]
    },
    {
     "name": "stderr",
     "output_type": "stream",
     "text": [
      "\n",
      " 38%|███▊      | 191/500 [13:39<24:15,  4.71s/it]\u001B[A"
     ]
    },
    {
     "name": "stdout",
     "output_type": "stream",
     "text": [
      "Generation: 191\n",
      "Individuals: 50\n",
      "Ind avg: 0.9233333333333326\n",
      "Sel avg: 0.9280000000000002\n",
      "Best fitness: 0.9333333333333333\n"
     ]
    },
    {
     "name": "stderr",
     "output_type": "stream",
     "text": [
      "\n",
      " 38%|███▊      | 192/500 [13:43<23:21,  4.55s/it]\u001B[A"
     ]
    },
    {
     "name": "stdout",
     "output_type": "stream",
     "text": [
      "Generation: 192\n",
      "Individuals: 50\n",
      "Ind avg: 0.9313333333333325\n",
      "Sel avg: 0.9320000000000002\n",
      "Best fitness: 0.9333333333333333\n"
     ]
    },
    {
     "name": "stderr",
     "output_type": "stream",
     "text": [
      "\n",
      " 39%|███▊      | 193/500 [13:47<22:10,  4.33s/it]\u001B[A"
     ]
    },
    {
     "name": "stdout",
     "output_type": "stream",
     "text": [
      "Generation: 193\n",
      "Individuals: 50\n",
      "Ind avg: 0.9333333333333325\n",
      "Sel avg: 0.9333333333333335\n",
      "Best fitness: 0.9333333333333333\n"
     ]
    },
    {
     "name": "stderr",
     "output_type": "stream",
     "text": [
      "\n",
      " 39%|███▉      | 194/500 [13:51<21:37,  4.24s/it]\u001B[A"
     ]
    },
    {
     "name": "stdout",
     "output_type": "stream",
     "text": [
      "Generation: 194\n",
      "Individuals: 50\n",
      "Ind avg: 0.9413333333333331\n",
      "Sel avg: 0.9413333333333332\n",
      "Best fitness: 0.9666666666666667\n"
     ]
    },
    {
     "name": "stderr",
     "output_type": "stream",
     "text": [
      "\n",
      " 39%|███▉      | 195/500 [13:54<20:26,  4.02s/it]\u001B[A"
     ]
    },
    {
     "name": "stdout",
     "output_type": "stream",
     "text": [
      "Generation: 195\n",
      "Individuals: 50\n",
      "Ind avg: 0.9013333333333325\n",
      "Sel avg: 0.8999999999999997\n",
      "Best fitness: 0.9666666666666667\n"
     ]
    },
    {
     "name": "stderr",
     "output_type": "stream",
     "text": [
      "\n",
      " 39%|███▉      | 196/500 [13:58<20:04,  3.96s/it]\u001B[A"
     ]
    },
    {
     "name": "stdout",
     "output_type": "stream",
     "text": [
      "Generation: 196\n",
      "Individuals: 50\n",
      "Ind avg: 0.9853333333333336\n",
      "Sel avg: 0.9879999999999999\n",
      "Best fitness: 1.0\n"
     ]
    },
    {
     "name": "stderr",
     "output_type": "stream",
     "text": [
      "\n",
      " 39%|███▉      | 197/500 [14:02<19:51,  3.93s/it]\u001B[A"
     ]
    },
    {
     "name": "stdout",
     "output_type": "stream",
     "text": [
      "Generation: 197\n",
      "Individuals: 50\n",
      "Ind avg: 0.9660000000000001\n",
      "Sel avg: 0.9666666666666661\n",
      "Best fitness: 0.9666666666666667\n"
     ]
    },
    {
     "name": "stderr",
     "output_type": "stream",
     "text": [
      "\n",
      " 40%|███▉      | 198/500 [14:05<18:55,  3.76s/it]\u001B[A"
     ]
    },
    {
     "name": "stdout",
     "output_type": "stream",
     "text": [
      "Generation: 198\n",
      "Individuals: 50\n",
      "Ind avg: 0.8726666666666668\n",
      "Sel avg: 0.8773333333333335\n",
      "Best fitness: 0.9\n"
     ]
    },
    {
     "name": "stderr",
     "output_type": "stream",
     "text": [
      "\n",
      " 40%|███▉      | 199/500 [14:09<18:23,  3.66s/it]\u001B[A"
     ]
    },
    {
     "name": "stdout",
     "output_type": "stream",
     "text": [
      "Generation: 199\n",
      "Individuals: 50\n",
      "Ind avg: 0.8739999999999994\n",
      "Sel avg: 0.8839999999999998\n",
      "Best fitness: 0.9\n"
     ]
    },
    {
     "name": "stderr",
     "output_type": "stream",
     "text": [
      "\n",
      " 40%|████      | 200/500 [14:14<20:43,  4.14s/it]\u001B[A"
     ]
    },
    {
     "name": "stdout",
     "output_type": "stream",
     "text": [
      "Generation: 200\n",
      "Individuals: 50\n",
      "Ind avg: 0.858666666666667\n",
      "Sel avg: 0.8640000000000003\n",
      "Best fitness: 0.9\n"
     ]
    },
    {
     "name": "stderr",
     "output_type": "stream",
     "text": [
      "\n",
      " 40%|████      | 201/500 [14:18<20:28,  4.11s/it]\u001B[A"
     ]
    },
    {
     "name": "stdout",
     "output_type": "stream",
     "text": [
      "Generation: 201\n",
      "Individuals: 50\n",
      "Ind avg: 0.8039999999999998\n",
      "Sel avg: 0.806666666666667\n",
      "Best fitness: 0.8333333333333334\n"
     ]
    },
    {
     "name": "stderr",
     "output_type": "stream",
     "text": [
      "\n",
      " 40%|████      | 202/500 [14:23<20:51,  4.20s/it]\u001B[A"
     ]
    },
    {
     "name": "stdout",
     "output_type": "stream",
     "text": [
      "Generation: 202\n",
      "Individuals: 50\n",
      "Ind avg: 0.9126666666666658\n",
      "Sel avg: 0.9266666666666667\n",
      "Best fitness: 0.9333333333333333\n"
     ]
    },
    {
     "name": "stderr",
     "output_type": "stream",
     "text": [
      "\n",
      " 41%|████      | 203/500 [14:26<20:06,  4.06s/it]\u001B[A"
     ]
    },
    {
     "name": "stdout",
     "output_type": "stream",
     "text": [
      "Generation: 203\n",
      "Individuals: 50\n",
      "Ind avg: 0.9660000000000001\n",
      "Sel avg: 0.9666666666666661\n",
      "Best fitness: 0.9666666666666667\n"
     ]
    },
    {
     "name": "stderr",
     "output_type": "stream",
     "text": [
      "\n",
      " 41%|████      | 204/500 [14:31<20:13,  4.10s/it]\u001B[A"
     ]
    },
    {
     "name": "stdout",
     "output_type": "stream",
     "text": [
      "Generation: 204\n",
      "Individuals: 50\n",
      "Ind avg: 0.900666666666666\n",
      "Sel avg: 0.905333333333333\n",
      "Best fitness: 0.9666666666666667\n"
     ]
    },
    {
     "name": "stderr",
     "output_type": "stream",
     "text": [
      "\n",
      " 41%|████      | 205/500 [14:35<20:28,  4.17s/it]\u001B[A"
     ]
    },
    {
     "name": "stdout",
     "output_type": "stream",
     "text": [
      "Generation: 205\n",
      "Individuals: 50\n",
      "Ind avg: 0.9253333333333323\n",
      "Sel avg: 0.9346666666666666\n",
      "Best fitness: 0.9666666666666667\n"
     ]
    },
    {
     "name": "stderr",
     "output_type": "stream",
     "text": [
      "\n",
      " 41%|████      | 206/500 [14:39<19:43,  4.03s/it]\u001B[A"
     ]
    },
    {
     "name": "stdout",
     "output_type": "stream",
     "text": [
      "Generation: 206\n",
      "Individuals: 50\n",
      "Ind avg: 0.9820000000000002\n",
      "Sel avg: 0.9866666666666665\n",
      "Best fitness: 1.0\n"
     ]
    },
    {
     "name": "stderr",
     "output_type": "stream",
     "text": [
      "\n",
      " 41%|████▏     | 207/500 [14:42<19:13,  3.94s/it]\u001B[A"
     ]
    },
    {
     "name": "stdout",
     "output_type": "stream",
     "text": [
      "Generation: 207\n",
      "Individuals: 50\n",
      "Ind avg: 0.8993333333333325\n",
      "Sel avg: 0.8986666666666665\n",
      "Best fitness: 0.9333333333333333\n"
     ]
    },
    {
     "name": "stderr",
     "output_type": "stream",
     "text": [
      "\n",
      " 42%|████▏     | 208/500 [14:47<19:59,  4.11s/it]\u001B[A"
     ]
    },
    {
     "name": "stdout",
     "output_type": "stream",
     "text": [
      "Generation: 208\n",
      "Individuals: 50\n",
      "Ind avg: 0.8806666666666664\n",
      "Sel avg: 0.8760000000000002\n",
      "Best fitness: 0.9\n"
     ]
    },
    {
     "name": "stderr",
     "output_type": "stream",
     "text": [
      "\n",
      " 42%|████▏     | 209/500 [14:50<19:08,  3.95s/it]\u001B[A"
     ]
    },
    {
     "name": "stdout",
     "output_type": "stream",
     "text": [
      "Generation: 209\n",
      "Individuals: 50\n",
      "Ind avg: 0.9253333333333325\n",
      "Sel avg: 0.9279999999999999\n",
      "Best fitness: 0.9666666666666667\n"
     ]
    },
    {
     "name": "stderr",
     "output_type": "stream",
     "text": [
      "\n",
      " 42%|████▏     | 210/500 [14:54<18:19,  3.79s/it]\u001B[A"
     ]
    },
    {
     "name": "stdout",
     "output_type": "stream",
     "text": [
      "Generation: 210\n",
      "Individuals: 50\n",
      "Ind avg: 0.8246666666666669\n",
      "Sel avg: 0.836\n",
      "Best fitness: 0.9333333333333333\n"
     ]
    },
    {
     "name": "stderr",
     "output_type": "stream",
     "text": [
      "\n",
      " 42%|████▏     | 211/500 [14:57<17:40,  3.67s/it]\u001B[A"
     ]
    },
    {
     "name": "stdout",
     "output_type": "stream",
     "text": [
      "Generation: 211\n",
      "Individuals: 50\n",
      "Ind avg: 0.9159999999999993\n",
      "Sel avg: 0.9253333333333333\n",
      "Best fitness: 0.9333333333333333\n"
     ]
    },
    {
     "name": "stderr",
     "output_type": "stream",
     "text": [
      "\n",
      " 42%|████▏     | 212/500 [15:01<17:33,  3.66s/it]\u001B[A"
     ]
    },
    {
     "name": "stdout",
     "output_type": "stream",
     "text": [
      "Generation: 212\n",
      "Individuals: 50\n",
      "Ind avg: 0.8839999999999993\n",
      "Sel avg: 0.8839999999999999\n",
      "Best fitness: 0.9\n"
     ]
    },
    {
     "name": "stderr",
     "output_type": "stream",
     "text": [
      "\n",
      " 43%|████▎     | 213/500 [15:05<18:32,  3.88s/it]\u001B[A"
     ]
    },
    {
     "name": "stdout",
     "output_type": "stream",
     "text": [
      "Generation: 213\n",
      "Individuals: 50\n",
      "Ind avg: 0.8353333333333336\n",
      "Sel avg: 0.8333333333333333\n",
      "Best fitness: 0.9\n"
     ]
    },
    {
     "name": "stderr",
     "output_type": "stream",
     "text": [
      "\n",
      " 43%|████▎     | 214/500 [15:10<20:05,  4.21s/it]\u001B[A"
     ]
    },
    {
     "name": "stdout",
     "output_type": "stream",
     "text": [
      "Generation: 214\n",
      "Individuals: 50\n",
      "Ind avg: 0.7999999999999997\n",
      "Sel avg: 0.8000000000000003\n",
      "Best fitness: 0.8\n"
     ]
    },
    {
     "name": "stderr",
     "output_type": "stream",
     "text": [
      "\n",
      " 43%|████▎     | 215/500 [15:15<21:06,  4.44s/it]\u001B[A"
     ]
    },
    {
     "name": "stdout",
     "output_type": "stream",
     "text": [
      "Generation: 215\n",
      "Individuals: 50\n",
      "Ind avg: 0.9093333333333323\n",
      "Sel avg: 0.9053333333333332\n",
      "Best fitness: 0.9333333333333333\n"
     ]
    },
    {
     "name": "stderr",
     "output_type": "stream",
     "text": [
      "\n",
      " 43%|████▎     | 216/500 [15:19<19:53,  4.20s/it]\u001B[A"
     ]
    },
    {
     "name": "stdout",
     "output_type": "stream",
     "text": [
      "Generation: 216\n",
      "Individuals: 50\n",
      "Ind avg: 0.9846666666666667\n",
      "Sel avg: 0.9986666666666667\n",
      "Best fitness: 1.0\n"
     ]
    },
    {
     "name": "stderr",
     "output_type": "stream",
     "text": [
      "\n",
      " 43%|████▎     | 217/500 [15:23<19:29,  4.13s/it]\u001B[A"
     ]
    },
    {
     "name": "stdout",
     "output_type": "stream",
     "text": [
      "Generation: 217\n",
      "Individuals: 50\n",
      "Ind avg: 0.9319999999999993\n",
      "Sel avg: 0.9373333333333335\n",
      "Best fitness: 0.9666666666666667\n"
     ]
    },
    {
     "name": "stderr",
     "output_type": "stream",
     "text": [
      "\n",
      " 44%|████▎     | 218/500 [15:29<21:48,  4.64s/it]\u001B[A"
     ]
    },
    {
     "name": "stdout",
     "output_type": "stream",
     "text": [
      "Generation: 218\n",
      "Individuals: 50\n",
      "Ind avg: 0.9646666666666667\n",
      "Sel avg: 0.9666666666666661\n",
      "Best fitness: 0.9666666666666667\n"
     ]
    },
    {
     "name": "stderr",
     "output_type": "stream",
     "text": [
      "\n",
      " 44%|████▍     | 219/500 [15:32<20:02,  4.28s/it]\u001B[A"
     ]
    },
    {
     "name": "stdout",
     "output_type": "stream",
     "text": [
      "Generation: 219\n",
      "Individuals: 50\n",
      "Ind avg: 0.9993333333333334\n",
      "Sel avg: 1.0\n",
      "Best fitness: 1.0\n"
     ]
    },
    {
     "name": "stderr",
     "output_type": "stream",
     "text": [
      "\n",
      " 44%|████▍     | 220/500 [15:37<20:28,  4.39s/it]\u001B[A"
     ]
    },
    {
     "name": "stdout",
     "output_type": "stream",
     "text": [
      "Generation: 220\n",
      "Individuals: 50\n",
      "Ind avg: 0.8993333333333325\n",
      "Sel avg: 0.8986666666666665\n",
      "Best fitness: 0.9333333333333333\n"
     ]
    },
    {
     "name": "stderr",
     "output_type": "stream",
     "text": [
      "\n",
      " 44%|████▍     | 221/500 [15:41<20:57,  4.51s/it]\u001B[A"
     ]
    },
    {
     "name": "stdout",
     "output_type": "stream",
     "text": [
      "Generation: 221\n",
      "Individuals: 50\n",
      "Ind avg: 0.866666666666667\n",
      "Sel avg: 0.866666666666667\n",
      "Best fitness: 0.8666666666666667\n"
     ]
    },
    {
     "name": "stderr",
     "output_type": "stream",
     "text": [
      "\n",
      " 44%|████▍     | 222/500 [15:46<21:12,  4.58s/it]\u001B[A"
     ]
    },
    {
     "name": "stdout",
     "output_type": "stream",
     "text": [
      "Generation: 222\n",
      "Individuals: 50\n",
      "Ind avg: 0.8626666666666669\n",
      "Sel avg: 0.8613333333333335\n",
      "Best fitness: 0.8666666666666667\n"
     ]
    },
    {
     "name": "stderr",
     "output_type": "stream",
     "text": [
      "\n",
      " 45%|████▍     | 223/500 [15:50<19:37,  4.25s/it]\u001B[A"
     ]
    },
    {
     "name": "stdout",
     "output_type": "stream",
     "text": [
      "Generation: 223\n",
      "Individuals: 50\n",
      "Ind avg: 0.8333333333333336\n",
      "Sel avg: 0.8333333333333333\n",
      "Best fitness: 0.8333333333333334\n"
     ]
    },
    {
     "name": "stderr",
     "output_type": "stream",
     "text": [
      "\n",
      " 45%|████▍     | 224/500 [15:55<21:08,  4.60s/it]\u001B[A"
     ]
    },
    {
     "name": "stdout",
     "output_type": "stream",
     "text": [
      "Generation: 224\n",
      "Individuals: 50\n",
      "Ind avg: 0.9279999999999994\n",
      "Sel avg: 0.9279999999999999\n",
      "Best fitness: 0.9666666666666667\n"
     ]
    },
    {
     "name": "stderr",
     "output_type": "stream",
     "text": [
      "\n",
      " 45%|████▌     | 225/500 [15:59<20:14,  4.42s/it]\u001B[A"
     ]
    },
    {
     "name": "stdout",
     "output_type": "stream",
     "text": [
      "Generation: 225\n",
      "Individuals: 50\n",
      "Ind avg: 0.910666666666666\n",
      "Sel avg: 0.9093333333333331\n",
      "Best fitness: 0.9666666666666667\n"
     ]
    },
    {
     "name": "stderr",
     "output_type": "stream",
     "text": [
      "\n",
      " 45%|████▌     | 226/500 [16:03<19:44,  4.32s/it]\u001B[A"
     ]
    },
    {
     "name": "stdout",
     "output_type": "stream",
     "text": [
      "Generation: 226\n",
      "Individuals: 50\n",
      "Ind avg: 0.9173333333333324\n",
      "Sel avg: 0.9293333333333336\n",
      "Best fitness: 0.9666666666666667\n"
     ]
    },
    {
     "name": "stderr",
     "output_type": "stream",
     "text": [
      "\n",
      " 45%|████▌     | 227/500 [16:07<19:07,  4.20s/it]\u001B[A"
     ]
    },
    {
     "name": "stdout",
     "output_type": "stream",
     "text": [
      "Generation: 227\n",
      "Individuals: 50\n",
      "Ind avg: 0.9633333333333333\n",
      "Sel avg: 0.9639999999999995\n",
      "Best fitness: 0.9666666666666667\n"
     ]
    },
    {
     "name": "stderr",
     "output_type": "stream",
     "text": [
      "\n",
      " 46%|████▌     | 228/500 [16:10<17:17,  3.81s/it]\u001B[A"
     ]
    },
    {
     "name": "stdout",
     "output_type": "stream",
     "text": [
      "Generation: 228\n",
      "Individuals: 50\n",
      "Ind avg: 0.8606666666666669\n",
      "Sel avg: 0.8613333333333335\n",
      "Best fitness: 0.9\n"
     ]
    },
    {
     "name": "stderr",
     "output_type": "stream",
     "text": [
      "\n",
      " 46%|████▌     | 229/500 [16:14<17:11,  3.81s/it]\u001B[A"
     ]
    },
    {
     "name": "stdout",
     "output_type": "stream",
     "text": [
      "Generation: 229\n",
      "Individuals: 50\n",
      "Ind avg: 0.8680000000000004\n",
      "Sel avg: 0.866666666666667\n",
      "Best fitness: 0.9333333333333333\n"
     ]
    },
    {
     "name": "stderr",
     "output_type": "stream",
     "text": [
      "\n",
      " 46%|████▌     | 230/500 [16:17<16:23,  3.64s/it]\u001B[A"
     ]
    },
    {
     "name": "stdout",
     "output_type": "stream",
     "text": [
      "Generation: 230\n",
      "Individuals: 50\n",
      "Ind avg: 0.8926666666666658\n",
      "Sel avg: 0.8999999999999997\n",
      "Best fitness: 0.9333333333333333\n"
     ]
    },
    {
     "name": "stderr",
     "output_type": "stream",
     "text": [
      "\n",
      " 46%|████▌     | 231/500 [16:21<16:27,  3.67s/it]\u001B[A"
     ]
    },
    {
     "name": "stdout",
     "output_type": "stream",
     "text": [
      "Generation: 231\n",
      "Individuals: 50\n",
      "Ind avg: 0.8533333333333333\n",
      "Sel avg: 0.8573333333333334\n",
      "Best fitness: 0.9\n"
     ]
    },
    {
     "name": "stderr",
     "output_type": "stream",
     "text": [
      "\n",
      " 46%|████▋     | 232/500 [16:24<16:00,  3.59s/it]\u001B[A"
     ]
    },
    {
     "name": "stdout",
     "output_type": "stream",
     "text": [
      "Generation: 232\n",
      "Individuals: 50\n",
      "Ind avg: 0.8593333333333336\n",
      "Sel avg: 0.8533333333333334\n",
      "Best fitness: 0.9\n"
     ]
    },
    {
     "name": "stderr",
     "output_type": "stream",
     "text": [
      "\n",
      " 47%|████▋     | 233/500 [16:28<16:47,  3.77s/it]\u001B[A"
     ]
    },
    {
     "name": "stdout",
     "output_type": "stream",
     "text": [
      "Generation: 233\n",
      "Individuals: 50\n",
      "Ind avg: 0.850666666666667\n",
      "Sel avg: 0.8493333333333334\n",
      "Best fitness: 0.8666666666666667\n"
     ]
    },
    {
     "name": "stderr",
     "output_type": "stream",
     "text": [
      "\n",
      " 47%|████▋     | 234/500 [16:32<17:03,  3.85s/it]\u001B[A"
     ]
    },
    {
     "name": "stdout",
     "output_type": "stream",
     "text": [
      "Generation: 234\n",
      "Individuals: 50\n",
      "Ind avg: 0.9333333333333325\n",
      "Sel avg: 0.9333333333333335\n",
      "Best fitness: 0.9333333333333333\n"
     ]
    },
    {
     "name": "stderr",
     "output_type": "stream",
     "text": [
      "\n",
      " 47%|████▋     | 235/500 [16:36<16:16,  3.68s/it]\u001B[A"
     ]
    },
    {
     "name": "stdout",
     "output_type": "stream",
     "text": [
      "Generation: 235\n",
      "Individuals: 50\n",
      "Ind avg: 0.900666666666666\n",
      "Sel avg: 0.8999999999999997\n",
      "Best fitness: 0.9333333333333333\n"
     ]
    },
    {
     "name": "stderr",
     "output_type": "stream",
     "text": [
      "\n",
      " 47%|████▋     | 236/500 [16:40<16:34,  3.77s/it]\u001B[A"
     ]
    },
    {
     "name": "stdout",
     "output_type": "stream",
     "text": [
      "Generation: 236\n",
      "Individuals: 50\n",
      "Ind avg: 0.866666666666667\n",
      "Sel avg: 0.866666666666667\n",
      "Best fitness: 0.8666666666666667\n"
     ]
    },
    {
     "name": "stderr",
     "output_type": "stream",
     "text": [
      "\n",
      " 47%|████▋     | 237/500 [16:43<15:37,  3.57s/it]\u001B[A"
     ]
    },
    {
     "name": "stdout",
     "output_type": "stream",
     "text": [
      "Generation: 237\n",
      "Individuals: 50\n",
      "Ind avg: 0.8353333333333335\n",
      "Sel avg: 0.8466666666666666\n",
      "Best fitness: 0.9333333333333333\n"
     ]
    },
    {
     "name": "stderr",
     "output_type": "stream",
     "text": [
      "\n",
      " 48%|████▊     | 238/500 [16:47<16:08,  3.70s/it]\u001B[A"
     ]
    },
    {
     "name": "stdout",
     "output_type": "stream",
     "text": [
      "Generation: 238\n",
      "Individuals: 50\n",
      "Ind avg: 0.8380000000000001\n",
      "Sel avg: 0.836\n",
      "Best fitness: 0.9\n"
     ]
    },
    {
     "name": "stderr",
     "output_type": "stream",
     "text": [
      "\n",
      " 48%|████▊     | 239/500 [16:50<15:26,  3.55s/it]\u001B[A"
     ]
    },
    {
     "name": "stdout",
     "output_type": "stream",
     "text": [
      "Generation: 239\n",
      "Individuals: 50\n",
      "Ind avg: 0.9026666666666658\n",
      "Sel avg: 0.8999999999999997\n",
      "Best fitness: 1.0\n"
     ]
    },
    {
     "name": "stderr",
     "output_type": "stream",
     "text": [
      "\n",
      " 48%|████▊     | 240/500 [16:53<14:46,  3.41s/it]\u001B[A"
     ]
    },
    {
     "name": "stdout",
     "output_type": "stream",
     "text": [
      "Generation: 240\n",
      "Individuals: 50\n",
      "Ind avg: 0.8680000000000004\n",
      "Sel avg: 0.8733333333333335\n",
      "Best fitness: 0.9\n"
     ]
    },
    {
     "name": "stderr",
     "output_type": "stream",
     "text": [
      "\n",
      " 48%|████▊     | 241/500 [16:57<15:40,  3.63s/it]\u001B[A"
     ]
    },
    {
     "name": "stdout",
     "output_type": "stream",
     "text": [
      "Generation: 241\n",
      "Individuals: 50\n",
      "Ind avg: 0.9353333333333324\n",
      "Sel avg: 0.9333333333333335\n",
      "Best fitness: 0.9666666666666667\n"
     ]
    },
    {
     "name": "stderr",
     "output_type": "stream",
     "text": [
      "\n",
      " 48%|████▊     | 242/500 [17:01<15:50,  3.68s/it]\u001B[A"
     ]
    },
    {
     "name": "stdout",
     "output_type": "stream",
     "text": [
      "Generation: 242\n",
      "Individuals: 50\n",
      "Ind avg: 0.9886666666666666\n",
      "Sel avg: 0.9853333333333331\n",
      "Best fitness: 1.0\n"
     ]
    },
    {
     "name": "stderr",
     "output_type": "stream",
     "text": [
      "\n",
      " 49%|████▊     | 243/500 [17:05<16:43,  3.90s/it]\u001B[A"
     ]
    },
    {
     "name": "stdout",
     "output_type": "stream",
     "text": [
      "Generation: 243\n",
      "Individuals: 50\n",
      "Ind avg: 0.8966666666666658\n",
      "Sel avg: 0.8999999999999997\n",
      "Best fitness: 0.9\n"
     ]
    },
    {
     "name": "stderr",
     "output_type": "stream",
     "text": [
      "\n",
      " 49%|████▉     | 244/500 [17:10<17:11,  4.03s/it]\u001B[A"
     ]
    },
    {
     "name": "stdout",
     "output_type": "stream",
     "text": [
      "Generation: 244\n",
      "Individuals: 50\n",
      "Ind avg: 0.8013333333333331\n",
      "Sel avg: 0.8000000000000003\n",
      "Best fitness: 0.8666666666666667\n"
     ]
    },
    {
     "name": "stderr",
     "output_type": "stream",
     "text": [
      "\n",
      " 49%|████▉     | 245/500 [17:14<17:30,  4.12s/it]\u001B[A"
     ]
    },
    {
     "name": "stdout",
     "output_type": "stream",
     "text": [
      "Generation: 245\n",
      "Individuals: 50\n",
      "Ind avg: 0.8426666666666667\n",
      "Sel avg: 0.8466666666666667\n",
      "Best fitness: 0.8666666666666667\n"
     ]
    },
    {
     "name": "stderr",
     "output_type": "stream",
     "text": [
      "\n",
      " 49%|████▉     | 246/500 [17:18<16:39,  3.93s/it]\u001B[A"
     ]
    },
    {
     "name": "stdout",
     "output_type": "stream",
     "text": [
      "Generation: 246\n",
      "Individuals: 50\n",
      "Ind avg: 0.9246666666666659\n",
      "Sel avg: 0.9266666666666669\n",
      "Best fitness: 0.9333333333333333\n"
     ]
    },
    {
     "name": "stderr",
     "output_type": "stream",
     "text": [
      "\n",
      " 49%|████▉     | 247/500 [17:22<17:32,  4.16s/it]\u001B[A"
     ]
    },
    {
     "name": "stdout",
     "output_type": "stream",
     "text": [
      "Generation: 247\n",
      "Individuals: 50\n",
      "Ind avg: 0.8919999999999995\n",
      "Sel avg: 0.8973333333333331\n",
      "Best fitness: 0.9\n"
     ]
    },
    {
     "name": "stderr",
     "output_type": "stream",
     "text": [
      "\n",
      " 50%|████▉     | 248/500 [17:27<18:00,  4.29s/it]\u001B[A"
     ]
    },
    {
     "name": "stdout",
     "output_type": "stream",
     "text": [
      "Generation: 248\n",
      "Individuals: 50\n",
      "Ind avg: 0.966\n",
      "Sel avg: 0.9639999999999995\n",
      "Best fitness: 0.9666666666666667\n"
     ]
    },
    {
     "name": "stderr",
     "output_type": "stream",
     "text": [
      "\n",
      " 50%|████▉     | 249/500 [17:30<16:18,  3.90s/it]\u001B[A"
     ]
    },
    {
     "name": "stdout",
     "output_type": "stream",
     "text": [
      "Generation: 249\n",
      "Individuals: 50\n",
      "Ind avg: 0.9819999999999999\n",
      "Sel avg: 0.9879999999999999\n",
      "Best fitness: 1.0\n"
     ]
    },
    {
     "name": "stderr",
     "output_type": "stream",
     "text": [
      "\n",
      " 50%|█████     | 250/500 [17:35<18:21,  4.41s/it]\u001B[A"
     ]
    },
    {
     "name": "stdout",
     "output_type": "stream",
     "text": [
      "Generation: 250\n",
      "Individuals: 50\n",
      "Ind avg: 0.8633333333333336\n",
      "Sel avg: 0.8626666666666669\n",
      "Best fitness: 0.9\n"
     ]
    },
    {
     "name": "stderr",
     "output_type": "stream",
     "text": [
      "\n",
      " 50%|█████     | 251/500 [17:39<16:44,  4.03s/it]\u001B[A"
     ]
    },
    {
     "name": "stdout",
     "output_type": "stream",
     "text": [
      "Generation: 251\n",
      "Individuals: 50\n",
      "Ind avg: 0.9006666666666661\n",
      "Sel avg: 0.9280000000000002\n",
      "Best fitness: 0.9333333333333333\n"
     ]
    },
    {
     "name": "stderr",
     "output_type": "stream",
     "text": [
      "\n",
      " 50%|█████     | 252/500 [17:42<15:59,  3.87s/it]\u001B[A"
     ]
    },
    {
     "name": "stdout",
     "output_type": "stream",
     "text": [
      "Generation: 252\n",
      "Individuals: 50\n",
      "Ind avg: 0.9426666666666661\n",
      "Sel avg: 0.9480000000000001\n",
      "Best fitness: 1.0\n"
     ]
    },
    {
     "name": "stderr",
     "output_type": "stream",
     "text": [
      "\n",
      " 51%|█████     | 253/500 [17:45<14:41,  3.57s/it]\u001B[A"
     ]
    },
    {
     "name": "stdout",
     "output_type": "stream",
     "text": [
      "Generation: 253\n",
      "Individuals: 50\n",
      "Ind avg: 0.9139999999999994\n",
      "Sel avg: 0.9173333333333334\n",
      "Best fitness: 0.9333333333333333\n"
     ]
    },
    {
     "name": "stderr",
     "output_type": "stream",
     "text": [
      "\n",
      " 51%|█████     | 254/500 [17:48<14:11,  3.46s/it]\u001B[A"
     ]
    },
    {
     "name": "stdout",
     "output_type": "stream",
     "text": [
      "Generation: 254\n",
      "Individuals: 50\n",
      "Ind avg: 0.8739999999999998\n",
      "Sel avg: 0.8626666666666668\n",
      "Best fitness: 0.9\n"
     ]
    },
    {
     "name": "stderr",
     "output_type": "stream",
     "text": [
      "\n",
      " 51%|█████     | 255/500 [17:52<15:08,  3.71s/it]\u001B[A"
     ]
    },
    {
     "name": "stdout",
     "output_type": "stream",
     "text": [
      "Generation: 255\n",
      "Individuals: 50\n",
      "Ind avg: 0.8366666666666664\n",
      "Sel avg: 0.8506666666666668\n",
      "Best fitness: 0.9\n"
     ]
    },
    {
     "name": "stderr",
     "output_type": "stream",
     "text": [
      "\n",
      " 51%|█████     | 256/500 [17:56<15:01,  3.69s/it]\u001B[A"
     ]
    },
    {
     "name": "stdout",
     "output_type": "stream",
     "text": [
      "Generation: 256\n",
      "Individuals: 50\n",
      "Ind avg: 0.9033333333333325\n",
      "Sel avg: 0.921333333333333\n",
      "Best fitness: 1.0\n"
     ]
    },
    {
     "name": "stderr",
     "output_type": "stream",
     "text": [
      "\n",
      " 51%|█████▏    | 257/500 [18:00<14:52,  3.67s/it]\u001B[A"
     ]
    },
    {
     "name": "stdout",
     "output_type": "stream",
     "text": [
      "Generation: 257\n",
      "Individuals: 50\n",
      "Ind avg: 0.9406666666666665\n",
      "Sel avg: 0.9479999999999995\n",
      "Best fitness: 0.9666666666666667\n"
     ]
    },
    {
     "name": "stderr",
     "output_type": "stream",
     "text": [
      "\n",
      " 52%|█████▏    | 258/500 [18:03<14:20,  3.56s/it]\u001B[A"
     ]
    },
    {
     "name": "stdout",
     "output_type": "stream",
     "text": [
      "Generation: 258\n",
      "Individuals: 50\n",
      "Ind avg: 0.8759999999999999\n",
      "Sel avg: 0.8693333333333334\n",
      "Best fitness: 1.0\n"
     ]
    },
    {
     "name": "stderr",
     "output_type": "stream",
     "text": [
      "\n",
      " 52%|█████▏    | 259/500 [18:07<14:16,  3.55s/it]\u001B[A"
     ]
    },
    {
     "name": "stdout",
     "output_type": "stream",
     "text": [
      "Generation: 259\n",
      "Individuals: 50\n",
      "Ind avg: 0.852\n",
      "Sel avg: 0.8506666666666668\n",
      "Best fitness: 0.9\n"
     ]
    },
    {
     "name": "stderr",
     "output_type": "stream",
     "text": [
      "\n",
      " 52%|█████▏    | 260/500 [18:12<16:24,  4.10s/it]\u001B[A"
     ]
    },
    {
     "name": "stdout",
     "output_type": "stream",
     "text": [
      "Generation: 260\n",
      "Individuals: 50\n",
      "Ind avg: 0.9059999999999993\n",
      "Sel avg: 0.9026666666666665\n",
      "Best fitness: 0.9333333333333333\n"
     ]
    },
    {
     "name": "stderr",
     "output_type": "stream",
     "text": [
      "\n",
      " 52%|█████▏    | 261/500 [18:15<15:29,  3.89s/it]\u001B[A"
     ]
    },
    {
     "name": "stdout",
     "output_type": "stream",
     "text": [
      "Generation: 261\n",
      "Individuals: 50\n",
      "Ind avg: 0.8953333333333326\n",
      "Sel avg: 0.9026666666666665\n",
      "Best fitness: 0.9333333333333333\n"
     ]
    },
    {
     "name": "stderr",
     "output_type": "stream",
     "text": [
      "\n",
      " 52%|█████▏    | 262/500 [18:20<15:54,  4.01s/it]\u001B[A"
     ]
    },
    {
     "name": "stdout",
     "output_type": "stream",
     "text": [
      "Generation: 262\n",
      "Individuals: 50\n",
      "Ind avg: 0.9306666666666659\n",
      "Sel avg: 0.9519999999999998\n",
      "Best fitness: 1.0\n"
     ]
    },
    {
     "name": "stderr",
     "output_type": "stream",
     "text": [
      "\n",
      " 53%|█████▎    | 263/500 [18:24<15:55,  4.03s/it]\u001B[A"
     ]
    },
    {
     "name": "stdout",
     "output_type": "stream",
     "text": [
      "Generation: 263\n",
      "Individuals: 50\n",
      "Ind avg: 0.9366666666666659\n",
      "Sel avg: 0.9386666666666668\n",
      "Best fitness: 0.9666666666666667\n"
     ]
    },
    {
     "name": "stderr",
     "output_type": "stream",
     "text": [
      "\n",
      " 53%|█████▎    | 264/500 [18:27<14:41,  3.73s/it]\u001B[A"
     ]
    },
    {
     "name": "stdout",
     "output_type": "stream",
     "text": [
      "Generation: 264\n",
      "Individuals: 50\n",
      "Ind avg: 0.8233333333333335\n",
      "Sel avg: 0.8413333333333334\n",
      "Best fitness: 0.9\n"
     ]
    },
    {
     "name": "stderr",
     "output_type": "stream",
     "text": [
      "\n",
      " 53%|█████▎    | 265/500 [18:32<15:56,  4.07s/it]\u001B[A"
     ]
    },
    {
     "name": "stdout",
     "output_type": "stream",
     "text": [
      "Generation: 265\n",
      "Individuals: 50\n",
      "Ind avg: 0.9073333333333328\n",
      "Sel avg: 0.9213333333333332\n",
      "Best fitness: 0.9333333333333333\n"
     ]
    },
    {
     "name": "stderr",
     "output_type": "stream",
     "text": [
      "\n",
      " 53%|█████▎    | 266/500 [18:36<16:41,  4.28s/it]\u001B[A"
     ]
    },
    {
     "name": "stdout",
     "output_type": "stream",
     "text": [
      "Generation: 266\n",
      "Individuals: 50\n",
      "Ind avg: 0.9279999999999992\n",
      "Sel avg: 0.9280000000000002\n",
      "Best fitness: 0.9333333333333333\n"
     ]
    },
    {
     "name": "stderr",
     "output_type": "stream",
     "text": [
      "\n",
      " 53%|█████▎    | 267/500 [18:42<18:25,  4.74s/it]\u001B[A"
     ]
    },
    {
     "name": "stdout",
     "output_type": "stream",
     "text": [
      "Generation: 267\n",
      "Individuals: 50\n",
      "Ind avg: 0.9406666666666662\n",
      "Sel avg: 0.9466666666666665\n",
      "Best fitness: 1.0\n"
     ]
    },
    {
     "name": "stderr",
     "output_type": "stream",
     "text": [
      "\n",
      " 54%|█████▎    | 268/500 [18:46<17:43,  4.59s/it]\u001B[A"
     ]
    },
    {
     "name": "stdout",
     "output_type": "stream",
     "text": [
      "Generation: 268\n",
      "Individuals: 50\n",
      "Ind avg: 0.8953333333333328\n",
      "Sel avg: 0.8933333333333333\n",
      "Best fitness: 0.9666666666666667\n"
     ]
    },
    {
     "name": "stderr",
     "output_type": "stream",
     "text": [
      "\n",
      " 54%|█████▍    | 269/500 [18:52<19:06,  4.96s/it]\u001B[A"
     ]
    },
    {
     "name": "stdout",
     "output_type": "stream",
     "text": [
      "Generation: 269\n",
      "Individuals: 50\n",
      "Ind avg: 0.9246666666666659\n",
      "Sel avg: 0.9306666666666668\n",
      "Best fitness: 0.9666666666666667\n"
     ]
    },
    {
     "name": "stderr",
     "output_type": "stream",
     "text": [
      "\n",
      " 54%|█████▍    | 270/500 [18:57<18:23,  4.80s/it]\u001B[A"
     ]
    },
    {
     "name": "stdout",
     "output_type": "stream",
     "text": [
      "Generation: 270\n",
      "Individuals: 50\n",
      "Ind avg: 0.7333333333333334\n",
      "Sel avg: 0.7439999999999999\n",
      "Best fitness: 0.8\n"
     ]
    },
    {
     "name": "stderr",
     "output_type": "stream",
     "text": [
      "\n",
      " 54%|█████▍    | 271/500 [19:04<20:39,  5.41s/it]\u001B[A"
     ]
    },
    {
     "name": "stdout",
     "output_type": "stream",
     "text": [
      "Generation: 271\n",
      "Individuals: 50\n",
      "Ind avg: 0.9039999999999995\n",
      "Sel avg: 0.8986666666666667\n",
      "Best fitness: 0.9333333333333333\n"
     ]
    },
    {
     "name": "stderr",
     "output_type": "stream",
     "text": [
      "\n",
      " 54%|█████▍    | 272/500 [19:08<19:54,  5.24s/it]\u001B[A"
     ]
    },
    {
     "name": "stdout",
     "output_type": "stream",
     "text": [
      "Generation: 272\n",
      "Individuals: 50\n",
      "Ind avg: 0.9453333333333331\n",
      "Sel avg: 0.9466666666666664\n",
      "Best fitness: 0.9666666666666667\n"
     ]
    },
    {
     "name": "stderr",
     "output_type": "stream",
     "text": [
      "\n",
      " 55%|█████▍    | 273/500 [19:13<18:38,  4.93s/it]\u001B[A"
     ]
    },
    {
     "name": "stdout",
     "output_type": "stream",
     "text": [
      "Generation: 273\n",
      "Individuals: 50\n",
      "Ind avg: 0.8560000000000003\n",
      "Sel avg: 0.8693333333333336\n",
      "Best fitness: 0.9\n"
     ]
    },
    {
     "name": "stderr",
     "output_type": "stream",
     "text": [
      "\n",
      " 55%|█████▍    | 274/500 [19:17<18:28,  4.90s/it]\u001B[A"
     ]
    },
    {
     "name": "stdout",
     "output_type": "stream",
     "text": [
      "Generation: 274\n",
      "Individuals: 50\n",
      "Ind avg: 0.913999999999999\n",
      "Sel avg: 0.9133333333333334\n",
      "Best fitness: 0.9333333333333333\n"
     ]
    },
    {
     "name": "stderr",
     "output_type": "stream",
     "text": [
      "\n",
      " 55%|█████▌    | 275/500 [19:22<17:30,  4.67s/it]\u001B[A"
     ]
    },
    {
     "name": "stdout",
     "output_type": "stream",
     "text": [
      "Generation: 275\n",
      "Individuals: 50\n",
      "Ind avg: 0.834666666666667\n",
      "Sel avg: 0.8293333333333337\n",
      "Best fitness: 0.9\n"
     ]
    },
    {
     "name": "stderr",
     "output_type": "stream",
     "text": [
      "\n",
      " 55%|█████▌    | 276/500 [19:26<16:46,  4.49s/it]\u001B[A"
     ]
    },
    {
     "name": "stdout",
     "output_type": "stream",
     "text": [
      "Generation: 276\n",
      "Individuals: 50\n",
      "Ind avg: 0.9046666666666661\n",
      "Sel avg: 0.8999999999999996\n",
      "Best fitness: 1.0\n"
     ]
    },
    {
     "name": "stderr",
     "output_type": "stream",
     "text": [
      "\n",
      " 55%|█████▌    | 277/500 [19:31<17:56,  4.83s/it]\u001B[A"
     ]
    },
    {
     "name": "stdout",
     "output_type": "stream",
     "text": [
      "Generation: 277\n",
      "Individuals: 50\n",
      "Ind avg: 0.7386666666666666\n",
      "Sel avg: 0.7346666666666668\n",
      "Best fitness: 0.8666666666666667\n"
     ]
    },
    {
     "name": "stderr",
     "output_type": "stream",
     "text": [
      "\n",
      " 56%|█████▌    | 278/500 [19:37<19:22,  5.24s/it]\u001B[A"
     ]
    },
    {
     "name": "stdout",
     "output_type": "stream",
     "text": [
      "Generation: 278\n",
      "Individuals: 50\n",
      "Ind avg: 0.8706666666666659\n",
      "Sel avg: 0.912\n",
      "Best fitness: 0.9333333333333333\n"
     ]
    },
    {
     "name": "stderr",
     "output_type": "stream",
     "text": [
      "\n",
      " 56%|█████▌    | 279/500 [19:43<19:47,  5.37s/it]\u001B[A"
     ]
    },
    {
     "name": "stdout",
     "output_type": "stream",
     "text": [
      "Generation: 279\n",
      "Individuals: 50\n",
      "Ind avg: 0.9073333333333327\n",
      "Sel avg: 0.9253333333333335\n",
      "Best fitness: 0.9333333333333333\n"
     ]
    },
    {
     "name": "stderr",
     "output_type": "stream",
     "text": [
      "\n",
      " 56%|█████▌    | 280/500 [19:47<18:03,  4.93s/it]\u001B[A"
     ]
    },
    {
     "name": "stdout",
     "output_type": "stream",
     "text": [
      "Generation: 280\n",
      "Individuals: 50\n",
      "Ind avg: 0.8826666666666663\n",
      "Sel avg: 0.8773333333333335\n",
      "Best fitness: 0.9666666666666667\n"
     ]
    },
    {
     "name": "stderr",
     "output_type": "stream",
     "text": [
      "\n",
      " 56%|█████▌    | 281/500 [19:51<17:17,  4.74s/it]\u001B[A"
     ]
    },
    {
     "name": "stdout",
     "output_type": "stream",
     "text": [
      "Generation: 281\n",
      "Individuals: 50\n",
      "Ind avg: 0.9219999999999992\n",
      "Sel avg: 0.9226666666666667\n",
      "Best fitness: 0.9333333333333333\n"
     ]
    },
    {
     "name": "stderr",
     "output_type": "stream",
     "text": [
      "\n",
      " 56%|█████▋    | 282/500 [19:54<15:23,  4.24s/it]\u001B[A"
     ]
    },
    {
     "name": "stdout",
     "output_type": "stream",
     "text": [
      "Generation: 282\n",
      "Individuals: 50\n",
      "Ind avg: 0.9046666666666658\n",
      "Sel avg: 0.9039999999999999\n",
      "Best fitness: 0.9333333333333333\n"
     ]
    },
    {
     "name": "stderr",
     "output_type": "stream",
     "text": [
      "\n",
      " 57%|█████▋    | 283/500 [19:59<15:20,  4.24s/it]\u001B[A"
     ]
    },
    {
     "name": "stdout",
     "output_type": "stream",
     "text": [
      "Generation: 283\n",
      "Individuals: 50\n",
      "Ind avg: 0.9099999999999993\n",
      "Sel avg: 0.9093333333333335\n",
      "Best fitness: 0.9666666666666667\n"
     ]
    },
    {
     "name": "stderr",
     "output_type": "stream",
     "text": [
      "\n",
      " 57%|█████▋    | 284/500 [20:02<14:43,  4.09s/it]\u001B[A"
     ]
    },
    {
     "name": "stdout",
     "output_type": "stream",
     "text": [
      "Generation: 284\n",
      "Individuals: 50\n",
      "Ind avg: 0.9673333333333334\n",
      "Sel avg: 0.9679999999999995\n",
      "Best fitness: 1.0\n"
     ]
    },
    {
     "name": "stderr",
     "output_type": "stream",
     "text": [
      "\n",
      " 57%|█████▋    | 285/500 [20:06<13:49,  3.86s/it]\u001B[A"
     ]
    },
    {
     "name": "stdout",
     "output_type": "stream",
     "text": [
      "Generation: 285\n",
      "Individuals: 50\n",
      "Ind avg: 0.9333333333333325\n",
      "Sel avg: 0.9320000000000002\n",
      "Best fitness: 0.9666666666666667\n"
     ]
    },
    {
     "name": "stderr",
     "output_type": "stream",
     "text": [
      "\n",
      " 57%|█████▋    | 286/500 [20:09<12:58,  3.64s/it]\u001B[A"
     ]
    },
    {
     "name": "stdout",
     "output_type": "stream",
     "text": [
      "Generation: 286\n",
      "Individuals: 50\n",
      "Ind avg: 0.8546666666666666\n",
      "Sel avg: 0.8453333333333335\n",
      "Best fitness: 0.9\n"
     ]
    },
    {
     "name": "stderr",
     "output_type": "stream",
     "text": [
      "\n",
      " 57%|█████▋    | 287/500 [20:15<15:34,  4.38s/it]\u001B[A"
     ]
    },
    {
     "name": "stdout",
     "output_type": "stream",
     "text": [
      "Generation: 287\n",
      "Individuals: 50\n",
      "Ind avg: 0.732\n",
      "Sel avg: 0.7413333333333334\n",
      "Best fitness: 0.8666666666666667\n"
     ]
    },
    {
     "name": "stderr",
     "output_type": "stream",
     "text": [
      "\n",
      " 58%|█████▊    | 288/500 [20:20<16:01,  4.54s/it]\u001B[A"
     ]
    },
    {
     "name": "stdout",
     "output_type": "stream",
     "text": [
      "Generation: 288\n",
      "Individuals: 50\n",
      "Ind avg: 0.8260000000000001\n",
      "Sel avg: 0.8333333333333335\n",
      "Best fitness: 0.8666666666666667\n"
     ]
    },
    {
     "name": "stderr",
     "output_type": "stream",
     "text": [
      "\n",
      " 58%|█████▊    | 289/500 [20:25<16:19,  4.64s/it]\u001B[A"
     ]
    },
    {
     "name": "stdout",
     "output_type": "stream",
     "text": [
      "Generation: 289\n",
      "Individuals: 50\n",
      "Ind avg: 0.9413333333333334\n",
      "Sel avg: 0.9346666666666661\n",
      "Best fitness: 1.0\n"
     ]
    },
    {
     "name": "stderr",
     "output_type": "stream",
     "text": [
      "\n",
      " 58%|█████▊    | 290/500 [20:29<16:22,  4.68s/it]\u001B[A"
     ]
    },
    {
     "name": "stdout",
     "output_type": "stream",
     "text": [
      "Generation: 290\n",
      "Individuals: 50\n",
      "Ind avg: 0.739333333333333\n",
      "Sel avg: 0.7653333333333334\n",
      "Best fitness: 0.7666666666666667\n"
     ]
    },
    {
     "name": "stderr",
     "output_type": "stream",
     "text": [
      "\n",
      " 58%|█████▊    | 291/500 [20:36<18:39,  5.36s/it]\u001B[A"
     ]
    },
    {
     "name": "stdout",
     "output_type": "stream",
     "text": [
      "Generation: 291\n",
      "Individuals: 50\n",
      "Ind avg: 0.924666666666666\n",
      "Sel avg: 0.9133333333333333\n",
      "Best fitness: 0.9666666666666667\n"
     ]
    },
    {
     "name": "stderr",
     "output_type": "stream",
     "text": [
      "\n",
      " 58%|█████▊    | 292/500 [20:41<18:06,  5.23s/it]\u001B[A"
     ]
    },
    {
     "name": "stdout",
     "output_type": "stream",
     "text": [
      "Generation: 292\n",
      "Individuals: 50\n",
      "Ind avg: 0.9233333333333325\n",
      "Sel avg: 0.9333333333333335\n",
      "Best fitness: 0.9333333333333333\n"
     ]
    },
    {
     "name": "stderr",
     "output_type": "stream",
     "text": [
      "\n",
      " 59%|█████▊    | 293/500 [20:46<16:59,  4.93s/it]\u001B[A"
     ]
    },
    {
     "name": "stdout",
     "output_type": "stream",
     "text": [
      "Generation: 293\n",
      "Individuals: 50\n",
      "Ind avg: 0.8826666666666667\n",
      "Sel avg: 0.8880000000000001\n",
      "Best fitness: 0.9333333333333333\n"
     ]
    },
    {
     "name": "stderr",
     "output_type": "stream",
     "text": [
      "\n",
      " 59%|█████▉    | 294/500 [20:51<17:14,  5.02s/it]\u001B[A"
     ]
    },
    {
     "name": "stdout",
     "output_type": "stream",
     "text": [
      "Generation: 294\n",
      "Individuals: 50\n",
      "Ind avg: 0.8493333333333333\n",
      "Sel avg: 0.8640000000000001\n",
      "Best fitness: 0.9\n"
     ]
    },
    {
     "name": "stderr",
     "output_type": "stream",
     "text": [
      "\n",
      " 59%|█████▉    | 295/500 [20:55<16:14,  4.75s/it]\u001B[A"
     ]
    },
    {
     "name": "stdout",
     "output_type": "stream",
     "text": [
      "Generation: 295\n",
      "Individuals: 50\n",
      "Ind avg: 0.8506666666666669\n",
      "Sel avg: 0.8480000000000001\n",
      "Best fitness: 0.8666666666666667\n"
     ]
    },
    {
     "name": "stderr",
     "output_type": "stream",
     "text": [
      "\n",
      " 59%|█████▉    | 296/500 [20:59<15:29,  4.56s/it]\u001B[A"
     ]
    },
    {
     "name": "stdout",
     "output_type": "stream",
     "text": [
      "Generation: 296\n",
      "Individuals: 50\n",
      "Ind avg: 0.8619999999999999\n",
      "Sel avg: 0.8760000000000001\n",
      "Best fitness: 0.9\n"
     ]
    },
    {
     "name": "stderr",
     "output_type": "stream",
     "text": [
      "\n",
      " 59%|█████▉    | 297/500 [21:04<16:17,  4.82s/it]\u001B[A"
     ]
    },
    {
     "name": "stdout",
     "output_type": "stream",
     "text": [
      "Generation: 297\n",
      "Individuals: 50\n",
      "Ind avg: 0.9519999999999995\n",
      "Sel avg: 0.9493333333333333\n",
      "Best fitness: 0.9666666666666667\n"
     ]
    },
    {
     "name": "stderr",
     "output_type": "stream",
     "text": [
      "\n",
      " 60%|█████▉    | 298/500 [21:08<15:04,  4.48s/it]\u001B[A"
     ]
    },
    {
     "name": "stdout",
     "output_type": "stream",
     "text": [
      "Generation: 298\n",
      "Individuals: 50\n",
      "Ind avg: 0.8633333333333336\n",
      "Sel avg: 0.8813333333333334\n",
      "Best fitness: 0.9666666666666667\n"
     ]
    },
    {
     "name": "stderr",
     "output_type": "stream",
     "text": [
      "\n",
      " 60%|█████▉    | 299/500 [21:14<16:09,  4.82s/it]\u001B[A"
     ]
    },
    {
     "name": "stdout",
     "output_type": "stream",
     "text": [
      "Generation: 299\n",
      "Individuals: 50\n",
      "Ind avg: 0.8066666666666668\n",
      "Sel avg: 0.8093333333333333\n",
      "Best fitness: 0.8666666666666667\n"
     ]
    },
    {
     "name": "stderr",
     "output_type": "stream",
     "text": [
      "\n",
      " 60%|██████    | 300/500 [21:19<16:44,  5.02s/it]\u001B[A"
     ]
    },
    {
     "name": "stdout",
     "output_type": "stream",
     "text": [
      "Generation: 300\n",
      "Individuals: 50\n",
      "Ind avg: 0.9673333333333332\n",
      "Sel avg: 0.9666666666666666\n",
      "Best fitness: 1.0\n"
     ]
    },
    {
     "name": "stderr",
     "output_type": "stream",
     "text": [
      "\n",
      " 60%|██████    | 301/500 [21:24<16:29,  4.97s/it]\u001B[A"
     ]
    },
    {
     "name": "stdout",
     "output_type": "stream",
     "text": [
      "Generation: 301\n",
      "Individuals: 50\n",
      "Ind avg: 0.933999999999999\n",
      "Sel avg: 0.9333333333333335\n",
      "Best fitness: 0.9666666666666667\n"
     ]
    },
    {
     "name": "stderr",
     "output_type": "stream",
     "text": [
      "\n",
      " 60%|██████    | 302/500 [21:29<15:51,  4.80s/it]\u001B[A"
     ]
    },
    {
     "name": "stdout",
     "output_type": "stream",
     "text": [
      "Generation: 302\n",
      "Individuals: 50\n",
      "Ind avg: 0.891333333333333\n",
      "Sel avg: 0.8893333333333335\n",
      "Best fitness: 0.9666666666666667\n"
     ]
    },
    {
     "name": "stderr",
     "output_type": "stream",
     "text": [
      "\n",
      " 61%|██████    | 303/500 [21:33<15:42,  4.78s/it]\u001B[A"
     ]
    },
    {
     "name": "stdout",
     "output_type": "stream",
     "text": [
      "Generation: 303\n",
      "Individuals: 50\n",
      "Ind avg: 0.8846666666666664\n",
      "Sel avg: 0.8866666666666666\n",
      "Best fitness: 0.9\n"
     ]
    },
    {
     "name": "stderr",
     "output_type": "stream",
     "text": [
      "\n",
      " 61%|██████    | 304/500 [21:37<14:47,  4.53s/it]\u001B[A"
     ]
    },
    {
     "name": "stdout",
     "output_type": "stream",
     "text": [
      "Generation: 304\n",
      "Individuals: 50\n",
      "Ind avg: 0.8693333333333335\n",
      "Sel avg: 0.8693333333333336\n",
      "Best fitness: 0.9\n"
     ]
    },
    {
     "name": "stderr",
     "output_type": "stream",
     "text": [
      "\n",
      " 61%|██████    | 305/500 [21:42<14:48,  4.56s/it]\u001B[A"
     ]
    },
    {
     "name": "stdout",
     "output_type": "stream",
     "text": [
      "Generation: 305\n",
      "Individuals: 50\n",
      "Ind avg: 0.8773333333333333\n",
      "Sel avg: 0.8826666666666669\n",
      "Best fitness: 0.9333333333333333\n"
     ]
    },
    {
     "name": "stderr",
     "output_type": "stream",
     "text": [
      "\n",
      " 61%|██████    | 306/500 [21:47<15:02,  4.65s/it]\u001B[A"
     ]
    },
    {
     "name": "stdout",
     "output_type": "stream",
     "text": [
      "Generation: 306\n",
      "Individuals: 50\n",
      "Ind avg: 0.762\n",
      "Sel avg: 0.7746666666666664\n",
      "Best fitness: 0.9\n"
     ]
    },
    {
     "name": "stderr",
     "output_type": "stream",
     "text": [
      "\n",
      " 61%|██████▏   | 307/500 [21:53<16:14,  5.05s/it]\u001B[A"
     ]
    },
    {
     "name": "stdout",
     "output_type": "stream",
     "text": [
      "Generation: 307\n",
      "Individuals: 50\n",
      "Ind avg: 0.9359999999999995\n",
      "Sel avg: 0.9346666666666666\n",
      "Best fitness: 0.9666666666666667\n"
     ]
    },
    {
     "name": "stderr",
     "output_type": "stream",
     "text": [
      "\n",
      " 62%|██████▏   | 308/500 [21:57<15:19,  4.79s/it]\u001B[A"
     ]
    },
    {
     "name": "stdout",
     "output_type": "stream",
     "text": [
      "Generation: 308\n",
      "Individuals: 50\n",
      "Ind avg: 0.8426666666666668\n",
      "Sel avg: 0.8306666666666668\n",
      "Best fitness: 0.9\n"
     ]
    },
    {
     "name": "stderr",
     "output_type": "stream",
     "text": [
      "\n",
      " 62%|██████▏   | 309/500 [22:01<15:02,  4.73s/it]\u001B[A"
     ]
    },
    {
     "name": "stdout",
     "output_type": "stream",
     "text": [
      "Generation: 309\n",
      "Individuals: 50\n",
      "Ind avg: 0.8400000000000003\n",
      "Sel avg: 0.8533333333333333\n",
      "Best fitness: 0.9666666666666667\n"
     ]
    },
    {
     "name": "stderr",
     "output_type": "stream",
     "text": [
      "\n",
      " 62%|██████▏   | 310/500 [22:06<14:48,  4.68s/it]\u001B[A"
     ]
    },
    {
     "name": "stdout",
     "output_type": "stream",
     "text": [
      "Generation: 310\n",
      "Individuals: 50\n",
      "Ind avg: 0.8686666666666669\n",
      "Sel avg: 0.8733333333333337\n",
      "Best fitness: 0.9\n"
     ]
    },
    {
     "name": "stderr",
     "output_type": "stream",
     "text": [
      "\n",
      " 62%|██████▏   | 311/500 [22:10<14:12,  4.51s/it]\u001B[A"
     ]
    },
    {
     "name": "stdout",
     "output_type": "stream",
     "text": [
      "Generation: 311\n",
      "Individuals: 50\n",
      "Ind avg: 0.8999999999999992\n",
      "Sel avg: 0.9026666666666665\n",
      "Best fitness: 0.9666666666666667\n"
     ]
    },
    {
     "name": "stderr",
     "output_type": "stream",
     "text": [
      "\n",
      " 62%|██████▏   | 312/500 [22:15<14:15,  4.55s/it]\u001B[A"
     ]
    },
    {
     "name": "stdout",
     "output_type": "stream",
     "text": [
      "Generation: 312\n",
      "Individuals: 50\n",
      "Ind avg: 0.8639999999999999\n",
      "Sel avg: 0.8573333333333335\n",
      "Best fitness: 0.9333333333333333\n"
     ]
    },
    {
     "name": "stderr",
     "output_type": "stream",
     "text": [
      "\n",
      " 63%|██████▎   | 313/500 [22:19<13:46,  4.42s/it]\u001B[A"
     ]
    },
    {
     "name": "stdout",
     "output_type": "stream",
     "text": [
      "Generation: 313\n",
      "Individuals: 50\n",
      "Ind avg: 0.8746666666666664\n",
      "Sel avg: 0.8946666666666664\n",
      "Best fitness: 0.9666666666666667\n"
     ]
    },
    {
     "name": "stderr",
     "output_type": "stream",
     "text": [
      "\n",
      " 63%|██████▎   | 314/500 [22:24<14:01,  4.52s/it]\u001B[A"
     ]
    },
    {
     "name": "stdout",
     "output_type": "stream",
     "text": [
      "Generation: 314\n",
      "Individuals: 50\n",
      "Ind avg: 0.8386666666666666\n",
      "Sel avg: 0.8373333333333334\n",
      "Best fitness: 0.9\n"
     ]
    },
    {
     "name": "stderr",
     "output_type": "stream",
     "text": [
      "\n",
      " 63%|██████▎   | 315/500 [22:29<15:02,  4.88s/it]\u001B[A"
     ]
    },
    {
     "name": "stdout",
     "output_type": "stream",
     "text": [
      "Generation: 315\n",
      "Individuals: 50\n",
      "Ind avg: 0.8799999999999997\n",
      "Sel avg: 0.8866666666666666\n",
      "Best fitness: 1.0\n"
     ]
    },
    {
     "name": "stderr",
     "output_type": "stream",
     "text": [
      "\n",
      " 63%|██████▎   | 316/500 [22:34<14:29,  4.73s/it]\u001B[A"
     ]
    },
    {
     "name": "stdout",
     "output_type": "stream",
     "text": [
      "Generation: 316\n",
      "Individuals: 50\n",
      "Ind avg: 0.9006666666666662\n",
      "Sel avg: 0.9013333333333334\n",
      "Best fitness: 0.9333333333333333\n"
     ]
    },
    {
     "name": "stderr",
     "output_type": "stream",
     "text": [
      "\n",
      " 63%|██████▎   | 317/500 [22:39<14:36,  4.79s/it]\u001B[A"
     ]
    },
    {
     "name": "stdout",
     "output_type": "stream",
     "text": [
      "Generation: 317\n",
      "Individuals: 50\n",
      "Ind avg: 0.862\n",
      "Sel avg: 0.8653333333333335\n",
      "Best fitness: 0.9\n"
     ]
    },
    {
     "name": "stderr",
     "output_type": "stream",
     "text": [
      "\n",
      " 64%|██████▎   | 318/500 [22:43<13:52,  4.57s/it]\u001B[A"
     ]
    },
    {
     "name": "stdout",
     "output_type": "stream",
     "text": [
      "Generation: 318\n",
      "Individuals: 50\n",
      "Ind avg: 0.9159999999999993\n",
      "Sel avg: 0.9066666666666668\n",
      "Best fitness: 0.9333333333333333\n"
     ]
    },
    {
     "name": "stderr",
     "output_type": "stream",
     "text": [
      "\n",
      " 64%|██████▍   | 319/500 [22:46<12:56,  4.29s/it]\u001B[A"
     ]
    },
    {
     "name": "stdout",
     "output_type": "stream",
     "text": [
      "Generation: 319\n",
      "Individuals: 50\n",
      "Ind avg: 0.9273333333333328\n",
      "Sel avg: 0.9346666666666665\n",
      "Best fitness: 0.9666666666666667\n"
     ]
    },
    {
     "name": "stderr",
     "output_type": "stream",
     "text": [
      "\n",
      " 64%|██████▍   | 320/500 [22:51<13:16,  4.42s/it]\u001B[A"
     ]
    },
    {
     "name": "stdout",
     "output_type": "stream",
     "text": [
      "Generation: 320\n",
      "Individuals: 50\n",
      "Ind avg: 0.807333333333333\n",
      "Sel avg: 0.8080000000000003\n",
      "Best fitness: 0.9\n"
     ]
    },
    {
     "name": "stderr",
     "output_type": "stream",
     "text": [
      "\n",
      " 64%|██████▍   | 321/500 [22:56<13:22,  4.48s/it]\u001B[A"
     ]
    },
    {
     "name": "stdout",
     "output_type": "stream",
     "text": [
      "Generation: 321\n",
      "Individuals: 50\n",
      "Ind avg: 0.9266666666666664\n",
      "Sel avg: 0.9199999999999998\n",
      "Best fitness: 0.9666666666666667\n"
     ]
    },
    {
     "name": "stderr",
     "output_type": "stream",
     "text": [
      "\n",
      " 64%|██████▍   | 322/500 [23:00<12:44,  4.29s/it]\u001B[A"
     ]
    },
    {
     "name": "stdout",
     "output_type": "stream",
     "text": [
      "Generation: 322\n",
      "Individuals: 50\n",
      "Ind avg: 0.9193333333333326\n",
      "Sel avg: 0.932\n",
      "Best fitness: 1.0\n"
     ]
    },
    {
     "name": "stderr",
     "output_type": "stream",
     "text": [
      "\n",
      " 65%|██████▍   | 323/500 [23:03<11:55,  4.04s/it]\u001B[A"
     ]
    },
    {
     "name": "stdout",
     "output_type": "stream",
     "text": [
      "Generation: 323\n",
      "Individuals: 50\n",
      "Ind avg: 0.8966666666666662\n",
      "Sel avg: 0.8906666666666667\n",
      "Best fitness: 0.9666666666666667\n"
     ]
    },
    {
     "name": "stderr",
     "output_type": "stream",
     "text": [
      "\n",
      " 65%|██████▍   | 324/500 [23:08<12:36,  4.30s/it]\u001B[A"
     ]
    },
    {
     "name": "stdout",
     "output_type": "stream",
     "text": [
      "Generation: 324\n",
      "Individuals: 50\n",
      "Ind avg: 0.9106666666666657\n",
      "Sel avg: 0.9226666666666666\n",
      "Best fitness: 0.9666666666666667\n"
     ]
    },
    {
     "name": "stderr",
     "output_type": "stream",
     "text": [
      "\n",
      " 65%|██████▌   | 325/500 [23:11<11:48,  4.05s/it]\u001B[A"
     ]
    },
    {
     "name": "stdout",
     "output_type": "stream",
     "text": [
      "Generation: 325\n",
      "Individuals: 50\n",
      "Ind avg: 0.8726666666666664\n",
      "Sel avg: 0.8746666666666668\n",
      "Best fitness: 0.9333333333333333\n"
     ]
    },
    {
     "name": "stderr",
     "output_type": "stream",
     "text": [
      "\n",
      " 65%|██████▌   | 326/500 [23:16<12:33,  4.33s/it]\u001B[A"
     ]
    },
    {
     "name": "stdout",
     "output_type": "stream",
     "text": [
      "Generation: 326\n",
      "Individuals: 50\n",
      "Ind avg: 0.804\n",
      "Sel avg: 0.804\n",
      "Best fitness: 0.9\n"
     ]
    },
    {
     "name": "stderr",
     "output_type": "stream",
     "text": [
      "\n",
      " 65%|██████▌   | 327/500 [23:22<13:28,  4.67s/it]\u001B[A"
     ]
    },
    {
     "name": "stdout",
     "output_type": "stream",
     "text": [
      "Generation: 327\n",
      "Individuals: 50\n",
      "Ind avg: 0.8739999999999994\n",
      "Sel avg: 0.8679999999999999\n",
      "Best fitness: 0.9\n"
     ]
    },
    {
     "name": "stderr",
     "output_type": "stream",
     "text": [
      "\n",
      " 66%|██████▌   | 328/500 [23:27<14:09,  4.94s/it]\u001B[A"
     ]
    },
    {
     "name": "stdout",
     "output_type": "stream",
     "text": [
      "Generation: 328\n",
      "Individuals: 50\n",
      "Ind avg: 0.9393333333333325\n",
      "Sel avg: 0.9386666666666666\n",
      "Best fitness: 1.0\n"
     ]
    },
    {
     "name": "stderr",
     "output_type": "stream",
     "text": [
      "\n",
      " 66%|██████▌   | 329/500 [23:30<12:28,  4.38s/it]\u001B[A"
     ]
    },
    {
     "name": "stdout",
     "output_type": "stream",
     "text": [
      "Generation: 329\n",
      "Individuals: 50\n",
      "Ind avg: 0.9286666666666664\n",
      "Sel avg: 0.9386666666666666\n",
      "Best fitness: 0.9666666666666667\n"
     ]
    },
    {
     "name": "stderr",
     "output_type": "stream",
     "text": [
      "\n",
      " 66%|██████▌   | 330/500 [23:35<12:31,  4.42s/it]\u001B[A"
     ]
    },
    {
     "name": "stdout",
     "output_type": "stream",
     "text": [
      "Generation: 330\n",
      "Individuals: 50\n",
      "Ind avg: 0.9419999999999998\n",
      "Sel avg: 0.9373333333333332\n",
      "Best fitness: 1.0\n"
     ]
    },
    {
     "name": "stderr",
     "output_type": "stream",
     "text": [
      "\n",
      " 66%|██████▌   | 331/500 [23:39<11:44,  4.17s/it]\u001B[A"
     ]
    },
    {
     "name": "stdout",
     "output_type": "stream",
     "text": [
      "Generation: 331\n",
      "Individuals: 50\n",
      "Ind avg: 0.8913333333333331\n",
      "Sel avg: 0.8933333333333331\n",
      "Best fitness: 0.9666666666666667\n"
     ]
    },
    {
     "name": "stderr",
     "output_type": "stream",
     "text": [
      "\n",
      " 66%|██████▋   | 332/500 [23:44<12:27,  4.45s/it]\u001B[A"
     ]
    },
    {
     "name": "stdout",
     "output_type": "stream",
     "text": [
      "Generation: 332\n",
      "Individuals: 50\n",
      "Ind avg: 0.8753333333333331\n",
      "Sel avg: 0.904\n",
      "Best fitness: 0.9333333333333333\n"
     ]
    },
    {
     "name": "stderr",
     "output_type": "stream",
     "text": [
      "\n",
      " 67%|██████▋   | 333/500 [23:49<13:16,  4.77s/it]\u001B[A"
     ]
    },
    {
     "name": "stdout",
     "output_type": "stream",
     "text": [
      "Generation: 333\n",
      "Individuals: 50\n",
      "Ind avg: 0.8586666666666665\n",
      "Sel avg: 0.8560000000000002\n",
      "Best fitness: 0.9\n"
     ]
    },
    {
     "name": "stderr",
     "output_type": "stream",
     "text": [
      "\n",
      " 67%|██████▋   | 334/500 [23:54<12:57,  4.69s/it]\u001B[A"
     ]
    },
    {
     "name": "stdout",
     "output_type": "stream",
     "text": [
      "Generation: 334\n",
      "Individuals: 50\n",
      "Ind avg: 0.8799999999999996\n",
      "Sel avg: 0.88\n",
      "Best fitness: 0.9333333333333333\n"
     ]
    },
    {
     "name": "stderr",
     "output_type": "stream",
     "text": [
      "\n",
      " 67%|██████▋   | 335/500 [23:58<12:23,  4.51s/it]\u001B[A"
     ]
    },
    {
     "name": "stdout",
     "output_type": "stream",
     "text": [
      "Generation: 335\n",
      "Individuals: 50\n",
      "Ind avg: 0.9059999999999995\n",
      "Sel avg: 0.9133333333333331\n",
      "Best fitness: 0.9666666666666667\n"
     ]
    },
    {
     "name": "stderr",
     "output_type": "stream",
     "text": [
      "\n",
      " 67%|██████▋   | 336/500 [24:03<12:34,  4.60s/it]\u001B[A"
     ]
    },
    {
     "name": "stdout",
     "output_type": "stream",
     "text": [
      "Generation: 336\n",
      "Individuals: 50\n",
      "Ind avg: 0.7440000000000002\n",
      "Sel avg: 0.7573333333333335\n",
      "Best fitness: 0.8333333333333334\n"
     ]
    },
    {
     "name": "stderr",
     "output_type": "stream",
     "text": [
      "\n",
      " 67%|██████▋   | 337/500 [24:07<12:09,  4.48s/it]\u001B[A"
     ]
    },
    {
     "name": "stdout",
     "output_type": "stream",
     "text": [
      "Generation: 337\n",
      "Individuals: 50\n",
      "Ind avg: 0.8920000000000001\n",
      "Sel avg: 0.9066666666666666\n",
      "Best fitness: 0.9666666666666667\n"
     ]
    },
    {
     "name": "stderr",
     "output_type": "stream",
     "text": [
      "\n",
      " 68%|██████▊   | 338/500 [24:11<11:31,  4.27s/it]\u001B[A"
     ]
    },
    {
     "name": "stdout",
     "output_type": "stream",
     "text": [
      "Generation: 338\n",
      "Individuals: 50\n",
      "Ind avg: 0.8873333333333332\n",
      "Sel avg: 0.8933333333333334\n",
      "Best fitness: 0.9666666666666667\n"
     ]
    },
    {
     "name": "stderr",
     "output_type": "stream",
     "text": [
      "\n",
      " 68%|██████▊   | 339/500 [24:15<11:25,  4.26s/it]\u001B[A"
     ]
    },
    {
     "name": "stdout",
     "output_type": "stream",
     "text": [
      "Generation: 339\n",
      "Individuals: 50\n",
      "Ind avg: 0.9133333333333329\n",
      "Sel avg: 0.9133333333333334\n",
      "Best fitness: 0.9333333333333333\n"
     ]
    },
    {
     "name": "stderr",
     "output_type": "stream",
     "text": [
      "\n",
      " 68%|██████▊   | 340/500 [24:19<11:19,  4.25s/it]\u001B[A"
     ]
    },
    {
     "name": "stdout",
     "output_type": "stream",
     "text": [
      "Generation: 340\n",
      "Individuals: 50\n",
      "Ind avg: 0.9773333333333334\n",
      "Sel avg: 0.9666666666666663\n",
      "Best fitness: 1.0\n"
     ]
    },
    {
     "name": "stderr",
     "output_type": "stream",
     "text": [
      "\n",
      " 68%|██████▊   | 341/500 [24:24<11:31,  4.35s/it]\u001B[A"
     ]
    },
    {
     "name": "stdout",
     "output_type": "stream",
     "text": [
      "Generation: 341\n",
      "Individuals: 50\n",
      "Ind avg: 0.8853333333333329\n",
      "Sel avg: 0.8826666666666667\n",
      "Best fitness: 0.9666666666666667\n"
     ]
    },
    {
     "name": "stderr",
     "output_type": "stream",
     "text": [
      "\n",
      " 68%|██████▊   | 342/500 [24:27<10:55,  4.15s/it]\u001B[A"
     ]
    },
    {
     "name": "stdout",
     "output_type": "stream",
     "text": [
      "Generation: 342\n",
      "Individuals: 50\n",
      "Ind avg: 0.8593333333333331\n",
      "Sel avg: 0.8613333333333335\n",
      "Best fitness: 0.9333333333333333\n"
     ]
    },
    {
     "name": "stderr",
     "output_type": "stream",
     "text": [
      "\n",
      " 69%|██████▊   | 343/500 [24:33<11:53,  4.55s/it]\u001B[A"
     ]
    },
    {
     "name": "stdout",
     "output_type": "stream",
     "text": [
      "Generation: 343\n",
      "Individuals: 50\n",
      "Ind avg: 0.8879999999999996\n",
      "Sel avg: 0.9039999999999999\n",
      "Best fitness: 0.9666666666666667\n"
     ]
    },
    {
     "name": "stderr",
     "output_type": "stream",
     "text": [
      "\n",
      " 69%|██████▉   | 344/500 [24:37<11:17,  4.34s/it]\u001B[A"
     ]
    },
    {
     "name": "stdout",
     "output_type": "stream",
     "text": [
      "Generation: 344\n",
      "Individuals: 50\n",
      "Ind avg: 0.888666666666666\n",
      "Sel avg: 0.9146666666666668\n",
      "Best fitness: 0.9666666666666667\n"
     ]
    },
    {
     "name": "stderr",
     "output_type": "stream",
     "text": [
      "\n",
      " 69%|██████▉   | 345/500 [24:42<12:08,  4.70s/it]\u001B[A"
     ]
    },
    {
     "name": "stdout",
     "output_type": "stream",
     "text": [
      "Generation: 345\n",
      "Individuals: 50\n",
      "Ind avg: 0.7940000000000002\n",
      "Sel avg: 0.7986666666666666\n",
      "Best fitness: 0.9\n"
     ]
    },
    {
     "name": "stderr",
     "output_type": "stream",
     "text": [
      "\n",
      " 69%|██████▉   | 346/500 [24:47<12:27,  4.85s/it]\u001B[A"
     ]
    },
    {
     "name": "stdout",
     "output_type": "stream",
     "text": [
      "Generation: 346\n",
      "Individuals: 50\n",
      "Ind avg: 0.9186666666666659\n",
      "Sel avg: 0.905333333333333\n",
      "Best fitness: 0.9666666666666667\n"
     ]
    },
    {
     "name": "stderr",
     "output_type": "stream",
     "text": [
      "\n",
      " 69%|██████▉   | 347/500 [24:53<12:43,  4.99s/it]\u001B[A"
     ]
    },
    {
     "name": "stdout",
     "output_type": "stream",
     "text": [
      "Generation: 347\n",
      "Individuals: 50\n",
      "Ind avg: 0.8899999999999992\n",
      "Sel avg: 0.8773333333333333\n",
      "Best fitness: 1.0\n"
     ]
    },
    {
     "name": "stderr",
     "output_type": "stream",
     "text": [
      "\n",
      " 70%|██████▉   | 348/500 [24:59<13:53,  5.49s/it]\u001B[A"
     ]
    },
    {
     "name": "stdout",
     "output_type": "stream",
     "text": [
      "Generation: 348\n",
      "Individuals: 50\n",
      "Ind avg: 0.8533333333333332\n",
      "Sel avg: 0.8773333333333333\n",
      "Best fitness: 0.9333333333333333\n"
     ]
    },
    {
     "name": "stderr",
     "output_type": "stream",
     "text": [
      "\n",
      " 70%|██████▉   | 349/500 [25:04<13:22,  5.31s/it]\u001B[A"
     ]
    },
    {
     "name": "stdout",
     "output_type": "stream",
     "text": [
      "Generation: 349\n",
      "Individuals: 50\n",
      "Ind avg: 0.9153333333333326\n",
      "Sel avg: 0.9093333333333331\n",
      "Best fitness: 0.9666666666666667\n"
     ]
    },
    {
     "name": "stderr",
     "output_type": "stream",
     "text": [
      "\n",
      " 70%|███████   | 350/500 [25:07<11:37,  4.65s/it]\u001B[A"
     ]
    },
    {
     "name": "stdout",
     "output_type": "stream",
     "text": [
      "Generation: 350\n",
      "Individuals: 50\n",
      "Ind avg: 0.9640000000000001\n",
      "Sel avg: 0.9666666666666661\n",
      "Best fitness: 0.9666666666666667\n"
     ]
    },
    {
     "name": "stderr",
     "output_type": "stream",
     "text": [
      "\n",
      " 70%|███████   | 351/500 [25:10<10:08,  4.09s/it]\u001B[A"
     ]
    },
    {
     "name": "stdout",
     "output_type": "stream",
     "text": [
      "Generation: 351\n",
      "Individuals: 50\n",
      "Ind avg: 0.8446666666666668\n",
      "Sel avg: 0.8546666666666666\n",
      "Best fitness: 0.9\n"
     ]
    },
    {
     "name": "stderr",
     "output_type": "stream",
     "text": [
      "\n",
      " 70%|███████   | 352/500 [25:16<11:28,  4.65s/it]\u001B[A"
     ]
    },
    {
     "name": "stdout",
     "output_type": "stream",
     "text": [
      "Generation: 352\n",
      "Individuals: 50\n",
      "Ind avg: 0.8526666666666671\n",
      "Sel avg: 0.8453333333333335\n",
      "Best fitness: 0.8666666666666667\n"
     ]
    },
    {
     "name": "stderr",
     "output_type": "stream",
     "text": [
      "\n",
      " 71%|███████   | 353/500 [25:20<10:47,  4.41s/it]\u001B[A"
     ]
    },
    {
     "name": "stdout",
     "output_type": "stream",
     "text": [
      "Generation: 353\n",
      "Individuals: 50\n",
      "Ind avg: 0.8419999999999996\n",
      "Sel avg: 0.82\n",
      "Best fitness: 0.9\n"
     ]
    },
    {
     "name": "stderr",
     "output_type": "stream",
     "text": [
      "\n",
      " 71%|███████   | 354/500 [25:25<11:00,  4.52s/it]\u001B[A"
     ]
    },
    {
     "name": "stdout",
     "output_type": "stream",
     "text": [
      "Generation: 354\n",
      "Individuals: 50\n",
      "Ind avg: 0.8346666666666666\n",
      "Sel avg: 0.872\n",
      "Best fitness: 0.9333333333333333\n"
     ]
    },
    {
     "name": "stderr",
     "output_type": "stream",
     "text": [
      "\n",
      " 71%|███████   | 355/500 [25:29<10:58,  4.54s/it]\u001B[A"
     ]
    },
    {
     "name": "stdout",
     "output_type": "stream",
     "text": [
      "Generation: 355\n",
      "Individuals: 50\n",
      "Ind avg: 0.8619999999999994\n",
      "Sel avg: 0.8946666666666664\n",
      "Best fitness: 0.9\n"
     ]
    },
    {
     "name": "stderr",
     "output_type": "stream",
     "text": [
      "\n",
      " 71%|███████   | 356/500 [25:35<12:01,  5.01s/it]\u001B[A"
     ]
    },
    {
     "name": "stdout",
     "output_type": "stream",
     "text": [
      "Generation: 356\n",
      "Individuals: 50\n",
      "Ind avg: 0.8999999999999991\n",
      "Sel avg: 0.8999999999999997\n",
      "Best fitness: 0.9\n"
     ]
    },
    {
     "name": "stderr",
     "output_type": "stream",
     "text": [
      "\n",
      " 71%|███████▏  | 357/500 [25:38<10:34,  4.43s/it]\u001B[A"
     ]
    },
    {
     "name": "stdout",
     "output_type": "stream",
     "text": [
      "Generation: 357\n",
      "Individuals: 50\n",
      "Ind avg: 0.9333333333333325\n",
      "Sel avg: 0.9320000000000002\n",
      "Best fitness: 0.9666666666666667\n"
     ]
    },
    {
     "name": "stderr",
     "output_type": "stream",
     "text": [
      "\n",
      " 72%|███████▏  | 358/500 [25:42<09:49,  4.15s/it]\u001B[A"
     ]
    },
    {
     "name": "stdout",
     "output_type": "stream",
     "text": [
      "Generation: 358\n",
      "Individuals: 50\n",
      "Ind avg: 0.8359999999999996\n",
      "Sel avg: 0.8639999999999998\n",
      "Best fitness: 0.9\n"
     ]
    },
    {
     "name": "stderr",
     "output_type": "stream",
     "text": [
      "\n",
      " 72%|███████▏  | 359/500 [25:47<10:01,  4.27s/it]\u001B[A"
     ]
    },
    {
     "name": "stdout",
     "output_type": "stream",
     "text": [
      "Generation: 359\n",
      "Individuals: 50\n",
      "Ind avg: 0.9119999999999997\n",
      "Sel avg: 0.9093333333333335\n",
      "Best fitness: 0.9666666666666667\n"
     ]
    },
    {
     "name": "stderr",
     "output_type": "stream",
     "text": [
      "\n",
      " 72%|███████▏  | 360/500 [25:50<09:11,  3.94s/it]\u001B[A"
     ]
    },
    {
     "name": "stdout",
     "output_type": "stream",
     "text": [
      "Generation: 360\n",
      "Individuals: 50\n",
      "Ind avg: 0.81\n",
      "Sel avg: 0.8066666666666668\n",
      "Best fitness: 0.8666666666666667\n"
     ]
    },
    {
     "name": "stderr",
     "output_type": "stream",
     "text": [
      "\n",
      " 72%|███████▏  | 361/500 [25:54<09:06,  3.93s/it]\u001B[A"
     ]
    },
    {
     "name": "stdout",
     "output_type": "stream",
     "text": [
      "Generation: 361\n",
      "Individuals: 50\n",
      "Ind avg: 0.9199999999999995\n",
      "Sel avg: 0.9213333333333332\n",
      "Best fitness: 1.0\n"
     ]
    },
    {
     "name": "stderr",
     "output_type": "stream",
     "text": [
      "\n",
      " 72%|███████▏  | 362/500 [25:57<08:26,  3.67s/it]\u001B[A"
     ]
    },
    {
     "name": "stdout",
     "output_type": "stream",
     "text": [
      "Generation: 362\n",
      "Individuals: 50\n",
      "Ind avg: 0.9079999999999991\n",
      "Sel avg: 0.9066666666666666\n",
      "Best fitness: 0.9333333333333333\n"
     ]
    },
    {
     "name": "stderr",
     "output_type": "stream",
     "text": [
      "\n",
      " 73%|███████▎  | 363/500 [26:01<08:32,  3.74s/it]\u001B[A"
     ]
    },
    {
     "name": "stdout",
     "output_type": "stream",
     "text": [
      "Generation: 363\n",
      "Individuals: 50\n",
      "Ind avg: 0.8833333333333332\n",
      "Sel avg: 0.8773333333333331\n",
      "Best fitness: 0.9666666666666667\n"
     ]
    },
    {
     "name": "stderr",
     "output_type": "stream",
     "text": [
      "\n",
      " 73%|███████▎  | 364/500 [26:04<08:09,  3.60s/it]\u001B[A"
     ]
    },
    {
     "name": "stdout",
     "output_type": "stream",
     "text": [
      "Generation: 364\n",
      "Individuals: 50\n",
      "Ind avg: 0.9206666666666665\n",
      "Sel avg: 0.9399999999999997\n",
      "Best fitness: 0.9666666666666667\n"
     ]
    },
    {
     "name": "stderr",
     "output_type": "stream",
     "text": [
      "\n",
      " 73%|███████▎  | 365/500 [26:07<07:50,  3.49s/it]\u001B[A"
     ]
    },
    {
     "name": "stdout",
     "output_type": "stream",
     "text": [
      "Generation: 365\n",
      "Individuals: 50\n",
      "Ind avg: 0.947333333333333\n",
      "Sel avg: 0.9586666666666662\n",
      "Best fitness: 0.9666666666666667\n"
     ]
    },
    {
     "name": "stderr",
     "output_type": "stream",
     "text": [
      "\n",
      " 73%|███████▎  | 366/500 [26:11<07:57,  3.56s/it]\u001B[A"
     ]
    },
    {
     "name": "stdout",
     "output_type": "stream",
     "text": [
      "Generation: 366\n",
      "Individuals: 50\n",
      "Ind avg: 0.9166666666666664\n",
      "Sel avg: 0.9186666666666664\n",
      "Best fitness: 0.9666666666666667\n"
     ]
    },
    {
     "name": "stderr",
     "output_type": "stream",
     "text": [
      "\n",
      " 73%|███████▎  | 367/500 [26:14<07:35,  3.42s/it]\u001B[A"
     ]
    },
    {
     "name": "stdout",
     "output_type": "stream",
     "text": [
      "Generation: 367\n",
      "Individuals: 50\n",
      "Ind avg: 0.9599999999999995\n",
      "Sel avg: 0.9773333333333334\n",
      "Best fitness: 1.0\n"
     ]
    },
    {
     "name": "stderr",
     "output_type": "stream",
     "text": [
      "\n",
      " 74%|███████▎  | 368/500 [26:18<07:57,  3.62s/it]\u001B[A"
     ]
    },
    {
     "name": "stdout",
     "output_type": "stream",
     "text": [
      "Generation: 368\n",
      "Individuals: 50\n",
      "Ind avg: 0.8753333333333327\n",
      "Sel avg: 0.9080000000000001\n",
      "Best fitness: 0.9333333333333333\n"
     ]
    },
    {
     "name": "stderr",
     "output_type": "stream",
     "text": [
      "\n",
      " 74%|███████▍  | 369/500 [26:21<07:41,  3.52s/it]\u001B[A"
     ]
    },
    {
     "name": "stdout",
     "output_type": "stream",
     "text": [
      "Generation: 369\n",
      "Individuals: 50\n",
      "Ind avg: 0.8353333333333335\n",
      "Sel avg: 0.8413333333333333\n",
      "Best fitness: 0.9\n"
     ]
    },
    {
     "name": "stderr",
     "output_type": "stream",
     "text": [
      "\n",
      " 74%|███████▍  | 370/500 [26:25<07:29,  3.46s/it]\u001B[A"
     ]
    },
    {
     "name": "stdout",
     "output_type": "stream",
     "text": [
      "Generation: 370\n",
      "Individuals: 50\n",
      "Ind avg: 0.9680000000000001\n",
      "Sel avg: 0.9706666666666667\n",
      "Best fitness: 1.0\n"
     ]
    },
    {
     "name": "stderr",
     "output_type": "stream",
     "text": [
      "\n",
      " 74%|███████▍  | 371/500 [26:28<07:28,  3.48s/it]\u001B[A"
     ]
    },
    {
     "name": "stdout",
     "output_type": "stream",
     "text": [
      "Generation: 371\n",
      "Individuals: 50\n",
      "Ind avg: 0.8340000000000001\n",
      "Sel avg: 0.8266666666666665\n",
      "Best fitness: 0.9\n"
     ]
    },
    {
     "name": "stderr",
     "output_type": "stream",
     "text": [
      "\n",
      " 74%|███████▍  | 372/500 [26:31<07:12,  3.38s/it]\u001B[A"
     ]
    },
    {
     "name": "stdout",
     "output_type": "stream",
     "text": [
      "Generation: 372\n",
      "Individuals: 50\n",
      "Ind avg: 0.8873333333333329\n",
      "Sel avg: 0.8853333333333333\n",
      "Best fitness: 0.9\n"
     ]
    },
    {
     "name": "stderr",
     "output_type": "stream",
     "text": [
      "\n",
      " 75%|███████▍  | 373/500 [26:36<08:03,  3.81s/it]\u001B[A"
     ]
    },
    {
     "name": "stdout",
     "output_type": "stream",
     "text": [
      "Generation: 373\n",
      "Individuals: 50\n",
      "Ind avg: 0.856\n",
      "Sel avg: 0.8533333333333332\n",
      "Best fitness: 0.9\n"
     ]
    },
    {
     "name": "stderr",
     "output_type": "stream",
     "text": [
      "\n",
      " 75%|███████▍  | 374/500 [26:39<07:43,  3.67s/it]\u001B[A"
     ]
    },
    {
     "name": "stdout",
     "output_type": "stream",
     "text": [
      "Generation: 374\n",
      "Individuals: 50\n",
      "Ind avg: 0.8886666666666659\n",
      "Sel avg: 0.8746666666666668\n",
      "Best fitness: 0.9333333333333333\n"
     ]
    },
    {
     "name": "stderr",
     "output_type": "stream",
     "text": [
      "\n",
      " 75%|███████▌  | 375/500 [26:43<07:23,  3.55s/it]\u001B[A"
     ]
    },
    {
     "name": "stdout",
     "output_type": "stream",
     "text": [
      "Generation: 375\n",
      "Individuals: 50\n",
      "Ind avg: 0.8953333333333332\n",
      "Sel avg: 0.9093333333333332\n",
      "Best fitness: 0.9666666666666667\n"
     ]
    },
    {
     "name": "stderr",
     "output_type": "stream",
     "text": [
      "\n",
      " 75%|███████▌  | 376/500 [26:47<08:06,  3.92s/it]\u001B[A"
     ]
    },
    {
     "name": "stdout",
     "output_type": "stream",
     "text": [
      "Generation: 376\n",
      "Individuals: 50\n",
      "Ind avg: 0.891333333333333\n",
      "Sel avg: 0.8960000000000001\n",
      "Best fitness: 0.9333333333333333\n"
     ]
    },
    {
     "name": "stderr",
     "output_type": "stream",
     "text": [
      "\n",
      " 75%|███████▌  | 377/500 [26:52<08:09,  3.98s/it]\u001B[A"
     ]
    },
    {
     "name": "stdout",
     "output_type": "stream",
     "text": [
      "Generation: 377\n",
      "Individuals: 50\n",
      "Ind avg: 0.8540000000000002\n",
      "Sel avg: 0.8573333333333336\n",
      "Best fitness: 0.8666666666666667\n"
     ]
    },
    {
     "name": "stderr",
     "output_type": "stream",
     "text": [
      "\n",
      " 76%|███████▌  | 378/500 [26:57<09:11,  4.52s/it]\u001B[A"
     ]
    },
    {
     "name": "stdout",
     "output_type": "stream",
     "text": [
      "Generation: 378\n",
      "Individuals: 50\n",
      "Ind avg: 0.8926666666666664\n",
      "Sel avg: 0.92\n",
      "Best fitness: 0.9666666666666667\n"
     ]
    },
    {
     "name": "stderr",
     "output_type": "stream",
     "text": [
      "\n",
      " 76%|███████▌  | 379/500 [27:01<08:43,  4.32s/it]\u001B[A"
     ]
    },
    {
     "name": "stdout",
     "output_type": "stream",
     "text": [
      "Generation: 379\n",
      "Individuals: 50\n",
      "Ind avg: 0.7746666666666664\n",
      "Sel avg: 0.7800000000000001\n",
      "Best fitness: 0.8333333333333334\n"
     ]
    },
    {
     "name": "stderr",
     "output_type": "stream",
     "text": [
      "\n",
      " 76%|███████▌  | 380/500 [27:06<08:50,  4.42s/it]\u001B[A"
     ]
    },
    {
     "name": "stdout",
     "output_type": "stream",
     "text": [
      "Generation: 380\n",
      "Individuals: 50\n",
      "Ind avg: 0.8453333333333335\n",
      "Sel avg: 0.8653333333333335\n",
      "Best fitness: 0.9\n"
     ]
    },
    {
     "name": "stderr",
     "output_type": "stream",
     "text": [
      "\n",
      " 76%|███████▌  | 381/500 [27:11<08:53,  4.49s/it]\u001B[A"
     ]
    },
    {
     "name": "stdout",
     "output_type": "stream",
     "text": [
      "Generation: 381\n",
      "Individuals: 50\n",
      "Ind avg: 0.8526666666666669\n",
      "Sel avg: 0.8519999999999999\n",
      "Best fitness: 0.9\n"
     ]
    },
    {
     "name": "stderr",
     "output_type": "stream",
     "text": [
      "\n",
      " 76%|███████▋  | 382/500 [27:14<08:01,  4.08s/it]\u001B[A"
     ]
    },
    {
     "name": "stdout",
     "output_type": "stream",
     "text": [
      "Generation: 382\n",
      "Individuals: 50\n",
      "Ind avg: 0.8779999999999996\n",
      "Sel avg: 0.8746666666666666\n",
      "Best fitness: 0.9\n"
     ]
    },
    {
     "name": "stderr",
     "output_type": "stream",
     "text": [
      "\n",
      " 77%|███████▋  | 383/500 [27:18<08:05,  4.15s/it]\u001B[A"
     ]
    },
    {
     "name": "stdout",
     "output_type": "stream",
     "text": [
      "Generation: 383\n",
      "Individuals: 50\n",
      "Ind avg: 0.9146666666666661\n",
      "Sel avg: 0.9226666666666665\n",
      "Best fitness: 0.9666666666666667\n"
     ]
    },
    {
     "name": "stderr",
     "output_type": "stream",
     "text": [
      "\n",
      " 77%|███████▋  | 384/500 [27:21<07:27,  3.85s/it]\u001B[A"
     ]
    },
    {
     "name": "stdout",
     "output_type": "stream",
     "text": [
      "Generation: 384\n",
      "Individuals: 50\n",
      "Ind avg: 0.8333333333333336\n",
      "Sel avg: 0.8413333333333333\n",
      "Best fitness: 0.8666666666666667\n"
     ]
    },
    {
     "name": "stderr",
     "output_type": "stream",
     "text": [
      "\n",
      " 77%|███████▋  | 385/500 [27:25<07:13,  3.77s/it]\u001B[A"
     ]
    },
    {
     "name": "stdout",
     "output_type": "stream",
     "text": [
      "Generation: 385\n",
      "Individuals: 50\n",
      "Ind avg: 0.909333333333333\n",
      "Sel avg: 0.92\n",
      "Best fitness: 0.9666666666666667\n"
     ]
    },
    {
     "name": "stderr",
     "output_type": "stream",
     "text": [
      "\n",
      " 77%|███████▋  | 386/500 [27:29<07:26,  3.92s/it]\u001B[A"
     ]
    },
    {
     "name": "stdout",
     "output_type": "stream",
     "text": [
      "Generation: 386\n",
      "Individuals: 50\n",
      "Ind avg: 0.828\n",
      "Sel avg: 0.8320000000000001\n",
      "Best fitness: 0.8666666666666667\n"
     ]
    },
    {
     "name": "stderr",
     "output_type": "stream",
     "text": [
      "\n",
      " 77%|███████▋  | 387/500 [27:34<08:17,  4.40s/it]\u001B[A"
     ]
    },
    {
     "name": "stdout",
     "output_type": "stream",
     "text": [
      "Generation: 387\n",
      "Individuals: 50\n",
      "Ind avg: 0.7559999999999999\n",
      "Sel avg: 0.7733333333333335\n",
      "Best fitness: 0.8\n"
     ]
    },
    {
     "name": "stderr",
     "output_type": "stream",
     "text": [
      "\n",
      " 78%|███████▊  | 388/500 [27:41<09:07,  4.89s/it]\u001B[A"
     ]
    },
    {
     "name": "stdout",
     "output_type": "stream",
     "text": [
      "Generation: 388\n",
      "Individuals: 50\n",
      "Ind avg: 0.8653333333333337\n",
      "Sel avg: 0.8680000000000004\n",
      "Best fitness: 0.9\n"
     ]
    },
    {
     "name": "stderr",
     "output_type": "stream",
     "text": [
      "\n",
      " 78%|███████▊  | 389/500 [27:44<08:28,  4.58s/it]\u001B[A"
     ]
    },
    {
     "name": "stdout",
     "output_type": "stream",
     "text": [
      "Generation: 389\n",
      "Individuals: 50\n",
      "Ind avg: 0.8113333333333332\n",
      "Sel avg: 0.8120000000000003\n",
      "Best fitness: 0.8666666666666667\n"
     ]
    },
    {
     "name": "stderr",
     "output_type": "stream",
     "text": [
      "\n",
      " 78%|███████▊  | 390/500 [27:49<08:34,  4.68s/it]\u001B[A"
     ]
    },
    {
     "name": "stdout",
     "output_type": "stream",
     "text": [
      "Generation: 390\n",
      "Individuals: 50\n",
      "Ind avg: 0.835333333333333\n",
      "Sel avg: 0.8333333333333335\n",
      "Best fitness: 0.9\n"
     ]
    },
    {
     "name": "stderr",
     "output_type": "stream",
     "text": [
      "\n",
      " 78%|███████▊  | 391/500 [27:54<08:16,  4.55s/it]\u001B[A"
     ]
    },
    {
     "name": "stdout",
     "output_type": "stream",
     "text": [
      "Generation: 391\n",
      "Individuals: 50\n",
      "Ind avg: 0.9066666666666658\n",
      "Sel avg: 0.924\n",
      "Best fitness: 0.9333333333333333\n"
     ]
    },
    {
     "name": "stderr",
     "output_type": "stream",
     "text": [
      "\n",
      " 78%|███████▊  | 392/500 [27:58<07:53,  4.38s/it]\u001B[A"
     ]
    },
    {
     "name": "stdout",
     "output_type": "stream",
     "text": [
      "Generation: 392\n",
      "Individuals: 50\n",
      "Ind avg: 0.8553333333333336\n",
      "Sel avg: 0.8613333333333335\n",
      "Best fitness: 0.8666666666666667\n"
     ]
    },
    {
     "name": "stderr",
     "output_type": "stream",
     "text": [
      "\n",
      " 79%|███████▊  | 393/500 [28:03<08:39,  4.86s/it]\u001B[A"
     ]
    },
    {
     "name": "stdout",
     "output_type": "stream",
     "text": [
      "Generation: 393\n",
      "Individuals: 50\n",
      "Ind avg: 0.85\n",
      "Sel avg: 0.8520000000000003\n",
      "Best fitness: 0.9333333333333333\n"
     ]
    },
    {
     "name": "stderr",
     "output_type": "stream",
     "text": [
      "\n",
      " 79%|███████▉  | 394/500 [28:07<08:07,  4.60s/it]\u001B[A"
     ]
    },
    {
     "name": "stdout",
     "output_type": "stream",
     "text": [
      "Generation: 394\n",
      "Individuals: 50\n",
      "Ind avg: 0.8933333333333333\n",
      "Sel avg: 0.8973333333333333\n",
      "Best fitness: 0.9333333333333333\n"
     ]
    },
    {
     "name": "stderr",
     "output_type": "stream",
     "text": [
      "\n",
      " 79%|███████▉  | 395/500 [28:12<08:06,  4.63s/it]\u001B[A"
     ]
    },
    {
     "name": "stdout",
     "output_type": "stream",
     "text": [
      "Generation: 395\n",
      "Individuals: 50\n",
      "Ind avg: 0.9086666666666663\n",
      "Sel avg: 0.9040000000000002\n",
      "Best fitness: 0.9333333333333333\n"
     ]
    },
    {
     "name": "stderr",
     "output_type": "stream",
     "text": [
      "\n",
      " 79%|███████▉  | 396/500 [28:17<08:02,  4.64s/it]\u001B[A"
     ]
    },
    {
     "name": "stdout",
     "output_type": "stream",
     "text": [
      "Generation: 396\n",
      "Individuals: 50\n",
      "Ind avg: 0.8606666666666666\n",
      "Sel avg: 0.8626666666666667\n",
      "Best fitness: 0.9\n"
     ]
    },
    {
     "name": "stderr",
     "output_type": "stream",
     "text": [
      "\n",
      " 79%|███████▉  | 397/500 [28:21<07:48,  4.55s/it]\u001B[A"
     ]
    },
    {
     "name": "stdout",
     "output_type": "stream",
     "text": [
      "Generation: 397\n",
      "Individuals: 50\n",
      "Ind avg: 0.8240000000000001\n",
      "Sel avg: 0.8240000000000002\n",
      "Best fitness: 0.8666666666666667\n"
     ]
    },
    {
     "name": "stderr",
     "output_type": "stream",
     "text": [
      "\n",
      " 80%|███████▉  | 398/500 [28:25<07:21,  4.32s/it]\u001B[A"
     ]
    },
    {
     "name": "stdout",
     "output_type": "stream",
     "text": [
      "Generation: 398\n",
      "Individuals: 50\n",
      "Ind avg: 0.8380000000000003\n",
      "Sel avg: 0.8373333333333334\n",
      "Best fitness: 0.9\n"
     ]
    },
    {
     "name": "stderr",
     "output_type": "stream",
     "text": [
      "\n",
      " 80%|███████▉  | 399/500 [28:29<07:07,  4.23s/it]\u001B[A"
     ]
    },
    {
     "name": "stdout",
     "output_type": "stream",
     "text": [
      "Generation: 399\n",
      "Individuals: 50\n",
      "Ind avg: 0.900666666666666\n",
      "Sel avg: 0.9079999999999997\n",
      "Best fitness: 0.9666666666666667\n"
     ]
    },
    {
     "name": "stderr",
     "output_type": "stream",
     "text": [
      "\n",
      " 80%|████████  | 400/500 [28:33<06:46,  4.07s/it]\u001B[A"
     ]
    },
    {
     "name": "stdout",
     "output_type": "stream",
     "text": [
      "Generation: 400\n",
      "Individuals: 50\n",
      "Ind avg: 0.8333333333333336\n",
      "Sel avg: 0.8333333333333333\n",
      "Best fitness: 0.8333333333333334\n"
     ]
    },
    {
     "name": "stderr",
     "output_type": "stream",
     "text": [
      "\n",
      " 80%|████████  | 401/500 [28:37<06:47,  4.11s/it]\u001B[A"
     ]
    },
    {
     "name": "stdout",
     "output_type": "stream",
     "text": [
      "Generation: 401\n",
      "Individuals: 50\n",
      "Ind avg: 0.7766666666666666\n",
      "Sel avg: 0.7786666666666668\n",
      "Best fitness: 0.8666666666666667\n"
     ]
    },
    {
     "name": "stderr",
     "output_type": "stream",
     "text": [
      "\n",
      " 80%|████████  | 402/500 [28:41<06:49,  4.18s/it]\u001B[A"
     ]
    },
    {
     "name": "stdout",
     "output_type": "stream",
     "text": [
      "Generation: 402\n",
      "Individuals: 50\n",
      "Ind avg: 0.8053333333333331\n",
      "Sel avg: 0.8106666666666669\n",
      "Best fitness: 0.8333333333333334\n"
     ]
    },
    {
     "name": "stderr",
     "output_type": "stream",
     "text": [
      "\n",
      " 81%|████████  | 403/500 [28:45<06:39,  4.12s/it]\u001B[A"
     ]
    },
    {
     "name": "stdout",
     "output_type": "stream",
     "text": [
      "Generation: 403\n",
      "Individuals: 50\n",
      "Ind avg: 0.9206666666666657\n",
      "Sel avg: 0.9226666666666667\n",
      "Best fitness: 0.9333333333333333\n"
     ]
    },
    {
     "name": "stderr",
     "output_type": "stream",
     "text": [
      "\n",
      " 81%|████████  | 404/500 [28:49<06:35,  4.12s/it]\u001B[A"
     ]
    },
    {
     "name": "stdout",
     "output_type": "stream",
     "text": [
      "Generation: 404\n",
      "Individuals: 50\n",
      "Ind avg: 0.8999999999999991\n",
      "Sel avg: 0.8986666666666665\n",
      "Best fitness: 0.9333333333333333\n"
     ]
    },
    {
     "name": "stderr",
     "output_type": "stream",
     "text": [
      "\n",
      " 81%|████████  | 405/500 [28:53<06:06,  3.86s/it]\u001B[A"
     ]
    },
    {
     "name": "stdout",
     "output_type": "stream",
     "text": [
      "Generation: 405\n",
      "Individuals: 50\n",
      "Ind avg: 0.758\n",
      "Sel avg: 0.7466666666666667\n",
      "Best fitness: 0.8333333333333334\n"
     ]
    },
    {
     "name": "stderr",
     "output_type": "stream",
     "text": [
      "\n",
      " 81%|████████  | 406/500 [28:57<06:22,  4.07s/it]\u001B[A"
     ]
    },
    {
     "name": "stdout",
     "output_type": "stream",
     "text": [
      "Generation: 406\n",
      "Individuals: 50\n",
      "Ind avg: 0.9299999999999992\n",
      "Sel avg: 0.9319999999999999\n",
      "Best fitness: 0.9666666666666667\n"
     ]
    },
    {
     "name": "stderr",
     "output_type": "stream",
     "text": [
      "\n",
      " 81%|████████▏ | 407/500 [29:01<06:07,  3.95s/it]\u001B[A"
     ]
    },
    {
     "name": "stdout",
     "output_type": "stream",
     "text": [
      "Generation: 407\n",
      "Individuals: 50\n",
      "Ind avg: 0.8939999999999994\n",
      "Sel avg: 0.9173333333333334\n",
      "Best fitness: 0.9333333333333333\n"
     ]
    },
    {
     "name": "stderr",
     "output_type": "stream",
     "text": [
      "\n",
      " 82%|████████▏ | 408/500 [29:05<06:14,  4.07s/it]\u001B[A"
     ]
    },
    {
     "name": "stdout",
     "output_type": "stream",
     "text": [
      "Generation: 408\n",
      "Individuals: 50\n",
      "Ind avg: 0.8340000000000002\n",
      "Sel avg: 0.8320000000000001\n",
      "Best fitness: 0.8666666666666667\n"
     ]
    },
    {
     "name": "stderr",
     "output_type": "stream",
     "text": [
      "\n",
      " 82%|████████▏ | 409/500 [29:09<06:05,  4.02s/it]\u001B[A"
     ]
    },
    {
     "name": "stdout",
     "output_type": "stream",
     "text": [
      "Generation: 409\n",
      "Individuals: 50\n",
      "Ind avg: 0.9006666666666665\n",
      "Sel avg: 0.905333333333333\n",
      "Best fitness: 0.9666666666666667\n"
     ]
    },
    {
     "name": "stderr",
     "output_type": "stream",
     "text": [
      "\n",
      " 82%|████████▏ | 410/500 [29:13<06:01,  4.01s/it]\u001B[A"
     ]
    },
    {
     "name": "stdout",
     "output_type": "stream",
     "text": [
      "Generation: 410\n",
      "Individuals: 50\n",
      "Ind avg: 0.8959999999999994\n",
      "Sel avg: 0.9013333333333332\n",
      "Best fitness: 0.9333333333333333\n"
     ]
    },
    {
     "name": "stderr",
     "output_type": "stream",
     "text": [
      "\n",
      " 82%|████████▏ | 411/500 [29:17<05:50,  3.93s/it]\u001B[A"
     ]
    },
    {
     "name": "stdout",
     "output_type": "stream",
     "text": [
      "Generation: 411\n",
      "Individuals: 50\n",
      "Ind avg: 0.7706666666666666\n",
      "Sel avg: 0.7680000000000001\n",
      "Best fitness: 0.8\n"
     ]
    },
    {
     "name": "stderr",
     "output_type": "stream",
     "text": [
      "\n",
      " 82%|████████▏ | 412/500 [29:22<06:18,  4.30s/it]\u001B[A"
     ]
    },
    {
     "name": "stdout",
     "output_type": "stream",
     "text": [
      "Generation: 412\n",
      "Individuals: 50\n",
      "Ind avg: 0.8393333333333334\n",
      "Sel avg: 0.8360000000000001\n",
      "Best fitness: 0.8666666666666667\n"
     ]
    },
    {
     "name": "stderr",
     "output_type": "stream",
     "text": [
      "\n",
      " 83%|████████▎ | 413/500 [29:26<06:17,  4.34s/it]\u001B[A"
     ]
    },
    {
     "name": "stdout",
     "output_type": "stream",
     "text": [
      "Generation: 413\n",
      "Individuals: 50\n",
      "Ind avg: 0.8320000000000002\n",
      "Sel avg: 0.8426666666666667\n",
      "Best fitness: 0.8666666666666667\n"
     ]
    },
    {
     "name": "stderr",
     "output_type": "stream",
     "text": [
      "\n",
      " 83%|████████▎ | 414/500 [29:31<06:12,  4.33s/it]\u001B[A"
     ]
    },
    {
     "name": "stdout",
     "output_type": "stream",
     "text": [
      "Generation: 414\n",
      "Individuals: 50\n",
      "Ind avg: 0.8733333333333334\n",
      "Sel avg: 0.8759999999999999\n",
      "Best fitness: 0.9666666666666667\n"
     ]
    },
    {
     "name": "stderr",
     "output_type": "stream",
     "text": [
      "\n",
      " 83%|████████▎ | 415/500 [29:35<06:01,  4.25s/it]\u001B[A"
     ]
    },
    {
     "name": "stdout",
     "output_type": "stream",
     "text": [
      "Generation: 415\n",
      "Individuals: 50\n",
      "Ind avg: 0.914666666666667\n",
      "Sel avg: 0.9279999999999998\n",
      "Best fitness: 0.9666666666666667\n"
     ]
    },
    {
     "name": "stderr",
     "output_type": "stream",
     "text": [
      "\n",
      " 83%|████████▎ | 416/500 [29:39<05:46,  4.13s/it]\u001B[A"
     ]
    },
    {
     "name": "stdout",
     "output_type": "stream",
     "text": [
      "Generation: 416\n",
      "Individuals: 50\n",
      "Ind avg: 0.8466666666666662\n",
      "Sel avg: 0.8839999999999998\n",
      "Best fitness: 0.9\n"
     ]
    },
    {
     "name": "stderr",
     "output_type": "stream",
     "text": [
      "\n",
      " 83%|████████▎ | 417/500 [29:43<05:50,  4.22s/it]\u001B[A"
     ]
    },
    {
     "name": "stdout",
     "output_type": "stream",
     "text": [
      "Generation: 417\n",
      "Individuals: 50\n",
      "Ind avg: 0.9053333333333324\n",
      "Sel avg: 0.9039999999999998\n",
      "Best fitness: 0.9666666666666667\n"
     ]
    },
    {
     "name": "stderr",
     "output_type": "stream",
     "text": [
      "\n",
      " 84%|████████▎ | 418/500 [29:47<05:35,  4.09s/it]\u001B[A"
     ]
    },
    {
     "name": "stdout",
     "output_type": "stream",
     "text": [
      "Generation: 418\n",
      "Individuals: 50\n",
      "Ind avg: 0.9306666666666659\n",
      "Sel avg: 0.9306666666666668\n",
      "Best fitness: 0.9666666666666667\n"
     ]
    },
    {
     "name": "stderr",
     "output_type": "stream",
     "text": [
      "\n",
      " 84%|████████▍ | 419/500 [29:51<05:23,  4.00s/it]\u001B[A"
     ]
    },
    {
     "name": "stdout",
     "output_type": "stream",
     "text": [
      "Generation: 419\n",
      "Individuals: 50\n",
      "Ind avg: 0.9019999999999991\n",
      "Sel avg: 0.9013333333333331\n",
      "Best fitness: 0.9333333333333333\n"
     ]
    },
    {
     "name": "stderr",
     "output_type": "stream",
     "text": [
      "\n",
      " 84%|████████▍ | 420/500 [29:54<05:12,  3.91s/it]\u001B[A"
     ]
    },
    {
     "name": "stdout",
     "output_type": "stream",
     "text": [
      "Generation: 420\n",
      "Individuals: 50\n",
      "Ind avg: 0.9433333333333335\n",
      "Sel avg: 0.9653333333333329\n",
      "Best fitness: 1.0\n"
     ]
    },
    {
     "name": "stderr",
     "output_type": "stream",
     "text": [
      "\n",
      " 84%|████████▍ | 421/500 [29:58<04:55,  3.74s/it]\u001B[A"
     ]
    },
    {
     "name": "stdout",
     "output_type": "stream",
     "text": [
      "Generation: 421\n",
      "Individuals: 50\n",
      "Ind avg: 0.9326666666666658\n",
      "Sel avg: 0.9333333333333335\n",
      "Best fitness: 0.9333333333333333\n"
     ]
    },
    {
     "name": "stderr",
     "output_type": "stream",
     "text": [
      "\n",
      " 84%|████████▍ | 422/500 [30:02<04:56,  3.81s/it]\u001B[A"
     ]
    },
    {
     "name": "stdout",
     "output_type": "stream",
     "text": [
      "Generation: 422\n",
      "Individuals: 50\n",
      "Ind avg: 0.7686666666666663\n",
      "Sel avg: 0.764\n",
      "Best fitness: 0.9\n"
     ]
    },
    {
     "name": "stderr",
     "output_type": "stream",
     "text": [
      "\n",
      " 85%|████████▍ | 423/500 [30:06<05:08,  4.00s/it]\u001B[A"
     ]
    },
    {
     "name": "stdout",
     "output_type": "stream",
     "text": [
      "Generation: 423\n",
      "Individuals: 50\n",
      "Ind avg: 0.826666666666667\n",
      "Sel avg: 0.8226666666666667\n",
      "Best fitness: 0.8666666666666667\n"
     ]
    },
    {
     "name": "stderr",
     "output_type": "stream",
     "text": [
      "\n",
      " 85%|████████▍ | 424/500 [30:10<04:57,  3.92s/it]\u001B[A"
     ]
    },
    {
     "name": "stdout",
     "output_type": "stream",
     "text": [
      "Generation: 424\n",
      "Individuals: 50\n",
      "Ind avg: 0.8300000000000002\n",
      "Sel avg: 0.8280000000000001\n",
      "Best fitness: 0.8666666666666667\n"
     ]
    },
    {
     "name": "stderr",
     "output_type": "stream",
     "text": [
      "\n",
      " 85%|████████▌ | 425/500 [30:14<05:03,  4.05s/it]\u001B[A"
     ]
    },
    {
     "name": "stdout",
     "output_type": "stream",
     "text": [
      "Generation: 425\n",
      "Individuals: 50\n",
      "Ind avg: 0.8039999999999999\n",
      "Sel avg: 0.8120000000000002\n",
      "Best fitness: 0.8666666666666667\n"
     ]
    },
    {
     "name": "stderr",
     "output_type": "stream",
     "text": [
      "\n",
      " 85%|████████▌ | 426/500 [30:18<04:51,  3.93s/it]\u001B[A"
     ]
    },
    {
     "name": "stdout",
     "output_type": "stream",
     "text": [
      "Generation: 426\n",
      "Individuals: 50\n",
      "Ind avg: 0.8039999999999999\n",
      "Sel avg: 0.8146666666666669\n",
      "Best fitness: 0.8333333333333334\n"
     ]
    },
    {
     "name": "stderr",
     "output_type": "stream",
     "text": [
      "\n",
      " 85%|████████▌ | 427/500 [30:22<04:42,  3.87s/it]\u001B[A"
     ]
    },
    {
     "name": "stdout",
     "output_type": "stream",
     "text": [
      "Generation: 427\n",
      "Individuals: 50\n",
      "Ind avg: 0.8266666666666667\n",
      "Sel avg: 0.8160000000000001\n",
      "Best fitness: 0.9333333333333333\n"
     ]
    },
    {
     "name": "stderr",
     "output_type": "stream",
     "text": [
      "\n",
      " 86%|████████▌ | 428/500 [30:26<04:52,  4.06s/it]\u001B[A"
     ]
    },
    {
     "name": "stdout",
     "output_type": "stream",
     "text": [
      "Generation: 428\n",
      "Individuals: 50\n",
      "Ind avg: 0.8759999999999996\n",
      "Sel avg: 0.8959999999999998\n",
      "Best fitness: 0.9\n"
     ]
    },
    {
     "name": "stderr",
     "output_type": "stream",
     "text": [
      "\n",
      " 86%|████████▌ | 429/500 [30:31<05:00,  4.23s/it]\u001B[A"
     ]
    },
    {
     "name": "stdout",
     "output_type": "stream",
     "text": [
      "Generation: 429\n",
      "Individuals: 50\n",
      "Ind avg: 0.8540000000000002\n",
      "Sel avg: 0.8573333333333334\n",
      "Best fitness: 0.8666666666666667\n"
     ]
    },
    {
     "name": "stderr",
     "output_type": "stream",
     "text": [
      "\n",
      " 86%|████████▌ | 430/500 [30:37<05:38,  4.84s/it]\u001B[A"
     ]
    },
    {
     "name": "stdout",
     "output_type": "stream",
     "text": [
      "Generation: 430\n",
      "Individuals: 50\n",
      "Ind avg: 0.866\n",
      "Sel avg: 0.8733333333333332\n",
      "Best fitness: 0.9666666666666667\n"
     ]
    },
    {
     "name": "stderr",
     "output_type": "stream",
     "text": [
      "\n",
      " 86%|████████▌ | 431/500 [30:42<05:47,  5.03s/it]\u001B[A"
     ]
    },
    {
     "name": "stdout",
     "output_type": "stream",
     "text": [
      "Generation: 431\n",
      "Individuals: 50\n",
      "Ind avg: 0.7393333333333332\n",
      "Sel avg: 0.7839999999999998\n",
      "Best fitness: 0.9\n"
     ]
    },
    {
     "name": "stderr",
     "output_type": "stream",
     "text": [
      "\n",
      " 86%|████████▋ | 432/500 [30:49<06:16,  5.54s/it]\u001B[A"
     ]
    },
    {
     "name": "stdout",
     "output_type": "stream",
     "text": [
      "Generation: 432\n",
      "Individuals: 50\n",
      "Ind avg: 0.8033333333333332\n",
      "Sel avg: 0.804\n",
      "Best fitness: 0.8666666666666667\n"
     ]
    },
    {
     "name": "stderr",
     "output_type": "stream",
     "text": [
      "\n",
      " 87%|████████▋ | 433/500 [30:54<05:55,  5.30s/it]\u001B[A"
     ]
    },
    {
     "name": "stdout",
     "output_type": "stream",
     "text": [
      "Generation: 433\n",
      "Individuals: 50\n",
      "Ind avg: 0.8726666666666669\n",
      "Sel avg: 0.8639999999999998\n",
      "Best fitness: 0.9333333333333333\n"
     ]
    },
    {
     "name": "stderr",
     "output_type": "stream",
     "text": [
      "\n",
      " 87%|████████▋ | 434/500 [30:59<05:48,  5.28s/it]\u001B[A"
     ]
    },
    {
     "name": "stdout",
     "output_type": "stream",
     "text": [
      "Generation: 434\n",
      "Individuals: 50\n",
      "Ind avg: 0.774666666666667\n",
      "Sel avg: 0.7960000000000003\n",
      "Best fitness: 0.8666666666666667\n"
     ]
    },
    {
     "name": "stderr",
     "output_type": "stream",
     "text": [
      "\n",
      " 87%|████████▋ | 435/500 [31:06<06:10,  5.70s/it]\u001B[A"
     ]
    },
    {
     "name": "stdout",
     "output_type": "stream",
     "text": [
      "Generation: 435\n",
      "Individuals: 50\n",
      "Ind avg: 0.8479999999999995\n",
      "Sel avg: 0.8800000000000001\n",
      "Best fitness: 0.9333333333333333\n"
     ]
    },
    {
     "name": "stderr",
     "output_type": "stream",
     "text": [
      "\n",
      " 87%|████████▋ | 436/500 [31:10<05:32,  5.19s/it]\u001B[A"
     ]
    },
    {
     "name": "stdout",
     "output_type": "stream",
     "text": [
      "Generation: 436\n",
      "Individuals: 50\n",
      "Ind avg: 0.8393333333333337\n",
      "Sel avg: 0.8573333333333336\n",
      "Best fitness: 0.8666666666666667\n"
     ]
    },
    {
     "name": "stderr",
     "output_type": "stream",
     "text": [
      "\n",
      " 87%|████████▋ | 437/500 [31:15<05:33,  5.30s/it]\u001B[A"
     ]
    },
    {
     "name": "stdout",
     "output_type": "stream",
     "text": [
      "Generation: 437\n",
      "Individuals: 50\n",
      "Ind avg: 0.773333333333333\n",
      "Sel avg: 0.7706666666666669\n",
      "Best fitness: 0.8666666666666667\n"
     ]
    },
    {
     "name": "stderr",
     "output_type": "stream",
     "text": [
      "\n",
      " 88%|████████▊ | 438/500 [31:21<05:36,  5.43s/it]\u001B[A"
     ]
    },
    {
     "name": "stdout",
     "output_type": "stream",
     "text": [
      "Generation: 438\n",
      "Individuals: 50\n",
      "Ind avg: 0.8839999999999995\n",
      "Sel avg: 0.8866666666666667\n",
      "Best fitness: 0.9\n"
     ]
    },
    {
     "name": "stderr",
     "output_type": "stream",
     "text": [
      "\n",
      " 88%|████████▊ | 439/500 [31:29<06:06,  6.02s/it]\u001B[A"
     ]
    },
    {
     "name": "stdout",
     "output_type": "stream",
     "text": [
      "Generation: 439\n",
      "Individuals: 50\n",
      "Ind avg: 0.8959999999999992\n",
      "Sel avg: 0.8973333333333331\n",
      "Best fitness: 0.9\n"
     ]
    },
    {
     "name": "stderr",
     "output_type": "stream",
     "text": [
      "\n",
      " 88%|████████▊ | 440/500 [31:34<05:47,  5.79s/it]\u001B[A"
     ]
    },
    {
     "name": "stdout",
     "output_type": "stream",
     "text": [
      "Generation: 440\n",
      "Individuals: 50\n",
      "Ind avg: 0.6986666666666664\n",
      "Sel avg: 0.6999999999999997\n",
      "Best fitness: 0.9\n"
     ]
    },
    {
     "name": "stderr",
     "output_type": "stream",
     "text": [
      "\n",
      " 88%|████████▊ | 441/500 [31:40<05:51,  5.95s/it]\u001B[A"
     ]
    },
    {
     "name": "stdout",
     "output_type": "stream",
     "text": [
      "Generation: 441\n",
      "Individuals: 50\n",
      "Ind avg: 0.8779999999999998\n",
      "Sel avg: 0.8746666666666667\n",
      "Best fitness: 0.9333333333333333\n"
     ]
    },
    {
     "name": "stderr",
     "output_type": "stream",
     "text": [
      "\n",
      " 88%|████████▊ | 442/500 [31:46<05:48,  6.02s/it]\u001B[A"
     ]
    },
    {
     "name": "stdout",
     "output_type": "stream",
     "text": [
      "Generation: 442\n",
      "Individuals: 50\n",
      "Ind avg: 0.7826666666666665\n",
      "Sel avg: 0.7880000000000004\n",
      "Best fitness: 0.8333333333333334\n"
     ]
    },
    {
     "name": "stderr",
     "output_type": "stream",
     "text": [
      "\n",
      " 89%|████████▊ | 443/500 [31:51<05:27,  5.75s/it]\u001B[A"
     ]
    },
    {
     "name": "stdout",
     "output_type": "stream",
     "text": [
      "Generation: 443\n",
      "Individuals: 50\n",
      "Ind avg: 0.8866666666666662\n",
      "Sel avg: 0.8906666666666667\n",
      "Best fitness: 0.9333333333333333\n"
     ]
    },
    {
     "name": "stderr",
     "output_type": "stream",
     "text": [
      "\n",
      " 89%|████████▉ | 444/500 [31:57<05:16,  5.66s/it]\u001B[A"
     ]
    },
    {
     "name": "stdout",
     "output_type": "stream",
     "text": [
      "Generation: 444\n",
      "Individuals: 50\n",
      "Ind avg: 0.8233333333333337\n",
      "Sel avg: 0.8613333333333337\n",
      "Best fitness: 0.9333333333333333\n"
     ]
    },
    {
     "name": "stderr",
     "output_type": "stream",
     "text": [
      "\n",
      " 89%|████████▉ | 445/500 [32:03<05:20,  5.82s/it]\u001B[A"
     ]
    },
    {
     "name": "stdout",
     "output_type": "stream",
     "text": [
      "Generation: 445\n",
      "Individuals: 50\n",
      "Ind avg: 0.890666666666666\n",
      "Sel avg: 0.8906666666666665\n",
      "Best fitness: 0.9666666666666667\n"
     ]
    },
    {
     "name": "stderr",
     "output_type": "stream",
     "text": [
      "\n",
      " 89%|████████▉ | 446/500 [32:09<05:20,  5.93s/it]\u001B[A"
     ]
    },
    {
     "name": "stdout",
     "output_type": "stream",
     "text": [
      "Generation: 446\n",
      "Individuals: 50\n",
      "Ind avg: 0.7893333333333333\n",
      "Sel avg: 0.8013333333333336\n",
      "Best fitness: 0.9\n"
     ]
    },
    {
     "name": "stderr",
     "output_type": "stream",
     "text": [
      "\n",
      " 89%|████████▉ | 447/500 [32:18<05:59,  6.78s/it]\u001B[A"
     ]
    },
    {
     "name": "stdout",
     "output_type": "stream",
     "text": [
      "Generation: 447\n",
      "Individuals: 50\n",
      "Ind avg: 0.860666666666666\n",
      "Sel avg: 0.8639999999999998\n",
      "Best fitness: 0.9333333333333333\n"
     ]
    },
    {
     "name": "stderr",
     "output_type": "stream",
     "text": [
      "\n",
      " 90%|████████▉ | 448/500 [32:26<06:04,  7.02s/it]\u001B[A"
     ]
    },
    {
     "name": "stdout",
     "output_type": "stream",
     "text": [
      "Generation: 448\n",
      "Individuals: 50\n",
      "Ind avg: 0.7186666666666669\n",
      "Sel avg: 0.7319999999999999\n",
      "Best fitness: 0.7666666666666667\n"
     ]
    },
    {
     "name": "stderr",
     "output_type": "stream",
     "text": [
      "\n",
      " 90%|████████▉ | 449/500 [32:34<06:22,  7.51s/it]\u001B[A"
     ]
    },
    {
     "name": "stdout",
     "output_type": "stream",
     "text": [
      "Generation: 449\n",
      "Individuals: 50\n",
      "Ind avg: 0.8106666666666663\n",
      "Sel avg: 0.8226666666666671\n",
      "Best fitness: 0.9\n"
     ]
    },
    {
     "name": "stderr",
     "output_type": "stream",
     "text": [
      "\n",
      " 90%|█████████ | 450/500 [32:41<06:05,  7.31s/it]\u001B[A"
     ]
    },
    {
     "name": "stdout",
     "output_type": "stream",
     "text": [
      "Generation: 450\n",
      "Individuals: 50\n",
      "Ind avg: 0.7553333333333333\n",
      "Sel avg: 0.7600000000000002\n",
      "Best fitness: 0.8333333333333334\n"
     ]
    },
    {
     "name": "stderr",
     "output_type": "stream",
     "text": [
      "\n",
      " 90%|█████████ | 451/500 [32:47<05:40,  6.95s/it]\u001B[A"
     ]
    },
    {
     "name": "stdout",
     "output_type": "stream",
     "text": [
      "Generation: 451\n",
      "Individuals: 50\n",
      "Ind avg: 0.8313333333333334\n",
      "Sel avg: 0.8293333333333334\n",
      "Best fitness: 0.9\n"
     ]
    },
    {
     "name": "stderr",
     "output_type": "stream",
     "text": [
      "\n",
      " 90%|█████████ | 452/500 [32:52<05:06,  6.39s/it]\u001B[A"
     ]
    },
    {
     "name": "stdout",
     "output_type": "stream",
     "text": [
      "Generation: 452\n",
      "Individuals: 50\n",
      "Ind avg: 0.794\n",
      "Sel avg: 0.7973333333333334\n",
      "Best fitness: 0.8666666666666667\n"
     ]
    },
    {
     "name": "stderr",
     "output_type": "stream",
     "text": [
      "\n",
      " 91%|█████████ | 453/500 [32:58<04:56,  6.30s/it]\u001B[A"
     ]
    },
    {
     "name": "stdout",
     "output_type": "stream",
     "text": [
      "Generation: 453\n",
      "Individuals: 50\n",
      "Ind avg: 0.8146666666666665\n",
      "Sel avg: 0.8200000000000003\n",
      "Best fitness: 0.8666666666666667\n"
     ]
    },
    {
     "name": "stderr",
     "output_type": "stream",
     "text": [
      "\n",
      " 91%|█████████ | 454/500 [33:04<04:47,  6.25s/it]\u001B[A"
     ]
    },
    {
     "name": "stdout",
     "output_type": "stream",
     "text": [
      "Generation: 454\n",
      "Individuals: 50\n",
      "Ind avg: 0.8433333333333336\n",
      "Sel avg: 0.8480000000000001\n",
      "Best fitness: 0.8666666666666667\n"
     ]
    },
    {
     "name": "stderr",
     "output_type": "stream",
     "text": [
      "\n",
      " 91%|█████████ | 455/500 [33:09<04:21,  5.80s/it]\u001B[A"
     ]
    },
    {
     "name": "stdout",
     "output_type": "stream",
     "text": [
      "Generation: 455\n",
      "Individuals: 50\n",
      "Ind avg: 0.811333333333333\n",
      "Sel avg: 0.8160000000000003\n",
      "Best fitness: 0.9666666666666667\n"
     ]
    },
    {
     "name": "stderr",
     "output_type": "stream",
     "text": [
      "\n",
      " 91%|█████████ | 456/500 [33:18<04:58,  6.77s/it]\u001B[A"
     ]
    },
    {
     "name": "stdout",
     "output_type": "stream",
     "text": [
      "Generation: 456\n",
      "Individuals: 50\n",
      "Ind avg: 0.7826666666666662\n",
      "Sel avg: 0.7946666666666669\n",
      "Best fitness: 0.9\n"
     ]
    },
    {
     "name": "stderr",
     "output_type": "stream",
     "text": [
      "\n",
      " 91%|█████████▏| 457/500 [33:29<05:36,  7.82s/it]\u001B[A"
     ]
    },
    {
     "name": "stdout",
     "output_type": "stream",
     "text": [
      "Generation: 457\n",
      "Individuals: 50\n",
      "Ind avg: 0.7813333333333335\n",
      "Sel avg: 0.8026666666666671\n",
      "Best fitness: 0.8666666666666667\n"
     ]
    },
    {
     "name": "stderr",
     "output_type": "stream",
     "text": [
      "\n",
      " 92%|█████████▏| 458/500 [33:37<05:39,  8.07s/it]\u001B[A"
     ]
    },
    {
     "name": "stdout",
     "output_type": "stream",
     "text": [
      "Generation: 458\n",
      "Individuals: 50\n",
      "Ind avg: 0.814\n",
      "Sel avg: 0.8120000000000002\n",
      "Best fitness: 0.8333333333333334\n"
     ]
    },
    {
     "name": "stderr",
     "output_type": "stream",
     "text": [
      "\n",
      " 92%|█████████▏| 459/500 [33:45<05:30,  8.06s/it]\u001B[A"
     ]
    },
    {
     "name": "stdout",
     "output_type": "stream",
     "text": [
      "Generation: 459\n",
      "Individuals: 50\n",
      "Ind avg: 0.8766666666666662\n",
      "Sel avg: 0.8906666666666665\n",
      "Best fitness: 0.9\n"
     ]
    },
    {
     "name": "stderr",
     "output_type": "stream",
     "text": [
      "\n",
      " 92%|█████████▏| 460/500 [33:51<04:55,  7.39s/it]\u001B[A"
     ]
    },
    {
     "name": "stdout",
     "output_type": "stream",
     "text": [
      "Generation: 460\n",
      "Individuals: 50\n",
      "Ind avg: 0.9093333333333328\n",
      "Sel avg: 0.924\n",
      "Best fitness: 0.9333333333333333\n"
     ]
    },
    {
     "name": "stderr",
     "output_type": "stream",
     "text": [
      "\n",
      " 92%|█████████▏| 461/500 [33:56<04:14,  6.52s/it]\u001B[A"
     ]
    },
    {
     "name": "stdout",
     "output_type": "stream",
     "text": [
      "Generation: 461\n",
      "Individuals: 50\n",
      "Ind avg: 0.9073333333333328\n",
      "Sel avg: 0.9173333333333334\n",
      "Best fitness: 0.9333333333333333\n"
     ]
    },
    {
     "name": "stderr",
     "output_type": "stream",
     "text": [
      "\n",
      " 92%|█████████▏| 462/500 [34:02<04:10,  6.60s/it]\u001B[A"
     ]
    },
    {
     "name": "stdout",
     "output_type": "stream",
     "text": [
      "Generation: 462\n",
      "Individuals: 50\n",
      "Ind avg: 0.8733333333333329\n",
      "Sel avg: 0.8626666666666667\n",
      "Best fitness: 0.9\n"
     ]
    },
    {
     "name": "stderr",
     "output_type": "stream",
     "text": [
      "\n",
      " 93%|█████████▎| 463/500 [34:07<03:45,  6.09s/it]\u001B[A"
     ]
    },
    {
     "name": "stdout",
     "output_type": "stream",
     "text": [
      "Generation: 463\n",
      "Individuals: 50\n",
      "Ind avg: 0.8779999999999996\n",
      "Sel avg: 0.8960000000000001\n",
      "Best fitness: 0.9666666666666667\n"
     ]
    },
    {
     "name": "stderr",
     "output_type": "stream",
     "text": [
      "\n",
      " 93%|█████████▎| 464/500 [34:13<03:40,  6.14s/it]\u001B[A"
     ]
    },
    {
     "name": "stdout",
     "output_type": "stream",
     "text": [
      "Generation: 464\n",
      "Individuals: 50\n",
      "Ind avg: 0.8893333333333326\n",
      "Sel avg: 0.8986666666666668\n",
      "Best fitness: 0.9333333333333333\n"
     ]
    },
    {
     "name": "stderr",
     "output_type": "stream",
     "text": [
      "\n",
      " 93%|█████████▎| 465/500 [34:18<03:18,  5.66s/it]\u001B[A"
     ]
    },
    {
     "name": "stdout",
     "output_type": "stream",
     "text": [
      "Generation: 465\n",
      "Individuals: 50\n",
      "Ind avg: 0.840666666666667\n",
      "Sel avg: 0.8466666666666669\n",
      "Best fitness: 0.9\n"
     ]
    },
    {
     "name": "stderr",
     "output_type": "stream",
     "text": [
      "\n",
      " 93%|█████████▎| 466/500 [34:23<03:04,  5.41s/it]\u001B[A"
     ]
    },
    {
     "name": "stdout",
     "output_type": "stream",
     "text": [
      "Generation: 466\n",
      "Individuals: 50\n",
      "Ind avg: 0.8693333333333328\n",
      "Sel avg: 0.8813333333333333\n",
      "Best fitness: 0.9\n"
     ]
    },
    {
     "name": "stderr",
     "output_type": "stream",
     "text": [
      "\n",
      " 93%|█████████▎| 467/500 [34:28<02:57,  5.36s/it]\u001B[A"
     ]
    },
    {
     "name": "stdout",
     "output_type": "stream",
     "text": [
      "Generation: 467\n",
      "Individuals: 50\n",
      "Ind avg: 0.8220000000000002\n",
      "Sel avg: 0.828\n",
      "Best fitness: 0.9\n"
     ]
    },
    {
     "name": "stderr",
     "output_type": "stream",
     "text": [
      "\n",
      " 94%|█████████▎| 468/500 [34:33<02:47,  5.25s/it]\u001B[A"
     ]
    },
    {
     "name": "stdout",
     "output_type": "stream",
     "text": [
      "Generation: 468\n",
      "Individuals: 50\n",
      "Ind avg: 0.8906666666666658\n",
      "Sel avg: 0.8959999999999999\n",
      "Best fitness: 0.9333333333333333\n"
     ]
    },
    {
     "name": "stderr",
     "output_type": "stream",
     "text": [
      "\n",
      " 94%|█████████▍| 469/500 [34:38<02:37,  5.09s/it]\u001B[A"
     ]
    },
    {
     "name": "stdout",
     "output_type": "stream",
     "text": [
      "Generation: 469\n",
      "Individuals: 50\n",
      "Ind avg: 0.867333333333333\n",
      "Sel avg: 0.8813333333333335\n",
      "Best fitness: 0.9333333333333333\n"
     ]
    },
    {
     "name": "stderr",
     "output_type": "stream",
     "text": [
      "\n",
      " 94%|█████████▍| 470/500 [34:42<02:26,  4.90s/it]\u001B[A"
     ]
    },
    {
     "name": "stdout",
     "output_type": "stream",
     "text": [
      "Generation: 470\n",
      "Individuals: 50\n",
      "Ind avg: 0.7340000000000002\n",
      "Sel avg: 0.7293333333333333\n",
      "Best fitness: 0.8333333333333334\n"
     ]
    },
    {
     "name": "stderr",
     "output_type": "stream",
     "text": [
      "\n",
      " 94%|█████████▍| 471/500 [34:47<02:20,  4.86s/it]\u001B[A"
     ]
    },
    {
     "name": "stdout",
     "output_type": "stream",
     "text": [
      "Generation: 471\n",
      "Individuals: 50\n",
      "Ind avg: 0.8526666666666668\n",
      "Sel avg: 0.8413333333333334\n",
      "Best fitness: 0.9\n"
     ]
    },
    {
     "name": "stderr",
     "output_type": "stream",
     "text": [
      "\n",
      " 94%|█████████▍| 472/500 [34:52<02:17,  4.92s/it]\u001B[A"
     ]
    },
    {
     "name": "stdout",
     "output_type": "stream",
     "text": [
      "Generation: 472\n",
      "Individuals: 50\n",
      "Ind avg: 0.7073333333333331\n",
      "Sel avg: 0.7053333333333331\n",
      "Best fitness: 0.8\n"
     ]
    },
    {
     "name": "stderr",
     "output_type": "stream",
     "text": [
      "\n",
      " 95%|█████████▍| 473/500 [34:58<02:19,  5.16s/it]\u001B[A"
     ]
    },
    {
     "name": "stdout",
     "output_type": "stream",
     "text": [
      "Generation: 473\n",
      "Individuals: 50\n",
      "Ind avg: 0.7926666666666664\n",
      "Sel avg: 0.8000000000000002\n",
      "Best fitness: 0.8666666666666667\n"
     ]
    },
    {
     "name": "stderr",
     "output_type": "stream",
     "text": [
      "\n",
      " 95%|█████████▍| 474/500 [35:03<02:14,  5.18s/it]\u001B[A"
     ]
    },
    {
     "name": "stdout",
     "output_type": "stream",
     "text": [
      "Generation: 474\n",
      "Individuals: 50\n",
      "Ind avg: 0.8813333333333333\n",
      "Sel avg: 0.8493333333333336\n",
      "Best fitness: 0.9333333333333333\n"
     ]
    },
    {
     "name": "stderr",
     "output_type": "stream",
     "text": [
      "\n",
      " 95%|█████████▌| 475/500 [35:08<02:07,  5.09s/it]\u001B[A"
     ]
    },
    {
     "name": "stdout",
     "output_type": "stream",
     "text": [
      "Generation: 475\n",
      "Individuals: 50\n",
      "Ind avg: 0.7726666666666665\n",
      "Sel avg: 0.7920000000000003\n",
      "Best fitness: 0.8333333333333334\n"
     ]
    },
    {
     "name": "stderr",
     "output_type": "stream",
     "text": [
      "\n",
      " 95%|█████████▌| 476/500 [35:16<02:21,  5.92s/it]\u001B[A"
     ]
    },
    {
     "name": "stdout",
     "output_type": "stream",
     "text": [
      "Generation: 476\n",
      "Individuals: 50\n",
      "Ind avg: 0.8886666666666662\n",
      "Sel avg: 0.8786666666666667\n",
      "Best fitness: 0.9333333333333333\n"
     ]
    },
    {
     "name": "stderr",
     "output_type": "stream",
     "text": [
      "\n",
      " 95%|█████████▌| 477/500 [35:23<02:26,  6.38s/it]\u001B[A"
     ]
    },
    {
     "name": "stdout",
     "output_type": "stream",
     "text": [
      "Generation: 477\n",
      "Individuals: 50\n",
      "Ind avg: 0.8833333333333325\n",
      "Sel avg: 0.9093333333333332\n",
      "Best fitness: 0.9333333333333333\n"
     ]
    },
    {
     "name": "stderr",
     "output_type": "stream",
     "text": [
      "\n",
      " 96%|█████████▌| 478/500 [35:29<02:17,  6.26s/it]\u001B[A"
     ]
    },
    {
     "name": "stdout",
     "output_type": "stream",
     "text": [
      "Generation: 478\n",
      "Individuals: 50\n",
      "Ind avg: 0.8639999999999992\n",
      "Sel avg: 0.8706666666666666\n",
      "Best fitness: 0.9333333333333333\n"
     ]
    },
    {
     "name": "stderr",
     "output_type": "stream",
     "text": [
      "\n",
      " 96%|█████████▌| 479/500 [35:35<02:08,  6.11s/it]\u001B[A"
     ]
    },
    {
     "name": "stdout",
     "output_type": "stream",
     "text": [
      "Generation: 479\n",
      "Individuals: 50\n",
      "Ind avg: 0.8193333333333332\n",
      "Sel avg: 0.8133333333333335\n",
      "Best fitness: 0.8666666666666667\n"
     ]
    },
    {
     "name": "stderr",
     "output_type": "stream",
     "text": [
      "\n",
      " 96%|█████████▌| 480/500 [35:42<02:08,  6.41s/it]\u001B[A"
     ]
    },
    {
     "name": "stdout",
     "output_type": "stream",
     "text": [
      "Generation: 480\n",
      "Individuals: 50\n",
      "Ind avg: 0.8253333333333334\n",
      "Sel avg: 0.8346666666666667\n",
      "Best fitness: 0.9\n"
     ]
    },
    {
     "name": "stderr",
     "output_type": "stream",
     "text": [
      "\n",
      " 96%|█████████▌| 481/500 [35:50<02:12,  6.98s/it]\u001B[A"
     ]
    },
    {
     "name": "stdout",
     "output_type": "stream",
     "text": [
      "Generation: 481\n",
      "Individuals: 50\n",
      "Ind avg: 0.8293333333333329\n",
      "Sel avg: 0.8333333333333333\n",
      "Best fitness: 0.9\n"
     ]
    },
    {
     "name": "stderr",
     "output_type": "stream",
     "text": [
      "\n",
      " 96%|█████████▋| 482/500 [35:57<02:02,  6.82s/it]\u001B[A"
     ]
    },
    {
     "name": "stdout",
     "output_type": "stream",
     "text": [
      "Generation: 482\n",
      "Individuals: 50\n",
      "Ind avg: 0.8513333333333329\n",
      "Sel avg: 0.8493333333333333\n",
      "Best fitness: 0.9\n"
     ]
    },
    {
     "name": "stderr",
     "output_type": "stream",
     "text": [
      "\n",
      " 97%|█████████▋| 483/500 [36:02<01:49,  6.46s/it]\u001B[A"
     ]
    },
    {
     "name": "stdout",
     "output_type": "stream",
     "text": [
      "Generation: 483\n",
      "Individuals: 50\n",
      "Ind avg: 0.8113333333333334\n",
      "Sel avg: 0.7933333333333336\n",
      "Best fitness: 0.8666666666666667\n"
     ]
    },
    {
     "name": "stderr",
     "output_type": "stream",
     "text": [
      "\n",
      " 97%|█████████▋| 484/500 [36:10<01:47,  6.73s/it]\u001B[A"
     ]
    },
    {
     "name": "stdout",
     "output_type": "stream",
     "text": [
      "Generation: 484\n",
      "Individuals: 50\n",
      "Ind avg: 0.8946666666666662\n",
      "Sel avg: 0.8933333333333331\n",
      "Best fitness: 0.9333333333333333\n"
     ]
    },
    {
     "name": "stderr",
     "output_type": "stream",
     "text": [
      "\n",
      " 97%|█████████▋| 485/500 [36:16<01:36,  6.44s/it]\u001B[A"
     ]
    },
    {
     "name": "stdout",
     "output_type": "stream",
     "text": [
      "Generation: 485\n",
      "Individuals: 50\n",
      "Ind avg: 0.8886666666666669\n",
      "Sel avg: 0.9159999999999999\n",
      "Best fitness: 1.0\n"
     ]
    },
    {
     "name": "stderr",
     "output_type": "stream",
     "text": [
      "\n",
      " 97%|█████████▋| 486/500 [36:23<01:33,  6.65s/it]\u001B[A"
     ]
    },
    {
     "name": "stdout",
     "output_type": "stream",
     "text": [
      "Generation: 486\n",
      "Individuals: 50\n",
      "Ind avg: 0.846\n",
      "Sel avg: 0.8573333333333332\n",
      "Best fitness: 0.9666666666666667\n"
     ]
    },
    {
     "name": "stderr",
     "output_type": "stream",
     "text": [
      "\n",
      " 97%|█████████▋| 487/500 [36:28<01:21,  6.28s/it]\u001B[A"
     ]
    },
    {
     "name": "stdout",
     "output_type": "stream",
     "text": [
      "Generation: 487\n",
      "Individuals: 50\n",
      "Ind avg: 0.7380000000000002\n",
      "Sel avg: 0.7400000000000001\n",
      "Best fitness: 0.8\n"
     ]
    },
    {
     "name": "stderr",
     "output_type": "stream",
     "text": [
      "\n",
      " 98%|█████████▊| 488/500 [36:34<01:15,  6.30s/it]\u001B[A"
     ]
    },
    {
     "name": "stdout",
     "output_type": "stream",
     "text": [
      "Generation: 488\n",
      "Individuals: 50\n",
      "Ind avg: 0.8439999999999995\n",
      "Sel avg: 0.856\n",
      "Best fitness: 0.9333333333333333\n"
     ]
    },
    {
     "name": "stderr",
     "output_type": "stream",
     "text": [
      "\n",
      " 98%|█████████▊| 489/500 [36:39<01:04,  5.85s/it]\u001B[A"
     ]
    },
    {
     "name": "stdout",
     "output_type": "stream",
     "text": [
      "Generation: 489\n",
      "Individuals: 50\n",
      "Ind avg: 0.9186666666666659\n",
      "Sel avg: 0.92\n",
      "Best fitness: 0.9666666666666667\n"
     ]
    },
    {
     "name": "stderr",
     "output_type": "stream",
     "text": [
      "\n",
      " 98%|█████████▊| 490/500 [36:44<00:55,  5.57s/it]\u001B[A"
     ]
    },
    {
     "name": "stdout",
     "output_type": "stream",
     "text": [
      "Generation: 490\n",
      "Individuals: 50\n",
      "Ind avg: 0.7699999999999996\n",
      "Sel avg: 0.7959999999999998\n",
      "Best fitness: 0.9\n"
     ]
    },
    {
     "name": "stderr",
     "output_type": "stream",
     "text": [
      "\n",
      " 98%|█████████▊| 491/500 [36:51<00:52,  5.82s/it]\u001B[A"
     ]
    },
    {
     "name": "stdout",
     "output_type": "stream",
     "text": [
      "Generation: 491\n",
      "Individuals: 50\n",
      "Ind avg: 0.7686666666666668\n",
      "Sel avg: 0.7586666666666666\n",
      "Best fitness: 0.8333333333333334\n"
     ]
    },
    {
     "name": "stderr",
     "output_type": "stream",
     "text": [
      "\n",
      " 98%|█████████▊| 492/500 [36:57<00:47,  5.94s/it]\u001B[A"
     ]
    },
    {
     "name": "stdout",
     "output_type": "stream",
     "text": [
      "Generation: 492\n",
      "Individuals: 50\n",
      "Ind avg: 0.8273333333333335\n",
      "Sel avg: 0.8453333333333335\n",
      "Best fitness: 0.8666666666666667\n"
     ]
    },
    {
     "name": "stderr",
     "output_type": "stream",
     "text": [
      "\n",
      " 99%|█████████▊| 493/500 [37:03<00:42,  6.03s/it]\u001B[A"
     ]
    },
    {
     "name": "stdout",
     "output_type": "stream",
     "text": [
      "Generation: 493\n",
      "Individuals: 50\n",
      "Ind avg: 0.7906666666666671\n",
      "Sel avg: 0.8186666666666669\n",
      "Best fitness: 0.8666666666666667\n"
     ]
    },
    {
     "name": "stderr",
     "output_type": "stream",
     "text": [
      "\n",
      " 99%|█████████▉| 494/500 [37:09<00:36,  6.09s/it]\u001B[A"
     ]
    },
    {
     "name": "stdout",
     "output_type": "stream",
     "text": [
      "Generation: 494\n",
      "Individuals: 50\n",
      "Ind avg: 0.7473333333333335\n",
      "Sel avg: 0.7466666666666667\n",
      "Best fitness: 0.8333333333333334\n"
     ]
    },
    {
     "name": "stderr",
     "output_type": "stream",
     "text": [
      "\n",
      " 99%|█████████▉| 495/500 [37:15<00:29,  5.98s/it]\u001B[A"
     ]
    },
    {
     "name": "stdout",
     "output_type": "stream",
     "text": [
      "Generation: 495\n",
      "Individuals: 50\n",
      "Ind avg: 0.7366666666666668\n",
      "Sel avg: 0.7506666666666666\n",
      "Best fitness: 0.8\n"
     ]
    },
    {
     "name": "stderr",
     "output_type": "stream",
     "text": [
      "\n",
      " 99%|█████████▉| 496/500 [37:22<00:24,  6.15s/it]\u001B[A"
     ]
    },
    {
     "name": "stdout",
     "output_type": "stream",
     "text": [
      "Generation: 496\n",
      "Individuals: 50\n",
      "Ind avg: 0.8420000000000002\n",
      "Sel avg: 0.8253333333333334\n",
      "Best fitness: 0.9\n"
     ]
    },
    {
     "name": "stderr",
     "output_type": "stream",
     "text": [
      "\n",
      " 99%|█████████▉| 497/500 [37:28<00:18,  6.29s/it]\u001B[A"
     ]
    },
    {
     "name": "stdout",
     "output_type": "stream",
     "text": [
      "Generation: 497\n",
      "Individuals: 50\n",
      "Ind avg: 0.8446666666666666\n",
      "Sel avg: 0.8613333333333333\n",
      "Best fitness: 0.9\n"
     ]
    },
    {
     "name": "stderr",
     "output_type": "stream",
     "text": [
      "\n",
      "100%|█████████▉| 498/500 [37:34<00:12,  6.10s/it]\u001B[A"
     ]
    },
    {
     "name": "stdout",
     "output_type": "stream",
     "text": [
      "Generation: 498\n",
      "Individuals: 50\n",
      "Ind avg: 0.7633333333333333\n",
      "Sel avg: 0.764\n",
      "Best fitness: 0.8666666666666667\n"
     ]
    },
    {
     "name": "stderr",
     "output_type": "stream",
     "text": [
      "\n",
      "100%|█████████▉| 499/500 [37:42<00:06,  6.62s/it]\u001B[A"
     ]
    },
    {
     "name": "stdout",
     "output_type": "stream",
     "text": [
      "Generation: 499\n",
      "Individuals: 50\n",
      "Ind avg: 0.8506666666666662\n",
      "Sel avg: 0.8560000000000001\n",
      "Best fitness: 0.9666666666666667\n"
     ]
    },
    {
     "name": "stderr",
     "output_type": "stream",
     "text": [
      "\n",
      "100%|██████████| 500/500 [37:48<00:00,  4.54s/it]\u001B[A\n",
      "\n",
      "0it [00:00, ?it/s]\u001B[A\n",
      "1it [00:01,  1.66s/it]\u001B[A\n",
      "2it [00:03,  1.54s/it]\u001B[A\n",
      "3it [00:04,  1.52s/it]\u001B[A\n",
      "4it [00:06,  1.70s/it]\u001B[A\n",
      "5it [00:08,  1.67s/it]\u001B[A\n",
      "6it [00:09,  1.69s/it]\u001B[A\n",
      "7it [00:11,  1.52s/it]\u001B[A\n",
      "8it [00:12,  1.54s/it]\u001B[A\n",
      "9it [00:14,  1.71s/it]\u001B[A\n",
      "10it [00:16,  1.60s/it]\u001B[A\n",
      "11it [00:17,  1.52s/it]\u001B[A\n",
      "12it [00:19,  1.77s/it]\u001B[A\n",
      "13it [00:21,  1.65s/it]\u001B[A\n",
      "14it [00:22,  1.63s/it]\u001B[A\n",
      "15it [00:24,  1.72s/it]\u001B[A\n",
      "16it [00:26,  1.63s/it]\u001B[A\n",
      "17it [00:27,  1.63s/it]\u001B[A\n",
      "18it [00:29,  1.63s/it]\u001B[A\n",
      "19it [00:31,  1.90s/it]\u001B[A\n",
      "20it [00:33,  1.78s/it]\u001B[A\n",
      "21it [00:34,  1.69s/it]\u001B[A\n",
      "22it [00:36,  1.63s/it]\u001B[A\n",
      "23it [00:37,  1.60s/it]\u001B[A\n",
      "24it [00:39,  1.52s/it]\u001B[A\n",
      "25it [00:41,  1.65s/it]\u001B[A\n",
      "100%|██████████| 1/1 [38:29<00:00, 2309.84s/it]"
     ]
    },
    {
     "name": "stdout",
     "output_type": "stream",
     "text": [
      "(8, (441, 59))\n",
      "(0, (439, 61))\n"
     ]
    },
    {
     "name": "stderr",
     "output_type": "stream",
     "text": [
      "\n"
     ]
    }
   ],
   "source": [
    "for i in tqdm(range(1)):\n",
    "    population = Population(population_param=pop_param)\n",
    "    population.initialize()\n",
    "    population.proceed_x_generation(500)\n",
    "    results = []\n",
    "    for id, ind in tqdm(enumerate(population.selected_parents)):\n",
    "        p1 = GeneticProgrammingPlayer(ind)\n",
    "        p2 = GeneticProgrammingPlayer(Individual.generate_random_individual(random.randint(0, 1000000)))\n",
    "        result = (id, QuixoGame.get_results_over_x_games(p1,p2, 500))\n",
    "        # print(f\"{result}\")\n",
    "        results.append(result)\n",
    "    sorted_res = sorted(results, key=lambda x: x[1][0], reverse=True)\n",
    "    print(sorted_res[0])\n",
    "    print(sorted_res[1])\n",
    "    population.selected_parents[sorted_res[0][0]].save_to_file(f\"bests/run_2/{i*2}.graph\")\n",
    "    population.selected_parents[sorted_res[1][0]].save_to_file(f\"bests/run_2/{i*2+1}.graph\")\n",
    "    "
   ],
   "metadata": {
    "collapsed": false,
    "ExecuteTime": {
     "end_time": "2024-02-18T16:21:55.936789800Z",
     "start_time": "2024-02-18T15:43:26.085685500Z"
    }
   },
   "id": "bd3b8443815494e9"
  }
 ],
 "metadata": {
  "kernelspec": {
   "display_name": "Python 3",
   "language": "python",
   "name": "python3"
  },
  "language_info": {
   "codemirror_mode": {
    "name": "ipython",
    "version": 2
   },
   "file_extension": ".py",
   "mimetype": "text/x-python",
   "name": "python",
   "nbconvert_exporter": "python",
   "pygments_lexer": "ipython2",
   "version": "2.7.6"
  }
 },
 "nbformat": 4,
 "nbformat_minor": 5
}
