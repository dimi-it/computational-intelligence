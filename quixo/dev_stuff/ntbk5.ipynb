{
 "cells": [
  {
   "cell_type": "code",
   "execution_count": 8,
   "id": "initial_id",
   "metadata": {
    "collapsed": true,
    "ExecuteTime": {
     "end_time": "2024-02-18T16:24:17.805079600Z",
     "start_time": "2024-02-18T16:24:17.792789600Z"
    }
   },
   "outputs": [],
   "source": [
    "from quixo_game import *\n",
    "from minmax import *\n",
    "from my_random_player import *\n",
    "import random\n",
    "from quixo.gp_player import GeneticProgrammingPlayer\n",
    "from quixo.individual import Individual\n",
    "a_883 = Individual.generate_from_file(\"a_931.graph\")"
   ]
  },
  {
   "cell_type": "code",
   "execution_count": 13,
   "outputs": [
    {
     "data": {
      "text/plain": "(0, 1)"
     },
     "execution_count": 13,
     "metadata": {},
     "output_type": "execute_result"
    }
   ],
   "source": [
    "p1 = MyRandomPlayer(123456)\n",
    "p2 = MinMaxPlayer(2)\n",
    "QuixoGame.get_results_over_x_games(p1, p2, 1)"
   ],
   "metadata": {
    "collapsed": false,
    "ExecuteTime": {
     "end_time": "2024-02-18T16:58:41.304553800Z",
     "start_time": "2024-02-18T16:58:37.874464800Z"
    }
   },
   "id": "4bfb6fef18023cc5"
  },
  {
   "cell_type": "code",
   "execution_count": 15,
   "outputs": [
    {
     "data": {
      "text/plain": "(902, 98)"
     },
     "execution_count": 15,
     "metadata": {},
     "output_type": "execute_result"
    }
   ],
   "source": [
    "p1 = GeneticProgrammingPlayer(a_883)\n",
    "p2 = GeneticProgrammingPlayer(Individual.generate_random_individual(random.randint(0,10000000)))\n",
    "QuixoGame.get_results_over_x_games(p1, p2, 1000)"
   ],
   "metadata": {
    "collapsed": false,
    "ExecuteTime": {
     "end_time": "2024-02-18T16:58:51.568973300Z",
     "start_time": "2024-02-18T16:58:49.817109500Z"
    }
   },
   "id": "5b47977749f42b92"
  },
  {
   "cell_type": "code",
   "execution_count": null,
   "outputs": [],
   "source": [],
   "metadata": {
    "collapsed": false
   },
   "id": "a5debe7c06709cb7"
  }
 ],
 "metadata": {
  "kernelspec": {
   "display_name": "Python 3",
   "language": "python",
   "name": "python3"
  },
  "language_info": {
   "codemirror_mode": {
    "name": "ipython",
    "version": 2
   },
   "file_extension": ".py",
   "mimetype": "text/x-python",
   "name": "python",
   "nbconvert_exporter": "python",
   "pygments_lexer": "ipython2",
   "version": "2.7.6"
  }
 },
 "nbformat": 4,
 "nbformat_minor": 5
}
