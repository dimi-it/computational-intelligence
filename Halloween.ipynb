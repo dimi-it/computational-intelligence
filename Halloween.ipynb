{
 "cells": [
  {
   "cell_type": "markdown",
   "id": "185f9931-b384-4fdc-a5b2-eea785428bb8",
   "metadata": {},
   "source": [
    "Copyright **`(c)`** 2023 Giovanni Squillero `<giovanni.squillero@polito.it>`  \n",
    "[`https://github.com/squillero/computational-intelligence`](https://github.com/squillero/computational-intelligence)  \n",
    "Free for personal or classroom use; see [`LICENSE.md`](https://github.com/squillero/computational-intelligence/blob/master/LICENSE.md) for details.  "
   ]
  },
  {
   "cell_type": "code",
   "execution_count": null,
   "id": "3ffe7245-e849-41d0-9698-5f0e0b83fee9",
   "metadata": {},
   "outputs": [],
   "source": [
    "import math\n",
    "from copy import copy\n",
    "from functools import reduce\n",
    "from itertools import product\n",
    "from random import random, randint, shuffle, seed, choice\n",
    "import numpy as np\n",
    "from scipy import sparse"
   ]
  },
  {
   "cell_type": "code",
   "execution_count": null,
   "id": "6f03bd67-78a0-4d72-95b7-77a918727b91",
   "metadata": {},
   "outputs": [],
   "source": [
    "def make_set_covering_problem(num_points, num_sets, density):\n",
    "    \"\"\"Returns a sparse array where rows are sets and columns are the covered items\"\"\"\n",
    "    seed(num_points*2654435761+num_sets+density)\n",
    "    sets = sparse.lil_array((num_sets, num_points), dtype=bool)\n",
    "    for s, p in product(range(num_sets), range(num_points)):\n",
    "        if random() < density:\n",
    "            sets[s, p] = True\n",
    "    for p in range(num_points):\n",
    "        sets[randint(0, num_sets-1), p] = True\n",
    "    return sets"
   ]
  },
  {
   "cell_type": "markdown",
   "id": "82b0be37-21d9-492d-9a1d-cf0cdf0ddd76",
   "metadata": {},
   "source": [
    "# Halloween Challenge\n",
    "\n",
    "Find the best solution with the fewest calls to the fitness functions for:\n",
    "\n",
    "* `num_points = [100, 1_000, 5_000]`\n",
    "* `num_sets = num_points`\n",
    "* `density = [.3, .7]` "
   ]
  },
  {
   "cell_type": "code",
   "execution_count": null,
   "id": "221ffdba-5d3d-48cc-bd08-45ccc9366ea6",
   "metadata": {},
   "outputs": [],
   "source": [
    "x = make_set_covering_problem(100, 100, .3)\n",
    "print(\"Element at row=42 and column=42:\", x[42, 42])"
   ]
  },
  {
   "cell_type": "code",
   "execution_count": null,
   "outputs": [],
   "source": [
    "PROBLEM_SIZE = 1000\n",
    "NUM_SETS = 1000\n",
    "SETS_TRUE_PROBABILITY = 0.3"
   ],
   "metadata": {
    "collapsed": false
   },
   "id": "dff30d24c8966d7f"
  },
  {
   "cell_type": "code",
   "execution_count": null,
   "id": "6492337b-8429-472d-9c3e-c79c5b46da54",
   "metadata": {},
   "outputs": [],
   "source": [
    "SETS = make_set_covering_problem(PROBLEM_SIZE, NUM_SETS, SETS_TRUE_PROBABILITY)"
   ]
  },
  {
   "cell_type": "code",
   "execution_count": null,
   "outputs": [],
   "source": [
    "SETS.A"
   ],
   "metadata": {
    "collapsed": false
   },
   "id": "a854e749348939d1"
  },
  {
   "cell_type": "code",
   "execution_count": null,
   "outputs": [],
   "source": [
    "def fitness(state):\n",
    "    result_coverage = coverage(state)\n",
    "    return -(state.sum()+ (result_coverage == False).sum() *  PROBLEM_SIZE)   \n",
    "\n",
    "def coverage(state):\n",
    "    return (SETS * state).sum(axis=0)"
   ],
   "metadata": {
    "collapsed": false
   },
   "id": "dd26339a3802b260"
  },
  {
   "cell_type": "code",
   "execution_count": null,
   "outputs": [],
   "source": [
    "def tweak(state):\n",
    "    new_state = copy(state)\n",
    "    index = randint(0, NUM_SETS - 1)\n",
    "    new_state[index] = not new_state[index]\n",
    "    return new_state"
   ],
   "metadata": {
    "collapsed": false
   },
   "id": "35b3be17109b54ff"
  },
  {
   "cell_type": "code",
   "execution_count": null,
   "outputs": [],
   "source": [
    "def tweak_and_feat(state, state_fitness):\n",
    "    index = randint(0, NUM_SETS - 1)\n",
    "    state[index] = not state[index]\n",
    "    new_fitness = fitness(state)\n",
    "    if new_fitness > state_fitness:\n",
    "        return True, state, new_fitness\n",
    "    else:\n",
    "        state[index] = not state[index]\n",
    "        return False, state, state_fitness"
   ],
   "metadata": {
    "collapsed": false
   },
   "id": "196bdb5649c191a1"
  },
  {
   "cell_type": "markdown",
   "source": [
    "# Hill climber"
   ],
   "metadata": {
    "collapsed": false
   },
   "id": "362ce285e8bd16f1"
  },
  {
   "cell_type": "code",
   "execution_count": null,
   "outputs": [],
   "source": [
    "# random() < 0.005\n",
    "current_state = [False for _ in range(NUM_SETS)]\n",
    "current_state = np.expand_dims(current_state, 0).transpose()\n",
    "fitness_current = fitness(current_state)\n",
    "print(f\"Start fitness {fitness_current}\")\n",
    "\n",
    "max_step = 5_000\n",
    "count_steady = max_step/10\n",
    "count_equal = 0"
   ],
   "metadata": {
    "collapsed": false
   },
   "id": "8dc2f6a0441c18fe"
  },
  {
   "cell_type": "code",
   "execution_count": null,
   "outputs": [],
   "source": [
    "for step in range(max_step):\n",
    "    count_equal += 1\n",
    "    res, st, fit = tweak_and_feat(current_state, fitness_current)\n",
    "    if res:\n",
    "        count_equal = 0\n",
    "        current_state, fitness_current = st, fit\n",
    "        print(f\"Fit {fitness_current} Step {step}\")\n",
    "    if count_equal > count_steady:\n",
    "        print(\"steady state reached\")\n",
    "        break\n",
    "\n",
    "print(f\"Resolved {(coverage(current_state) == False).sum() == 0} with {current_state.sum()} in {step} step\")\n",
    "coverage(current_state)"
   ],
   "metadata": {
    "collapsed": false
   },
   "id": "64c2bd3b9ca75cce"
  },
  {
   "cell_type": "markdown",
   "source": [
    "# Hill climber best of three"
   ],
   "metadata": {
    "collapsed": false
   },
   "id": "3a0812fd1a7c57c2"
  },
  {
   "cell_type": "code",
   "execution_count": null,
   "outputs": [],
   "source": [
    "current_state = [False for _ in range(NUM_SETS)]\n",
    "current_state = np.expand_dims(current_state, 0).transpose()\n",
    "fitness_current = fitness(current_state)\n",
    "print(f\"Start fitness {fitness_current}\")\n",
    "\n",
    "max_step = 5_000\n",
    "count_steady = max_step/10\n",
    "count_equal = 0"
   ],
   "metadata": {
    "collapsed": false
   },
   "id": "2b07eea2c8615bd4"
  },
  {
   "cell_type": "code",
   "execution_count": null,
   "outputs": [],
   "source": [
    "for step in range(max_step):\n",
    "    count_equal += 1\n",
    "    state_new = tweak(current_state)\n",
    "    fitness_new = fitness(state_new)\n",
    "    for _ in range(4):\n",
    "        s_new = tweak(current_state)\n",
    "        f_new = fitness(state_new)\n",
    "        if f_new > fitness_new:\n",
    "            state_new, fitness_new = s_new, f_new\n",
    "    \n",
    "    if fitness_new > fitness_current:\n",
    "        count_equal = 0\n",
    "        current_state, fitness_current = state_new, fitness_new\n",
    "        print(f\"Fit {fitness_current} Step {step}\")\n",
    "    if count_equal > count_steady:\n",
    "        print(\"steady state reached\")\n",
    "        break\n",
    "\n",
    "print(f\"Resolved {(coverage(current_state) == False).sum() == 0} with {current_state.sum()} in {step * 3} step\")\n",
    "coverage(current_state)"
   ],
   "metadata": {
    "collapsed": false
   },
   "id": "7d40aca52335a58f"
  },
  {
   "cell_type": "markdown",
   "source": [
    "# Simulated annealing"
   ],
   "metadata": {
    "collapsed": false
   },
   "id": "d5cecbe134a4b96f"
  },
  {
   "cell_type": "code",
   "execution_count": null,
   "outputs": [],
   "source": [
    "def probability(current_fitness, new_fitness, t):\n",
    "    if new_fitness > current_fitness:\n",
    "        return 1\n",
    "    return math.exp(-(current_fitness - new_fitness) / t) / 2"
   ],
   "metadata": {
    "collapsed": false
   },
   "id": "cf32c781fcfcb199"
  },
  {
   "cell_type": "code",
   "execution_count": null,
   "outputs": [],
   "source": [
    "current_state = [False for _ in range(NUM_SETS)]\n",
    "current_state = np.expand_dims(current_state, 0).transpose()\n",
    "fitness_current = fitness(current_state)\n",
    "print(f\"Start fitness {fitness_current}\")\n",
    "\n",
    "max_step = 5_000\n",
    "count_steady = max_step/10\n",
    "count_equal = 0"
   ],
   "metadata": {
    "collapsed": false
   },
   "id": "f8211f0d8fb478d1"
  },
  {
   "cell_type": "code",
   "execution_count": null,
   "outputs": [],
   "source": [
    "max_temp = max_step / 10\n",
    "temperature1 = [1-(i+1)/max_step for i in range(max_step)]\n",
    "temperature2 = [max_temp/(i+1) for i in range(max_step)]\n",
    "\n",
    "temperature = temperature2"
   ],
   "metadata": {
    "collapsed": false
   },
   "id": "687b83b3dd9250ab"
  },
  {
   "cell_type": "code",
   "execution_count": null,
   "outputs": [],
   "source": [
    "for step in range(max_step):\n",
    "    count_equal += 1\n",
    "    state_new = tweak(current_state)\n",
    "    fitness_new = fitness(state_new)\n",
    "    prob = probability(fitness_current, fitness_new, temperature[step])\n",
    "    if random() < prob:\n",
    "        count_equal = 0\n",
    "        current_state, fitness_current = state_new, fitness_new\n",
    "        print(f\"Fit {fitness_current} Step {step} Prob {prob}\")\n",
    "    if count_equal > count_steady:\n",
    "        print(\"steady state reached\")\n",
    "        break\n",
    "\n",
    "print(f\"Resolved {(coverage(current_state) == False).sum() == 0} with {current_state.sum()} in {step} step\")\n",
    "coverage(current_state)"
   ],
   "metadata": {
    "collapsed": false
   },
   "id": "4a957d12cc279cc2"
  },
  {
   "cell_type": "code",
   "execution_count": null,
   "outputs": [],
   "source": [],
   "metadata": {
    "collapsed": false
   },
   "id": "18ae95290def8c2b"
  }
 ],
 "metadata": {
  "kernelspec": {
   "display_name": "Python 3 (ipykernel)",
   "language": "python",
   "name": "python3"
  },
  "language_info": {
   "codemirror_mode": {
    "name": "ipython",
    "version": 3
   },
   "file_extension": ".py",
   "mimetype": "text/x-python",
   "name": "python",
   "nbconvert_exporter": "python",
   "pygments_lexer": "ipython3",
   "version": "3.11.2"
  }
 },
 "nbformat": 4,
 "nbformat_minor": 5
}
