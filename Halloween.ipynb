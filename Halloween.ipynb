{
 "cells": [
  {
   "cell_type": "markdown",
   "id": "185f9931-b384-4fdc-a5b2-eea785428bb8",
   "metadata": {},
   "source": [
    "Copyright **`(c)`** 2023 Giovanni Squillero `<giovanni.squillero@polito.it>`  \n",
    "[`https://github.com/squillero/computational-intelligence`](https://github.com/squillero/computational-intelligence)  \n",
    "Free for personal or classroom use; see [`LICENSE.md`](https://github.com/squillero/computational-intelligence/blob/master/LICENSE.md) for details.  "
   ]
  },
  {
   "cell_type": "code",
   "execution_count": 12,
   "id": "3ffe7245-e849-41d0-9698-5f0e0b83fee9",
   "metadata": {
    "ExecuteTime": {
     "end_time": "2023-10-31T13:17:08.307456Z",
     "start_time": "2023-10-31T13:17:08.294126Z"
    }
   },
   "outputs": [],
   "source": [
    "import math\n",
    "from copy import copy\n",
    "from functools import reduce\n",
    "from itertools import product\n",
    "from random import random, randint, shuffle, seed, choice\n",
    "import numpy as np\n",
    "from scipy import sparse"
   ]
  },
  {
   "cell_type": "code",
   "execution_count": 13,
   "id": "6f03bd67-78a0-4d72-95b7-77a918727b91",
   "metadata": {
    "ExecuteTime": {
     "end_time": "2023-10-31T13:17:09.032053Z",
     "start_time": "2023-10-31T13:17:09.020153Z"
    }
   },
   "outputs": [],
   "source": [
    "def make_set_covering_problem(num_points, num_sets, density):\n",
    "    \"\"\"Returns a sparse array where rows are sets and columns are the covered items\"\"\"\n",
    "    seed(num_points*2654435761+num_sets+density)\n",
    "    sets = sparse.lil_array((num_sets, num_points), dtype=bool)\n",
    "    for s, p in product(range(num_sets), range(num_points)):\n",
    "        if random() < density:\n",
    "            sets[s, p] = True\n",
    "    for p in range(num_points):\n",
    "        sets[randint(0, num_sets-1), p] = True\n",
    "    return sets"
   ]
  },
  {
   "cell_type": "markdown",
   "id": "82b0be37-21d9-492d-9a1d-cf0cdf0ddd76",
   "metadata": {},
   "source": [
    "# Halloween Challenge\n",
    "\n",
    "Find the best solution with the fewest calls to the fitness functions for:\n",
    "\n",
    "* `num_points = [100, 1_000, 5_000]`\n",
    "* `num_sets = num_points`\n",
    "* `density = [.3, .7]` "
   ]
  },
  {
   "cell_type": "code",
   "execution_count": 14,
   "id": "221ffdba-5d3d-48cc-bd08-45ccc9366ea6",
   "metadata": {
    "ExecuteTime": {
     "end_time": "2023-10-31T13:17:11.782089Z",
     "start_time": "2023-10-31T13:17:11.750212Z"
    }
   },
   "outputs": [
    {
     "name": "stdout",
     "output_type": "stream",
     "text": [
      "Element at row=42 and column=42: True\n"
     ]
    }
   ],
   "source": [
    "x = make_set_covering_problem(100, 100, .3)\n",
    "print(\"Element at row=42 and column=42:\", x[42, 42])"
   ]
  },
  {
   "cell_type": "code",
   "execution_count": 23,
   "outputs": [],
   "source": [
    "PROBLEM_SIZE = 1000\n",
    "NUM_SETS = 1000\n",
    "SETS_TRUE_PROBABILITY = 0.3"
   ],
   "metadata": {
    "collapsed": false,
    "ExecuteTime": {
     "end_time": "2023-10-31T13:17:37.747783Z",
     "start_time": "2023-10-31T13:17:37.731644Z"
    }
   },
   "id": "dff30d24c8966d7f"
  },
  {
   "cell_type": "code",
   "execution_count": 24,
   "id": "6492337b-8429-472d-9c3e-c79c5b46da54",
   "metadata": {
    "ExecuteTime": {
     "end_time": "2023-10-31T13:17:38.657612Z",
     "start_time": "2023-10-31T13:17:37.991191Z"
    }
   },
   "outputs": [],
   "source": [
    "SETS = make_set_covering_problem(PROBLEM_SIZE, NUM_SETS, SETS_TRUE_PROBABILITY)"
   ]
  },
  {
   "cell_type": "code",
   "execution_count": 25,
   "outputs": [
    {
     "name": "stderr",
     "output_type": "stream",
     "text": [
      "/Users/dimitrimasetta/Library/Caches/pypoetry/virtualenvs/ci-tWKgAdaj-py3.11/lib/python3.11/site-packages/scipy/sparse/_base.py:719: VisibleDeprecationWarning: `.A` is deprecated and will be removed in v1.13.0. Use `.toarray()` instead.\n",
      "  warn(np.VisibleDeprecationWarning(\n"
     ]
    },
    {
     "data": {
      "text/plain": "array([[False,  True, False, ..., False, False, False],\n       [False,  True,  True, ..., False, False, False],\n       [False, False,  True, ..., False, False,  True],\n       ...,\n       [False,  True, False, ..., False, False, False],\n       [False,  True,  True, ...,  True, False,  True],\n       [False, False,  True, ..., False, False, False]])"
     },
     "execution_count": 25,
     "metadata": {},
     "output_type": "execute_result"
    }
   ],
   "source": [
    "SETS.A"
   ],
   "metadata": {
    "collapsed": false,
    "ExecuteTime": {
     "end_time": "2023-10-31T13:17:38.710688Z",
     "start_time": "2023-10-31T13:17:38.658496Z"
    }
   },
   "id": "a854e749348939d1"
  },
  {
   "cell_type": "code",
   "execution_count": 26,
   "outputs": [],
   "source": [
    "def fitness(state):\n",
    "    result_coverage = coverage(state)\n",
    "    return -(state.sum()+ (result_coverage == False).sum() *  PROBLEM_SIZE)   \n",
    "\n",
    "def coverage(state):\n",
    "    return (SETS * state).sum(axis=0)"
   ],
   "metadata": {
    "collapsed": false,
    "ExecuteTime": {
     "end_time": "2023-10-31T13:17:38.711194Z",
     "start_time": "2023-10-31T13:17:38.706697Z"
    }
   },
   "id": "dd26339a3802b260"
  },
  {
   "cell_type": "code",
   "execution_count": 27,
   "outputs": [],
   "source": [
    "def tweak(state):\n",
    "    new_state = copy(state)\n",
    "    index = randint(0, NUM_SETS - 1)\n",
    "    new_state[index] = not new_state[index]\n",
    "    return new_state"
   ],
   "metadata": {
    "collapsed": false,
    "ExecuteTime": {
     "end_time": "2023-10-31T13:17:38.851468Z",
     "start_time": "2023-10-31T13:17:38.848830Z"
    }
   },
   "id": "35b3be17109b54ff"
  },
  {
   "cell_type": "code",
   "execution_count": 28,
   "outputs": [],
   "source": [
    "def tweak_and_feat(state, state_fitness):\n",
    "    index = randint(0, NUM_SETS - 1)\n",
    "    state[index] = not state[index]\n",
    "    new_fitness = fitness(state)\n",
    "    if new_fitness > state_fitness:\n",
    "        return True, state, new_fitness\n",
    "    else:\n",
    "        state[index] = not state[index]\n",
    "        return False, state, state_fitness"
   ],
   "metadata": {
    "collapsed": false,
    "ExecuteTime": {
     "end_time": "2023-10-31T13:17:39.354944Z",
     "start_time": "2023-10-31T13:17:39.350326Z"
    }
   },
   "id": "196bdb5649c191a1"
  },
  {
   "cell_type": "markdown",
   "source": [
    "# Hill climber"
   ],
   "metadata": {
    "collapsed": false
   },
   "id": "362ce285e8bd16f1"
  },
  {
   "cell_type": "code",
   "execution_count": 29,
   "outputs": [
    {
     "name": "stdout",
     "output_type": "stream",
     "text": [
      "Start fitness -1000000\n"
     ]
    }
   ],
   "source": [
    "# random() < 0.005\n",
    "current_state = [False for _ in range(NUM_SETS)]\n",
    "current_state = np.expand_dims(current_state, 0).transpose()\n",
    "fitness_current = fitness(current_state)\n",
    "print(f\"Start fitness {fitness_current}\")\n",
    "\n",
    "max_step = 5_000\n",
    "count_steady = max_step/10\n",
    "count_equal = 0"
   ],
   "metadata": {
    "collapsed": false,
    "ExecuteTime": {
     "end_time": "2023-10-31T13:17:40.504406Z",
     "start_time": "2023-10-31T13:17:40.500231Z"
    }
   },
   "id": "8dc2f6a0441c18fe"
  },
  {
   "cell_type": "code",
   "execution_count": 30,
   "outputs": [
    {
     "name": "stdout",
     "output_type": "stream",
     "text": [
      "Fit -679001 Step 0\n",
      "Fit -489002 Step 1\n",
      "Fit -342003 Step 2\n",
      "Fit -245004 Step 3\n",
      "Fit -192005 Step 4\n",
      "Fit -126006 Step 5\n",
      "Fit -91007 Step 6\n",
      "Fit -64008 Step 7\n",
      "Fit -45009 Step 8\n",
      "Fit -26010 Step 9\n",
      "Fit -14011 Step 10\n",
      "Fit -13012 Step 11\n",
      "Fit -10013 Step 12\n",
      "Fit -7014 Step 13\n",
      "Fit -5015 Step 14\n",
      "Fit -4016 Step 16\n",
      "Fit -2017 Step 17\n",
      "Fit -1018 Step 19\n",
      "Fit -19 Step 21\n",
      "Fit -18 Step 91\n",
      "Fit -17 Step 95\n",
      "Fit -16 Step 96\n",
      "steady state reached\n",
      "Resolved True with 16 in 597 step\n"
     ]
    },
    {
     "data": {
      "text/plain": "array([ 4,  6,  3,  6,  6,  1,  4,  8,  7,  7,  6,  4,  6,  9,  5,  2,  7,\n        4,  4,  3,  5,  6,  5,  5,  5,  2,  4,  6,  4,  7,  7,  2,  5,  5,\n        3,  2,  6,  4,  8,  1,  4,  3,  3,  4,  2,  5,  7,  4,  6,  7,  6,\n        2,  6,  7,  6,  8,  7,  5,  3,  4,  7,  6,  5,  4,  5,  4,  2,  6,\n        7,  7,  6,  6,  4,  7,  4,  7,  4,  3,  6,  4,  9,  7,  4,  5,  4,\n        8,  3,  5,  3,  3,  5,  5,  4,  6,  2,  6,  3,  5,  4,  6,  6,  6,\n        2,  7,  6,  1,  5,  7,  4,  7,  3,  4,  2,  3,  6,  4,  6,  5,  8,\n        5,  4,  4,  7,  1,  5,  3,  6,  5,  4,  2,  5,  4,  3,  4,  5,  4,\n        5,  3,  6,  6,  2,  1,  8,  4,  7,  7,  3,  6,  5,  6,  7,  6,  3,\n        6,  6,  4,  1,  3,  3,  5,  5,  5,  9, 11,  5,  6,  6,  6,  5,  4,\n        1,  7,  6,  8, 10,  4,  5,  3,  6, 10,  3,  8,  4,  9,  2,  6,  8,\n        9,  5,  4,  5,  3,  3,  6,  4,  3,  7,  8,  2,  4,  3,  8,  7,  4,\n        6,  4,  6,  2,  5,  2,  4,  3,  4,  1,  5,  1,  6,  4,  6,  8,  2,\n        7,  3,  7,  9,  5,  8,  4,  2,  5,  6,  3,  5,  1,  9,  6,  3,  2,\n        4,  5,  6,  7,  2,  3,  6,  4,  4,  6,  3,  8,  4,  5,  4,  2,  3,\n        1,  3,  3,  5,  3,  6,  2,  3,  4,  5,  3,  8,  5,  4,  4,  8,  6,\n        1,  5,  4,  4,  5,  6,  5,  7,  5,  3,  6,  4,  7,  4,  5,  5,  2,\n        3,  7,  3,  2, 11,  6,  6,  7,  5,  3,  3,  4,  5,  4,  6,  5,  5,\n        6,  5,  6,  5,  6,  7,  8,  4,  5,  5,  5,  7,  3,  6,  5,  2,  5,\n        5,  5,  6,  6,  7,  7,  4,  5,  4,  6,  6,  6,  3,  6,  4,  2,  2,\n        5,  3,  3,  6,  3,  3,  2,  6,  6,  5,  5,  4,  4,  4,  6,  5,  2,\n        5,  2,  7,  9,  3,  6,  5,  6,  5,  5,  2,  6,  5,  4,  4,  4,  8,\n        3,  6,  7,  2,  4,  6,  4,  4,  5,  6,  6,  5,  4,  5,  4,  6,  8,\n        2,  2,  3,  6,  5,  5,  5,  6,  4,  2,  5,  7,  4,  4,  7,  4,  4,\n        5,  9,  4,  5,  7,  4,  5,  4,  4,  3,  7,  9,  4,  2,  3,  7,  5,\n        6,  2,  6,  2,  4,  5,  4,  6,  6,  7,  4,  7,  4,  7,  4,  5,  6,\n        2,  6,  5,  4,  4,  6,  4,  4,  6,  4,  6,  6,  4,  4,  6,  6,  6,\n        5,  5,  6,  7,  6,  4,  4,  4,  3,  4,  5,  9,  2,  5,  4,  3,  4,\n        5,  9,  8,  8,  4,  5,  3,  4,  4,  3,  7,  7,  3,  5,  2,  9,  2,\n        7,  6,  4, 11,  6,  4,  4,  4,  3,  4,  4,  4,  5,  3,  3,  6,  5,\n        9,  7,  6,  5,  4,  4,  7,  3,  5,  6,  6,  7,  5,  7,  4,  8,  4,\n        5,  6,  4,  7,  4,  6,  7,  4,  4,  4,  4,  4,  4,  3,  3,  5,  3,\n        5,  3,  4,  4,  6,  3,  3,  4,  6,  4,  5,  5,  3,  4,  5,  2,  3,\n        6,  8,  4,  4,  7,  5,  5,  2,  5,  5,  2,  8,  4,  6,  3,  3,  7,\n        9,  7,  4,  5,  1,  4,  5,  7,  1,  3,  7,  5,  3, 12, 10,  4,  4,\n        6,  5,  3,  3,  7,  3,  6,  3,  2,  6,  5, 10,  5,  1,  4,  1,  5,\n        5,  1,  3,  7,  7,  4,  5,  8,  7,  4,  5,  6,  5,  5,  3,  9,  4,\n        2,  4,  6,  3,  3,  4,  6,  5,  4,  2,  3,  4,  3,  3,  4,  6,  6,\n        4,  2,  3,  9,  4,  6,  2,  7,  6,  8,  6,  7,  8,  8,  6,  5,  6,\n        1,  5,  4,  6,  2,  2,  8,  5,  1,  4,  5,  4,  5,  3,  6,  2,  4,\n        4,  4,  4,  4,  6,  8,  6,  3,  7,  4,  4,  4,  8,  8,  2,  6, 10,\n        3,  7,  6,  3,  2,  4,  7,  4,  4,  4,  5,  7,  7,  4,  8,  5,  5,\n        3,  5,  2,  5,  5,  7,  4,  6,  5,  3,  5,  5,  2,  2,  9,  5,  6,\n        4,  8,  1,  4,  5,  5,  2,  9,  8,  5,  2,  6,  4,  2,  1,  3,  5,\n        2,  3,  3,  3,  9,  5,  5,  3,  5,  7,  1,  5,  4,  4,  2,  7, 10,\n        5,  6,  5,  2,  4,  4,  8,  7,  5,  7,  3,  4,  5,  5,  6,  7,  3,\n        4,  1,  4,  3,  4,  5,  3,  5,  5,  1,  4,  3,  5,  2,  6,  7,  5,\n        4,  5,  4,  3,  4,  5,  5,  3,  4,  6,  3,  1,  4,  4,  5,  6,  6,\n        6,  5,  6,  5,  5,  4,  3,  5,  3,  5,  6,  5,  5,  2,  5,  3,  6,\n       10,  3,  3,  7, 10,  4,  3,  5,  7,  9,  6,  6,  8,  4,  3,  4,  7,\n        4,  2,  6,  8,  4,  4,  6,  4,  3,  6,  6,  2,  5,  6,  2,  4,  7,\n        4,  2,  2,  6,  4,  6,  6,  4,  5,  4,  4,  5,  2,  2,  4,  6,  7,\n        5,  7,  6,  7,  6,  3,  4,  4,  8,  3,  4,  1,  3,  6,  6,  5,  6,\n        5,  5,  6,  4,  5,  3,  4,  6,  3,  4,  5,  6,  3,  6,  6,  5,  5,\n        3,  3,  4,  5,  7,  7,  5,  3,  5,  3,  5,  6,  6,  5,  4,  3,  4,\n        6,  4,  4,  8,  2,  4,  5,  5,  3,  3,  7,  5,  5,  3,  6,  6,  3,\n        2,  5,  3,  3,  3,  3,  5, 11,  6,  5,  4,  4,  3,  4,  7,  2, 10,\n        3,  5,  9,  5,  2,  7,  6,  6,  4,  4,  3,  6,  5,  5,  8,  3,  7,\n        4,  5,  5,  5,  7,  3,  7,  8,  3,  7,  7,  4,  6,  4])"
     },
     "execution_count": 30,
     "metadata": {},
     "output_type": "execute_result"
    }
   ],
   "source": [
    "for step in range(max_step):\n",
    "    count_equal += 1\n",
    "    res, st, fit = tweak_and_feat(current_state, fitness_current)\n",
    "    if res:\n",
    "        count_equal = 0\n",
    "        current_state, fitness_current = st, fit\n",
    "        print(f\"Fit {fitness_current} Step {step}\")\n",
    "    if count_equal > count_steady:\n",
    "        print(\"steady state reached\")\n",
    "        break\n",
    "\n",
    "print(f\"Resolved {(coverage(current_state) == False).sum() == 0} with {current_state.sum()} in {step} step\")\n",
    "coverage(current_state)"
   ],
   "metadata": {
    "collapsed": false,
    "ExecuteTime": {
     "end_time": "2023-10-31T13:18:10.547320Z",
     "start_time": "2023-10-31T13:17:42.548071Z"
    }
   },
   "id": "64c2bd3b9ca75cce"
  },
  {
   "cell_type": "markdown",
   "source": [
    "# Hill climber best of three"
   ],
   "metadata": {
    "collapsed": false
   },
   "id": "3a0812fd1a7c57c2"
  },
  {
   "cell_type": "code",
   "execution_count": 35,
   "outputs": [
    {
     "name": "stdout",
     "output_type": "stream",
     "text": [
      "Start fitness -1000000\n"
     ]
    }
   ],
   "source": [
    "current_state = [False for _ in range(NUM_SETS)]\n",
    "current_state = np.expand_dims(current_state, 0).transpose()\n",
    "fitness_current = fitness(current_state)\n",
    "print(f\"Start fitness {fitness_current}\")\n",
    "\n",
    "max_step = 5_000\n",
    "count_steady = max_step/10\n",
    "count_equal = 0"
   ],
   "metadata": {
    "collapsed": false,
    "ExecuteTime": {
     "end_time": "2023-10-31T13:22:03.519334Z",
     "start_time": "2023-10-31T13:22:03.513024Z"
    }
   },
   "id": "2b07eea2c8615bd4"
  },
  {
   "cell_type": "code",
   "execution_count": 36,
   "outputs": [
    {
     "name": "stdout",
     "output_type": "stream",
     "text": [
      "Fit -666001 Step 0\n",
      "Fit -456002 Step 1\n",
      "Fit -322003 Step 2\n",
      "Fit -235004 Step 3\n",
      "Fit -160005 Step 4\n",
      "Fit -111006 Step 5\n",
      "Fit -79007 Step 6\n",
      "Fit -56008 Step 7\n",
      "Fit -36009 Step 8\n",
      "Fit -26010 Step 9\n",
      "Fit -19011 Step 10\n",
      "Fit -15012 Step 11\n",
      "Fit -12013 Step 12\n",
      "Fit -9014 Step 13\n",
      "Fit -5015 Step 14\n",
      "Fit -3016 Step 15\n",
      "Fit -2017 Step 16\n",
      "Fit -1018 Step 18\n",
      "Fit -19 Step 20\n",
      "Fit -18 Step 22\n",
      "Fit -17 Step 120\n",
      "Fit -16 Step 489\n"
     ]
    },
    {
     "ename": "KeyboardInterrupt",
     "evalue": "",
     "output_type": "error",
     "traceback": [
      "\u001B[0;31m---------------------------------------------------------------------------\u001B[0m",
      "\u001B[0;31mKeyboardInterrupt\u001B[0m                         Traceback (most recent call last)",
      "Cell \u001B[0;32mIn[36], line 4\u001B[0m\n\u001B[1;32m      2\u001B[0m count_equal \u001B[38;5;241m+\u001B[39m\u001B[38;5;241m=\u001B[39m \u001B[38;5;241m1\u001B[39m\n\u001B[1;32m      3\u001B[0m state_new \u001B[38;5;241m=\u001B[39m tweak(current_state)\n\u001B[0;32m----> 4\u001B[0m fitness_new \u001B[38;5;241m=\u001B[39m \u001B[43mfitness\u001B[49m\u001B[43m(\u001B[49m\u001B[43mstate_new\u001B[49m\u001B[43m)\u001B[49m\n\u001B[1;32m      5\u001B[0m \u001B[38;5;28;01mfor\u001B[39;00m _ \u001B[38;5;129;01min\u001B[39;00m \u001B[38;5;28mrange\u001B[39m(\u001B[38;5;241m4\u001B[39m):\n\u001B[1;32m      6\u001B[0m     s_new \u001B[38;5;241m=\u001B[39m tweak(current_state)\n",
      "Cell \u001B[0;32mIn[26], line 2\u001B[0m, in \u001B[0;36mfitness\u001B[0;34m(state)\u001B[0m\n\u001B[1;32m      1\u001B[0m \u001B[38;5;28;01mdef\u001B[39;00m \u001B[38;5;21mfitness\u001B[39m(state):\n\u001B[0;32m----> 2\u001B[0m     result_coverage \u001B[38;5;241m=\u001B[39m \u001B[43mcoverage\u001B[49m\u001B[43m(\u001B[49m\u001B[43mstate\u001B[49m\u001B[43m)\u001B[49m\n\u001B[1;32m      3\u001B[0m     \u001B[38;5;28;01mreturn\u001B[39;00m \u001B[38;5;241m-\u001B[39m(state\u001B[38;5;241m.\u001B[39msum()\u001B[38;5;241m+\u001B[39m (result_coverage \u001B[38;5;241m==\u001B[39m \u001B[38;5;28;01mFalse\u001B[39;00m)\u001B[38;5;241m.\u001B[39msum() \u001B[38;5;241m*\u001B[39m  PROBLEM_SIZE)\n",
      "Cell \u001B[0;32mIn[26], line 6\u001B[0m, in \u001B[0;36mcoverage\u001B[0;34m(state)\u001B[0m\n\u001B[1;32m      5\u001B[0m \u001B[38;5;28;01mdef\u001B[39;00m \u001B[38;5;21mcoverage\u001B[39m(state):\n\u001B[0;32m----> 6\u001B[0m     \u001B[38;5;28;01mreturn\u001B[39;00m (\u001B[43mSETS\u001B[49m\u001B[43m \u001B[49m\u001B[38;5;241;43m*\u001B[39;49m\u001B[43m \u001B[49m\u001B[43mstate\u001B[49m)\u001B[38;5;241m.\u001B[39msum(axis\u001B[38;5;241m=\u001B[39m\u001B[38;5;241m0\u001B[39m)\n",
      "File \u001B[0;32m~/Library/Caches/pypoetry/virtualenvs/ci-tWKgAdaj-py3.11/lib/python3.11/site-packages/scipy/sparse/_base.py:584\u001B[0m, in \u001B[0;36m_spbase.__mul__\u001B[0;34m(self, *args, **kwargs)\u001B[0m\n\u001B[1;32m    583\u001B[0m \u001B[38;5;28;01mdef\u001B[39;00m \u001B[38;5;21m__mul__\u001B[39m(\u001B[38;5;28mself\u001B[39m, \u001B[38;5;241m*\u001B[39margs, \u001B[38;5;241m*\u001B[39m\u001B[38;5;241m*\u001B[39mkwargs):\n\u001B[0;32m--> 584\u001B[0m     \u001B[38;5;28;01mreturn\u001B[39;00m \u001B[38;5;28;43mself\u001B[39;49m\u001B[38;5;241;43m.\u001B[39;49m\u001B[43mmultiply\u001B[49m\u001B[43m(\u001B[49m\u001B[38;5;241;43m*\u001B[39;49m\u001B[43margs\u001B[49m\u001B[43m,\u001B[49m\u001B[43m \u001B[49m\u001B[38;5;241;43m*\u001B[39;49m\u001B[38;5;241;43m*\u001B[39;49m\u001B[43mkwargs\u001B[49m\u001B[43m)\u001B[49m\n",
      "File \u001B[0;32m~/Library/Caches/pypoetry/virtualenvs/ci-tWKgAdaj-py3.11/lib/python3.11/site-packages/scipy/sparse/_base.py:385\u001B[0m, in \u001B[0;36m_spbase.multiply\u001B[0;34m(self, other)\u001B[0m\n\u001B[1;32m    382\u001B[0m \u001B[38;5;28;01mdef\u001B[39;00m \u001B[38;5;21mmultiply\u001B[39m(\u001B[38;5;28mself\u001B[39m, other):\n\u001B[1;32m    383\u001B[0m \u001B[38;5;250m    \u001B[39m\u001B[38;5;124;03m\"\"\"Point-wise multiplication by another array\u001B[39;00m\n\u001B[1;32m    384\u001B[0m \u001B[38;5;124;03m    \"\"\"\u001B[39;00m\n\u001B[0;32m--> 385\u001B[0m     \u001B[38;5;28;01mreturn\u001B[39;00m \u001B[38;5;28;43mself\u001B[39;49m\u001B[38;5;241;43m.\u001B[39;49m\u001B[43mtocsr\u001B[49m\u001B[43m(\u001B[49m\u001B[43m)\u001B[49m\u001B[38;5;241m.\u001B[39mmultiply(other)\n",
      "File \u001B[0;32m~/Library/Caches/pypoetry/virtualenvs/ci-tWKgAdaj-py3.11/lib/python3.11/site-packages/scipy/sparse/_lil.py:475\u001B[0m, in \u001B[0;36m_lil_base.tocsr\u001B[0;34m(self, copy)\u001B[0m\n\u001B[1;32m    473\u001B[0m data \u001B[38;5;241m=\u001B[39m np\u001B[38;5;241m.\u001B[39mempty(nnz, dtype\u001B[38;5;241m=\u001B[39m\u001B[38;5;28mself\u001B[39m\u001B[38;5;241m.\u001B[39mdtype)\n\u001B[1;32m    474\u001B[0m _csparsetools\u001B[38;5;241m.\u001B[39mlil_flatten_to_array(\u001B[38;5;28mself\u001B[39m\u001B[38;5;241m.\u001B[39mrows, indices)\n\u001B[0;32m--> 475\u001B[0m \u001B[43m_csparsetools\u001B[49m\u001B[38;5;241;43m.\u001B[39;49m\u001B[43mlil_flatten_to_array\u001B[49m\u001B[43m(\u001B[49m\u001B[38;5;28;43mself\u001B[39;49m\u001B[38;5;241;43m.\u001B[39;49m\u001B[43mdata\u001B[49m\u001B[43m,\u001B[49m\u001B[43m \u001B[49m\u001B[43mdata\u001B[49m\u001B[43m)\u001B[49m\n\u001B[1;32m    477\u001B[0m \u001B[38;5;66;03m# init csr matrix\u001B[39;00m\n\u001B[1;32m    478\u001B[0m \u001B[38;5;28;01mreturn\u001B[39;00m \u001B[38;5;28mself\u001B[39m\u001B[38;5;241m.\u001B[39m_csr_container((data, indices, indptr), shape\u001B[38;5;241m=\u001B[39m\u001B[38;5;28mself\u001B[39m\u001B[38;5;241m.\u001B[39mshape)\n",
      "\u001B[0;31mKeyboardInterrupt\u001B[0m: "
     ]
    }
   ],
   "source": [
    "for step in range(max_step):\n",
    "    count_equal += 1\n",
    "    state_new = tweak(current_state)\n",
    "    fitness_new = fitness(state_new)\n",
    "    for _ in range(4):\n",
    "        s_new = tweak(current_state)\n",
    "        f_new = fitness(state_new)\n",
    "        if f_new > fitness_new:\n",
    "            state_new, fitness_new = s_new, f_new\n",
    "    \n",
    "    if fitness_new > fitness_current:\n",
    "        count_equal = 0\n",
    "        current_state, fitness_current = state_new, fitness_new\n",
    "        print(f\"Fit {fitness_current} Step {step}\")\n",
    "    if count_equal > count_steady:\n",
    "        print(\"steady state reached\")\n",
    "        break\n",
    "\n",
    "print(f\"Resolved {(coverage(current_state) == False).sum() == 0} with {current_state.sum()} in {step * 3} step\")\n",
    "coverage(current_state)"
   ],
   "metadata": {
    "collapsed": false,
    "ExecuteTime": {
     "end_time": "2023-10-31T13:24:59.897956Z",
     "start_time": "2023-10-31T13:22:04.220902Z"
    }
   },
   "id": "7d40aca52335a58f"
  },
  {
   "cell_type": "markdown",
   "source": [
    "# Simulated annealing"
   ],
   "metadata": {
    "collapsed": false
   },
   "id": "d5cecbe134a4b96f"
  },
  {
   "cell_type": "code",
   "execution_count": 42,
   "outputs": [],
   "source": [
    "def probability(current_fitness, new_fitness, t):\n",
    "    if new_fitness > current_fitness:\n",
    "        return 1\n",
    "    return math.exp(-(current_fitness - new_fitness) / t) / 2"
   ],
   "metadata": {
    "collapsed": false,
    "ExecuteTime": {
     "end_time": "2023-10-31T13:28:48.360661Z",
     "start_time": "2023-10-31T13:28:48.344612Z"
    }
   },
   "id": "cf32c781fcfcb199"
  },
  {
   "cell_type": "code",
   "execution_count": 44,
   "outputs": [
    {
     "name": "stdout",
     "output_type": "stream",
     "text": [
      "Start fitness -1000000\n"
     ]
    }
   ],
   "source": [
    "current_state = [False for _ in range(NUM_SETS)]\n",
    "current_state = np.expand_dims(current_state, 0).transpose()\n",
    "fitness_current = fitness(current_state)\n",
    "print(f\"Start fitness {fitness_current}\")\n",
    "\n",
    "max_step = 5_000\n",
    "count_steady = max_step/10\n",
    "count_equal = 0"
   ],
   "metadata": {
    "collapsed": false,
    "ExecuteTime": {
     "end_time": "2023-10-31T13:28:56.478295Z",
     "start_time": "2023-10-31T13:28:56.468909Z"
    }
   },
   "id": "f8211f0d8fb478d1"
  },
  {
   "cell_type": "code",
   "execution_count": 45,
   "outputs": [],
   "source": [
    "max_temp = max_step / 10\n",
    "temperature1 = [1-(i+1)/max_step for i in range(max_step)]\n",
    "temperature2 = [max_temp/(i+1) for i in range(max_step)]\n",
    "\n",
    "temperature = temperature2"
   ],
   "metadata": {
    "collapsed": false,
    "ExecuteTime": {
     "end_time": "2023-10-31T13:28:57.651818Z",
     "start_time": "2023-10-31T13:28:57.645183Z"
    }
   },
   "id": "687b83b3dd9250ab"
  },
  {
   "cell_type": "code",
   "execution_count": 46,
   "outputs": [
    {
     "name": "stdout",
     "output_type": "stream",
     "text": [
      "Fit -707001 Step 0 Prob 1\n",
      "Fit -490002 Step 1 Prob 1\n",
      "Fit -327003 Step 2 Prob 1\n",
      "Fit -231004 Step 3 Prob 1\n",
      "Fit -151005 Step 4 Prob 1\n",
      "Fit -106006 Step 5 Prob 1\n",
      "Fit -74007 Step 6 Prob 1\n",
      "Fit -55008 Step 7 Prob 1\n",
      "Fit -34009 Step 8 Prob 1\n",
      "Fit -28010 Step 9 Prob 1\n",
      "Fit -21011 Step 10 Prob 1\n",
      "Fit -13012 Step 11 Prob 1\n",
      "Fit -10013 Step 12 Prob 1\n",
      "Fit -9014 Step 13 Prob 1\n",
      "Fit -7015 Step 14 Prob 1\n",
      "Fit -5016 Step 15 Prob 1\n",
      "Fit -3017 Step 16 Prob 1\n",
      "Fit -2018 Step 17 Prob 1\n",
      "Fit -1019 Step 18 Prob 1\n",
      "Fit -1020 Step 21 Prob 0.47847697873652334\n",
      "Fit -1021 Step 23 Prob 0.47656689353875237\n",
      "Fit -1022 Step 24 Prob 0.475614712250357\n",
      "Fit -1023 Step 25 Prob 0.47466443342144476\n",
      "Fit -1024 Step 26 Prob 0.47371605325089916\n",
      "Fit -25 Step 27 Prob 1\n",
      "Fit -26 Step 28 Prob 0.47182497371839927\n",
      "Fit -27 Step 30 Prob 0.46994144339554444\n",
      "Fit -28 Step 33 Prob 0.46713023678860677\n",
      "Fit -29 Step 42 Prob 0.45879711561007547\n",
      "Fit -30 Step 43 Prob 0.4578804383616628\n",
      "Fit -31 Step 48 Prob 0.45332445187696047\n",
      "Fit -32 Step 49 Prob 0.45241870901797976\n",
      "Fit -33 Step 50 Prob 0.4515147758344384\n",
      "Fit -34 Step 51 Prob 0.45061264871060236\n",
      "Fit -35 Step 55 Prob 0.4470221287501786\n",
      "Fit -36 Step 58 Prob 0.4443480263073087\n",
      "Fit -37 Step 59 Prob 0.44346021835857874\n",
      "Fit -38 Step 61 Prob 0.44168992044137545\n",
      "Fit -39 Step 63 Prob 0.4399266895723219\n",
      "Fit -40 Step 65 Prob 0.4381704975396866\n",
      "Fit -41 Step 66 Prob 0.437295032301667\n",
      "Fit -42 Step 69 Prob 0.43467911769940293\n",
      "Fit -43 Step 71 Prob 0.4329438740296025\n",
      "Fit -42 Step 72 Prob 1\n",
      "Fit -41 Step 73 Prob 1\n",
      "Fit -42 Step 74 Prob 0.4303539882125289\n",
      "Fit -43 Step 75 Prob 0.4294941403705617\n",
      "Fit -44 Step 77 Prob 0.42777959518550923\n",
      "Fit -43 Step 79 Prob 1\n",
      "Fit -44 Step 81 Prob 0.4243710109401034\n",
      "Fit -45 Step 82 Prob 0.42352311709469986\n",
      "Fit -46 Step 87 Prob 0.41930899166853697\n",
      "Fit -47 Step 94 Prob 0.41347956697168115\n",
      "Fit -48 Step 101 Prob 0.40773118559364635\n",
      "Fit -49 Step 102 Prob 0.40691653814146034\n",
      "Fit -50 Step 103 Prob 0.4061035183559695\n",
      "Fit -49 Step 106 Prob 1\n",
      "Fit -50 Step 109 Prob 0.40125939898123925\n",
      "Fit -51 Step 110 Prob 0.4004576821673296\n",
      "Fit -52 Step 113 Prob 0.3980621299177269\n",
      "Fit -53 Step 114 Prob 0.397266801251667\n",
      "Fit -54 Step 115 Prob 0.39647306165334184\n",
      "Fit -55 Step 116 Prob 0.3956809079477919\n",
      "Fit -56 Step 120 Prob 0.3925280887759147\n",
      "Fit -57 Step 127 Prob 0.3870709843961242\n",
      "Fit -56 Step 128 Prob 1\n",
      "Fit -55 Step 130 Prob 1\n",
      "Fit -56 Step 136 Prob 0.38016603763044104\n",
      "Fit -57 Step 138 Prob 0.37864841075716776\n",
      "Fit -58 Step 141 Prob 0.3763833223530981\n",
      "Fit -59 Step 144 Prob 0.3741317837892826\n",
      "Fit -60 Step 148 Prob 0.3711506698738872\n",
      "Fit -61 Step 149 Prob 0.37040911034085894\n",
      "Fit -62 Step 152 Prob 0.36819330972805003\n",
      "Fit -63 Step 154 Prob 0.3667234781121446\n",
      "Fit -64 Step 158 Prob 0.36380139420729773\n",
      "Fit -65 Step 161 Prob 0.3616251211899212\n",
      "Fit -66 Step 163 Prob 0.3601815098526507\n",
      "Fit -67 Step 166 Prob 0.35802689111360425\n",
      "Fit -68 Step 167 Prob 0.3573115529080287\n",
      "Fit -69 Step 168 Prob 0.3565976439491411\n",
      "Fit -70 Step 170 Prob 0.35517410235458863\n",
      "Fit -69 Step 175 Prob 1\n",
      "Fit -70 Step 176 Prob 0.350937483677697\n",
      "Fit -71 Step 179 Prob 0.3488381630355155\n",
      "Fit -70 Step 180 Prob 1\n",
      "Fit -71 Step 181 Prob 0.3474455973714553\n",
      "Fit -72 Step 183 Prob 0.3460585908443652\n",
      "Fit -73 Step 185 Prob 0.3446771212621112\n",
      "Fit -74 Step 188 Prob 0.34261525033293516\n",
      "Fit -75 Step 202 Prob 0.3331550837124432\n",
      "Fit -76 Step 203 Prob 0.33248943941120096\n",
      "Fit -77 Step 204 Prob 0.3318251250681597\n",
      "Fit -78 Step 206 Prob 0.33050047563295626\n",
      "Fit -77 Step 207 Prob 1\n",
      "Fit -76 Step 208 Prob 1\n",
      "Fit -77 Step 210 Prob 0.3278670196967209\n",
      "Fit -78 Step 213 Prob 0.325905707399366\n",
      "Fit -79 Step 222 Prob 0.32009188603082356\n",
      "Fit -80 Step 223 Prob 0.3194523420159581\n",
      "Fit -81 Step 225 Prob 0.31817708486254354\n",
      "Fit -82 Step 226 Prob 0.31754136662296406\n",
      "Fit -83 Step 229 Prob 0.315641822753463\n",
      "Fit -84 Step 230 Prob 0.31501116997095613\n",
      "Fit -83 Step 231 Prob 1\n",
      "Fit -84 Step 233 Prob 0.31312676182877797\n",
      "Fit -85 Step 236 Prob 0.3112536262838434\n",
      "Fit -86 Step 237 Prob 0.3106317411237309\n",
      "Fit -85 Step 239 Prob 1\n",
      "Fit -86 Step 243 Prob 0.3069264365214085\n",
      "Fit -87 Step 246 Prob 0.3050903915453399\n",
      "Fit -88 Step 251 Prob 0.30205469142793234\n",
      "Fit -89 Step 252 Prob 0.30145118575192104\n",
      "Fit -88 Step 253 Prob 1\n",
      "Fit -89 Step 254 Prob 0.30024778940613295\n",
      "Fit -90 Step 255 Prob 0.2996478939227692\n",
      "Fit -91 Step 256 Prob 0.29904919703138066\n",
      "Fit -92 Step 257 Prob 0.298451696337179\n",
      "Fit -93 Step 258 Prob 0.2978553894501606\n",
      "Fit -94 Step 261 Prob 0.29607360780374065\n",
      "Fit -95 Step 262 Prob 0.2954820523407813\n",
      "Fit -96 Step 263 Prob 0.2948916788064252\n",
      "Fit -97 Step 265 Prob 0.2937144680822617\n",
      "Fit -98 Step 267 Prob 0.29254195679585343\n",
      "Fit -99 Step 274 Prob 0.2884749051902433\n",
      "Fit -100 Step 279 Prob 0.28560453192440743\n",
      "Fit -99 Step 280 Prob 1\n",
      "Fit -100 Step 281 Prob 0.2844643955895609\n",
      "Fit -99 Step 290 Prob 1\n",
      "Fit -100 Step 292 Prob 0.27827451720523244\n",
      "Fit -99 Step 296 Prob 1\n",
      "Fit -100 Step 297 Prob 0.27550563949567036\n",
      "Fit -101 Step 300 Prob 0.27385755485686375\n",
      "Fit -100 Step 301 Prob 1\n",
      "Fit -99 Step 303 Prob 1\n",
      "Fit -98 Step 305 Prob 1\n",
      "Fit -99 Step 309 Prob 0.26897221879733724\n",
      "Fit -100 Step 314 Prob 0.2662959005034486\n",
      "Fit -101 Step 316 Prob 0.26523284443098744\n",
      "Fit -102 Step 317 Prob 0.2647029088543473\n",
      "Fit -103 Step 319 Prob 0.2636462120215243\n",
      "Fit -102 Step 321 Prob 1\n",
      "Fit -103 Step 322 Prob 0.26206907090416776\n",
      "Fit -104 Step 325 Prob 0.2605013643016672\n",
      "Fit -103 Step 331 Prob 1\n",
      "Fit -102 Step 334 Prob 1\n",
      "Fit -103 Step 339 Prob 0.25330849618279483\n",
      "Fit -104 Step 340 Prob 0.25280238546984574\n",
      "Fit -103 Step 341 Prob 1\n",
      "Fit -102 Step 344 Prob 1\n",
      "Fit -103 Step 346 Prob 0.24978688602677246\n",
      "Fit -104 Step 347 Prob 0.24928781149560825\n",
      "Fit -103 Step 348 Prob 1\n",
      "Fit -104 Step 349 Prob 0.24829265189570476\n",
      "Fit -105 Step 352 Prob 0.24680735632692088\n",
      "Fit -104 Step 353 Prob 1\n",
      "Fit -105 Step 354 Prob 0.24582209873048252\n",
      "Fit -106 Step 356 Prob 0.24484077429286807\n",
      "Fit -107 Step 362 Prob 0.24192024323399547\n",
      "Fit -108 Step 363 Prob 0.24143688626561488\n",
      "Fit -107 Step 365 Prob 1\n",
      "Fit -108 Step 368 Prob 0.2390345491081888\n",
      "Fit -109 Step 372 Prob 0.23712990146400995\n",
      "Fit -110 Step 375 Prob 0.23571138186956545\n",
      "Fit -111 Step 378 Prob 0.23430134791032511\n",
      "Fit -110 Step 383 Prob 1\n",
      "Fit -111 Step 385 Prob 0.23104398379185\n",
      "Fit -112 Step 387 Prob 0.2301216537465463\n",
      "Fit -111 Step 396 Prob 1\n",
      "Fit -112 Step 397 Prob 0.2255649397015212\n",
      "Fit -111 Step 398 Prob 1\n",
      "Fit -112 Step 402 Prob 0.22332053105113217\n",
      "Fit -113 Step 405 Prob 0.22198461960689003\n",
      "Fit -112 Step 407 Prob 1\n",
      "Fit -113 Step 411 Prob 0.2193367233239839\n",
      "Fit -114 Step 414 Prob 0.2180246431607678\n",
      "Fit -115 Step 417 Prob 0.21672041190825214\n",
      "Fit -114 Step 421 Prob 1\n",
      "Fit -113 Step 433 Prob 1\n",
      "Fit -112 Step 438 Prob 1\n",
      "Fit -113 Step 447 Prob 0.20409959763896135\n",
      "Fit -112 Step 451 Prob 1\n",
      "Fit -113 Step 453 Prob 0.20166503903355937\n",
      "Fit -114 Step 459 Prob 0.19925952054225707\n",
      "Fit -113 Step 470 Prob 1\n",
      "Fit -112 Step 473 Prob 1\n",
      "Fit -111 Step 475 Prob 1\n",
      "Fit -112 Step 477 Prob 0.19221376237518925\n",
      "Fit -111 Step 479 Prob 1\n",
      "Fit -110 Step 482 Prob 1\n",
      "Fit -109 Step 485 Prob 1\n",
      "Fit -110 Step 487 Prob 0.1884076748714604\n",
      "Fit -109 Step 488 Prob 1\n",
      "Fit -110 Step 491 Prob 0.18690642647273326\n",
      "Fit -109 Step 494 Prob 1\n",
      "Fit -110 Step 496 Prob 0.18504667645598064\n",
      "Fit -109 Step 500 Prob 1\n",
      "Fit -110 Step 514 Prob 0.1785034802845737\n",
      "Fit -111 Step 515 Prob 0.1781468300930794\n",
      "Fit -110 Step 517 Prob 1\n",
      "Fit -111 Step 521 Prob 0.1760218435509923\n",
      "Fit -112 Step 525 Prob 0.1746192865110404\n",
      "Fit -111 Step 531 Prob 1\n",
      "Fit -110 Step 533 Prob 1\n",
      "Fit -111 Step 534 Prob 0.17150425870935332\n",
      "Fit -112 Step 538 Prob 0.1701376981701504\n",
      "Fit -111 Step 545 Prob 1\n",
      "Fit -110 Step 547 Prob 1\n",
      "Fit -109 Step 548 Prob 1\n",
      "Fit -108 Step 561 Prob 1\n",
      "Fit -109 Step 564 Prob 0.16151662821112647\n",
      "Fit -108 Step 566 Prob 1\n",
      "Fit -109 Step 568 Prob 0.16022964996230937\n",
      "Fit -108 Step 569 Prob 1\n",
      "Fit -107 Step 573 Prob 1\n",
      "Fit -108 Step 576 Prob 0.15768637601080399\n",
      "Fit -109 Step 591 Prob 0.15302603930113534\n",
      "Fit -110 Step 593 Prob 0.15241515772159842\n",
      "Fit -111 Step 596 Prob 0.1515034047693827\n",
      "Fit -112 Step 597 Prob 0.1512007007647499\n",
      "Fit -113 Step 603 Prob 0.14939713539055063\n",
      "Fit -112 Step 612 Prob 1\n",
      "Fit -113 Step 621 Prob 0.14411449652867864\n",
      "Fit -112 Step 626 Prob 1\n",
      "Fit -113 Step 627 Prob 0.14239545743332624\n",
      "Fit -114 Step 630 Prob 0.14154364268840375\n",
      "Fit -113 Step 631 Prob 1\n",
      "Fit -114 Step 635 Prob 0.14013525991190579\n",
      "Fit -113 Step 638 Prob 1\n",
      "Fit -114 Step 640 Prob 0.13874089077817875\n",
      "Fit -115 Step 641 Prob 0.13846368629350855\n",
      "Fit -114 Step 644 Prob 1\n",
      "Fit -115 Step 645 Prob 0.1373603958491474\n",
      "Fit -116 Step 648 Prob 0.1365387010236121\n",
      "Fit -117 Step 650 Prob 0.13599363707416826\n",
      "Fit -118 Step 654 Prob 0.13491002819234346\n",
      "Fit -119 Step 656 Prob 0.13437146592219718\n",
      "Fit -120 Step 659 Prob 0.13356765098292517\n",
      "Fit -121 Step 662 Prob 0.1327686444935139\n",
      "Fit -122 Step 664 Prob 0.13223863064991198\n",
      "Fit -121 Step 665 Prob 1\n",
      "Fit -122 Step 669 Prob 0.13092283429016302\n",
      "Fit -123 Step 680 Prob 0.1280739841895797\n",
      "Fit -124 Step 685 Prob 0.12679962675448692\n",
      "Fit -125 Step 688 Prob 0.12604110682929398\n",
      "Fit -124 Step 691 Prob 1\n",
      "Fit -123 Step 697 Prob 1\n",
      "Fit -122 Step 699 Prob 1\n",
      "Fit -121 Step 711 Prob 1\n",
      "Fit -122 Step 713 Prob 0.11989400951266233\n",
      "Fit -121 Step 717 Prob 1\n",
      "Fit -122 Step 718 Prob 0.11870104418553251\n",
      "Fit -121 Step 720 Prob 1\n",
      "Fit -120 Step 735 Prob 1\n",
      "Fit -119 Step 737 Prob 1\n",
      "Fit -120 Step 760 Prob 0.10913745015530707\n",
      "Fit -119 Step 765 Prob 1\n",
      "Fit -118 Step 772 Prob 1\n",
      "Fit -117 Step 775 Prob 1\n",
      "Fit -116 Step 778 Prob 1\n",
      "Fit -115 Step 784 Prob 1\n",
      "Fit -114 Step 792 Prob 1\n",
      "Fit -115 Step 794 Prob 0.10196280586710671\n",
      "Fit -116 Step 800 Prob 0.10074656424132063\n",
      "Fit -115 Step 833 Prob 1\n",
      "Fit -114 Step 840 Prob 1\n",
      "Fit -113 Step 843 Prob 1\n",
      "Fit -112 Step 844 Prob 1\n",
      "Fit -111 Step 851 Prob 1\n",
      "Fit -112 Step 852 Prob 0.0907953523225487\n",
      "Fit -111 Step 854 Prob 1\n",
      "Fit -112 Step 860 Prob 0.08935418675466526\n",
      "Fit -113 Step 868 Prob 0.08793589634658819\n",
      "Fit -112 Step 877 Prob 1\n",
      "Fit -113 Step 883 Prob 0.08533699784813108\n",
      "Fit -114 Step 884 Prob 0.08516649441270471\n",
      "Fit -113 Step 888 Prob 1\n",
      "Fit -112 Step 892 Prob 1\n",
      "Fit -113 Step 910 Prob 0.08085101163379427\n",
      "Fit -114 Step 911 Prob 0.08068947120480248\n",
      "Fit -115 Step 918 Prob 0.07956768940292461\n",
      "Fit -116 Step 919 Prob 0.07940871305346034\n",
      "Fit -117 Step 926 Prob 0.0783047369350915\n",
      "Fit -116 Step 928 Prob 1\n",
      "Fit -115 Step 931 Prob 1\n",
      "Fit -114 Step 935 Prob 1\n",
      "Fit -115 Step 938 Prob 0.07644779567608219\n",
      "Fit -116 Step 940 Prob 0.0761426152611149\n",
      "Fit -115 Step 948 Prob 1\n",
      "Fit -114 Step 957 Prob 1\n",
      "Fit -115 Step 958 Prob 0.07345023473205442\n",
      "Fit -116 Step 959 Prob 0.07330348106517508\n",
      "Fit -117 Step 961 Prob 0.07301085278764037\n",
      "Fit -118 Step 967 Prob 0.07213995837139406\n",
      "Fit -117 Step 970 Prob 1\n",
      "Fit -118 Step 975 Prob 0.07099490390093988\n",
      "Fit -119 Step 979 Prob 0.0704292104605225\n",
      "Fit -118 Step 980 Prob 1\n",
      "Fit -117 Step 983 Prob 1\n",
      "Fit -116 Step 984 Prob 1\n",
      "Fit -115 Step 985 Prob 1\n",
      "Fit -116 Step 987 Prob 0.06931131014412366\n",
      "Fit -115 Step 989 Prob 1\n",
      "Fit -114 Step 991 Prob 1\n",
      "Fit -113 Step 1000 Prob 1\n",
      "Fit -112 Step 1004 Prob 1\n",
      "Fit -113 Step 1006 Prob 0.06672689522587133\n",
      "Fit -112 Step 1020 Prob 1\n",
      "Fit -111 Step 1023 Prob 1\n",
      "Fit -112 Step 1026 Prob 0.06411049624044075\n",
      "Fit -111 Step 1027 Prob 1\n",
      "Fit -110 Step 1035 Prob 1\n",
      "Fit -109 Step 1042 Prob 1\n",
      "Fit -110 Step 1055 Prob 0.06049786640743896\n",
      "Fit -109 Step 1060 Prob 1\n",
      "Fit -108 Step 1066 Prob 1\n",
      "Fit -107 Step 1075 Prob 1\n",
      "Fit -106 Step 1077 Prob 1\n",
      "Fit -107 Step 1085 Prob 0.05697474494004394\n",
      "Fit -106 Step 1091 Prob 1\n",
      "Fit -105 Step 1098 Prob 1\n",
      "Fit -104 Step 1101 Prob 1\n",
      "Fit -103 Step 1108 Prob 1\n",
      "Fit -104 Step 1113 Prob 0.053871851098184875\n",
      "Fit -103 Step 1119 Prob 1\n",
      "Fit -102 Step 1121 Prob 1\n",
      "Fit -101 Step 1123 Prob 1\n",
      "Fit -100 Step 1126 Prob 1\n",
      "Fit -99 Step 1131 Prob 1\n",
      "Fit -98 Step 1142 Prob 1\n",
      "Fit -97 Step 1157 Prob 1\n",
      "Fit -98 Step 1158 Prob 0.049235164726919224\n",
      "Fit -99 Step 1170 Prob 0.04806758774046791\n",
      "Fit -100 Step 1172 Prob 0.04787570141799934\n",
      "Fit -99 Step 1173 Prob 1\n",
      "Fit -98 Step 1175 Prob 1\n",
      "Fit -97 Step 1178 Prob 1\n",
      "Fit -96 Step 1201 Prob 1\n",
      "Fit -95 Step 1214 Prob 1\n",
      "Fit -96 Step 1218 Prob 0.043667673801440404\n",
      "Fit -95 Step 1223 Prob 1\n",
      "Fit -96 Step 1231 Prob 0.04254694686633206\n",
      "Fit -95 Step 1234 Prob 1\n",
      "Fit -96 Step 1235 Prob 0.04220792917027807\n",
      "Fit -95 Step 1243 Prob 1\n",
      "Fit -94 Step 1245 Prob 1\n",
      "Fit -95 Step 1251 Prob 0.040878657217346875\n",
      "Fit -94 Step 1258 Prob 1\n",
      "Fit -93 Step 1261 Prob 1\n",
      "Fit -92 Step 1269 Prob 1\n",
      "Fit -93 Step 1286 Prob 0.0381150073555079\n",
      "Fit -92 Step 1293 Prob 1\n",
      "Fit -91 Step 1304 Prob 1\n",
      "Fit -92 Step 1306 Prob 0.03662049654038511\n",
      "Fit -91 Step 1326 Prob 1\n",
      "Fit -90 Step 1333 Prob 1\n",
      "Fit -89 Step 1334 Prob 1\n",
      "Fit -88 Step 1359 Prob 1\n",
      "Fit -87 Step 1367 Prob 1\n",
      "Fit -86 Step 1375 Prob 1\n",
      "Fit -85 Step 1383 Prob 1\n",
      "Fit -84 Step 1385 Prob 1\n",
      "Fit -85 Step 1394 Prob 0.030710606957500063\n",
      "Fit -84 Step 1405 Prob 1\n",
      "Fit -83 Step 1408 Prob 1\n",
      "Fit -82 Step 1419 Prob 1\n",
      "Fit -81 Step 1432 Prob 1\n",
      "Fit -82 Step 1437 Prob 0.02817987578147148\n",
      "Fit -81 Step 1450 Prob 1\n",
      "Fit -80 Step 1465 Prob 1\n",
      "Fit -79 Step 1472 Prob 1\n",
      "Fit -78 Step 1479 Prob 1\n",
      "Fit -77 Step 1485 Prob 1\n",
      "Fit -76 Step 1490 Prob 1\n",
      "Fit -75 Step 1495 Prob 1\n",
      "Fit -74 Step 1498 Prob 1\n",
      "Fit -73 Step 1512 Prob 1\n",
      "Fit -72 Step 1519 Prob 1\n",
      "Fit -71 Step 1523 Prob 1\n",
      "Fit -70 Step 1529 Prob 1\n",
      "Fit -69 Step 1554 Prob 1\n",
      "Fit -68 Step 1576 Prob 1\n",
      "Fit -67 Step 1577 Prob 1\n",
      "Fit -66 Step 1585 Prob 1\n",
      "Fit -65 Step 1605 Prob 1\n",
      "Fit -64 Step 1620 Prob 1\n",
      "Fit -65 Step 1633 Prob 0.019041257996439694\n",
      "Fit -64 Step 1639 Prob 1\n",
      "Fit -65 Step 1642 Prob 0.018701581611183963\n",
      "Fit -66 Step 1650 Prob 0.018404737391809676\n",
      "Fit -67 Step 1651 Prob 0.01836796470197345\n",
      "Fit -66 Step 1654 Prob 1\n",
      "Fit -67 Step 1660 Prob 0.018040299174011076\n",
      "Fit -66 Step 1661 Prob 1\n",
      "Fit -67 Step 1675 Prob 0.017507127757297885\n",
      "Fit -66 Step 1702 Prob 1\n",
      "Fit -65 Step 1706 Prob 1\n",
      "Fit -64 Step 1709 Prob 1\n",
      "Fit -63 Step 1719 Prob 1\n",
      "Fit -62 Step 1750 Prob 1\n",
      "Fit -61 Step 1777 Prob 1\n",
      "Fit -62 Step 1778 Prob 0.014247879639599854\n",
      "Fit -61 Step 1784 Prob 1\n",
      "Fit -60 Step 1796 Prob 1\n",
      "Fit -59 Step 1815 Prob 1\n",
      "Fit -58 Step 1822 Prob 1\n",
      "Fit -57 Step 1833 Prob 1\n",
      "Fit -56 Step 1840 Prob 1\n",
      "Fit -55 Step 1843 Prob 1\n",
      "Fit -54 Step 1904 Prob 1\n",
      "Fit -53 Step 1907 Prob 1\n",
      "Fit -52 Step 1909 Prob 1\n",
      "Fit -51 Step 1927 Prob 1\n",
      "Fit -50 Step 1932 Prob 1\n",
      "Fit -49 Step 1980 Prob 1\n",
      "Fit -50 Step 2025 Prob 0.008693782355872794\n",
      "Fit -49 Step 2038 Prob 1\n",
      "Fit -50 Step 2073 Prob 0.007897988433843449\n",
      "Fit -49 Step 2084 Prob 1\n",
      "Fit -48 Step 2089 Prob 1\n",
      "Fit -47 Step 2108 Prob 1\n",
      "Fit -46 Step 2129 Prob 1\n",
      "Fit -47 Step 2139 Prob 0.0069213310432397505\n",
      "Fit -46 Step 2145 Prob 1\n",
      "Fit -45 Step 2165 Prob 1\n",
      "Fit -44 Step 2178 Prob 1\n",
      "Fit -43 Step 2188 Prob 1\n"
     ]
    },
    {
     "ename": "KeyboardInterrupt",
     "evalue": "",
     "output_type": "error",
     "traceback": [
      "\u001B[0;31m---------------------------------------------------------------------------\u001B[0m",
      "\u001B[0;31mKeyboardInterrupt\u001B[0m                         Traceback (most recent call last)",
      "Cell \u001B[0;32mIn[46], line 4\u001B[0m\n\u001B[1;32m      2\u001B[0m count_equal \u001B[38;5;241m+\u001B[39m\u001B[38;5;241m=\u001B[39m \u001B[38;5;241m1\u001B[39m\n\u001B[1;32m      3\u001B[0m state_new \u001B[38;5;241m=\u001B[39m tweak(current_state)\n\u001B[0;32m----> 4\u001B[0m fitness_new \u001B[38;5;241m=\u001B[39m \u001B[43mfitness\u001B[49m\u001B[43m(\u001B[49m\u001B[43mstate_new\u001B[49m\u001B[43m)\u001B[49m\n\u001B[1;32m      5\u001B[0m prob \u001B[38;5;241m=\u001B[39m probability(fitness_current, fitness_new, temperature[step])\n\u001B[1;32m      6\u001B[0m \u001B[38;5;28;01mif\u001B[39;00m random() \u001B[38;5;241m<\u001B[39m prob:\n",
      "Cell \u001B[0;32mIn[26], line 2\u001B[0m, in \u001B[0;36mfitness\u001B[0;34m(state)\u001B[0m\n\u001B[1;32m      1\u001B[0m \u001B[38;5;28;01mdef\u001B[39;00m \u001B[38;5;21mfitness\u001B[39m(state):\n\u001B[0;32m----> 2\u001B[0m     result_coverage \u001B[38;5;241m=\u001B[39m \u001B[43mcoverage\u001B[49m\u001B[43m(\u001B[49m\u001B[43mstate\u001B[49m\u001B[43m)\u001B[49m\n\u001B[1;32m      3\u001B[0m     \u001B[38;5;28;01mreturn\u001B[39;00m \u001B[38;5;241m-\u001B[39m(state\u001B[38;5;241m.\u001B[39msum()\u001B[38;5;241m+\u001B[39m (result_coverage \u001B[38;5;241m==\u001B[39m \u001B[38;5;28;01mFalse\u001B[39;00m)\u001B[38;5;241m.\u001B[39msum() \u001B[38;5;241m*\u001B[39m  PROBLEM_SIZE)\n",
      "Cell \u001B[0;32mIn[26], line 6\u001B[0m, in \u001B[0;36mcoverage\u001B[0;34m(state)\u001B[0m\n\u001B[1;32m      5\u001B[0m \u001B[38;5;28;01mdef\u001B[39;00m \u001B[38;5;21mcoverage\u001B[39m(state):\n\u001B[0;32m----> 6\u001B[0m     \u001B[38;5;28;01mreturn\u001B[39;00m (\u001B[43mSETS\u001B[49m\u001B[43m \u001B[49m\u001B[38;5;241;43m*\u001B[39;49m\u001B[43m \u001B[49m\u001B[43mstate\u001B[49m)\u001B[38;5;241m.\u001B[39msum(axis\u001B[38;5;241m=\u001B[39m\u001B[38;5;241m0\u001B[39m)\n",
      "File \u001B[0;32m~/Library/Caches/pypoetry/virtualenvs/ci-tWKgAdaj-py3.11/lib/python3.11/site-packages/scipy/sparse/_base.py:584\u001B[0m, in \u001B[0;36m_spbase.__mul__\u001B[0;34m(self, *args, **kwargs)\u001B[0m\n\u001B[1;32m    583\u001B[0m \u001B[38;5;28;01mdef\u001B[39;00m \u001B[38;5;21m__mul__\u001B[39m(\u001B[38;5;28mself\u001B[39m, \u001B[38;5;241m*\u001B[39margs, \u001B[38;5;241m*\u001B[39m\u001B[38;5;241m*\u001B[39mkwargs):\n\u001B[0;32m--> 584\u001B[0m     \u001B[38;5;28;01mreturn\u001B[39;00m \u001B[38;5;28;43mself\u001B[39;49m\u001B[38;5;241;43m.\u001B[39;49m\u001B[43mmultiply\u001B[49m\u001B[43m(\u001B[49m\u001B[38;5;241;43m*\u001B[39;49m\u001B[43margs\u001B[49m\u001B[43m,\u001B[49m\u001B[43m \u001B[49m\u001B[38;5;241;43m*\u001B[39;49m\u001B[38;5;241;43m*\u001B[39;49m\u001B[43mkwargs\u001B[49m\u001B[43m)\u001B[49m\n",
      "File \u001B[0;32m~/Library/Caches/pypoetry/virtualenvs/ci-tWKgAdaj-py3.11/lib/python3.11/site-packages/scipy/sparse/_base.py:385\u001B[0m, in \u001B[0;36m_spbase.multiply\u001B[0;34m(self, other)\u001B[0m\n\u001B[1;32m    382\u001B[0m \u001B[38;5;28;01mdef\u001B[39;00m \u001B[38;5;21mmultiply\u001B[39m(\u001B[38;5;28mself\u001B[39m, other):\n\u001B[1;32m    383\u001B[0m \u001B[38;5;250m    \u001B[39m\u001B[38;5;124;03m\"\"\"Point-wise multiplication by another array\u001B[39;00m\n\u001B[1;32m    384\u001B[0m \u001B[38;5;124;03m    \"\"\"\u001B[39;00m\n\u001B[0;32m--> 385\u001B[0m     \u001B[38;5;28;01mreturn\u001B[39;00m \u001B[38;5;28;43mself\u001B[39;49m\u001B[38;5;241;43m.\u001B[39;49m\u001B[43mtocsr\u001B[49m\u001B[43m(\u001B[49m\u001B[43m)\u001B[49m\u001B[38;5;241m.\u001B[39mmultiply(other)\n",
      "File \u001B[0;32m~/Library/Caches/pypoetry/virtualenvs/ci-tWKgAdaj-py3.11/lib/python3.11/site-packages/scipy/sparse/_lil.py:475\u001B[0m, in \u001B[0;36m_lil_base.tocsr\u001B[0;34m(self, copy)\u001B[0m\n\u001B[1;32m    473\u001B[0m data \u001B[38;5;241m=\u001B[39m np\u001B[38;5;241m.\u001B[39mempty(nnz, dtype\u001B[38;5;241m=\u001B[39m\u001B[38;5;28mself\u001B[39m\u001B[38;5;241m.\u001B[39mdtype)\n\u001B[1;32m    474\u001B[0m _csparsetools\u001B[38;5;241m.\u001B[39mlil_flatten_to_array(\u001B[38;5;28mself\u001B[39m\u001B[38;5;241m.\u001B[39mrows, indices)\n\u001B[0;32m--> 475\u001B[0m \u001B[43m_csparsetools\u001B[49m\u001B[38;5;241;43m.\u001B[39;49m\u001B[43mlil_flatten_to_array\u001B[49m\u001B[43m(\u001B[49m\u001B[38;5;28;43mself\u001B[39;49m\u001B[38;5;241;43m.\u001B[39;49m\u001B[43mdata\u001B[49m\u001B[43m,\u001B[49m\u001B[43m \u001B[49m\u001B[43mdata\u001B[49m\u001B[43m)\u001B[49m\n\u001B[1;32m    477\u001B[0m \u001B[38;5;66;03m# init csr matrix\u001B[39;00m\n\u001B[1;32m    478\u001B[0m \u001B[38;5;28;01mreturn\u001B[39;00m \u001B[38;5;28mself\u001B[39m\u001B[38;5;241m.\u001B[39m_csr_container((data, indices, indptr), shape\u001B[38;5;241m=\u001B[39m\u001B[38;5;28mself\u001B[39m\u001B[38;5;241m.\u001B[39mshape)\n",
      "\u001B[0;31mKeyboardInterrupt\u001B[0m: "
     ]
    }
   ],
   "source": [
    "for step in range(max_step):\n",
    "    count_equal += 1\n",
    "    state_new = tweak(current_state)\n",
    "    fitness_new = fitness(state_new)\n",
    "    prob = probability(fitness_current, fitness_new, temperature[step])\n",
    "    if random() < prob:\n",
    "        count_equal = 0\n",
    "        current_state, fitness_current = state_new, fitness_new\n",
    "        print(f\"Fit {fitness_current} Step {step} Prob {prob}\")\n",
    "    if count_equal > count_steady:\n",
    "        print(\"steady state reached\")\n",
    "        break\n",
    "\n",
    "print(f\"Resolved {(coverage(current_state) == False).sum() == 0} with {current_state.sum()} in {step} step\")\n",
    "coverage(current_state)"
   ],
   "metadata": {
    "collapsed": false,
    "ExecuteTime": {
     "end_time": "2023-10-31T15:04:34.288313Z",
     "start_time": "2023-10-31T13:29:00.954917Z"
    }
   },
   "id": "4a957d12cc279cc2"
  },
  {
   "cell_type": "code",
   "execution_count": null,
   "outputs": [],
   "source": [],
   "metadata": {
    "collapsed": false
   },
   "id": "18ae95290def8c2b"
  }
 ],
 "metadata": {
  "kernelspec": {
   "display_name": "Python 3 (ipykernel)",
   "language": "python",
   "name": "python3"
  },
  "language_info": {
   "codemirror_mode": {
    "name": "ipython",
    "version": 3
   },
   "file_extension": ".py",
   "mimetype": "text/x-python",
   "name": "python",
   "nbconvert_exporter": "python",
   "pygments_lexer": "ipython3",
   "version": "3.11.2"
  }
 },
 "nbformat": 4,
 "nbformat_minor": 5
}
